{
 "cells": [
  {
   "cell_type": "code",
   "execution_count": 1,
   "metadata": {},
   "outputs": [],
   "source": [
    "import pandas as pd\n",
    "import matplotlib.pyplot as plt\n",
    "import numpy as np\n",
    "import seaborn as sns\n",
    "import scipy as sp\n",
    "import yfinance as yf\n",
    "# 한글폰트 출력 가능 코드\n",
    "from matplotlib import rc\n",
    "rc('font', family='AppleGothic') # Mac Os\n",
    "#rc('font', family='NanumGothic') # Windows Os\n",
    "plt.rcParams['axes.unicode_minus'] = False"
   ]
  },
  {
   "cell_type": "markdown",
   "metadata": {},
   "source": [
    "# 1. Simple data 형성"
   ]
  },
  {
   "cell_type": "code",
   "execution_count": 2,
   "metadata": {},
   "outputs": [
    {
     "name": "stdout",
     "output_type": "stream",
     "text": [
      "[29 46 49 49 25 19 25 17 42 34 28 12 20 31 41 12 49 20 39  9 15 30 17 27\n",
      " 12 31 34  3 17 16]\n",
      "[24 38 18 24 22 38 20 13 46 27 13 15 33 14 14 43  1 46 30 24 38 22 12 44\n",
      " 47  3  1 37 47 42]\n"
     ]
    }
   ],
   "source": [
    "# 랜덤한 데이터 형성 (시드 부여)\n",
    "np.random.seed(2022)\n",
    "\n",
    "x = np.random.randint(1,50,30)\n",
    "y = np.random.randint(1,50,30)\n",
    "\n",
    "print(x)\n",
    "print(y)"
   ]
  },
  {
   "cell_type": "markdown",
   "metadata": {},
   "source": [
    "## 1-1. 데이터 시각화"
   ]
  },
  {
   "cell_type": "code",
   "execution_count": 3,
   "metadata": {},
   "outputs": [
    {
     "name": "stderr",
     "output_type": "stream",
     "text": [
      "findfont: Font family ['AppleGothic'] not found. Falling back to DejaVu Sans.\n"
     ]
    },
    {
     "data": {
      "image/png": "[encoded data removed]",
      "text/plain": [
       "<Figure size 360x360 with 6 Axes>"
      ]
     },
     "metadata": {
      "needs_background": "light"
     },
     "output_type": "display_data"
    }
   ],
   "source": [
    "# 데이터 프레임 형성\n",
    "sample = pd.DataFrame(list(zip(x,y)), columns=['x','y'])\n",
    "\n",
    "# 상관분석에 앞서 먼저 시각화를 이용하여 상관성을 육안으로 확인해본다.\n",
    "\n",
    "sns.pairplot(sample, kind='reg')\n",
    "plt.show()"
   ]
  },
  {
   "cell_type": "markdown",
   "metadata": {},
   "source": [
    "## 1-2. 상관분석"
   ]
  },
  {
   "cell_type": "markdown",
   "metadata": {},
   "source": [
    "### A. 공분산"
   ]
  },
  {
   "cell_type": "code",
   "execution_count": 4,
   "metadata": {},
   "outputs": [
    {
     "name": "stdout",
     "output_type": "stream",
     "text": [
      "-61.68666666666666\n",
      "[[160.90666667 -61.68666667]\n",
      " [-61.68666667 200.91555556]]\n"
     ]
    }
   ],
   "source": [
    "# 하나씩 시행해보기\n",
    "\n",
    "# mu = mean (공통적으로 적용)\n",
    "mu_1 = np.sum(sample['x'])/len(sample['x'])\n",
    "mu_2 = np.sum(sample['y'])/len(sample['y'])\n",
    "\n",
    "# var = variance (잔차의 재곱합의 평균), 표준편차 = var의 제곱근\n",
    "var_1 = np.sum([pow(i - mu_1, 2) for i in sample['x']]) / (len(sample['x']))\n",
    "var_2 = np.sum([pow(i - mu_2, 2) for i in sample['y']]) / (len(sample['y']))\n",
    "std_1 = var_1 ** 0.5\n",
    "std_2 = var_2 ** 0.5\n",
    "\n",
    "# 공분산 (표본상관계수를 구하는 것이 아니고 모집단으로 도출하므로 자유도는 0으로 설정하였음.)\n",
    "covariance = sum( (sample['x'] - mu_1) * (sample['y'] - mu_2) ) / (len(sample['x']))\n",
    "\n",
    "# COV(X,Y) : 모집단인 경우 (numpy와 비교, 자유도 0 설정은 ddof=0)\n",
    "print(covariance)\n",
    "print(np.cov(sample['x'],sample['y'], ddof=0)) # 공분산 행렬의 (1,2), (2,1)이 COV(X,Y)"
   ]
  },
  {
   "cell_type": "markdown",
   "metadata": {},
   "source": [
    "### B. 피어슨 상관계수"
   ]
  },
  {
   "cell_type": "code",
   "execution_count": 5,
   "metadata": {},
   "outputs": [
    {
     "name": "stdout",
     "output_type": "stream",
     "text": [
      "-0.34308166001608753\n"
     ]
    }
   ],
   "source": [
    "# 위의 공분산에서 이어짐\n",
    "correlation = covariance / (std_1 * std_2)\n",
    "\n",
    "# 피어슨 상관계수\n",
    "print(correlation)"
   ]
  },
  {
   "cell_type": "code",
   "execution_count": 6,
   "metadata": {},
   "outputs": [
    {
     "data": {
      "text/plain": [
       "(-0.3430816600160875, 0.0634428569239739)"
      ]
     },
     "execution_count": 6,
     "metadata": {},
     "output_type": "execute_result"
    }
   ],
   "source": [
    "# 피어슨 상관계수를 구하는 다른 방법으로는 scipy라이브러리를 활용하는 법\n",
    "\n",
    "from scipy.stats import pearsonr\n",
    "# 귀무가설은 '두 데이터의 상관 계수가 0이다.(독립)'로 설정되어 있음.\n",
    "pearsonr(sample['x'], sample['y'])"
   ]
  },
  {
   "cell_type": "code",
   "execution_count": 7,
   "metadata": {},
   "outputs": [
    {
     "name": "stdout",
     "output_type": "stream",
     "text": [
      "1. 모집단으로 가정한 경우\n",
      "모집단 data 각각의 분산 값은 COV(X,X) = 160.907, COV(Y,Y) = 200.916(으)로 계산됩니다.\n",
      "모집단 data에 대한 공분산 값 : -61.687\n",
      "모집단 data에 대한 피어슨 상관계수 값 : -0.343\n",
      "Scipy로 구한 피어슨 상관계수는 -0.343입니다.\n",
      "Scipy는 각 데이터의 상관계수가 유의한지 판단합니다. 위 검정의 p-value는 6.343999999999999%로 두 데이터의 연관성이 없다는 귀무가설을 5%의 유의수준으로 기각할 수 없습니다.\n",
      "\n",
      "2. 표본집단으로 가정한 경우\n",
      "표본 data 각각의 추정된 분산 값은 COV(x,x) = 166.455, COV(y,y) = 207.844(으)로 계산됩니다.\n",
      "표본 data로 추정한 모집단의 공분산 값 : -63.814\n",
      "표본 data로 추정한 모집단의 피어슨 상관계수 값 : -0.343\n",
      "Scipy로 구한 피어슨 상관계수는 -0.343입니다.\n",
      "Scipy는 각 데이터의 상관계수가 유의한지 판단합니다. 위 검정의 p-value는 6.343999999999999%로 두 데이터의 연관성이 없다는 귀무가설을 5%의 유의수준으로 기각할 수 없습니다.\n"
     ]
    }
   ],
   "source": [
    "# 함수화 시행\n",
    "def cov_pearson(data1, data2, population = True):\n",
    "    # 라이브러리 호출\n",
    "    import numpy as np\n",
    "    from scipy.stats import pearsonr\n",
    "\n",
    "    # 변수를 설정하는 부분입니다.\n",
    "    mu_1 = np.sum(data1)/len(data1)\n",
    "    mu_2 = np.sum(data2)/len(data2)\n",
    "    var_1 = np.sum([pow(i - mu_1, 2) for i in data1]) / (len(data1))\n",
    "    var_2 = np.sum([pow(i - mu_2, 2) for i in data2]) / (len(data2))\n",
    "    std_1 = var_1 ** 0.5\n",
    "    std_2 = var_2 ** 0.5\n",
    "    \n",
    "    # 데이터가 모수인지 표본인지에 따라 자유도를 산입할지 여부를 결정합니다.\n",
    "    if population == True:\n",
    "        covariance = sum( (data1 - mu_1) * (data2 - mu_2) ) / (len(data1))\n",
    "        correlation = covariance / (std_1 * std_2)\n",
    "        print(f'모집단 data 각각의 분산 값은 COV(X,X) = {round(var_1,3)}, COV(Y,Y) = {round(var_2,3)}(으)로 계산됩니다.')\n",
    "        print(f'모집단 data에 대한 공분산 값 : {round(covariance,3)}')\n",
    "        print(f'모집단 data에 대한 피어슨 상관계수 값 : {round(correlation,3)}')\n",
    "    else:\n",
    "        var_1 = np.sum([pow(i - mu_1, 2) for i in data1]) / (len(data1) - 1)\n",
    "        var_2 = np.sum([pow(i - mu_2, 2) for i in data2]) / (len(data2) - 1)\n",
    "        std_1 = var_1 ** 0.5\n",
    "        std_2 = var_2 ** 0.5\n",
    "        covariance_ddof = sum( (data1 - mu_1) * (data2 - mu_2) ) / (len(data1) -1)\n",
    "        correlation_ddof = covariance_ddof / (std_1 * std_2)\n",
    "        print(f'표본 data 각각의 추정된 분산 값은 COV(x,x) = {round(var_1,3)}, COV(y,y) = {round(var_2,3)}(으)로 계산됩니다.')\n",
    "        print(f'표본 data로 추정한 모집단의 공분산 값 : {round(covariance_ddof,3)}')\n",
    "        print(f'표본 data로 추정한 모집단의 피어슨 상관계수 값 : {round(correlation_ddof,3)}')\n",
    "\n",
    "    # Scipy 라이브러리에서 구한 피어슨 계수를 통해 위에서 확인한 상관계수 값을 검증해봅니다.\n",
    "    print(f'Scipy로 구한 피어슨 상관계수는 {round(pearsonr(data1, data2)[0], 3)}입니다.')\n",
    "    \n",
    "    # Scipy에서 제공하는 피어슨 검정의 P값을 이용하여 데이터 간의 독립성에 대한 검정 결과 해석을 출력합니다.\n",
    "    if pearsonr(data1, data2)[1] < 0.05:\n",
    "        print(f'Scipy는 각 데이터의 상관계수가 유의한지 판단합니다. 위 검정의 p-value는 {round(pearsonr(data1, data2)[1],5) * 100}%로 두 데이터의 연관성이 없다는 귀무가설을 5%의 유의수준으로 기각할 수 있습니다.')\n",
    "    else:\n",
    "        print(f'Scipy는 각 데이터의 상관계수가 유의한지 판단합니다. 위 검정의 p-value는 {round(pearsonr(data1, data2)[1],5) * 100}%로 두 데이터의 연관성이 없다는 귀무가설을 5%의 유의수준으로 기각할 수 없습니다.')\n",
    "\n",
    "print('1. 모집단으로 가정한 경우')\n",
    "cov_pearson(sample['x'], sample['y'], True)\n",
    "\n",
    "print('\\n2. 표본집단으로 가정한 경우')\n",
    "cov_pearson(sample['x'], sample['y'], False)"
   ]
  },
  {
   "cell_type": "markdown",
   "metadata": {},
   "source": [
    "### C. 스피어만 상관계수"
   ]
  },
  {
   "cell_type": "code",
   "execution_count": 8,
   "metadata": {},
   "outputs": [
    {
     "name": "stdout",
     "output_type": "stream",
     "text": [
      "x1 : [14 17 18 18 17 19 17 10  2 12]\n",
      "y1 : [ 9 12 17  7  9 15 17 12  2  3]\n",
      "\n",
      "smaple1 dataframe은 다음과 같습니다.\n"
     ]
    },
    {
     "data": {
      "text/html": [
       "<div>\n",
       "<style scoped>\n",
       "    .dataframe tbody tr th:only-of-type {\n",
       "        vertical-align: middle;\n",
       "    }\n",
       "\n",
       "    .dataframe tbody tr th {\n",
       "        vertical-align: top;\n",
       "    }\n",
       "\n",
       "    .dataframe thead th {\n",
       "        text-align: right;\n",
       "    }\n",
       "</style>\n",
       "<table border=\"1\" class=\"dataframe\">\n",
       "  <thead>\n",
       "    <tr style=\"text-align: right;\">\n",
       "      <th></th>\n",
       "      <th>x</th>\n",
       "      <th>y</th>\n",
       "    </tr>\n",
       "  </thead>\n",
       "  <tbody>\n",
       "    <tr>\n",
       "      <th>0</th>\n",
       "      <td>14</td>\n",
       "      <td>9</td>\n",
       "    </tr>\n",
       "    <tr>\n",
       "      <th>1</th>\n",
       "      <td>17</td>\n",
       "      <td>12</td>\n",
       "    </tr>\n",
       "    <tr>\n",
       "      <th>2</th>\n",
       "      <td>18</td>\n",
       "      <td>17</td>\n",
       "    </tr>\n",
       "    <tr>\n",
       "      <th>3</th>\n",
       "      <td>18</td>\n",
       "      <td>7</td>\n",
       "    </tr>\n",
       "    <tr>\n",
       "      <th>4</th>\n",
       "      <td>17</td>\n",
       "      <td>9</td>\n",
       "    </tr>\n",
       "    <tr>\n",
       "      <th>5</th>\n",
       "      <td>19</td>\n",
       "      <td>15</td>\n",
       "    </tr>\n",
       "    <tr>\n",
       "      <th>6</th>\n",
       "      <td>17</td>\n",
       "      <td>17</td>\n",
       "    </tr>\n",
       "    <tr>\n",
       "      <th>7</th>\n",
       "      <td>10</td>\n",
       "      <td>12</td>\n",
       "    </tr>\n",
       "    <tr>\n",
       "      <th>8</th>\n",
       "      <td>2</td>\n",
       "      <td>2</td>\n",
       "    </tr>\n",
       "    <tr>\n",
       "      <th>9</th>\n",
       "      <td>12</td>\n",
       "      <td>3</td>\n",
       "    </tr>\n",
       "  </tbody>\n",
       "</table>\n",
       "</div>"
      ],
      "text/plain": [
       "    x   y\n",
       "0  14   9\n",
       "1  17  12\n",
       "2  18  17\n",
       "3  18   7\n",
       "4  17   9\n",
       "5  19  15\n",
       "6  17  17\n",
       "7  10  12\n",
       "8   2   2\n",
       "9  12   3"
      ]
     },
     "execution_count": 8,
     "metadata": {},
     "output_type": "execute_result"
    }
   ],
   "source": [
    "# 랜덤한 데이터 형성 (시드 부여)\n",
    "np.random.seed(2022)\n",
    "\n",
    "x1 = np.random.randint(1,20,10)\n",
    "y1 = np.random.randint(1,20,10)\n",
    "\n",
    "print('x1 :',x1)\n",
    "print('y1 :',y1)\n",
    "\n",
    "sample1 = pd.DataFrame(list(zip(x1,y1)), columns=['x','y'])\n",
    "print('\\nsmaple1 dataframe은 다음과 같습니다.')\n",
    "sample1"
   ]
  },
  {
   "cell_type": "code",
   "execution_count": 9,
   "metadata": {},
   "outputs": [
    {
     "data": {
      "text/html": [
       "<div>\n",
       "<style scoped>\n",
       "    .dataframe tbody tr th:only-of-type {\n",
       "        vertical-align: middle;\n",
       "    }\n",
       "\n",
       "    .dataframe tbody tr th {\n",
       "        vertical-align: top;\n",
       "    }\n",
       "\n",
       "    .dataframe thead th {\n",
       "        text-align: right;\n",
       "    }\n",
       "</style>\n",
       "<table border=\"1\" class=\"dataframe\">\n",
       "  <thead>\n",
       "    <tr style=\"text-align: right;\">\n",
       "      <th></th>\n",
       "      <th>x</th>\n",
       "      <th>y</th>\n",
       "      <th>rank_x</th>\n",
       "      <th>rank_y</th>\n",
       "      <th>diff</th>\n",
       "      <th>d^2</th>\n",
       "    </tr>\n",
       "  </thead>\n",
       "  <tbody>\n",
       "    <tr>\n",
       "      <th>0</th>\n",
       "      <td>14</td>\n",
       "      <td>9</td>\n",
       "      <td>4.0</td>\n",
       "      <td>4.5</td>\n",
       "      <td>-0.5</td>\n",
       "      <td>0.25</td>\n",
       "    </tr>\n",
       "    <tr>\n",
       "      <th>1</th>\n",
       "      <td>17</td>\n",
       "      <td>12</td>\n",
       "      <td>6.0</td>\n",
       "      <td>6.5</td>\n",
       "      <td>-0.5</td>\n",
       "      <td>0.25</td>\n",
       "    </tr>\n",
       "    <tr>\n",
       "      <th>2</th>\n",
       "      <td>18</td>\n",
       "      <td>17</td>\n",
       "      <td>8.5</td>\n",
       "      <td>9.5</td>\n",
       "      <td>-1.0</td>\n",
       "      <td>1.00</td>\n",
       "    </tr>\n",
       "    <tr>\n",
       "      <th>3</th>\n",
       "      <td>18</td>\n",
       "      <td>7</td>\n",
       "      <td>8.5</td>\n",
       "      <td>3.0</td>\n",
       "      <td>5.5</td>\n",
       "      <td>30.25</td>\n",
       "    </tr>\n",
       "    <tr>\n",
       "      <th>4</th>\n",
       "      <td>17</td>\n",
       "      <td>9</td>\n",
       "      <td>6.0</td>\n",
       "      <td>4.5</td>\n",
       "      <td>1.5</td>\n",
       "      <td>2.25</td>\n",
       "    </tr>\n",
       "    <tr>\n",
       "      <th>5</th>\n",
       "      <td>19</td>\n",
       "      <td>15</td>\n",
       "      <td>10.0</td>\n",
       "      <td>8.0</td>\n",
       "      <td>2.0</td>\n",
       "      <td>4.00</td>\n",
       "    </tr>\n",
       "    <tr>\n",
       "      <th>6</th>\n",
       "      <td>17</td>\n",
       "      <td>17</td>\n",
       "      <td>6.0</td>\n",
       "      <td>9.5</td>\n",
       "      <td>-3.5</td>\n",
       "      <td>12.25</td>\n",
       "    </tr>\n",
       "    <tr>\n",
       "      <th>7</th>\n",
       "      <td>10</td>\n",
       "      <td>12</td>\n",
       "      <td>2.0</td>\n",
       "      <td>6.5</td>\n",
       "      <td>-4.5</td>\n",
       "      <td>20.25</td>\n",
       "    </tr>\n",
       "    <tr>\n",
       "      <th>8</th>\n",
       "      <td>2</td>\n",
       "      <td>2</td>\n",
       "      <td>1.0</td>\n",
       "      <td>1.0</td>\n",
       "      <td>0.0</td>\n",
       "      <td>0.00</td>\n",
       "    </tr>\n",
       "    <tr>\n",
       "      <th>9</th>\n",
       "      <td>12</td>\n",
       "      <td>3</td>\n",
       "      <td>3.0</td>\n",
       "      <td>2.0</td>\n",
       "      <td>1.0</td>\n",
       "      <td>1.00</td>\n",
       "    </tr>\n",
       "  </tbody>\n",
       "</table>\n",
       "</div>"
      ],
      "text/plain": [
       "    x   y  rank_x  rank_y  diff    d^2\n",
       "0  14   9     4.0     4.5  -0.5   0.25\n",
       "1  17  12     6.0     6.5  -0.5   0.25\n",
       "2  18  17     8.5     9.5  -1.0   1.00\n",
       "3  18   7     8.5     3.0   5.5  30.25\n",
       "4  17   9     6.0     4.5   1.5   2.25\n",
       "5  19  15    10.0     8.0   2.0   4.00\n",
       "6  17  17     6.0     9.5  -3.5  12.25\n",
       "7  10  12     2.0     6.5  -4.5  20.25\n",
       "8   2   2     1.0     1.0   0.0   0.00\n",
       "9  12   3     3.0     2.0   1.0   1.00"
      ]
     },
     "execution_count": 9,
     "metadata": {},
     "output_type": "execute_result"
    }
   ],
   "source": [
    "sample1['rank_x'] = pd.DataFrame(sample1['x'].rank())\n",
    "sample1['rank_y'] = pd.DataFrame(sample1['y'].rank())\n",
    "sample1['diff'] = sample1['rank_x'] - sample1['rank_y']\n",
    "sample1['d^2'] = sample1['diff'] ** 2\n",
    "\n",
    "sample1"
   ]
  },
  {
   "cell_type": "code",
   "execution_count": 10,
   "metadata": {},
   "outputs": [
    {
     "data": {
      "text/plain": [
       "0.5666666666666667"
      ]
     },
     "execution_count": 10,
     "metadata": {},
     "output_type": "execute_result"
    }
   ],
   "source": [
    "n = len(sample1['d^2'])\n",
    "sq_distance = 6 * sample1['d^2'].sum()\n",
    "spearman = 1 - sq_distance / (n * ( n ** 2 - 1))\n",
    "spearman"
   ]
  },
  {
   "cell_type": "code",
   "execution_count": 11,
   "metadata": {},
   "outputs": [
    {
     "data": {
      "text/plain": [
       "SpearmanrResult(correlation=0.5559113444061977, pvalue=0.09519504230496476)"
      ]
     },
     "execution_count": 11,
     "metadata": {},
     "output_type": "execute_result"
    }
   ],
   "source": [
    "# 스피어만 (변수가 모두 연속형이며, 정규성을 따르지 않는 경우에 사용한다)\n",
    "from scipy.stats import spearmanr\n",
    "\n",
    "spearmanr(sample1['x'], sample1['y'])"
   ]
  },
  {
   "cell_type": "code",
   "execution_count": 12,
   "metadata": {},
   "outputs": [
    {
     "data": {
      "text/html": [
       "<div>\n",
       "<style scoped>\n",
       "    .dataframe tbody tr th:only-of-type {\n",
       "        vertical-align: middle;\n",
       "    }\n",
       "\n",
       "    .dataframe tbody tr th {\n",
       "        vertical-align: top;\n",
       "    }\n",
       "\n",
       "    .dataframe thead th {\n",
       "        text-align: right;\n",
       "    }\n",
       "</style>\n",
       "<table border=\"1\" class=\"dataframe\">\n",
       "  <thead>\n",
       "    <tr style=\"text-align: right;\">\n",
       "      <th></th>\n",
       "      <th>y</th>\n",
       "      <th>x</th>\n",
       "    </tr>\n",
       "  </thead>\n",
       "  <tbody>\n",
       "    <tr>\n",
       "      <th>y</th>\n",
       "      <td>1.000000</td>\n",
       "      <td>0.555911</td>\n",
       "    </tr>\n",
       "    <tr>\n",
       "      <th>x</th>\n",
       "      <td>0.555911</td>\n",
       "      <td>1.000000</td>\n",
       "    </tr>\n",
       "  </tbody>\n",
       "</table>\n",
       "</div>"
      ],
      "text/plain": [
       "          y         x\n",
       "y  1.000000  0.555911\n",
       "x  0.555911  1.000000"
      ]
     },
     "execution_count": 12,
     "metadata": {},
     "output_type": "execute_result"
    }
   ],
   "source": [
    "sample1[{'x','y'}].corr(method='spearman')"
   ]
  },
  {
   "cell_type": "code",
   "execution_count": 13,
   "metadata": {},
   "outputs": [],
   "source": [
    "# sub1 = pd.DataFrame(sample1['x'].sort_values().values).rank(method='min', ascending=True)\n",
    "# sub2 = pd.DataFrame(sample1['y'].sort_values().values).rank(method='min', ascending=True)\n",
    "\n",
    "# ranked = pd.concat((sub1,sub2), axis=1)\n",
    "# ranked.columns = ['ranked_x1','ranked_y1']\n",
    "# ranked"
   ]
  },
  {
   "cell_type": "markdown",
   "metadata": {},
   "source": [
    "### D. 켄달 상관계수"
   ]
  },
  {
   "cell_type": "code",
   "execution_count": 14,
   "metadata": {},
   "outputs": [
    {
     "name": "stdout",
     "output_type": "stream",
     "text": [
      "KendalltauResult(correlation=-0.6, pvalue=0.23333333333333334)\n"
     ]
    },
    {
     "data": {
      "text/html": [
       "<div>\n",
       "<style scoped>\n",
       "    .dataframe tbody tr th:only-of-type {\n",
       "        vertical-align: middle;\n",
       "    }\n",
       "\n",
       "    .dataframe tbody tr th {\n",
       "        vertical-align: top;\n",
       "    }\n",
       "\n",
       "    .dataframe thead th {\n",
       "        text-align: right;\n",
       "    }\n",
       "</style>\n",
       "<table border=\"1\" class=\"dataframe\">\n",
       "  <thead>\n",
       "    <tr style=\"text-align: right;\">\n",
       "      <th></th>\n",
       "      <th>x</th>\n",
       "      <th>y</th>\n",
       "      <th>x_rank</th>\n",
       "      <th>y_rank</th>\n",
       "    </tr>\n",
       "  </thead>\n",
       "  <tbody>\n",
       "    <tr>\n",
       "      <th>0</th>\n",
       "      <td>12</td>\n",
       "      <td>1</td>\n",
       "      <td>5.0</td>\n",
       "      <td>2.0</td>\n",
       "    </tr>\n",
       "    <tr>\n",
       "      <th>1</th>\n",
       "      <td>2</td>\n",
       "      <td>4</td>\n",
       "      <td>2.0</td>\n",
       "      <td>4.0</td>\n",
       "    </tr>\n",
       "    <tr>\n",
       "      <th>2</th>\n",
       "      <td>1</td>\n",
       "      <td>7</td>\n",
       "      <td>1.0</td>\n",
       "      <td>5.0</td>\n",
       "    </tr>\n",
       "    <tr>\n",
       "      <th>3</th>\n",
       "      <td>11</td>\n",
       "      <td>2</td>\n",
       "      <td>4.0</td>\n",
       "      <td>3.0</td>\n",
       "    </tr>\n",
       "    <tr>\n",
       "      <th>4</th>\n",
       "      <td>3</td>\n",
       "      <td>0</td>\n",
       "      <td>3.0</td>\n",
       "      <td>1.0</td>\n",
       "    </tr>\n",
       "  </tbody>\n",
       "</table>\n",
       "</div>"
      ],
      "text/plain": [
       "    x  y  x_rank  y_rank\n",
       "0  12  1     5.0     2.0\n",
       "1   2  4     2.0     4.0\n",
       "2   1  7     1.0     5.0\n",
       "3  11  2     4.0     3.0\n",
       "4   3  0     3.0     1.0"
      ]
     },
     "execution_count": 14,
     "metadata": {},
     "output_type": "execute_result"
    }
   ],
   "source": [
    "from scipy.stats import kendalltau\n",
    "\n",
    "X = [12, 2, 1, 11, 3]\n",
    "Y = [1, 4, 7, 2, 0]\n",
    "\n",
    "print(kendalltau(X,Y))\n",
    "\n",
    "# 데이터 프레임 형성 (x, y + x, y의 rank)\n",
    "kendal_df = pd.DataFrame(list(zip(X,Y)), columns=['x','y'])\n",
    "kendal_df\n",
    "kendal_df['x_rank'] = kendal_df['x'].rank()\n",
    "kendal_df['y_rank'] = kendal_df['y'].rank()\n",
    "kendal_df"
   ]
  },
  {
   "cell_type": "code",
   "execution_count": 15,
   "metadata": {},
   "outputs": [
    {
     "data": {
      "text/html": [
       "<div>\n",
       "<style scoped>\n",
       "    .dataframe tbody tr th:only-of-type {\n",
       "        vertical-align: middle;\n",
       "    }\n",
       "\n",
       "    .dataframe tbody tr th {\n",
       "        vertical-align: top;\n",
       "    }\n",
       "\n",
       "    .dataframe thead th {\n",
       "        text-align: right;\n",
       "    }\n",
       "</style>\n",
       "<table border=\"1\" class=\"dataframe\">\n",
       "  <thead>\n",
       "    <tr style=\"text-align: right;\">\n",
       "      <th></th>\n",
       "      <th>x</th>\n",
       "      <th>y</th>\n",
       "      <th>x_rank</th>\n",
       "      <th>y_rank</th>\n",
       "    </tr>\n",
       "  </thead>\n",
       "  <tbody>\n",
       "    <tr>\n",
       "      <th>0</th>\n",
       "      <td>1</td>\n",
       "      <td>7</td>\n",
       "      <td>1.0</td>\n",
       "      <td>5.0</td>\n",
       "    </tr>\n",
       "    <tr>\n",
       "      <th>1</th>\n",
       "      <td>2</td>\n",
       "      <td>4</td>\n",
       "      <td>2.0</td>\n",
       "      <td>4.0</td>\n",
       "    </tr>\n",
       "    <tr>\n",
       "      <th>2</th>\n",
       "      <td>3</td>\n",
       "      <td>0</td>\n",
       "      <td>3.0</td>\n",
       "      <td>1.0</td>\n",
       "    </tr>\n",
       "    <tr>\n",
       "      <th>3</th>\n",
       "      <td>11</td>\n",
       "      <td>2</td>\n",
       "      <td>4.0</td>\n",
       "      <td>3.0</td>\n",
       "    </tr>\n",
       "    <tr>\n",
       "      <th>4</th>\n",
       "      <td>12</td>\n",
       "      <td>1</td>\n",
       "      <td>5.0</td>\n",
       "      <td>2.0</td>\n",
       "    </tr>\n",
       "  </tbody>\n",
       "</table>\n",
       "</div>"
      ],
      "text/plain": [
       "    x  y  x_rank  y_rank\n",
       "0   1  7     1.0     5.0\n",
       "1   2  4     2.0     4.0\n",
       "2   3  0     3.0     1.0\n",
       "3  11  2     4.0     3.0\n",
       "4  12  1     5.0     2.0"
      ]
     },
     "execution_count": 15,
     "metadata": {},
     "output_type": "execute_result"
    }
   ],
   "source": [
    "# x의 rank를 기준으로 재정렬\n",
    "sort_kendal = kendal_df.sort_values(by='x_rank').reset_index()\n",
    "sort_kendal.drop(columns='index', inplace=True)\n",
    "sort_kendal"
   ]
  },
  {
   "cell_type": "code",
   "execution_count": 16,
   "metadata": {},
   "outputs": [
    {
     "data": {
      "text/html": [
       "<div>\n",
       "<style scoped>\n",
       "    .dataframe tbody tr th:only-of-type {\n",
       "        vertical-align: middle;\n",
       "    }\n",
       "\n",
       "    .dataframe tbody tr th {\n",
       "        vertical-align: top;\n",
       "    }\n",
       "\n",
       "    .dataframe thead th {\n",
       "        text-align: right;\n",
       "    }\n",
       "</style>\n",
       "<table border=\"1\" class=\"dataframe\">\n",
       "  <thead>\n",
       "    <tr style=\"text-align: right;\">\n",
       "      <th></th>\n",
       "      <th>x</th>\n",
       "      <th>y</th>\n",
       "      <th>x_rank</th>\n",
       "      <th>y_rank</th>\n",
       "      <th>direction</th>\n",
       "    </tr>\n",
       "  </thead>\n",
       "  <tbody>\n",
       "    <tr>\n",
       "      <th>0</th>\n",
       "      <td>1</td>\n",
       "      <td>7</td>\n",
       "      <td>1.0</td>\n",
       "      <td>5.0</td>\n",
       "      <td>downward</td>\n",
       "    </tr>\n",
       "    <tr>\n",
       "      <th>1</th>\n",
       "      <td>2</td>\n",
       "      <td>4</td>\n",
       "      <td>2.0</td>\n",
       "      <td>4.0</td>\n",
       "      <td>downward</td>\n",
       "    </tr>\n",
       "    <tr>\n",
       "      <th>2</th>\n",
       "      <td>3</td>\n",
       "      <td>0</td>\n",
       "      <td>3.0</td>\n",
       "      <td>1.0</td>\n",
       "      <td>upward</td>\n",
       "    </tr>\n",
       "    <tr>\n",
       "      <th>3</th>\n",
       "      <td>11</td>\n",
       "      <td>2</td>\n",
       "      <td>4.0</td>\n",
       "      <td>3.0</td>\n",
       "      <td>downward</td>\n",
       "    </tr>\n",
       "    <tr>\n",
       "      <th>4</th>\n",
       "      <td>12</td>\n",
       "      <td>1</td>\n",
       "      <td>5.0</td>\n",
       "      <td>2.0</td>\n",
       "      <td>NaN</td>\n",
       "    </tr>\n",
       "  </tbody>\n",
       "</table>\n",
       "</div>"
      ],
      "text/plain": [
       "    x  y  x_rank  y_rank direction\n",
       "0   1  7     1.0     5.0  downward\n",
       "1   2  4     2.0     4.0  downward\n",
       "2   3  0     3.0     1.0    upward\n",
       "3  11  2     4.0     3.0  downward\n",
       "4  12  1     5.0     2.0       NaN"
      ]
     },
     "execution_count": 16,
     "metadata": {},
     "output_type": "execute_result"
    }
   ],
   "source": [
    "s = []\n",
    "for i in range(4):\n",
    "    if sort_kendal['y_rank'][i] < sort_kendal['y_rank'][i+1] :\n",
    "        s.append('upward')\n",
    "    else:\n",
    "        s.append('downward')\n",
    "\n",
    "\n",
    "sort_kendal = pd.concat([sort_kendal, pd.DataFrame(s, columns={'direction'})], axis=1)\n",
    "sort_kendal"
   ]
  },
  {
   "cell_type": "code",
   "execution_count": 17,
   "metadata": {},
   "outputs": [
    {
     "name": "stdout",
     "output_type": "stream",
     "text": [
      "kendal 상관계수의 값은 (c-d)/(c+d)입니다. 즉 -0.6로 도출됩니다.\n"
     ]
    }
   ],
   "source": [
    "C = [0, 0, 1, 0]\n",
    "D = [2, 1, 0, 1]\n",
    "\n",
    "kendal = pd.concat([sort_kendal, pd.DataFrame(list(zip(C,D)), columns=['c','d'])], axis=1)\n",
    "kendal\n",
    "\n",
    "c = kendal['c'].sum()\n",
    "d = kendal['d'].sum()\n",
    "\n",
    "print(f'kendal 상관계수의 값은 (c-d)/(c+d)입니다. 즉 {(c-d)/(c+d)}로 도출됩니다.')"
   ]
  },
  {
   "cell_type": "markdown",
   "metadata": {},
   "source": [
    "# 실습 (데이터 불러오기)"
   ]
  },
  {
   "cell_type": "code",
   "execution_count": 18,
   "metadata": {},
   "outputs": [
    {
     "name": "stdout",
     "output_type": "stream",
     "text": [
      "[*********************100%***********************]  2 of 2 completed\n"
     ]
    },
    {
     "data": {
      "text/html": [
       "<div>\n",
       "<style scoped>\n",
       "    .dataframe tbody tr th:only-of-type {\n",
       "        vertical-align: middle;\n",
       "    }\n",
       "\n",
       "    .dataframe tbody tr th {\n",
       "        vertical-align: top;\n",
       "    }\n",
       "\n",
       "    .dataframe thead tr th {\n",
       "        text-align: left;\n",
       "    }\n",
       "\n",
       "    .dataframe thead tr:last-of-type th {\n",
       "        text-align: right;\n",
       "    }\n",
       "</style>\n",
       "<table border=\"1\" class=\"dataframe\">\n",
       "  <thead>\n",
       "    <tr>\n",
       "      <th></th>\n",
       "      <th colspan=\"2\" halign=\"left\">Adj Close</th>\n",
       "      <th colspan=\"2\" halign=\"left\">Close</th>\n",
       "      <th colspan=\"2\" halign=\"left\">High</th>\n",
       "      <th colspan=\"2\" halign=\"left\">Low</th>\n",
       "      <th colspan=\"2\" halign=\"left\">Open</th>\n",
       "      <th colspan=\"2\" halign=\"left\">Volume</th>\n",
       "    </tr>\n",
       "    <tr>\n",
       "      <th></th>\n",
       "      <th>005930.KS</th>\n",
       "      <th>^KS11</th>\n",
       "      <th>005930.KS</th>\n",
       "      <th>^KS11</th>\n",
       "      <th>005930.KS</th>\n",
       "      <th>^KS11</th>\n",
       "      <th>005930.KS</th>\n",
       "      <th>^KS11</th>\n",
       "      <th>005930.KS</th>\n",
       "      <th>^KS11</th>\n",
       "      <th>005930.KS</th>\n",
       "      <th>^KS11</th>\n",
       "    </tr>\n",
       "    <tr>\n",
       "      <th>Date</th>\n",
       "      <th></th>\n",
       "      <th></th>\n",
       "      <th></th>\n",
       "      <th></th>\n",
       "      <th></th>\n",
       "      <th></th>\n",
       "      <th></th>\n",
       "      <th></th>\n",
       "      <th></th>\n",
       "      <th></th>\n",
       "      <th></th>\n",
       "      <th></th>\n",
       "    </tr>\n",
       "  </thead>\n",
       "  <tbody>\n",
       "    <tr>\n",
       "      <th>2022-01-04</th>\n",
       "      <td>76365.937500</td>\n",
       "      <td>2989.239990</td>\n",
       "      <td>78700.0</td>\n",
       "      <td>2989.239990</td>\n",
       "      <td>79200.0</td>\n",
       "      <td>2995.250000</td>\n",
       "      <td>78300.0</td>\n",
       "      <td>2973.080078</td>\n",
       "      <td>78800.0</td>\n",
       "      <td>2991.969971</td>\n",
       "      <td>12427416</td>\n",
       "      <td>621200</td>\n",
       "    </tr>\n",
       "    <tr>\n",
       "      <th>2022-01-05</th>\n",
       "      <td>75104.492188</td>\n",
       "      <td>2953.969971</td>\n",
       "      <td>77400.0</td>\n",
       "      <td>2953.969971</td>\n",
       "      <td>79000.0</td>\n",
       "      <td>2986.199951</td>\n",
       "      <td>76400.0</td>\n",
       "      <td>2936.729980</td>\n",
       "      <td>78800.0</td>\n",
       "      <td>2984.050049</td>\n",
       "      <td>25470640</td>\n",
       "      <td>786900</td>\n",
       "    </tr>\n",
       "    <tr>\n",
       "      <th>2022-01-06</th>\n",
       "      <td>74619.320312</td>\n",
       "      <td>2920.530029</td>\n",
       "      <td>76900.0</td>\n",
       "      <td>2920.530029</td>\n",
       "      <td>77600.0</td>\n",
       "      <td>2952.540039</td>\n",
       "      <td>76600.0</td>\n",
       "      <td>2915.379883</td>\n",
       "      <td>76700.0</td>\n",
       "      <td>2925.399902</td>\n",
       "      <td>12931954</td>\n",
       "      <td>785500</td>\n",
       "    </tr>\n",
       "    <tr>\n",
       "      <th>2022-01-07</th>\n",
       "      <td>75977.812500</td>\n",
       "      <td>2954.889893</td>\n",
       "      <td>78300.0</td>\n",
       "      <td>2954.889893</td>\n",
       "      <td>78400.0</td>\n",
       "      <td>2959.030029</td>\n",
       "      <td>77400.0</td>\n",
       "      <td>2933.100098</td>\n",
       "      <td>78100.0</td>\n",
       "      <td>2933.780029</td>\n",
       "      <td>15163757</td>\n",
       "      <td>545800</td>\n",
       "    </tr>\n",
       "    <tr>\n",
       "      <th>2022-01-10</th>\n",
       "      <td>75686.703125</td>\n",
       "      <td>2926.719971</td>\n",
       "      <td>78000.0</td>\n",
       "      <td>2926.719971</td>\n",
       "      <td>78100.0</td>\n",
       "      <td>2951.120117</td>\n",
       "      <td>77100.0</td>\n",
       "      <td>2910.899902</td>\n",
       "      <td>78100.0</td>\n",
       "      <td>2947.370117</td>\n",
       "      <td>9947422</td>\n",
       "      <td>477000</td>\n",
       "    </tr>\n",
       "    <tr>\n",
       "      <th>2022-01-11</th>\n",
       "      <td>76560.015625</td>\n",
       "      <td>2927.379883</td>\n",
       "      <td>78900.0</td>\n",
       "      <td>2927.379883</td>\n",
       "      <td>79000.0</td>\n",
       "      <td>2943.570068</td>\n",
       "      <td>78000.0</td>\n",
       "      <td>2909.820068</td>\n",
       "      <td>78400.0</td>\n",
       "      <td>2930.929932</td>\n",
       "      <td>13221123</td>\n",
       "      <td>565800</td>\n",
       "    </tr>\n",
       "    <tr>\n",
       "      <th>2022-01-12</th>\n",
       "      <td>76560.015625</td>\n",
       "      <td>2972.479980</td>\n",
       "      <td>78900.0</td>\n",
       "      <td>2972.479980</td>\n",
       "      <td>79600.0</td>\n",
       "      <td>2972.580078</td>\n",
       "      <td>78600.0</td>\n",
       "      <td>2950.310059</td>\n",
       "      <td>79500.0</td>\n",
       "      <td>2950.780029</td>\n",
       "      <td>11000502</td>\n",
       "      <td>519000</td>\n",
       "    </tr>\n",
       "    <tr>\n",
       "      <th>2022-01-13</th>\n",
       "      <td>75589.671875</td>\n",
       "      <td>2962.090088</td>\n",
       "      <td>77900.0</td>\n",
       "      <td>2962.090088</td>\n",
       "      <td>79300.0</td>\n",
       "      <td>2982.139893</td>\n",
       "      <td>77900.0</td>\n",
       "      <td>2958.389893</td>\n",
       "      <td>79300.0</td>\n",
       "      <td>2979.909912</td>\n",
       "      <td>13889401</td>\n",
       "      <td>604600</td>\n",
       "    </tr>\n",
       "    <tr>\n",
       "      <th>2022-01-14</th>\n",
       "      <td>75007.468750</td>\n",
       "      <td>2921.919922</td>\n",
       "      <td>77300.0</td>\n",
       "      <td>2921.919922</td>\n",
       "      <td>78100.0</td>\n",
       "      <td>2944.969971</td>\n",
       "      <td>77100.0</td>\n",
       "      <td>2914.729980</td>\n",
       "      <td>77700.0</td>\n",
       "      <td>2937.610107</td>\n",
       "      <td>10096725</td>\n",
       "      <td>532300</td>\n",
       "    </tr>\n",
       "    <tr>\n",
       "      <th>2022-01-17</th>\n",
       "      <td>75201.539062</td>\n",
       "      <td>2890.100098</td>\n",
       "      <td>77500.0</td>\n",
       "      <td>2890.100098</td>\n",
       "      <td>77800.0</td>\n",
       "      <td>2919.669922</td>\n",
       "      <td>76900.0</td>\n",
       "      <td>2875.979980</td>\n",
       "      <td>77600.0</td>\n",
       "      <td>2918.550049</td>\n",
       "      <td>8785122</td>\n",
       "      <td>592900</td>\n",
       "    </tr>\n",
       "    <tr>\n",
       "      <th>2022-01-18</th>\n",
       "      <td>74716.359375</td>\n",
       "      <td>2864.239990</td>\n",
       "      <td>77000.0</td>\n",
       "      <td>2864.239990</td>\n",
       "      <td>77800.0</td>\n",
       "      <td>2902.790039</td>\n",
       "      <td>76600.0</td>\n",
       "      <td>2857.260010</td>\n",
       "      <td>77600.0</td>\n",
       "      <td>2898.979980</td>\n",
       "      <td>9592788</td>\n",
       "      <td>553700</td>\n",
       "    </tr>\n",
       "    <tr>\n",
       "      <th>2022-01-19</th>\n",
       "      <td>74037.117188</td>\n",
       "      <td>2842.280029</td>\n",
       "      <td>76300.0</td>\n",
       "      <td>2842.280029</td>\n",
       "      <td>76900.0</td>\n",
       "      <td>2871.790039</td>\n",
       "      <td>76100.0</td>\n",
       "      <td>2832.179932</td>\n",
       "      <td>76500.0</td>\n",
       "      <td>2840.340088</td>\n",
       "      <td>10598290</td>\n",
       "      <td>463400</td>\n",
       "    </tr>\n",
       "    <tr>\n",
       "      <th>2022-01-20</th>\n",
       "      <td>74231.187500</td>\n",
       "      <td>2862.679932</td>\n",
       "      <td>76500.0</td>\n",
       "      <td>2862.679932</td>\n",
       "      <td>76700.0</td>\n",
       "      <td>2862.699951</td>\n",
       "      <td>75900.0</td>\n",
       "      <td>2830.969971</td>\n",
       "      <td>76200.0</td>\n",
       "      <td>2842.280029</td>\n",
       "      <td>9708168</td>\n",
       "      <td>395400</td>\n",
       "    </tr>\n",
       "  </tbody>\n",
       "</table>\n",
       "</div>"
      ],
      "text/plain": [
       "               Adj Close                  Close                   High  \\\n",
       "               005930.KS        ^KS11 005930.KS        ^KS11 005930.KS   \n",
       "Date                                                                     \n",
       "2022-01-04  76365.937500  2989.239990   78700.0  2989.239990   79200.0   \n",
       "2022-01-05  75104.492188  2953.969971   77400.0  2953.969971   79000.0   \n",
       "2022-01-06  74619.320312  2920.530029   76900.0  2920.530029   77600.0   \n",
       "2022-01-07  75977.812500  2954.889893   78300.0  2954.889893   78400.0   \n",
       "2022-01-10  75686.703125  2926.719971   78000.0  2926.719971   78100.0   \n",
       "2022-01-11  76560.015625  2927.379883   78900.0  2927.379883   79000.0   \n",
       "2022-01-12  76560.015625  2972.479980   78900.0  2972.479980   79600.0   \n",
       "2022-01-13  75589.671875  2962.090088   77900.0  2962.090088   79300.0   \n",
       "2022-01-14  75007.468750  2921.919922   77300.0  2921.919922   78100.0   \n",
       "2022-01-17  75201.539062  2890.100098   77500.0  2890.100098   77800.0   \n",
       "2022-01-18  74716.359375  2864.239990   77000.0  2864.239990   77800.0   \n",
       "2022-01-19  74037.117188  2842.280029   76300.0  2842.280029   76900.0   \n",
       "2022-01-20  74231.187500  2862.679932   76500.0  2862.679932   76700.0   \n",
       "\n",
       "                              Low                   Open               \\\n",
       "                  ^KS11 005930.KS        ^KS11 005930.KS        ^KS11   \n",
       "Date                                                                    \n",
       "2022-01-04  2995.250000   78300.0  2973.080078   78800.0  2991.969971   \n",
       "2022-01-05  2986.199951   76400.0  2936.729980   78800.0  2984.050049   \n",
       "2022-01-06  2952.540039   76600.0  2915.379883   76700.0  2925.399902   \n",
       "2022-01-07  2959.030029   77400.0  2933.100098   78100.0  2933.780029   \n",
       "2022-01-10  2951.120117   77100.0  2910.899902   78100.0  2947.370117   \n",
       "2022-01-11  2943.570068   78000.0  2909.820068   78400.0  2930.929932   \n",
       "2022-01-12  2972.580078   78600.0  2950.310059   79500.0  2950.780029   \n",
       "2022-01-13  2982.139893   77900.0  2958.389893   79300.0  2979.909912   \n",
       "2022-01-14  2944.969971   77100.0  2914.729980   77700.0  2937.610107   \n",
       "2022-01-17  2919.669922   76900.0  2875.979980   77600.0  2918.550049   \n",
       "2022-01-18  2902.790039   76600.0  2857.260010   77600.0  2898.979980   \n",
       "2022-01-19  2871.790039   76100.0  2832.179932   76500.0  2840.340088   \n",
       "2022-01-20  2862.699951   75900.0  2830.969971   76200.0  2842.280029   \n",
       "\n",
       "              Volume          \n",
       "           005930.KS   ^KS11  \n",
       "Date                          \n",
       "2022-01-04  12427416  621200  \n",
       "2022-01-05  25470640  786900  \n",
       "2022-01-06  12931954  785500  \n",
       "2022-01-07  15163757  545800  \n",
       "2022-01-10   9947422  477000  \n",
       "2022-01-11  13221123  565800  \n",
       "2022-01-12  11000502  519000  \n",
       "2022-01-13  13889401  604600  \n",
       "2022-01-14  10096725  532300  \n",
       "2022-01-17   8785122  592900  \n",
       "2022-01-18   9592788  553700  \n",
       "2022-01-19  10598290  463400  \n",
       "2022-01-20   9708168  395400  "
      ]
     },
     "execution_count": 18,
     "metadata": {},
     "output_type": "execute_result"
    }
   ],
   "source": [
    "# 삼성전자, KOSPI 데이터 불러오기\n",
    "stock_price = yf.download({'005930.KS','^KS11'}, '2022-01-01', '2022-01-21')\n",
    "\n",
    "stock_price"
   ]
  },
  {
   "cell_type": "markdown",
   "metadata": {},
   "source": [
    "## 상관분석"
   ]
  },
  {
   "cell_type": "markdown",
   "metadata": {},
   "source": [
    "### A. 공분산"
   ]
  },
  {
   "cell_type": "code",
   "execution_count": 19,
   "metadata": {},
   "outputs": [
    {
     "data": {
      "image/png": "[encoded data removed]",
      "text/plain": [
       "<Figure size 360x360 with 6 Axes>"
      ]
     },
     "metadata": {
      "needs_background": "light"
     },
     "output_type": "display_data"
    }
   ],
   "source": [
    "# 상관분석에 앞서 먼저 시각화를 이용하여 상관성을 육안으로 확인해본다.\n",
    "sub = stock_price['Adj Close']\n",
    "\n",
    "# 각 데이터의 히스토그램과 산점도를 도출(산점도에는 회귀선까지 구현)\n",
    "sns.pairplot(sub, kind='reg')\n",
    "plt.show()"
   ]
  },
  {
   "cell_type": "markdown",
   "metadata": {},
   "source": [
    "### B. 피어슨 상관 계수"
   ]
  },
  {
   "cell_type": "code",
   "execution_count": 20,
   "metadata": {},
   "outputs": [
    {
     "name": "stdout",
     "output_type": "stream",
     "text": [
      "31112.256087437654\n",
      "[[719575.98559414  31112.25608744]\n",
      " [ 31112.25608744   2088.44589524]]\n",
      "0.8025674833244411\n"
     ]
    }
   ],
   "source": [
    "# 하나씩 시행해보기\n",
    "# 변수 지정\n",
    "x1 = stock_price['Adj Close']['005930.KS']\n",
    "x2 = stock_price['Adj Close']['^KS11']\n",
    "\n",
    "# 만약 표본상관계수를 도출하게 된다면 (n-1로 또 나눠주어야 함)\n",
    "# mu = mean (공통적으로 적용)\n",
    "mu_1 = np.sum(x1)/len(x1)\n",
    "mu_2 = np.sum(x2)/len(x2)\n",
    "# 분산을 구하는 부분에서도 모분산 추정이므로 자유도 1 설정\n",
    "var_1 = np.sum([pow(i - mu_1, 2) for i in x1]) / (len(x1) - 1)\n",
    "var_2 = np.sum([pow(i - mu_2, 2) for i in x2]) / (len(x2) - 1)\n",
    "std_1 = var_1 ** 0.5\n",
    "std_2 = var_2 ** 0.5\n",
    "\n",
    "covariance_ddof = sum( (x1 - mu_1) * (x2 - mu_2) ) / (len(x1) -1)\n",
    "correlation_ddof = covariance_ddof / (std_1 * std_2)\n",
    "\n",
    "# COV(X,Y) : 표본인 경우 (numpy와 비교)\n",
    "print(covariance_ddof)\n",
    "print(np.cov(x1,x2))\n",
    "# 피어슨 상관계수\n",
    "print(correlation_ddof)"
   ]
  },
  {
   "cell_type": "code",
   "execution_count": 21,
   "metadata": {},
   "outputs": [
    {
     "data": {
      "text/plain": [
       "(0.8025674833244408, 0.0009595927979952076)"
      ]
     },
     "execution_count": 21,
     "metadata": {},
     "output_type": "execute_result"
    }
   ],
   "source": [
    "# 피어슨 상관계수를 구하는 다른 방법으로는 scipy라이브러리를 활용하는 법\n",
    "\n",
    "from scipy.stats import pearsonr\n",
    "# 귀무가설은 '두 데이터의 상관 계수가 0이다.(독립)'로 설정되어 있음.\n",
    "pearsonr(x1, x2)"
   ]
  },
  {
   "cell_type": "code",
   "execution_count": 22,
   "metadata": {},
   "outputs": [
    {
     "name": "stdout",
     "output_type": "stream",
     "text": [
      "1. 모집단으로 가정한 경우\n",
      "모집단 data 각각의 분산 값은 COV(X,X) = 664223.987, COV(Y,Y) = 1927.796(으)로 계산됩니다.\n",
      "모집단 data에 대한 공분산 값 : 28719.006\n",
      "모집단 data에 대한 피어슨 상관계수 값 : 0.803\n",
      "Scipy로 구한 피어슨 상관계수는 0.803입니다.\n",
      "Scipy는 각 데이터의 상관계수가 유의한지 판단합니다. 위 검정의 p-value는 0.096%로 두 데이터의 연관성이 없다는 귀무가설을 5%의 유의수준으로 기각할 수 있습니다.\n",
      "\n",
      "2. 표본집단으로 가정한 경우\n",
      "표본 data 각각의 추정된 분산 값은 COV(x,x) = 719575.986, COV(y,y) = 2088.446(으)로 계산됩니다.\n",
      "표본 data로 추정한 모집단의 공분산 값 : 31112.256\n",
      "표본 data로 추정한 모집단의 피어슨 상관계수 값 : 0.803\n",
      "Scipy로 구한 피어슨 상관계수는 0.803입니다.\n",
      "Scipy는 각 데이터의 상관계수가 유의한지 판단합니다. 위 검정의 p-value는 0.096%로 두 데이터의 연관성이 없다는 귀무가설을 5%의 유의수준으로 기각할 수 있습니다.\n"
     ]
    }
   ],
   "source": [
    "def cov_pearson(data1, data2, population = True):\n",
    "    # 라이브러리 호출\n",
    "    import numpy as np\n",
    "    from scipy.stats import pearsonr\n",
    "\n",
    "    # 변수를 설정하는 부분입니다.\n",
    "    mu_1 = np.sum(data1)/len(data1)\n",
    "    mu_2 = np.sum(data2)/len(data2)\n",
    "    var_1 = np.sum([pow(i - mu_1, 2) for i in data1]) / (len(data1))\n",
    "    var_2 = np.sum([pow(i - mu_2, 2) for i in data2]) / (len(data2))\n",
    "    std_1 = var_1 ** 0.5\n",
    "    std_2 = var_2 ** 0.5\n",
    "    \n",
    "    # 데이터가 모수인지 표본인지에 따라 자유도를 산입할지 여부를 결정합니다.\n",
    "    if population == True:\n",
    "        covariance = sum( (data1 - mu_1) * (data2 - mu_2) ) / (len(data1))\n",
    "        correlation = covariance / (std_1 * std_2)\n",
    "        print(f'모집단 data 각각의 분산 값은 COV(X,X) = {round(var_1,3)}, COV(Y,Y) = {round(var_2,3)}(으)로 계산됩니다.')\n",
    "        print(f'모집단 data에 대한 공분산 값 : {round(covariance,3)}')\n",
    "        print(f'모집단 data에 대한 피어슨 상관계수 값 : {round(correlation,3)}')\n",
    "    else:\n",
    "        var_1 = np.sum([pow(i - mu_1, 2) for i in data1]) / (len(data1) - 1)\n",
    "        var_2 = np.sum([pow(i - mu_2, 2) for i in data2]) / (len(data2) - 1)\n",
    "        std_1 = var_1 ** 0.5\n",
    "        std_2 = var_2 ** 0.5\n",
    "        covariance_ddof = sum( (data1 - mu_1) * (data2 - mu_2) ) / (len(data1) -1)\n",
    "        correlation_ddof = covariance_ddof / (std_1 * std_2)\n",
    "        print(f'표본 data 각각의 추정된 분산 값은 COV(x,x) = {round(var_1,3)}, COV(y,y) = {round(var_2,3)}(으)로 계산됩니다.')\n",
    "        print(f'표본 data로 추정한 모집단의 공분산 값 : {round(covariance_ddof,3)}')\n",
    "        print(f'표본 data로 추정한 모집단의 피어슨 상관계수 값 : {round(correlation_ddof,3)}')\n",
    "\n",
    "    # Scipy 라이브러리에서 구한 피어슨 계수를 통해 위에서 확인한 상관계수 값을 검증해봅니다.\n",
    "    print(f'Scipy로 구한 피어슨 상관계수는 {round(pearsonr(data1, data2)[0], 3)}입니다.')\n",
    "    \n",
    "    # Scipy에서 제공하는 피어슨 검정의 P값을 이용하여 데이터 간의 독립성에 대한 검정 결과 해석을 출력합니다.\n",
    "    if pearsonr(data1, data2)[1] < 0.05:\n",
    "        print(f'Scipy는 각 데이터의 상관계수가 유의한지 판단합니다. 위 검정의 p-value는 {round(pearsonr(data1, data2)[1],5) * 100}%로 두 데이터의 연관성이 없다는 귀무가설을 5%의 유의수준으로 기각할 수 있습니다.')\n",
    "    else:\n",
    "        print(f'Scipy는 각 데이터의 상관계수가 유의한지 판단합니다. 위 검정의 p-value는 {round(pearsonr(data1, data2)[1],5) * 100}%로 두 데이터의 연관성이 없다는 귀무가설을 5%의 유의수준으로 기각할 수 없습니다.')\n",
    "\n",
    "print('1. 모집단으로 가정한 경우')\n",
    "cov_pearson(x1, x2, True)\n",
    "\n",
    "print('\\n2. 표본집단으로 가정한 경우')\n",
    "cov_pearson(x1, x2, False)"
   ]
  },
  {
   "cell_type": "markdown",
   "metadata": {},
   "source": [
    "### C. 스피어만 상관 계수"
   ]
  },
  {
   "cell_type": "code",
   "execution_count": 23,
   "metadata": {},
   "outputs": [
    {
     "data": {
      "text/plain": [
       "0.8434065934065934"
      ]
     },
     "execution_count": 23,
     "metadata": {},
     "output_type": "execute_result"
    }
   ],
   "source": [
    "# 스피어만 계수는 순위합으로 도출되기 때문에, 이를 직접 구현하기 위해선 ordinalencoder로 순위를 구하고 순위합을 도출해야 함\n",
    "from sklearn.preprocessing import OrdinalEncoder\n",
    "encoder = OrdinalEncoder()\n",
    "\n",
    "# transform data (데이터를 인코딩하는 작업)\n",
    "result = encoder.fit_transform(stock_price['Adj Close'])\n",
    "result = pd.DataFrame(result, columns={'Samsung', 'KOSPI'})\n",
    "# 순위 척도의 차이를 도출하는 부분\n",
    "result['diff'] = result['Samsung'] - result['KOSPI']\n",
    "# 데이터 개수 지정\n",
    "n = len(result['diff'])\n",
    "\n",
    "# 스피어만 계수 산출하는 부분 (스피어만 계수 산출 공식 적용)\n",
    "sum_diff = 6 * sum([pow(i, 2) for i in result['diff'].tolist()])\n",
    "spearman = 1 - sum_diff/(n * (n ** 2 -1))\n",
    "spearman"
   ]
  },
  {
   "cell_type": "code",
   "execution_count": 24,
   "metadata": {},
   "outputs": [
    {
     "data": {
      "text/plain": [
       "SpearmanrResult(correlation=0.8308123402999015, pvalue=0.0004349404431727389)"
      ]
     },
     "execution_count": 24,
     "metadata": {},
     "output_type": "execute_result"
    }
   ],
   "source": [
    "# 스피어만 (변수가 모두 연속형이며, 정규성을 따르지 않는 경우에 사용한다)\n",
    "from scipy.stats import spearmanr\n",
    "\n",
    "spearmanr(x1, x2)"
   ]
  },
  {
   "cell_type": "code",
   "execution_count": 25,
   "metadata": {},
   "outputs": [
    {
     "name": "stdout",
     "output_type": "stream",
     "text": [
      "모집단 data 각각의 분산 값은 COV(X,X) = 14.0, COV(Y,Y) = 13.148(으)로 계산됩니다.\n",
      "모집단 data에 대한 공분산 값 : 11.385\n",
      "모집단 data에 대한 피어슨 상관계수 값 : 0.839\n",
      "Scipy로 구한 피어슨 상관계수는 0.839입니다.\n",
      "Scipy는 각 데이터의 상관계수가 유의한지 판단합니다. 위 검정의 p-value는 0.034%로 두 데이터의 연관성이 없다는 귀무가설을 5%의 유의수준으로 기각할 수 있습니다.\n",
      "\n",
      "스피어만 계수와 비교\n",
      "모집단 data 각각의 분산 값은 COV(X,X) = 664223.987, COV(Y,Y) = 1927.796(으)로 계산됩니다.\n",
      "모집단 data에 대한 공분산 값 : 28719.006\n",
      "모집단 data에 대한 피어슨 상관계수 값 : 0.803\n",
      "Scipy로 구한 피어슨 상관계수는 0.803입니다.\n",
      "Scipy는 각 데이터의 상관계수가 유의한지 판단합니다. 위 검정의 p-value는 0.096%로 두 데이터의 연관성이 없다는 귀무가설을 5%의 유의수준으로 기각할 수 있습니다.\n"
     ]
    }
   ],
   "source": [
    "# 스피어만 계수는 순위 척도를 계산한 후에는 피어슨 계수와 구하는 공식이 동일하기 때문에 위의 피어슨 계수에 이를 입력하여도 동일한 결과를 가져옴\n",
    "# 따라서 밑에는 피어슨 계수로 값이 출력되었지만, 사실은 스피어만 계수임 (따라서 공분산 값과 분산은 확인하지 않아도 됨)\n",
    "cov_pearson(result['Samsung'], result['KOSPI'], True)\n",
    "\n",
    "print('\\n스피어만 계수와 비교')\n",
    "cov_pearson(x1, x2, True)"
   ]
  },
  {
   "cell_type": "markdown",
   "metadata": {},
   "source": [
    "### D. 켄달 상관계수"
   ]
  },
  {
   "cell_type": "code",
   "execution_count": 26,
   "metadata": {},
   "outputs": [
    {
     "data": {
      "text/plain": [
       "KendalltauResult(correlation=-0.6, pvalue=0.23333333333333334)"
      ]
     },
     "execution_count": 26,
     "metadata": {},
     "output_type": "execute_result"
    }
   ],
   "source": [
    "# simple data 부분 잠시 리뷰\n",
    "from scipy.stats import kendalltau\n",
    "\n",
    "X = [12, 2, 1, 11, 3]\n",
    "Y = [1, 4, 7, 2, 0]\n",
    "\n",
    "kendalltau(X,Y)"
   ]
  },
  {
   "cell_type": "code",
   "execution_count": 27,
   "metadata": {},
   "outputs": [
    {
     "data": {
      "text/plain": [
       "KendalltauResult(correlation=0.6838852006725745, pvalue=0.0011973714876856232)"
      ]
     },
     "execution_count": 27,
     "metadata": {},
     "output_type": "execute_result"
    }
   ],
   "source": [
    "kendalltau(x1, x2)"
   ]
  },
  {
   "cell_type": "markdown",
   "metadata": {},
   "source": [
    "### 참고) heatmap"
   ]
  },
  {
   "cell_type": "code",
   "execution_count": 28,
   "metadata": {},
   "outputs": [
    {
     "data": {
      "image/png": "[encoded data removed]",
      "text/plain": [
       "<Figure size 2160x2160 with 2 Axes>"
      ]
     },
     "metadata": {
      "needs_background": "light"
     },
     "output_type": "display_data"
    }
   ],
   "source": [
    "# corr 시각화\n",
    "def corr_heatmap(dataset, method_option = 'pearson'):\n",
    "    \"\"\"[상관관계 그래프]\n",
    "\n",
    "    Args:\n",
    "        dataset ([DataFrame]): [데이터프래임을 입력해주세요]\n",
    "        method_option (str, optional): [correlation을 도출하는 방식 선택]. Defaults to 'pearson' in addition, there are other options ('spearman', 'kendall').\n",
    "        \n",
    "    \"\"\"\n",
    "    # 라이브러리 호출\n",
    "    import numpy as np\n",
    "    import matplotlib.pyplot as plt\n",
    "    import seaborn as sns\n",
    "    # 한글폰트 출력 가능 코드\n",
    "    from matplotlib import rc\n",
    "    rc('font', family='AppleGothic') # Mac Os\n",
    "    #rc('font', family='NanumGothic') # Windows Os\n",
    "    plt.rcParams['axes.unicode_minus'] = False\n",
    "    \n",
    "    # heatmap 그리기\n",
    "    mask_ut=np.triu(np.ones(dataset.corr().shape)).astype(bool) \n",
    "    plt.figure(figsize=(30,30))\n",
    "    sns.heatmap(dataset.corr(method=method_option), annot = True, cmap = 'RdYlBu_r', cbar_kws={\"shrink\": .5}, \n",
    "                annot_kws={\"size\": 10}, linewidths=.5, mask=mask_ut)\n",
    "    plt.show()\n",
    "\n",
    "# 함수 사용\n",
    "corr_heatmap(stock_price)"
   ]
  },
  {
   "cell_type": "code",
   "execution_count": 29,
   "metadata": {},
   "outputs": [
    {
     "data": {
      "image/png": "[encoded data removed]",
      "text/plain": [
       "<Figure size 2160x2160 with 2 Axes>"
      ]
     },
     "metadata": {
      "needs_background": "light"
     },
     "output_type": "display_data"
    }
   ],
   "source": [
    "corr_heatmap(stock_price, method_option='spearman')"
   ]
  },
  {
   "cell_type": "code",
   "execution_count": 30,
   "metadata": {},
   "outputs": [
    {
     "data": {
      "image/png": "[encoded data removed]",
      "text/plain": [
       "<Figure size 2160x2160 with 2 Axes>"
      ]
     },
     "metadata": {
      "needs_background": "light"
     },
     "output_type": "display_data"
    }
   ],
   "source": [
    "corr_heatmap(stock_price, method_option='kendall')"
   ]
  },
  {
   "cell_type": "code",
   "execution_count": null,
   "metadata": {},
   "outputs": [],
   "source": []
  }
 ],
 "metadata": {
  "interpreter": {
   "hash": "aee8b7b246df8f9039afb4144a1f6fd8d2ca17a180786b69acc140d282b71a49"
  },
  "kernelspec": {
   "display_name": "Python 3 (ipykernel)",
   "language": "python",
   "name": "python3"
  },
  "language_info": {
   "codemirror_mode": {
    "name": "ipython",
    "version": 3
   },
   "file_extension": ".py",
   "mimetype": "text/x-python",
   "name": "python",
   "nbconvert_exporter": "python",
   "pygments_lexer": "ipython3",
   "version": "3.9.6"
  },
  "toc": {
   "base_numbering": 1,
   "nav_menu": {},
   "number_sections": true,
   "sideBar": true,
   "skip_h1_title": false,
   "title_cell": "Table of Contents",
   "title_sidebar": "Contents",
   "toc_cell": false,
   "toc_position": {},
   "toc_section_display": true,
   "toc_window_display": false
  }
 },
 "nbformat": 4,
 "nbformat_minor": 2
}
