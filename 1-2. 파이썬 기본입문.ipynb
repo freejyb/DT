{
 "cells": [
  {
   "cell_type": "markdown",
   "id": "344d6497",
   "metadata": {},
   "source": [
    "## 라이브러리 "
   ]
  },
  {
   "cell_type": "code",
   "execution_count": 1,
   "id": "c2952014",
   "metadata": {},
   "outputs": [],
   "source": [
    "# 왜 필요하지?"
   ]
  },
  {
   "cell_type": "code",
   "execution_count": 2,
   "id": "5eb01d15",
   "metadata": {},
   "outputs": [],
   "source": [
    "# + - *  ** / "
   ]
  },
  {
   "cell_type": "code",
   "execution_count": 3,
   "id": "3e2dc242",
   "metadata": {},
   "outputs": [
    {
     "data": {
      "text/plain": [
       "200"
      ]
     },
     "execution_count": 3,
     "metadata": {},
     "output_type": "execute_result"
    }
   ],
   "source": [
    "100*2"
   ]
  },
  {
   "cell_type": "code",
   "execution_count": 4,
   "id": "becd45de",
   "metadata": {},
   "outputs": [
    {
     "ename": "NameError",
     "evalue": "name 'log' is not defined",
     "output_type": "error",
     "traceback": [
      "\u001b[1;31m---------------------------------------------------------------------------\u001b[0m",
      "\u001b[1;31mNameError\u001b[0m                                 Traceback (most recent call last)",
      "\u001b[1;32m~\\AppData\\Local\\Temp/ipykernel_22564/2112665081.py\u001b[0m in \u001b[0;36m<module>\u001b[1;34m\u001b[0m\n\u001b[0;32m      1\u001b[0m \u001b[1;31m# 오류 발생\u001b[0m\u001b[1;33m\u001b[0m\u001b[1;33m\u001b[0m\u001b[1;33m\u001b[0m\u001b[0m\n\u001b[1;32m----> 2\u001b[1;33m \u001b[0mlog\u001b[0m\u001b[1;33m(\u001b[0m\u001b[1;36m10\u001b[0m\u001b[1;33m)\u001b[0m\u001b[1;33m\u001b[0m\u001b[1;33m\u001b[0m\u001b[0m\n\u001b[0m",
      "\u001b[1;31mNameError\u001b[0m: name 'log' is not defined"
     ]
    }
   ],
   "source": [
    "# 오류 발생\n",
    "log(10)"
   ]
  },
  {
   "cell_type": "code",
   "execution_count": null,
   "id": "61c28d83",
   "metadata": {},
   "outputs": [],
   "source": [
    "# math 모듈(Math Module)\n",
    "# 복잡한 연산이 필요한 경우 math 모듈을 사용\n",
    "import math\n",
    "math.log(10)"
   ]
  },
  {
   "cell_type": "code",
   "execution_count": 5,
   "id": "dba8e870",
   "metadata": {},
   "outputs": [],
   "source": [
    "# 스타임포트 방식(한꺼번에 임포트함. 이름공간과 관련된 모호성 문제)\n",
    "# from 모듈명 import 뒤에 * 을 입력 : 그 모듈에 내포된 모든 함수를 로드하여 별다른 수식 없이 함수를 모두 사용 가능\n",
    "from math import *  "
   ]
  },
  {
   "cell_type": "code",
   "execution_count": 6,
   "id": "5ba68ccc",
   "metadata": {},
   "outputs": [
    {
     "data": {
      "text/plain": [
       "2.302585092994046"
      ]
     },
     "execution_count": 6,
     "metadata": {},
     "output_type": "execute_result"
    }
   ],
   "source": [
    "log(10)"
   ]
  },
  {
   "cell_type": "markdown",
   "id": "77e2044b",
   "metadata": {},
   "source": [
    "### 설치되어 있는 라이브러리 보기"
   ]
  },
  {
   "cell_type": "code",
   "execution_count": 7,
   "id": "4a80d5fe",
   "metadata": {},
   "outputs": [
    {
     "name": "stdout",
     "output_type": "stream",
     "text": [
      "Package                 Version\n",
      "----------------------- -------------------\n",
      "absl-py                 0.13.0\n",
      "ansi2html               1.6.0\n",
      "appdirs                 1.4.4\n",
      "arelle                  2.2\n",
      "argon2-cffi             20.1.0\n",
      "astor                   0.8.1\n",
      "astunparse              1.6.3\n",
      "async-generator         1.10\n",
      "atomicwrites            1.4.0\n",
      "attrs                   21.2.0\n",
      "backcall                0.2.0\n",
      "Backtesting             0.3.2\n",
      "backtrader              1.9.76.123\n",
      "beautifulsoup4          4.9.3\n",
      "bleach                  3.3.0\n",
      "bokeh                   2.4.2\n",
      "branca                  0.5.0\n",
      "Brotli                  1.0.9\n",
      "bs4                     0.0.1\n",
      "bt                      0.2.9\n",
      "cachetools              4.2.2\n",
      "certifi                 2021.5.30\n",
      "cffi                    1.14.6\n",
      "chardet                 4.0.0\n",
      "charset-normalizer      2.0.1\n",
      "chart-studio            1.1.0\n",
      "click                   8.0.1\n",
      "cmdstanpy               1.1.0\n",
      "colorama                0.4.4\n",
      "convertdate             2.3.2\n",
      "cssselect               1.1.0\n",
      "cycler                  0.10.0\n",
      "Cython                  0.29.24\n",
      "dart-fss                0.3.17\n",
      "dash                    1.21.0\n",
      "dash-core-components    1.17.1\n",
      "dash-html-components    1.1.4\n",
      "dash-table              4.12.0\n",
      "datapungi_fed           0.3.1\n",
      "Note: you may need to restart the kernel to use updated packages.DateTime                4.3\n"
     ]
    },
    {
     "name": "stderr",
     "output_type": "stream",
     "text": [
      "WARNING: Ignoring invalid distribution -ip (c:\\users\\jyb\\appdata\\local\\programs\\python\\python39\\lib\\site-packages)\n",
      "WARNING: Ignoring invalid distribution -ip (c:\\users\\jyb\\appdata\\local\\programs\\python\\python39\\lib\\site-packages)\n",
      "WARNING: Ignoring invalid distribution -ip (c:\\users\\jyb\\appdata\\local\\programs\\python\\python39\\lib\\site-packages)\n",
      "WARNING: Ignoring invalid distribution -ip (c:\\users\\jyb\\appdata\\local\\programs\\python\\python39\\lib\\site-packages)\n"
     ]
    },
    {
     "name": "stdout",
     "output_type": "stream",
     "text": [
      "\n",
      "debugpy                 1.3.0\n",
      "decorator               5.0.9\n",
      "defusedxml              0.7.1\n",
      "Deprecated              1.2.12\n",
      "empyrical               0.5.5\n",
      "entrypoints             0.3\n",
      "ephem                   4.0.0.2\n",
      "et-xmlfile              1.1.0\n",
      "fake-useragent          0.1.11\n",
      "feedparser              6.0.8\n",
      "ffn                     0.3.6\n",
      "finance-datareader      0.9.50\n",
      "Flask                   2.0.1\n",
      "Flask-Compress          1.10.1\n",
      "flatbuffers             1.12\n",
      "folium                  0.12.1.post1\n",
      "formulaic               0.2.4\n",
      "fredapi                 0.4.3\n",
      "fsspec                  2021.8.1\n",
      "full-fred               0.0.9a3\n",
      "future                  0.18.2\n",
      "gast                    0.4.0\n",
      "google-auth             1.33.1\n",
      "google-auth-oauthlib    0.4.4\n",
      "google-pasta            0.2.0\n",
      "grpcio                  1.34.1\n",
      "h5py                    3.1.0\n",
      "halo                    0.0.31\n",
      "hijri-converter         2.1.3\n",
      "holidays                0.21\n",
      "html5lib                1.1\n",
      "idna                    3.2\n",
      "importlib-metadata      4.10.0\n",
      "iniconfig               1.1.1\n",
      "interface-meta          1.2.4\n",
      "ipykernel               6.0.1\n",
      "ipython                 7.25.0\n",
      "ipython-genutils        0.2.0\n",
      "ipywidgets              7.6.4\n",
      "isodate                 0.6.1\n",
      "itsdangerous            2.0.1\n",
      "jedi                    0.18.0\n",
      "Jinja2                  3.0.1\n",
      "joblib                  1.0.1\n",
      "jsonschema              3.2.0\n",
      "jupyter                 1.0.0\n",
      "jupyter-client          6.1.12\n",
      "jupyter-console         6.4.0\n",
      "jupyter-core            4.7.1\n",
      "jupyter-dash            0.4.0\n",
      "jupyterlab-pygments     0.1.2\n",
      "jupyterlab-widgets      1.0.1\n",
      "keras-nightly           2.5.0.dev2021032900\n",
      "Keras-Preprocessing     1.1.2\n",
      "keyring                 23.5.0\n",
      "kiwisolver              1.3.1\n",
      "korean-lunar-calendar   0.2.1\n",
      "linearmodels            4.25\n",
      "littleutils             0.2.2\n",
      "log-symbols             0.0.14\n",
      "LunarCalendar           0.0.9\n",
      "lxml                    4.6.3\n",
      "Markdown                3.3.4\n",
      "MarkupSafe              2.0.1\n",
      "matplotlib              3.4.2\n",
      "matplotlib-inline       0.1.2\n",
      "missingno               0.5.1\n",
      "mistune                 0.8.4\n",
      "mpl-finance             0.10.1\n",
      "mplfinance              0.12.9b1\n",
      "multitasking            0.0.9\n",
      "mypy-extensions         0.4.3\n",
      "nbclient                0.5.3\n",
      "nbconvert               6.1.0\n",
      "nbformat                5.1.3\n",
      "nest-asyncio            1.5.1\n",
      "nltk                    3.7\n",
      "notebook                6.4.0\n",
      "numpy                   1.21.5\n",
      "oauthlib                3.1.1\n",
      "OpenDartReader          0.1.1\n",
      "openpyxl                3.0.9\n",
      "opstrat                 0.1.7\n",
      "opt-einsum              3.3.0\n",
      "outdated                0.2.1\n",
      "packaging               21.0\n",
      "pandas                  1.3.0\n",
      "pandas-datareader       0.10.0\n",
      "pandas-flavor           0.2.0\n",
      "pandocfilters           1.4.3\n",
      "parse                   1.19.0\n",
      "parso                   0.8.2\n",
      "patsy                   0.5.1\n",
      "pickleshare             0.7.5\n",
      "Pillow                  8.3.1\n",
      "pingouin                0.5.0\n",
      "pip                     21.3.1\n",
      "plotly                  5.1.0\n",
      "plotly-express          0.4.1\n",
      "pluggy                  1.0.0\n",
      "prometheus-client       0.11.0\n",
      "prompt-toolkit          3.0.19\n",
      "property-cached         1.6.4\n",
      "prophet                 1.1.2\n",
      "protobuf                3.17.3\n",
      "psycopg2                2.9.3\n",
      "py                      1.11.0\n",
      "pyasn1                  0.4.8\n",
      "pyasn1-modules          0.2.8\n",
      "pycparser               2.20\n",
      "pyee                    8.2.2\n",
      "pyfolio                 0.9.2\n",
      "Pygments                2.9.0\n",
      "pyhdfe                  0.1.0\n",
      "pykrx                   1.0.17\n",
      "PyMeeus                 0.5.11\n",
      "pyparsing               2.4.7\n",
      "pyperclip               1.8.2\n",
      "pypi                    2.1\n",
      "pyppeteer               0.2.6\n",
      "PyPrind                 2.11.3\n",
      "pyquery                 1.4.3\n",
      "pyrsistent              0.18.0\n",
      "pytest                  6.2.5\n",
      "pytest-html             3.1.1\n",
      "pytest-metadata         1.11.0\n",
      "python-dateutil         2.8.1\n",
      "pytz                    2021.1\n",
      "pywin32                 301\n",
      "pywin32-ctypes          0.2.0\n",
      "pywinpty                1.1.3\n",
      "PyYAML                  6.0\n",
      "pyzmq                   22.1.0\n",
      "qtconsole               5.1.1\n",
      "QtPy                    1.11.0\n",
      "QuantLib                1.25\n",
      "QuantLib-Python         1.18\n",
      "regex                   2022.1.18\n",
      "requests                2.26.0\n",
      "requests-file           1.5.1\n",
      "requests-ftp            0.3.1\n",
      "requests-html           0.10.0\n",
      "requests-oauthlib       1.3.0\n",
      "retrying                1.3.3\n",
      "rsa                     4.7.2\n",
      "scikit-learn            0.24.2\n",
      "scipy                   1.7.0\n",
      "seaborn                 0.11.1\n",
      "Send2Trash              1.7.1\n",
      "setuptools              56.0.0\n",
      "setuptools-git          1.2\n",
      "sgmllib3k               1.0.0\n",
      "six                     1.15.0\n",
      "sklearn                 0.0\n",
      "soupsieve               2.2.1\n",
      "spinners                0.0.24\n",
      "statsmodels             0.12.2\n",
      "tabulate                0.8.9\n",
      "tenacity                8.0.1\n",
      "tensorboard             2.5.0\n",
      "tensorboard-data-server 0.6.1\n",
      "tensorboard-plugin-wit  1.8.0\n",
      "tensorflow              2.5.0\n",
      "tensorflow-estimator    2.5.0\n",
      "termcolor               1.1.0\n",
      "terminado               0.10.1\n",
      "testpath                0.5.0\n",
      "threadpoolctl           2.2.0\n",
      "toml                    0.10.2\n",
      "torch                   1.10.2\n",
      "tornado                 6.1\n",
      "tqdm                    4.61.2\n",
      "traitlets               5.0.5\n",
      "typing-extensions       3.7.4.3\n",
      "tzdata                  2022.7\n",
      "ujson                   4.0.2\n",
      "urllib3                 1.26.6\n",
      "w3lib                   1.22.0\n",
      "wcwidth                 0.2.5\n",
      "webencodings            0.5.1\n",
      "websockets              9.1\n",
      "Werkzeug                2.0.1\n",
      "wheel                   0.36.2\n",
      "widgetsnbextension      3.5.1\n",
      "wrapt                   1.12.1\n",
      "xarray                  0.20.2\n",
      "xlrd                    2.0.1\n",
      "xmltodict               0.13.0\n",
      "yahoo-fin               0.8.9.1\n",
      "yahoofinancials         1.6\n",
      "yfinance                0.1.63\n",
      "zipp                    3.6.0\n",
      "zope.interface          5.4.0\n"
     ]
    }
   ],
   "source": [
    "pip list"
   ]
  },
  {
   "cell_type": "markdown",
   "id": "e79ca9af",
   "metadata": {},
   "source": [
    "### 필요한 라이브러리 설치"
   ]
  },
  {
   "cell_type": "code",
   "execution_count": 8,
   "id": "83597ad2",
   "metadata": {},
   "outputs": [],
   "source": [
    "# pip install 필요한 라이브러리 명칭"
   ]
  },
  {
   "cell_type": "code",
   "execution_count": 9,
   "id": "ff888bcc",
   "metadata": {},
   "outputs": [
    {
     "name": "stdout",
     "output_type": "stream",
     "text": [
      "Requirement already satisfied: pandas in c:\\users\\jyb\\anaconda3\\lib\\site-packages (1.4.4)\n",
      "Requirement already satisfied: numpy>=1.18.5 in c:\\users\\jyb\\anaconda3\\lib\\site-packages (from pandas) (1.21.5)\n",
      "Requirement already satisfied: pytz>=2020.1 in c:\\users\\jyb\\anaconda3\\lib\\site-packages (from pandas) (2023.3)\n",
      "Requirement already satisfied: python-dateutil>=2.8.1 in c:\\users\\jyb\\anaconda3\\lib\\site-packages (from pandas) (2.8.2)\n",
      "Requirement already satisfied: six>=1.5 in c:\\users\\jyb\\anaconda3\\lib\\site-packages (from python-dateutil>=2.8.1->pandas) (1.16.0)\n"
     ]
    }
   ],
   "source": [
    "# pandas 설치\n",
    "!pip install pandas"
   ]
  },
  {
   "cell_type": "markdown",
   "id": "29adf628",
   "metadata": {},
   "source": [
    "### 라이브러리 불러오기"
   ]
  },
  {
   "cell_type": "markdown",
   "id": "72ae6353",
   "metadata": {},
   "source": [
    "#### 1. import 라이브러리\n",
    "#### 2. import 라이브러리 as 별칭\n",
    "#### 3. from 라이브러리 import 함수명칭"
   ]
  },
  {
   "cell_type": "code",
   "execution_count": 10,
   "id": "82b526ae",
   "metadata": {},
   "outputs": [],
   "source": [
    "# 1. import 방법 :  import 모듈명\n",
    "import numpy"
   ]
  },
  {
   "cell_type": "code",
   "execution_count": 11,
   "id": "33667416",
   "metadata": {},
   "outputs": [],
   "source": [
    "# 2. 별칭 (alias) 를 as로 지정하여 간편하게 불러오는 방법"
   ]
  },
  {
   "cell_type": "code",
   "execution_count": 12,
   "id": "2a10977f",
   "metadata": {},
   "outputs": [],
   "source": [
    "import numpy as np   "
   ]
  },
  {
   "cell_type": "code",
   "execution_count": 13,
   "id": "32a21b7f",
   "metadata": {},
   "outputs": [],
   "source": [
    "import pandas as pd  "
   ]
  },
  {
   "cell_type": "code",
   "execution_count": 14,
   "id": "5f6a9b7a",
   "metadata": {},
   "outputs": [],
   "source": [
    "# 금융데이터분석 실무에서 자주 사용되는 사례\n",
    "# import pandas as pd\n",
    "# import numpy as np\n",
    "# import statsmodels.api as sm\n",
    "# import seaborn as sns"
   ]
  },
  {
   "cell_type": "code",
   "execution_count": null,
   "id": "31f49bc0",
   "metadata": {},
   "outputs": [],
   "source": []
  },
  {
   "cell_type": "code",
   "execution_count": 15,
   "id": "acd2cb49",
   "metadata": {},
   "outputs": [
    {
     "data": {
      "text/plain": [
       "['ALLOW_THREADS',\n",
       " 'AxisError',\n",
       " 'BUFSIZE',\n",
       " 'Bytes0',\n",
       " 'CLIP',\n",
       " 'ComplexWarning',\n",
       " 'DataSource',\n",
       " 'Datetime64',\n",
       " 'ERR_CALL',\n",
       " 'ERR_DEFAULT',\n",
       " 'ERR_IGNORE',\n",
       " 'ERR_LOG',\n",
       " 'ERR_PRINT',\n",
       " 'ERR_RAISE',\n",
       " 'ERR_WARN',\n",
       " 'FLOATING_POINT_SUPPORT',\n",
       " 'FPE_DIVIDEBYZERO',\n",
       " 'FPE_INVALID',\n",
       " 'FPE_OVERFLOW',\n",
       " 'FPE_UNDERFLOW',\n",
       " 'False_',\n",
       " 'Inf',\n",
       " 'Infinity',\n",
       " 'MAXDIMS',\n",
       " 'MAY_SHARE_BOUNDS',\n",
       " 'MAY_SHARE_EXACT',\n",
       " 'MachAr',\n",
       " 'ModuleDeprecationWarning',\n",
       " 'NAN',\n",
       " 'NINF',\n",
       " 'NZERO',\n",
       " 'NaN',\n",
       " 'PINF',\n",
       " 'PZERO',\n",
       " 'RAISE',\n",
       " 'RankWarning',\n",
       " 'SHIFT_DIVIDEBYZERO',\n",
       " 'SHIFT_INVALID',\n",
       " 'SHIFT_OVERFLOW',\n",
       " 'SHIFT_UNDERFLOW',\n",
       " 'ScalarType',\n",
       " 'Str0',\n",
       " 'Tester',\n",
       " 'TooHardError',\n",
       " 'True_',\n",
       " 'UFUNC_BUFSIZE_DEFAULT',\n",
       " 'UFUNC_PYVALS_NAME',\n",
       " 'Uint64',\n",
       " 'VisibleDeprecationWarning',\n",
       " 'WRAP',\n",
       " '_NoValue',\n",
       " '_UFUNC_API',\n",
       " '__NUMPY_SETUP__',\n",
       " '__all__',\n",
       " '__builtins__',\n",
       " '__cached__',\n",
       " '__config__',\n",
       " '__deprecated_attrs__',\n",
       " '__dir__',\n",
       " '__doc__',\n",
       " '__expired_functions__',\n",
       " '__file__',\n",
       " '__getattr__',\n",
       " '__git_version__',\n",
       " '__loader__',\n",
       " '__name__',\n",
       " '__package__',\n",
       " '__path__',\n",
       " '__spec__',\n",
       " '__version__',\n",
       " '_add_newdoc_ufunc',\n",
       " '_distributor_init',\n",
       " '_financial_names',\n",
       " '_globals',\n",
       " '_mat',\n",
       " '_pytesttester',\n",
       " '_version',\n",
       " 'abs',\n",
       " 'absolute',\n",
       " 'add',\n",
       " 'add_docstring',\n",
       " 'add_newdoc',\n",
       " 'add_newdoc_ufunc',\n",
       " 'alen',\n",
       " 'all',\n",
       " 'allclose',\n",
       " 'alltrue',\n",
       " 'amax',\n",
       " 'amin',\n",
       " 'angle',\n",
       " 'any',\n",
       " 'append',\n",
       " 'apply_along_axis',\n",
       " 'apply_over_axes',\n",
       " 'arange',\n",
       " 'arccos',\n",
       " 'arccosh',\n",
       " 'arcsin',\n",
       " 'arcsinh',\n",
       " 'arctan',\n",
       " 'arctan2',\n",
       " 'arctanh',\n",
       " 'argmax',\n",
       " 'argmin',\n",
       " 'argpartition',\n",
       " 'argsort',\n",
       " 'argwhere',\n",
       " 'around',\n",
       " 'array',\n",
       " 'array2string',\n",
       " 'array_equal',\n",
       " 'array_equiv',\n",
       " 'array_repr',\n",
       " 'array_split',\n",
       " 'array_str',\n",
       " 'asanyarray',\n",
       " 'asarray',\n",
       " 'asarray_chkfinite',\n",
       " 'ascontiguousarray',\n",
       " 'asfarray',\n",
       " 'asfortranarray',\n",
       " 'asmatrix',\n",
       " 'asscalar',\n",
       " 'atleast_1d',\n",
       " 'atleast_2d',\n",
       " 'atleast_3d',\n",
       " 'average',\n",
       " 'bartlett',\n",
       " 'base_repr',\n",
       " 'binary_repr',\n",
       " 'bincount',\n",
       " 'bitwise_and',\n",
       " 'bitwise_not',\n",
       " 'bitwise_or',\n",
       " 'bitwise_xor',\n",
       " 'blackman',\n",
       " 'block',\n",
       " 'bmat',\n",
       " 'bool8',\n",
       " 'bool_',\n",
       " 'broadcast',\n",
       " 'broadcast_arrays',\n",
       " 'broadcast_shapes',\n",
       " 'broadcast_to',\n",
       " 'busday_count',\n",
       " 'busday_offset',\n",
       " 'busdaycalendar',\n",
       " 'byte',\n",
       " 'byte_bounds',\n",
       " 'bytes0',\n",
       " 'bytes_',\n",
       " 'c_',\n",
       " 'can_cast',\n",
       " 'cast',\n",
       " 'cbrt',\n",
       " 'cdouble',\n",
       " 'ceil',\n",
       " 'cfloat',\n",
       " 'char',\n",
       " 'character',\n",
       " 'chararray',\n",
       " 'choose',\n",
       " 'clip',\n",
       " 'clongdouble',\n",
       " 'clongfloat',\n",
       " 'column_stack',\n",
       " 'common_type',\n",
       " 'compare_chararrays',\n",
       " 'compat',\n",
       " 'complex128',\n",
       " 'complex64',\n",
       " 'complex_',\n",
       " 'complexfloating',\n",
       " 'compress',\n",
       " 'concatenate',\n",
       " 'conj',\n",
       " 'conjugate',\n",
       " 'convolve',\n",
       " 'copy',\n",
       " 'copysign',\n",
       " 'copyto',\n",
       " 'core',\n",
       " 'corrcoef',\n",
       " 'correlate',\n",
       " 'cos',\n",
       " 'cosh',\n",
       " 'count_nonzero',\n",
       " 'cov',\n",
       " 'cross',\n",
       " 'csingle',\n",
       " 'ctypeslib',\n",
       " 'cumprod',\n",
       " 'cumproduct',\n",
       " 'cumsum',\n",
       " 'datetime64',\n",
       " 'datetime_as_string',\n",
       " 'datetime_data',\n",
       " 'deg2rad',\n",
       " 'degrees',\n",
       " 'delete',\n",
       " 'deprecate',\n",
       " 'deprecate_with_doc',\n",
       " 'diag',\n",
       " 'diag_indices',\n",
       " 'diag_indices_from',\n",
       " 'diagflat',\n",
       " 'diagonal',\n",
       " 'diff',\n",
       " 'digitize',\n",
       " 'disp',\n",
       " 'divide',\n",
       " 'divmod',\n",
       " 'dot',\n",
       " 'double',\n",
       " 'dsplit',\n",
       " 'dstack',\n",
       " 'dtype',\n",
       " 'e',\n",
       " 'ediff1d',\n",
       " 'einsum',\n",
       " 'einsum_path',\n",
       " 'emath',\n",
       " 'empty',\n",
       " 'empty_like',\n",
       " 'equal',\n",
       " 'errstate',\n",
       " 'euler_gamma',\n",
       " 'exp',\n",
       " 'exp2',\n",
       " 'expand_dims',\n",
       " 'expm1',\n",
       " 'extract',\n",
       " 'eye',\n",
       " 'fabs',\n",
       " 'fastCopyAndTranspose',\n",
       " 'fft',\n",
       " 'fill_diagonal',\n",
       " 'find_common_type',\n",
       " 'finfo',\n",
       " 'fix',\n",
       " 'flatiter',\n",
       " 'flatnonzero',\n",
       " 'flexible',\n",
       " 'flip',\n",
       " 'fliplr',\n",
       " 'flipud',\n",
       " 'float16',\n",
       " 'float32',\n",
       " 'float64',\n",
       " 'float_',\n",
       " 'float_power',\n",
       " 'floating',\n",
       " 'floor',\n",
       " 'floor_divide',\n",
       " 'fmax',\n",
       " 'fmin',\n",
       " 'fmod',\n",
       " 'format_float_positional',\n",
       " 'format_float_scientific',\n",
       " 'format_parser',\n",
       " 'frexp',\n",
       " 'frombuffer',\n",
       " 'fromfile',\n",
       " 'fromfunction',\n",
       " 'fromiter',\n",
       " 'frompyfunc',\n",
       " 'fromregex',\n",
       " 'fromstring',\n",
       " 'full',\n",
       " 'full_like',\n",
       " 'gcd',\n",
       " 'generic',\n",
       " 'genfromtxt',\n",
       " 'geomspace',\n",
       " 'get_array_wrap',\n",
       " 'get_include',\n",
       " 'get_printoptions',\n",
       " 'getbufsize',\n",
       " 'geterr',\n",
       " 'geterrcall',\n",
       " 'geterrobj',\n",
       " 'gradient',\n",
       " 'greater',\n",
       " 'greater_equal',\n",
       " 'half',\n",
       " 'hamming',\n",
       " 'hanning',\n",
       " 'heaviside',\n",
       " 'histogram',\n",
       " 'histogram2d',\n",
       " 'histogram_bin_edges',\n",
       " 'histogramdd',\n",
       " 'hsplit',\n",
       " 'hstack',\n",
       " 'hypot',\n",
       " 'i0',\n",
       " 'identity',\n",
       " 'iinfo',\n",
       " 'imag',\n",
       " 'in1d',\n",
       " 'index_exp',\n",
       " 'indices',\n",
       " 'inexact',\n",
       " 'inf',\n",
       " 'info',\n",
       " 'infty',\n",
       " 'inner',\n",
       " 'insert',\n",
       " 'int0',\n",
       " 'int16',\n",
       " 'int32',\n",
       " 'int64',\n",
       " 'int8',\n",
       " 'int_',\n",
       " 'intc',\n",
       " 'integer',\n",
       " 'interp',\n",
       " 'intersect1d',\n",
       " 'intp',\n",
       " 'invert',\n",
       " 'is_busday',\n",
       " 'isclose',\n",
       " 'iscomplex',\n",
       " 'iscomplexobj',\n",
       " 'isfinite',\n",
       " 'isfortran',\n",
       " 'isin',\n",
       " 'isinf',\n",
       " 'isnan',\n",
       " 'isnat',\n",
       " 'isneginf',\n",
       " 'isposinf',\n",
       " 'isreal',\n",
       " 'isrealobj',\n",
       " 'isscalar',\n",
       " 'issctype',\n",
       " 'issubclass_',\n",
       " 'issubdtype',\n",
       " 'issubsctype',\n",
       " 'iterable',\n",
       " 'ix_',\n",
       " 'kaiser',\n",
       " 'kron',\n",
       " 'lcm',\n",
       " 'ldexp',\n",
       " 'left_shift',\n",
       " 'less',\n",
       " 'less_equal',\n",
       " 'lexsort',\n",
       " 'lib',\n",
       " 'linalg',\n",
       " 'linspace',\n",
       " 'little_endian',\n",
       " 'load',\n",
       " 'loads',\n",
       " 'loadtxt',\n",
       " 'log',\n",
       " 'log10',\n",
       " 'log1p',\n",
       " 'log2',\n",
       " 'logaddexp',\n",
       " 'logaddexp2',\n",
       " 'logical_and',\n",
       " 'logical_not',\n",
       " 'logical_or',\n",
       " 'logical_xor',\n",
       " 'logspace',\n",
       " 'longcomplex',\n",
       " 'longdouble',\n",
       " 'longfloat',\n",
       " 'longlong',\n",
       " 'lookfor',\n",
       " 'ma',\n",
       " 'mafromtxt',\n",
       " 'mask_indices',\n",
       " 'mat',\n",
       " 'math',\n",
       " 'matmul',\n",
       " 'matrix',\n",
       " 'matrixlib',\n",
       " 'max',\n",
       " 'maximum',\n",
       " 'maximum_sctype',\n",
       " 'may_share_memory',\n",
       " 'mean',\n",
       " 'median',\n",
       " 'memmap',\n",
       " 'meshgrid',\n",
       " 'mgrid',\n",
       " 'min',\n",
       " 'min_scalar_type',\n",
       " 'minimum',\n",
       " 'mintypecode',\n",
       " 'mod',\n",
       " 'modf',\n",
       " 'moveaxis',\n",
       " 'msort',\n",
       " 'multiply',\n",
       " 'nan',\n",
       " 'nan_to_num',\n",
       " 'nanargmax',\n",
       " 'nanargmin',\n",
       " 'nancumprod',\n",
       " 'nancumsum',\n",
       " 'nanmax',\n",
       " 'nanmean',\n",
       " 'nanmedian',\n",
       " 'nanmin',\n",
       " 'nanpercentile',\n",
       " 'nanprod',\n",
       " 'nanquantile',\n",
       " 'nanstd',\n",
       " 'nansum',\n",
       " 'nanvar',\n",
       " 'nbytes',\n",
       " 'ndarray',\n",
       " 'ndenumerate',\n",
       " 'ndfromtxt',\n",
       " 'ndim',\n",
       " 'ndindex',\n",
       " 'nditer',\n",
       " 'negative',\n",
       " 'nested_iters',\n",
       " 'newaxis',\n",
       " 'nextafter',\n",
       " 'nonzero',\n",
       " 'not_equal',\n",
       " 'numarray',\n",
       " 'number',\n",
       " 'obj2sctype',\n",
       " 'object0',\n",
       " 'object_',\n",
       " 'ogrid',\n",
       " 'oldnumeric',\n",
       " 'ones',\n",
       " 'ones_like',\n",
       " 'os',\n",
       " 'outer',\n",
       " 'packbits',\n",
       " 'pad',\n",
       " 'partition',\n",
       " 'percentile',\n",
       " 'pi',\n",
       " 'piecewise',\n",
       " 'place',\n",
       " 'poly',\n",
       " 'poly1d',\n",
       " 'polyadd',\n",
       " 'polyder',\n",
       " 'polydiv',\n",
       " 'polyfit',\n",
       " 'polyint',\n",
       " 'polymul',\n",
       " 'polynomial',\n",
       " 'polysub',\n",
       " 'polyval',\n",
       " 'positive',\n",
       " 'power',\n",
       " 'printoptions',\n",
       " 'prod',\n",
       " 'product',\n",
       " 'promote_types',\n",
       " 'ptp',\n",
       " 'put',\n",
       " 'put_along_axis',\n",
       " 'putmask',\n",
       " 'quantile',\n",
       " 'r_',\n",
       " 'rad2deg',\n",
       " 'radians',\n",
       " 'random',\n",
       " 'ravel',\n",
       " 'ravel_multi_index',\n",
       " 'real',\n",
       " 'real_if_close',\n",
       " 'rec',\n",
       " 'recarray',\n",
       " 'recfromcsv',\n",
       " 'recfromtxt',\n",
       " 'reciprocal',\n",
       " 'record',\n",
       " 'remainder',\n",
       " 'repeat',\n",
       " 'require',\n",
       " 'reshape',\n",
       " 'resize',\n",
       " 'result_type',\n",
       " 'right_shift',\n",
       " 'rint',\n",
       " 'roll',\n",
       " 'rollaxis',\n",
       " 'roots',\n",
       " 'rot90',\n",
       " 'round',\n",
       " 'round_',\n",
       " 'row_stack',\n",
       " 's_',\n",
       " 'safe_eval',\n",
       " 'save',\n",
       " 'savetxt',\n",
       " 'savez',\n",
       " 'savez_compressed',\n",
       " 'sctype2char',\n",
       " 'sctypeDict',\n",
       " 'sctypes',\n",
       " 'searchsorted',\n",
       " 'select',\n",
       " 'set_numeric_ops',\n",
       " 'set_printoptions',\n",
       " 'set_string_function',\n",
       " 'setbufsize',\n",
       " 'setdiff1d',\n",
       " 'seterr',\n",
       " 'seterrcall',\n",
       " 'seterrobj',\n",
       " 'setxor1d',\n",
       " 'shape',\n",
       " 'shares_memory',\n",
       " 'short',\n",
       " 'show_config',\n",
       " 'sign',\n",
       " 'signbit',\n",
       " 'signedinteger',\n",
       " 'sin',\n",
       " 'sinc',\n",
       " 'single',\n",
       " 'singlecomplex',\n",
       " 'sinh',\n",
       " 'size',\n",
       " 'sometrue',\n",
       " 'sort',\n",
       " 'sort_complex',\n",
       " 'source',\n",
       " 'spacing',\n",
       " 'split',\n",
       " 'sqrt',\n",
       " 'square',\n",
       " 'squeeze',\n",
       " 'stack',\n",
       " 'std',\n",
       " 'str0',\n",
       " 'str_',\n",
       " 'string_',\n",
       " 'subtract',\n",
       " 'sum',\n",
       " 'swapaxes',\n",
       " 'sys',\n",
       " 'take',\n",
       " 'take_along_axis',\n",
       " 'tan',\n",
       " 'tanh',\n",
       " 'tensordot',\n",
       " 'test',\n",
       " 'testing',\n",
       " 'tile',\n",
       " 'timedelta64',\n",
       " 'trace',\n",
       " 'tracemalloc_domain',\n",
       " 'transpose',\n",
       " 'trapz',\n",
       " 'tri',\n",
       " 'tril',\n",
       " 'tril_indices',\n",
       " 'tril_indices_from',\n",
       " 'trim_zeros',\n",
       " 'triu',\n",
       " 'triu_indices',\n",
       " 'triu_indices_from',\n",
       " 'true_divide',\n",
       " 'trunc',\n",
       " 'typecodes',\n",
       " 'typename',\n",
       " 'ubyte',\n",
       " 'ufunc',\n",
       " 'uint',\n",
       " 'uint0',\n",
       " 'uint16',\n",
       " 'uint32',\n",
       " 'uint64',\n",
       " 'uint8',\n",
       " 'uintc',\n",
       " 'uintp',\n",
       " 'ulonglong',\n",
       " 'unicode_',\n",
       " 'union1d',\n",
       " 'unique',\n",
       " 'unpackbits',\n",
       " 'unravel_index',\n",
       " 'unsignedinteger',\n",
       " 'unwrap',\n",
       " 'use_hugepage',\n",
       " 'ushort',\n",
       " 'vander',\n",
       " 'var',\n",
       " 'vdot',\n",
       " 'vectorize',\n",
       " 'version',\n",
       " 'void',\n",
       " 'void0',\n",
       " 'vsplit',\n",
       " 'vstack',\n",
       " 'warnings',\n",
       " 'where',\n",
       " 'who',\n",
       " 'zeros',\n",
       " 'zeros_like']"
      ]
     },
     "execution_count": 15,
     "metadata": {},
     "output_type": "execute_result"
    }
   ],
   "source": [
    "# import된 라이브러리(패키지) 내용을 살펴보는 경우 \n",
    "\n",
    "dir(np)"
   ]
  },
  {
   "cell_type": "code",
   "execution_count": 16,
   "id": "0101ff1c",
   "metadata": {},
   "outputs": [],
   "source": [
    "# 3. 모듈을 로드 한 뒤 함수명만을 사용하여 함수를 사용\n",
    "#  from 모듈명 import 함수명 \n",
    "# 모듈의 크기가 큰 경우에 사용할 함수만 지정하는 경우\n",
    "from math import asin"
   ]
  },
  {
   "cell_type": "code",
   "execution_count": 17,
   "id": "cb6a024a",
   "metadata": {},
   "outputs": [],
   "source": [
    "# from 모듈명 import 뒤에 * 을 입력 : 그 모듈에 내포된 모든 함수를 로드하여 별다른 수식 없이 함수를 모두 사용 가능\n",
    "from math import* "
   ]
  },
  {
   "cell_type": "code",
   "execution_count": null,
   "id": "3ab109d1",
   "metadata": {},
   "outputs": [],
   "source": []
  },
  {
   "cell_type": "markdown",
   "id": "5d0c1ac3",
   "metadata": {},
   "source": [
    "## 사칙연산 연산자"
   ]
  },
  {
   "cell_type": "code",
   "execution_count": 18,
   "id": "fe33b482",
   "metadata": {},
   "outputs": [],
   "source": [
    "# 기본\n",
    "#  +, - , * , /"
   ]
  },
  {
   "cell_type": "code",
   "execution_count": 19,
   "id": "b3c6ba75",
   "metadata": {},
   "outputs": [
    {
     "data": {
      "text/plain": [
       "3"
      ]
     },
     "execution_count": 19,
     "metadata": {},
     "output_type": "execute_result"
    }
   ],
   "source": [
    "# 덧셈\n",
    "1+2"
   ]
  },
  {
   "cell_type": "code",
   "execution_count": 20,
   "id": "73a87417",
   "metadata": {},
   "outputs": [
    {
     "data": {
      "text/plain": [
       "2"
      ]
     },
     "execution_count": 20,
     "metadata": {},
     "output_type": "execute_result"
    }
   ],
   "source": [
    "# 뺄셈\n",
    "5-3"
   ]
  },
  {
   "cell_type": "code",
   "execution_count": 21,
   "id": "5aa0e0b4",
   "metadata": {},
   "outputs": [
    {
     "data": {
      "text/plain": [
       "2"
      ]
     },
     "execution_count": 21,
     "metadata": {},
     "output_type": "execute_result"
    }
   ],
   "source": [
    "# 순서에서 아랫쪽\n",
    "1+2\n",
    "5-3"
   ]
  },
  {
   "cell_type": "code",
   "execution_count": 22,
   "id": "e7168b03",
   "metadata": {},
   "outputs": [
    {
     "data": {
      "text/plain": [
       "15"
      ]
     },
     "execution_count": 22,
     "metadata": {},
     "output_type": "execute_result"
    }
   ],
   "source": [
    "# 곱셈\n",
    "5*3"
   ]
  },
  {
   "cell_type": "code",
   "execution_count": 23,
   "id": "ca36a569",
   "metadata": {},
   "outputs": [
    {
     "data": {
      "text/plain": [
       "2.0"
      ]
     },
     "execution_count": 23,
     "metadata": {},
     "output_type": "execute_result"
    }
   ],
   "source": [
    "# 나눗셈\n",
    "6/3"
   ]
  },
  {
   "cell_type": "code",
   "execution_count": 24,
   "id": "a1b6f317",
   "metadata": {},
   "outputs": [
    {
     "data": {
      "text/plain": [
       "25"
      ]
     },
     "execution_count": 24,
     "metadata": {},
     "output_type": "execute_result"
    }
   ],
   "source": [
    "# 거듭제곱\n",
    "5**2"
   ]
  },
  {
   "cell_type": "code",
   "execution_count": 25,
   "id": "f62fdb09",
   "metadata": {},
   "outputs": [
    {
     "data": {
      "text/plain": [
       "88817841970012523233890533447265625"
      ]
     },
     "execution_count": 25,
     "metadata": {},
     "output_type": "execute_result"
    }
   ],
   "source": [
    "5**50"
   ]
  },
  {
   "cell_type": "code",
   "execution_count": 26,
   "id": "47823516",
   "metadata": {},
   "outputs": [
    {
     "data": {
      "text/plain": [
       "3.5"
      ]
     },
     "execution_count": 26,
     "metadata": {},
     "output_type": "execute_result"
    }
   ],
   "source": [
    "7/2"
   ]
  },
  {
   "cell_type": "code",
   "execution_count": 27,
   "id": "4f24db94",
   "metadata": {},
   "outputs": [
    {
     "data": {
      "text/plain": [
       "3"
      ]
     },
     "execution_count": 27,
     "metadata": {},
     "output_type": "execute_result"
    }
   ],
   "source": [
    "# //  : 나눗셈에서 몫만 \n",
    "7//2"
   ]
  },
  {
   "cell_type": "code",
   "execution_count": 28,
   "id": "d9ef53cb",
   "metadata": {},
   "outputs": [
    {
     "data": {
      "text/plain": [
       "1"
      ]
     },
     "execution_count": 28,
     "metadata": {},
     "output_type": "execute_result"
    }
   ],
   "source": [
    "# % : 나누기 연산 후 몫이 아닌 나머지를 구함\n",
    "7%2"
   ]
  },
  {
   "cell_type": "code",
   "execution_count": 29,
   "id": "4d1214d3",
   "metadata": {},
   "outputs": [],
   "source": [
    "#파이썬에서도 일반 수학의 연산 순서를 따른다. \n",
    "#곱셈과 나눗셈이 덧셈이나 뺄셈보다 먼저 연산\n",
    "# 괄호가 있으면 괄호안을 먼저 계산한다. "
   ]
  },
  {
   "cell_type": "code",
   "execution_count": 30,
   "id": "115da4e5",
   "metadata": {},
   "outputs": [
    {
     "data": {
      "text/plain": [
       "8"
      ]
     },
     "execution_count": 30,
     "metadata": {},
     "output_type": "execute_result"
    }
   ],
   "source": [
    "2+3*2"
   ]
  },
  {
   "cell_type": "code",
   "execution_count": 31,
   "id": "1d8711fe",
   "metadata": {},
   "outputs": [
    {
     "data": {
      "text/plain": [
       "13.0"
      ]
     },
     "execution_count": 31,
     "metadata": {},
     "output_type": "execute_result"
    }
   ],
   "source": [
    "10+6/2"
   ]
  },
  {
   "cell_type": "code",
   "execution_count": 32,
   "id": "a0cf137b",
   "metadata": {},
   "outputs": [
    {
     "data": {
      "text/plain": [
       "2"
      ]
     },
     "execution_count": 32,
     "metadata": {},
     "output_type": "execute_result"
    }
   ],
   "source": [
    "10-(3*3-1)"
   ]
  },
  {
   "cell_type": "code",
   "execution_count": 33,
   "id": "cf0f3ee6",
   "metadata": {},
   "outputs": [],
   "source": [
    "##부등식의 참과 거짓 계산¶True, False\n",
    "## 파이썬은 참과 거짓을 계산하는 부등식 연산도 가능"
   ]
  },
  {
   "cell_type": "code",
   "execution_count": 34,
   "id": "6ee94d65",
   "metadata": {},
   "outputs": [],
   "source": [
    "# 부등호 기호 : >  , <  "
   ]
  },
  {
   "cell_type": "code",
   "execution_count": 35,
   "id": "a3e58f36",
   "metadata": {},
   "outputs": [
    {
     "data": {
      "text/plain": [
       "True"
      ]
     },
     "execution_count": 35,
     "metadata": {},
     "output_type": "execute_result"
    }
   ],
   "source": [
    "3 > 1"
   ]
  },
  {
   "cell_type": "code",
   "execution_count": 36,
   "id": "69a8accf",
   "metadata": {},
   "outputs": [
    {
     "data": {
      "text/plain": [
       "False"
      ]
     },
     "execution_count": 36,
     "metadata": {},
     "output_type": "execute_result"
    }
   ],
   "source": [
    "3 < 1"
   ]
  },
  {
   "cell_type": "code",
   "execution_count": 37,
   "id": "8df1300a",
   "metadata": {},
   "outputs": [],
   "source": [
    "# 등호 기호 :  ==\n",
    "# = 한번만 표시하면 변수설정으로 인식"
   ]
  },
  {
   "cell_type": "code",
   "execution_count": 38,
   "id": "77291a7b",
   "metadata": {},
   "outputs": [
    {
     "data": {
      "text/plain": [
       "True"
      ]
     },
     "execution_count": 38,
     "metadata": {},
     "output_type": "execute_result"
    }
   ],
   "source": [
    "2 == 2"
   ]
  },
  {
   "cell_type": "code",
   "execution_count": 39,
   "id": "0ed4900b",
   "metadata": {},
   "outputs": [],
   "source": [
    "# 같지 않다. !="
   ]
  },
  {
   "cell_type": "code",
   "execution_count": 40,
   "id": "2d72aa2c",
   "metadata": {},
   "outputs": [
    {
     "data": {
      "text/plain": [
       "False"
      ]
     },
     "execution_count": 40,
     "metadata": {},
     "output_type": "execute_result"
    }
   ],
   "source": [
    "2 != 2 "
   ]
  },
  {
   "cell_type": "code",
   "execution_count": 41,
   "id": "d9a92be0",
   "metadata": {},
   "outputs": [
    {
     "data": {
      "text/plain": [
       "True"
      ]
     },
     "execution_count": 41,
     "metadata": {},
     "output_type": "execute_result"
    }
   ],
   "source": [
    "2 != 3 "
   ]
  },
  {
   "cell_type": "code",
   "execution_count": 42,
   "id": "fe1000fe",
   "metadata": {},
   "outputs": [
    {
     "data": {
      "text/plain": [
       "True"
      ]
     },
     "execution_count": 42,
     "metadata": {},
     "output_type": "execute_result"
    }
   ],
   "source": [
    "#2는 3보다 작거나 같다\n",
    "2 <= 3"
   ]
  },
  {
   "cell_type": "code",
   "execution_count": 43,
   "id": "a355557f",
   "metadata": {},
   "outputs": [
    {
     "data": {
      "text/plain": [
       "False"
      ]
     },
     "execution_count": 43,
     "metadata": {},
     "output_type": "execute_result"
    }
   ],
   "source": [
    "#2는 3보다 크거나 같다\n",
    "2>=3"
   ]
  },
  {
   "cell_type": "code",
   "execution_count": null,
   "id": "1ac1f869",
   "metadata": {},
   "outputs": [],
   "source": []
  },
  {
   "cell_type": "markdown",
   "id": "4c71a29d",
   "metadata": {},
   "source": [
    "## 변수 설정\n"
   ]
  },
  {
   "cell_type": "code",
   "execution_count": 44,
   "id": "ce910169",
   "metadata": {},
   "outputs": [],
   "source": [
    "#일상생활에서 복잡한 값을 프로그램을 작성할 때 의미가 있는 값을 저장하거니, 해당 값들을 가리키는 역할을 하는 것."
   ]
  },
  {
   "cell_type": "markdown",
   "id": "5a50cca6",
   "metadata": {},
   "source": [
    "### 변수 설정 방법"
   ]
  },
  {
   "cell_type": "code",
   "execution_count": 45,
   "id": "7fa28cb5",
   "metadata": {},
   "outputs": [],
   "source": [
    "# 변수명 입력하고 다음에 등호(=) 다음에 데이터 입력\n",
    "# 등호 표시(=) 파이썬에서는 바인딩(binding)을 의미 --. 가리키는 것’의미"
   ]
  },
  {
   "cell_type": "code",
   "execution_count": 46,
   "id": "3893ad8a",
   "metadata": {},
   "outputs": [
    {
     "data": {
      "text/plain": [
       "5"
      ]
     },
     "execution_count": 46,
     "metadata": {},
     "output_type": "execute_result"
    }
   ],
   "source": [
    "ABC=5\n",
    "ABC"
   ]
  },
  {
   "cell_type": "markdown",
   "id": "041230b6",
   "metadata": {},
   "source": [
    "### 변수 명 설정시 주의 사항"
   ]
  },
  {
   "cell_type": "code",
   "execution_count": 47,
   "id": "56ced89f",
   "metadata": {},
   "outputs": [],
   "source": [
    "# 다음의 경우 변숨\n",
    "# 1. 변수명 첫글자는 영어또는 언더스코어(_)로 시작 \n",
    "# 2. 숫자로 시작하는 변수명 사용 불가\n",
    "# 3. 변수명에 공백이 있는 경우 사용 불가 : 금융 정보학과= '최고'\n",
    "# 4. 기호로 시작하는 변수명 사용 불가\n",
    "# 5. 키워드(예약어)는 변수명으로 사용 불가"
   ]
  },
  {
   "cell_type": "code",
   "execution_count": 48,
   "id": "637f4293",
   "metadata": {},
   "outputs": [],
   "source": [
    "#대소문자 구분"
   ]
  },
  {
   "cell_type": "code",
   "execution_count": 49,
   "id": "be963340",
   "metadata": {},
   "outputs": [
    {
     "data": {
      "text/plain": [
       "5"
      ]
     },
     "execution_count": 49,
     "metadata": {},
     "output_type": "execute_result"
    }
   ],
   "source": [
    "ABC=5\n",
    "ABC"
   ]
  },
  {
   "cell_type": "code",
   "execution_count": 50,
   "id": "f6f97470",
   "metadata": {},
   "outputs": [
    {
     "ename": "NameError",
     "evalue": "name 'abc' is not defined",
     "output_type": "error",
     "traceback": [
      "\u001b[1;31m---------------------------------------------------------------------------\u001b[0m",
      "\u001b[1;31mNameError\u001b[0m                                 Traceback (most recent call last)",
      "\u001b[1;32m~\\AppData\\Local\\Temp/ipykernel_22564/3350977461.py\u001b[0m in \u001b[0;36m<module>\u001b[1;34m\u001b[0m\n\u001b[1;32m----> 1\u001b[1;33m \u001b[0mabc\u001b[0m\u001b[1;33m\u001b[0m\u001b[1;33m\u001b[0m\u001b[0m\n\u001b[0m",
      "\u001b[1;31mNameError\u001b[0m: name 'abc' is not defined"
     ]
    }
   ],
   "source": [
    "# 대소문자가 다르게 지정되면 오류 발생\n",
    "abc"
   ]
  },
  {
   "cell_type": "code",
   "execution_count": 51,
   "id": "79f49980",
   "metadata": {},
   "outputs": [],
   "source": [
    "# 여러개 변수를 한꺼번에 설정"
   ]
  },
  {
   "cell_type": "code",
   "execution_count": 52,
   "id": "0d5fe718",
   "metadata": {},
   "outputs": [],
   "source": [
    "# 변수명 사이에 쉼표('')= 숫자 사이에 쉼표('')를 해준다.\n",
    "a,b,c=3,5,6"
   ]
  },
  {
   "cell_type": "code",
   "execution_count": 53,
   "id": "c21afe7b",
   "metadata": {},
   "outputs": [
    {
     "data": {
      "text/plain": [
       "3"
      ]
     },
     "execution_count": 53,
     "metadata": {},
     "output_type": "execute_result"
    }
   ],
   "source": [
    "a"
   ]
  },
  {
   "cell_type": "code",
   "execution_count": 54,
   "id": "273d0c63",
   "metadata": {},
   "outputs": [
    {
     "data": {
      "text/plain": [
       "5"
      ]
     },
     "execution_count": 54,
     "metadata": {},
     "output_type": "execute_result"
    }
   ],
   "source": [
    "b"
   ]
  },
  {
   "cell_type": "code",
   "execution_count": 55,
   "id": "5949ffd0",
   "metadata": {},
   "outputs": [
    {
     "data": {
      "text/plain": [
       "6"
      ]
     },
     "execution_count": 55,
     "metadata": {},
     "output_type": "execute_result"
    }
   ],
   "source": [
    "c"
   ]
  },
  {
   "cell_type": "code",
   "execution_count": 56,
   "id": "f77d3fcc",
   "metadata": {},
   "outputs": [],
   "source": [
    "# 문자인 경우 따옴표로 \n",
    "# 변수명 사이에 쉼표('')= 숫자 사이에 쉼표('')를 해준다."
   ]
  },
  {
   "cell_type": "code",
   "execution_count": 57,
   "id": "628052be",
   "metadata": {},
   "outputs": [],
   "source": [
    "x=\"한국거래소\""
   ]
  },
  {
   "cell_type": "code",
   "execution_count": 58,
   "id": "bb2ce860",
   "metadata": {},
   "outputs": [
    {
     "data": {
      "text/plain": [
       "'한국거래소'"
      ]
     },
     "execution_count": 58,
     "metadata": {},
     "output_type": "execute_result"
    }
   ],
   "source": [
    "x"
   ]
  },
  {
   "cell_type": "code",
   "execution_count": 59,
   "id": "60d8953c",
   "metadata": {},
   "outputs": [],
   "source": [
    "# 변수명 사이에 쉼표('')= 숫자 사이에 쉼표('')를 해준다.\n",
    "x,y,z=3,5,6"
   ]
  },
  {
   "cell_type": "code",
   "execution_count": 60,
   "id": "32b190e7",
   "metadata": {},
   "outputs": [
    {
     "data": {
      "text/plain": [
       "3"
      ]
     },
     "execution_count": 60,
     "metadata": {},
     "output_type": "execute_result"
    }
   ],
   "source": [
    "x"
   ]
  },
  {
   "cell_type": "code",
   "execution_count": 61,
   "id": "dc8c760d",
   "metadata": {},
   "outputs": [
    {
     "data": {
      "text/plain": [
       "5"
      ]
     },
     "execution_count": 61,
     "metadata": {},
     "output_type": "execute_result"
    }
   ],
   "source": [
    "y"
   ]
  },
  {
   "cell_type": "code",
   "execution_count": 62,
   "id": "afe4bc0e",
   "metadata": {},
   "outputs": [
    {
     "data": {
      "text/plain": [
       "6"
      ]
     },
     "execution_count": 62,
     "metadata": {},
     "output_type": "execute_result"
    }
   ],
   "source": [
    "z"
   ]
  },
  {
   "cell_type": "code",
   "execution_count": 63,
   "id": "2dedaaf7",
   "metadata": {},
   "outputs": [],
   "source": [
    "# 변수명이 중복되면 나중에 변수명으로 인식"
   ]
  },
  {
   "cell_type": "code",
   "execution_count": 64,
   "id": "52cfecea",
   "metadata": {},
   "outputs": [
    {
     "data": {
      "text/plain": [
       "3"
      ]
     },
     "execution_count": 64,
     "metadata": {},
     "output_type": "execute_result"
    }
   ],
   "source": [
    "a=3\n",
    "a"
   ]
  },
  {
   "cell_type": "code",
   "execution_count": 65,
   "id": "6674b1f4",
   "metadata": {},
   "outputs": [
    {
     "data": {
      "text/plain": [
       "10"
      ]
     },
     "execution_count": 65,
     "metadata": {},
     "output_type": "execute_result"
    }
   ],
   "source": [
    "# 위와 동일하게 변수명을 a 로  명명하면 a에 담아 있던 3을 사라지고 새롭게 입력된 데이터를 인식한다.\n",
    "a=10\n",
    "a"
   ]
  },
  {
   "cell_type": "code",
   "execution_count": 66,
   "id": "190be9ff",
   "metadata": {},
   "outputs": [],
   "source": [
    "# 변수명을 지정하여 사칙연산"
   ]
  },
  {
   "cell_type": "code",
   "execution_count": 67,
   "id": "8c1a3964",
   "metadata": {},
   "outputs": [],
   "source": [
    "# 사칙연산\n",
    "# + , -, * , /"
   ]
  },
  {
   "cell_type": "code",
   "execution_count": 68,
   "id": "a4bbf657",
   "metadata": {},
   "outputs": [
    {
     "data": {
      "text/plain": [
       "10100"
      ]
     },
     "execution_count": 68,
     "metadata": {},
     "output_type": "execute_result"
    }
   ],
   "source": [
    "# 정숫값(Integer) 중 자주 사용할 것 같은 범위의 정숫값은 메모리에 한 번만 올려두고 \n",
    "# 이를 여러 변수가 가리키게 함으로써 메모리를 효과적으로 사용\n",
    "x = 10000\n",
    "y = 100\n",
    "x+y"
   ]
  },
  {
   "cell_type": "code",
   "execution_count": 69,
   "id": "97bb73e6",
   "metadata": {},
   "outputs": [],
   "source": [
    "naver = 100"
   ]
  },
  {
   "cell_type": "code",
   "execution_count": 70,
   "id": "77194dd1",
   "metadata": {},
   "outputs": [
    {
     "data": {
      "text/plain": [
       "1000"
      ]
     },
     "execution_count": 70,
     "metadata": {},
     "output_type": "execute_result"
    }
   ],
   "source": [
    "naver*10"
   ]
  },
  {
   "cell_type": "code",
   "execution_count": null,
   "id": "b9ea104d",
   "metadata": {},
   "outputs": [],
   "source": []
  },
  {
   "cell_type": "markdown",
   "id": "059c021e",
   "metadata": {},
   "source": [
    "## print 하기"
   ]
  },
  {
   "cell_type": "code",
   "execution_count": 71,
   "id": "14ec4765",
   "metadata": {},
   "outputs": [
    {
     "name": "stdout",
     "output_type": "stream",
     "text": [
      "Hello Python!\n"
     ]
    }
   ],
   "source": [
    "##자열을 출력 : 따옴표 필요--> 큰따옴표, 작은따옴표 모두 가능 \n",
    "print('Hello Python!')"
   ]
  },
  {
   "cell_type": "code",
   "execution_count": 72,
   "id": "ef8bc84d",
   "metadata": {},
   "outputs": [
    {
     "name": "stdout",
     "output_type": "stream",
     "text": [
      "한국'국립대학교'서울대학교\n"
     ]
    }
   ],
   "source": [
    "print(\"한국'국립대학교'서울대학교\")"
   ]
  },
  {
   "cell_type": "code",
   "execution_count": 73,
   "id": "2b99ed2e",
   "metadata": {},
   "outputs": [
    {
     "name": "stdout",
     "output_type": "stream",
     "text": [
      "1\n"
     ]
    }
   ],
   "source": [
    "# 숫자를 출력\n",
    "print(1)"
   ]
  },
  {
   "cell_type": "code",
   "execution_count": 74,
   "id": "eeca0843",
   "metadata": {},
   "outputs": [
    {
     "name": "stdout",
     "output_type": "stream",
     "text": [
      "123\n"
     ]
    }
   ],
   "source": [
    "print(123)"
   ]
  },
  {
   "cell_type": "code",
   "execution_count": 75,
   "id": "15465f3b",
   "metadata": {},
   "outputs": [
    {
     "name": "stdout",
     "output_type": "stream",
     "text": [
      "[1, 2, 3]\n"
     ]
    }
   ],
   "source": [
    "print([1, 2, 3])"
   ]
  },
  {
   "cell_type": "markdown",
   "id": "af0e98ef",
   "metadata": {},
   "source": [
    "## 키워드(Keyword, 예약어)"
   ]
  },
  {
   "cell_type": "code",
   "execution_count": 76,
   "id": "b6d41ff6",
   "metadata": {},
   "outputs": [
    {
     "name": "stdout",
     "output_type": "stream",
     "text": [
      "['False', 'None', 'True', '__peg_parser__', 'and', 'as', 'assert', 'async', 'await', 'break', 'class', 'continue', 'def', 'del', 'elif', 'else', 'except', 'finally', 'for', 'from', 'global', 'if', 'import', 'in', 'is', 'lambda', 'nonlocal', 'not', 'or', 'pass', 'raise', 'return', 'try', 'while', 'with', 'yield']\n"
     ]
    }
   ],
   "source": [
    "# 이미 예약어로 사용하고 있는 경우이므로 변수로 설정해서는 안 됨\n",
    "\n",
    "import keyword\n",
    "print(keyword.kwlist)"
   ]
  },
  {
   "cell_type": "markdown",
   "id": "ffe2a34a",
   "metadata": {},
   "source": [
    "### 작업 저장하기 "
   ]
  },
  {
   "cell_type": "code",
   "execution_count": 77,
   "id": "ff9c698b",
   "metadata": {},
   "outputs": [],
   "source": [
    "# 저장하기 위하여는 사전에 별도 폴더에 만들어 두고 저장하기\n",
    "# 확장자 : 파이썬 파일 .py  ,  주피터노트북을 사용하는 경우  .ipynb\n",
    "# 주피터 노트북 작성 파일 확장자 변경 : File --> Download as --> Python(.py)"
   ]
  },
  {
   "cell_type": "code",
   "execution_count": null,
   "id": "cb60d37e",
   "metadata": {},
   "outputs": [],
   "source": []
  }
 ],
 "metadata": {
  "kernelspec": {
   "display_name": "Python 3 (ipykernel)",
   "language": "python",
   "name": "python3"
  },
  "language_info": {
   "codemirror_mode": {
    "name": "ipython",
    "version": 3
   },
   "file_extension": ".py",
   "mimetype": "text/x-python",
   "name": "python",
   "nbconvert_exporter": "python",
   "pygments_lexer": "ipython3",
   "version": "3.9.6"
  },
  "toc": {
   "base_numbering": 1,
   "nav_menu": {},
   "number_sections": true,
   "sideBar": true,
   "skip_h1_title": false,
   "title_cell": "Table of Contents",
   "title_sidebar": "Contents",
   "toc_cell": false,
   "toc_position": {},
   "toc_section_display": true,
   "toc_window_display": false
  }
 },
 "nbformat": 4,
 "nbformat_minor": 5
}
