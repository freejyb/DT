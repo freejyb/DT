{
 "cells": [
  {
   "cell_type": "markdown",
   "id": "4389f390",
   "metadata": {},
   "source": [
    "## 변수 설정\n",
    "#일상생활에서 복잡한 값을 프로그램을 작성할 때 의미가 있는 값을 저장하거니, 해당 값들을 가리키는 역할을 하는 것."
   ]
  },
  {
   "cell_type": "markdown",
   "id": "382aeab5",
   "metadata": {},
   "source": [
    "1. 변수 설정 방법"
   ]
  },
  {
   "cell_type": "code",
   "execution_count": null,
   "id": "106d8ef4",
   "metadata": {},
   "outputs": [],
   "source": [
    "# 변수명 입력하고 다음에 등호(=) 다음에 데이터 입력\n",
    "# 등호 표시(=) 파이썬에서는 바인딩(binding)을 의미 --. 가리키는 것’의미"
   ]
  },
  {
   "cell_type": "markdown",
   "id": "79ddf68e",
   "metadata": {},
   "source": [
    "2. 변수 명 설정시 불가 사항"
   ]
  },
  {
   "cell_type": "code",
   "execution_count": null,
   "id": "5a9c3c45",
   "metadata": {},
   "outputs": [],
   "source": []
  },
  {
   "cell_type": "markdown",
   "id": "8ff84727",
   "metadata": {},
   "source": [
    "3. 변수 명 설정시 주의 사항"
   ]
  },
  {
   "cell_type": "code",
   "execution_count": null,
   "id": "6ddeea3e",
   "metadata": {},
   "outputs": [],
   "source": [
    "## 다음의 경우 변숨\n",
    "# 1. 변수명 첫글자는 영어또는 언더스코어(_)로 시작 \n",
    "# 2. 숫자로 시작하는 변수명 사용 불가\n",
    "# 3. 변수명에 공백이 있는 경우 사용 불가 : 금융 정보학과= '최고'\n",
    "# 4. 기호로 시작하는 변수명 사용 불가\n",
    "# 5. 키워드(예약어)는 변수명으로 사용 불가"
   ]
  },
  {
   "cell_type": "markdown",
   "id": "3683ae75",
   "metadata": {},
   "source": [
    "#### 1) 대소문자 구분"
   ]
  },
  {
   "cell_type": "code",
   "execution_count": 5,
   "id": "b42c548b",
   "metadata": {},
   "outputs": [
    {
     "data": {
      "text/plain": [
       "5"
      ]
     },
     "execution_count": 5,
     "metadata": {},
     "output_type": "execute_result"
    }
   ],
   "source": [
    "ABC=5\n",
    "ABC"
   ]
  },
  {
   "cell_type": "code",
   "execution_count": null,
   "id": "22442d8c",
   "metadata": {},
   "outputs": [],
   "source": []
  },
  {
   "cell_type": "code",
   "execution_count": 6,
   "id": "91f2f5a6",
   "metadata": {},
   "outputs": [
    {
     "ename": "NameError",
     "evalue": "name 'abc' is not defined",
     "output_type": "error",
     "traceback": [
      "\u001b[1;31m---------------------------------------------------------------------------\u001b[0m",
      "\u001b[1;31mNameError\u001b[0m                                 Traceback (most recent call last)",
      "\u001b[1;32m~\\AppData\\Local\\Temp/ipykernel_13140/3350977461.py\u001b[0m in \u001b[0;36m<module>\u001b[1;34m\u001b[0m\n\u001b[1;32m----> 1\u001b[1;33m \u001b[0mabc\u001b[0m\u001b[1;33m\u001b[0m\u001b[1;33m\u001b[0m\u001b[0m\n\u001b[0m",
      "\u001b[1;31mNameError\u001b[0m: name 'abc' is not defined"
     ]
    }
   ],
   "source": [
    "abc"
   ]
  },
  {
   "cell_type": "markdown",
   "id": "a50526a1",
   "metadata": {},
   "source": [
    "#### 2) 여러개 변수를 한꺼번에 설정"
   ]
  },
  {
   "cell_type": "code",
   "execution_count": 1,
   "id": "386f3dd7",
   "metadata": {},
   "outputs": [],
   "source": [
    "# 변수명 사이에 쉼표('')= 숫자 사이에 쉼표('')를 해준다.\n",
    "a,b,c=3,5,6"
   ]
  },
  {
   "cell_type": "code",
   "execution_count": 4,
   "id": "18993a31",
   "metadata": {},
   "outputs": [
    {
     "data": {
      "text/plain": [
       "3"
      ]
     },
     "execution_count": 4,
     "metadata": {},
     "output_type": "execute_result"
    }
   ],
   "source": [
    "a"
   ]
  },
  {
   "cell_type": "code",
   "execution_count": 5,
   "id": "b89dbfb5",
   "metadata": {},
   "outputs": [
    {
     "data": {
      "text/plain": [
       "5"
      ]
     },
     "execution_count": 5,
     "metadata": {},
     "output_type": "execute_result"
    }
   ],
   "source": [
    "b"
   ]
  },
  {
   "cell_type": "code",
   "execution_count": 6,
   "id": "37bcdd42",
   "metadata": {},
   "outputs": [
    {
     "data": {
      "text/plain": [
       "6"
      ]
     },
     "execution_count": 6,
     "metadata": {},
     "output_type": "execute_result"
    }
   ],
   "source": [
    "c"
   ]
  },
  {
   "cell_type": "code",
   "execution_count": 3,
   "id": "a57850b5",
   "metadata": {},
   "outputs": [],
   "source": [
    "x=\"한국거래소\""
   ]
  },
  {
   "cell_type": "code",
   "execution_count": 4,
   "id": "6554dddd",
   "metadata": {},
   "outputs": [
    {
     "data": {
      "text/plain": [
       "'한국거래소'"
      ]
     },
     "execution_count": 4,
     "metadata": {},
     "output_type": "execute_result"
    }
   ],
   "source": [
    "x"
   ]
  },
  {
   "cell_type": "code",
   "execution_count": 8,
   "id": "f72b2344",
   "metadata": {},
   "outputs": [],
   "source": [
    "# 문자는 따옴표 \"\" 하고 쉼표(,) 해준다.\n",
    "x,y,z =\"한국거래소\",\"유가증권시장\",\"안산대학교\""
   ]
  },
  {
   "cell_type": "code",
   "execution_count": 9,
   "id": "747c3f45",
   "metadata": {},
   "outputs": [
    {
     "data": {
      "text/plain": [
       "'한국거래소'"
      ]
     },
     "execution_count": 9,
     "metadata": {},
     "output_type": "execute_result"
    }
   ],
   "source": [
    "x"
   ]
  },
  {
   "cell_type": "code",
   "execution_count": 10,
   "id": "7eb8fb33",
   "metadata": {},
   "outputs": [
    {
     "data": {
      "text/plain": [
       "'유가증권시장'"
      ]
     },
     "execution_count": 10,
     "metadata": {},
     "output_type": "execute_result"
    }
   ],
   "source": [
    "y"
   ]
  },
  {
   "cell_type": "code",
   "execution_count": 11,
   "id": "7b255887",
   "metadata": {},
   "outputs": [
    {
     "data": {
      "text/plain": [
       "'안산대학교'"
      ]
     },
     "execution_count": 11,
     "metadata": {},
     "output_type": "execute_result"
    }
   ],
   "source": [
    "z"
   ]
  },
  {
   "cell_type": "markdown",
   "id": "463198a4",
   "metadata": {},
   "source": [
    "#### 3) 변수명이 중복되면 나중에 변수명으로 인식"
   ]
  },
  {
   "cell_type": "code",
   "execution_count": 13,
   "id": "05f88489",
   "metadata": {},
   "outputs": [
    {
     "data": {
      "text/plain": [
       "3"
      ]
     },
     "execution_count": 13,
     "metadata": {},
     "output_type": "execute_result"
    }
   ],
   "source": [
    "a=3\n",
    "a"
   ]
  },
  {
   "cell_type": "code",
   "execution_count": 14,
   "id": "136bfa67",
   "metadata": {},
   "outputs": [
    {
     "data": {
      "text/plain": [
       "10"
      ]
     },
     "execution_count": 14,
     "metadata": {},
     "output_type": "execute_result"
    }
   ],
   "source": [
    "# 위와 동일하게 변수명을 a 로  명명하면 a에 담아 있던 3을 사라지고 새롭게 입력된 데이터를 인식한다.\n",
    "a=10\n",
    "a"
   ]
  },
  {
   "cell_type": "markdown",
   "id": "8f52f480",
   "metadata": {},
   "source": [
    "#### 4) 변수명을 지정하여 사칙연산"
   ]
  },
  {
   "cell_type": "code",
   "execution_count": 1,
   "id": "57e49ab5",
   "metadata": {},
   "outputs": [],
   "source": [
    "naver = 100"
   ]
  },
  {
   "cell_type": "code",
   "execution_count": 2,
   "id": "4cd5e980",
   "metadata": {},
   "outputs": [
    {
     "data": {
      "text/plain": [
       "100"
      ]
     },
     "execution_count": 2,
     "metadata": {},
     "output_type": "execute_result"
    }
   ],
   "source": [
    "naver"
   ]
  },
  {
   "cell_type": "code",
   "execution_count": null,
   "id": "3388a93e",
   "metadata": {},
   "outputs": [],
   "source": [
    "# 사칙연산\n",
    "# + , -, * , /"
   ]
  },
  {
   "cell_type": "code",
   "execution_count": 4,
   "id": "b1f9277b",
   "metadata": {},
   "outputs": [
    {
     "data": {
      "text/plain": [
       "6"
      ]
     },
     "execution_count": 4,
     "metadata": {},
     "output_type": "execute_result"
    }
   ],
   "source": [
    "3+3"
   ]
  },
  {
   "cell_type": "code",
   "execution_count": 5,
   "id": "4943e4d5",
   "metadata": {},
   "outputs": [
    {
     "data": {
      "text/plain": [
       "9"
      ]
     },
     "execution_count": 5,
     "metadata": {},
     "output_type": "execute_result"
    }
   ],
   "source": [
    "3*3"
   ]
  },
  {
   "cell_type": "code",
   "execution_count": 6,
   "id": "73dd5816",
   "metadata": {},
   "outputs": [
    {
     "data": {
      "text/plain": [
       "1.0"
      ]
     },
     "execution_count": 6,
     "metadata": {},
     "output_type": "execute_result"
    }
   ],
   "source": [
    "3/3"
   ]
  },
  {
   "cell_type": "code",
   "execution_count": 3,
   "id": "c1cdf17f",
   "metadata": {},
   "outputs": [
    {
     "data": {
      "text/plain": [
       "1000"
      ]
     },
     "execution_count": 3,
     "metadata": {},
     "output_type": "execute_result"
    }
   ],
   "source": [
    "naver*10"
   ]
  },
  {
   "cell_type": "code",
   "execution_count": 1,
   "id": "a3429f87",
   "metadata": {},
   "outputs": [
    {
     "data": {
      "text/plain": [
       "10100"
      ]
     },
     "execution_count": 1,
     "metadata": {},
     "output_type": "execute_result"
    }
   ],
   "source": [
    "# 정숫값(Integer) 중 자주 사용할 것 같은 범위의 정숫값은 메모리에 한 번만 올려두고 \n",
    "# 이를 여러 변수가 가리키게 함으로써 메모리를 효과적으로 사용\n",
    "x = 10000\n",
    "y = 100\n",
    "x+y"
   ]
  },
  {
   "cell_type": "code",
   "execution_count": null,
   "id": "9ac2e97b",
   "metadata": {},
   "outputs": [],
   "source": []
  },
  {
   "cell_type": "markdown",
   "id": "5d66ce57",
   "metadata": {},
   "source": [
    "## 데이터 타입"
   ]
  },
  {
   "cell_type": "markdown",
   "id": "8ad9b262",
   "metadata": {},
   "source": [
    "### 1. 기본 자료형 \n",
    "#### :  통상적으로 정수(int), 실수(float), 문자열(str) , boolean\n",
    "#### int  : integer의 약자로서 정수\n",
    "#### float : 부동 소수점(실수) 의미\n",
    "#### str : string 약자로 문자열, 문자열은 따옴표 사용\n",
    "#### bool : boolean  식에 대하여 참과 거짓을 판단"
   ]
  },
  {
   "cell_type": "markdown",
   "id": "9308f14d",
   "metadata": {},
   "source": [
    "#### 1) 데이터 타입을 확인"
   ]
  },
  {
   "cell_type": "code",
   "execution_count": null,
   "id": "e2505960",
   "metadata": {},
   "outputs": [],
   "source": [
    "# type이라는 내장 함수 사용"
   ]
  },
  {
   "cell_type": "code",
   "execution_count": 36,
   "id": "244584d0",
   "metadata": {},
   "outputs": [
    {
     "data": {
      "text/plain": [
       "int"
      ]
     },
     "execution_count": 36,
     "metadata": {},
     "output_type": "execute_result"
    }
   ],
   "source": [
    "type(100)"
   ]
  },
  {
   "cell_type": "code",
   "execution_count": 38,
   "id": "dd00abb3",
   "metadata": {},
   "outputs": [
    {
     "data": {
      "text/plain": [
       "float"
      ]
     },
     "execution_count": 38,
     "metadata": {},
     "output_type": "execute_result"
    }
   ],
   "source": [
    "type(100.5)"
   ]
  },
  {
   "cell_type": "code",
   "execution_count": 37,
   "id": "96e54968",
   "metadata": {},
   "outputs": [
    {
     "data": {
      "text/plain": [
       "str"
      ]
     },
     "execution_count": 37,
     "metadata": {},
     "output_type": "execute_result"
    }
   ],
   "source": [
    "# 문자형은 따옴표로 ('') , (\"\")  작은따옴표, 큰 따옴표 불문\n",
    "type(\"안산대학교\")"
   ]
  },
  {
   "cell_type": "code",
   "execution_count": 1,
   "id": "5ab62444",
   "metadata": {},
   "outputs": [
    {
     "data": {
      "text/plain": [
       "str"
      ]
     },
     "execution_count": 1,
     "metadata": {},
     "output_type": "execute_result"
    }
   ],
   "source": [
    "#문자형\n",
    "a = \"안산대학교금융정보학과\"\n",
    "type(a)"
   ]
  },
  {
   "cell_type": "code",
   "execution_count": 17,
   "id": "936dd76b",
   "metadata": {},
   "outputs": [
    {
     "data": {
      "text/plain": [
       "True"
      ]
     },
     "execution_count": 17,
     "metadata": {},
     "output_type": "execute_result"
    }
   ],
   "source": [
    "# boolean  식에 대하여 참과 거짓을 판단\n",
    "x=5>2\n",
    "x"
   ]
  },
  {
   "cell_type": "code",
   "execution_count": 18,
   "id": "1ae8258a",
   "metadata": {},
   "outputs": [
    {
     "data": {
      "text/plain": [
       "False"
      ]
     },
     "execution_count": 18,
     "metadata": {},
     "output_type": "execute_result"
    }
   ],
   "source": [
    "# # boolean  식에 대하여 참과 거짓을 판단\n",
    "y=5<2\n",
    "y"
   ]
  },
  {
   "cell_type": "code",
   "execution_count": null,
   "id": "f3026873",
   "metadata": {},
   "outputs": [],
   "source": [
    "##문자열 따옴표를 출력하기¶\n",
    "#파이썬에서 두 가지 종류(큰, 작은)의  쓸 수 있는 것운 문자열이 따옴표를 포함하는 경우가 있기 때문이다. \n",
    "#만약 따옴표로 둘러싸인 문자열에 따옴표가 포함되어 있다면 파이썬은 그 부분에서 문자열이 끝난다고 인식하여 오류가 발생 \n",
    "# ==> 문자열 안에 따옴표는 필요한 경우 큰따옴표, 작은따옴표 따로 작성"
   ]
  },
  {
   "cell_type": "code",
   "execution_count": 13,
   "id": "d1c29cff",
   "metadata": {},
   "outputs": [
    {
     "name": "stdout",
     "output_type": "stream",
     "text": [
      "학교앞에서 누군가가  \"금융정보과 학생여러분! 화이팅하세요\" 라고 외치고 있었다\n"
     ]
    }
   ],
   "source": [
    "print('학교앞에서 누군가가  \"금융정보과 학생여러분! 화이팅하세요\" 라고 외치고 있었다')"
   ]
  },
  {
   "cell_type": "markdown",
   "id": "74debf24",
   "metadata": {},
   "source": [
    "#### 2) 문자열 치환"
   ]
  },
  {
   "cell_type": "code",
   "execution_count": null,
   "id": "8077df70",
   "metadata": {},
   "outputs": [],
   "source": [
    "# 문자열에서 특정 문자를 다른 문자로 바꾸려면 replace 메서드 사용"
   ]
  },
  {
   "cell_type": "code",
   "execution_count": 3,
   "id": "8a745747",
   "metadata": {},
   "outputs": [
    {
     "data": {
      "text/plain": [
       "'2021-10-17'"
      ]
     },
     "execution_count": 3,
     "metadata": {},
     "output_type": "execute_result"
    }
   ],
   "source": [
    "\"2021.10.17\".replace(\".\", \"-\")"
   ]
  },
  {
   "cell_type": "markdown",
   "id": "e49587ba",
   "metadata": {},
   "source": [
    "#### 3) 문자열의 길이 확인"
   ]
  },
  {
   "cell_type": "code",
   "execution_count": 4,
   "id": "523e8bf2",
   "metadata": {},
   "outputs": [
    {
     "data": {
      "text/plain": [
       "5"
      ]
     },
     "execution_count": 4,
     "metadata": {},
     "output_type": "execute_result"
    }
   ],
   "source": [
    "loc=\"ansan\"\n",
    "len(loc)"
   ]
  },
  {
   "cell_type": "markdown",
   "id": "6895d97d",
   "metadata": {},
   "source": [
    "#### 4) 문자 중 인덱스 찾기"
   ]
  },
  {
   "cell_type": "code",
   "execution_count": 5,
   "id": "85e6047a",
   "metadata": {},
   "outputs": [
    {
     "data": {
      "text/plain": [
       "'a'"
      ]
     },
     "execution_count": 5,
     "metadata": {},
     "output_type": "execute_result"
    }
   ],
   "source": [
    "## index[ ] \n",
    "#인덱스 2를 찾아보기\n",
    "loc=\"ansan\" \n",
    "loc[0]"
   ]
  },
  {
   "cell_type": "markdown",
   "id": "55972d91",
   "metadata": {},
   "source": [
    "#### 5) 문자 중 일부 잘라내기(slice)"
   ]
  },
  {
   "cell_type": "code",
   "execution_count": 20,
   "id": "2b79a1b9",
   "metadata": {},
   "outputs": [
    {
     "data": {
      "text/plain": [
       "'ansa'"
      ]
     },
     "execution_count": 20,
     "metadata": {},
     "output_type": "execute_result"
    }
   ],
   "source": [
    "## slice[:] \n",
    "loc=\"ansan\" \n",
    "loc[0:4]"
   ]
  },
  {
   "cell_type": "code",
   "execution_count": 14,
   "id": "e4a3033f",
   "metadata": {},
   "outputs": [
    {
     "data": {
      "text/plain": [
       "'nsa'"
      ]
     },
     "execution_count": 14,
     "metadata": {},
     "output_type": "execute_result"
    }
   ],
   "source": [
    "loc=\"ansan\" \n",
    "loc[1:4]"
   ]
  },
  {
   "cell_type": "code",
   "execution_count": 7,
   "id": "17775f18",
   "metadata": {},
   "outputs": [
    {
     "data": {
      "text/plain": [
       "'an'"
      ]
     },
     "execution_count": 7,
     "metadata": {},
     "output_type": "execute_result"
    }
   ],
   "source": [
    "## slice[:] \n",
    "loc=\"ansan\"\n",
    "loc[3:]"
   ]
  },
  {
   "cell_type": "markdown",
   "id": "13eb1efd",
   "metadata": {},
   "source": []
  },
  {
   "cell_type": "markdown",
   "id": "0072ae9b",
   "metadata": {},
   "source": [
    "### 2.  파이썬 연속 데이터 구조"
   ]
  },
  {
   "cell_type": "code",
   "execution_count": null,
   "id": "b6640383",
   "metadata": {},
   "outputs": [],
   "source": [
    "# 데이터가 여러 개 있을 때 효과적으로 관리하는 데 사용되는 자료구조\n",
    "# 대표적으로 가장 많이 사용되는 리스트(list), 튜플(tuple), 사전(dict), 집합(set)"
   ]
  },
  {
   "cell_type": "markdown",
   "id": "19b08565",
   "metadata": {},
   "source": [
    "### 1) 리스트(List)"
   ]
  },
  {
   "cell_type": "code",
   "execution_count": null,
   "id": "6ee9c594",
   "metadata": {},
   "outputs": [],
   "source": [
    "# 파이썬에서 변수가 어떤 값을 바인딩하고 있는 경우\n",
    "# 프롬프트 상에서 변수명을 입력한 후 엔터 키를 누르면 해당 변수가 가리키는 값이 반환"
   ]
  },
  {
   "cell_type": "code",
   "execution_count": 47,
   "id": "9772d595",
   "metadata": {},
   "outputs": [
    {
     "data": {
      "text/plain": [
       "'삼성전자'"
      ]
     },
     "execution_count": 47,
     "metadata": {},
     "output_type": "execute_result"
    }
   ],
   "source": [
    "a= \"삼성전자\"\n",
    "a"
   ]
  },
  {
   "cell_type": "code",
   "execution_count": 46,
   "id": "90314ec0",
   "metadata": {},
   "outputs": [
    {
     "data": {
      "text/plain": [
       "'LG엔솔'"
      ]
     },
     "execution_count": 46,
     "metadata": {},
     "output_type": "execute_result"
    }
   ],
   "source": [
    "b= \"LG엔솔\"\n",
    "b"
   ]
  },
  {
   "cell_type": "code",
   "execution_count": 45,
   "id": "1071e894",
   "metadata": {},
   "outputs": [
    {
     "data": {
      "text/plain": [
       "'sk하이닉스'"
      ]
     },
     "execution_count": 45,
     "metadata": {},
     "output_type": "execute_result"
    }
   ],
   "source": [
    "c= \"sk하이닉스\"\n",
    "c"
   ]
  },
  {
   "cell_type": "markdown",
   "id": "432fd3ee",
   "metadata": {},
   "source": [
    "### 리스트"
   ]
  },
  {
   "cell_type": "code",
   "execution_count": null,
   "id": "af0d447f",
   "metadata": {},
   "outputs": [],
   "source": [
    "# 파이썬에서는 리스트(list) 이용하면 여러 데이터를 한 번에 저장 가능--> 변수명을 여러 개 사용할 필요가 없다.\n",
    "# 여러 데이터를 리스트에 담으려면 대괄호'[]' 사이에 데이터를 쉼표로 구분해서 넣으면 됨.\n",
    "# 리스트 :  대괄호'[]"
   ]
  },
  {
   "cell_type": "code",
   "execution_count": 48,
   "id": "5a341f6e",
   "metadata": {},
   "outputs": [],
   "source": [
    "mystock = [\"삼성전자\", \"LG엔솔\", \"sk하이닉스\"]"
   ]
  },
  {
   "cell_type": "code",
   "execution_count": 49,
   "id": "c4ead9f2",
   "metadata": {},
   "outputs": [
    {
     "data": {
      "text/plain": [
       "['삼성전자', 'LG엔솔', 'sk하이닉스']"
      ]
     },
     "execution_count": 49,
     "metadata": {},
     "output_type": "execute_result"
    }
   ],
   "source": [
    "mystock"
   ]
  },
  {
   "cell_type": "code",
   "execution_count": null,
   "id": "21aa9fca",
   "metadata": {},
   "outputs": [],
   "source": [
    "# 인덱싱으로 원하는 데이터 만 가죠오기\n",
    "# [0], [1], [2]라는 인덱스 값을 통해 리스트에 있는 원하는 데이터를 언을 수 있음"
   ]
  },
  {
   "cell_type": "code",
   "execution_count": 50,
   "id": "9c0bb66b",
   "metadata": {},
   "outputs": [
    {
     "data": {
      "text/plain": [
       "'삼성전자'"
      ]
     },
     "execution_count": 50,
     "metadata": {},
     "output_type": "execute_result"
    }
   ],
   "source": [
    "mystock[0]"
   ]
  },
  {
   "cell_type": "code",
   "execution_count": 51,
   "id": "0a870b50",
   "metadata": {},
   "outputs": [
    {
     "data": {
      "text/plain": [
       "'sk하이닉스'"
      ]
     },
     "execution_count": 51,
     "metadata": {},
     "output_type": "execute_result"
    }
   ],
   "source": [
    "mystock[2]"
   ]
  },
  {
   "cell_type": "code",
   "execution_count": 16,
   "id": "b278f85f",
   "metadata": {},
   "outputs": [
    {
     "data": {
      "text/plain": [
       "['삼성전자', 'LG엔솔', 'sk하이닉스', '카카오']"
      ]
     },
     "execution_count": 16,
     "metadata": {},
     "output_type": "execute_result"
    }
   ],
   "source": [
    "mystock = [\"삼성전자\", \"LG엔솔\", \"sk하이닉스\"]\n",
    "mystock.append(\"카카오\")\n",
    "mystock "
   ]
  },
  {
   "cell_type": "code",
   "execution_count": 18,
   "id": "b223fe7b",
   "metadata": {},
   "outputs": [
    {
     "data": {
      "text/plain": [
       "['삼성전자', 'LG엔솔']"
      ]
     },
     "execution_count": 18,
     "metadata": {},
     "output_type": "execute_result"
    }
   ],
   "source": [
    "del mystock [2] \n",
    "mystock "
   ]
  },
  {
   "cell_type": "code",
   "execution_count": 13,
   "id": "5193817f",
   "metadata": {},
   "outputs": [
    {
     "name": "stdout",
     "output_type": "stream",
     "text": [
      "['one', 'two', 'three', 'four', 'five']\n"
     ]
    }
   ],
   "source": [
    "## 리스트값에 추가 append( ) \n",
    "number=['one','two','three','four'] \n",
    "number.append('five') \n",
    "print(number)\n"
   ]
  },
  {
   "cell_type": "code",
   "execution_count": 14,
   "id": "20b3bb76",
   "metadata": {},
   "outputs": [
    {
     "name": "stdout",
     "output_type": "stream",
     "text": [
      "['one', 'two', 'four']\n"
     ]
    }
   ],
   "source": [
    "## 리스트값 중 일부 삭제 del \n",
    "number=['one','two','three','four'] \n",
    "del number[2] \n",
    "print(number)"
   ]
  },
  {
   "cell_type": "code",
   "execution_count": 15,
   "id": "d9c7472d",
   "metadata": {},
   "outputs": [
    {
     "name": "stdout",
     "output_type": "stream",
     "text": [
      "['one', 'two', 'three', 'four', 'six', 'seven', 'eight', 'nine']\n"
     ]
    }
   ],
   "source": [
    "## 2개의 리스트를 병합하는 경우 extend( ) \n",
    "number1=['one','two','three','four'] \n",
    "number2=['six','seven','eight','nine'] \n",
    "number1.extend(number2) \n",
    "print(number1)"
   ]
  },
  {
   "cell_type": "code",
   "execution_count": 19,
   "id": "db05bb89",
   "metadata": {},
   "outputs": [
    {
     "name": "stdout",
     "output_type": "stream",
     "text": [
      "['six', 'seven', 'eight', 'nine', 'one', 'two', 'three', 'four']\n"
     ]
    }
   ],
   "source": [
    "## 2개의 리스트를 병합하는 경우.순서가 반대 extend( ) \n",
    "number1=['one','two','three','four']\n",
    "number2=['six','seven','eight','nine'] \n",
    "number2.extend(number1) \n",
    "print(number2)"
   ]
  },
  {
   "cell_type": "code",
   "execution_count": 21,
   "id": "845bac2e",
   "metadata": {},
   "outputs": [
    {
     "name": "stdout",
     "output_type": "stream",
     "text": [
      "['one', 'two', 'three', 'four', 'six', 'seven', 'eight', 'nine', 'one', 'two', 'three', 'four', 'six', 'seven', 'eight', 'nine', 'one', 'two', 'three', 'four']\n"
     ]
    }
   ],
   "source": [
    "number1.extend(number2) \n",
    "print(number1)"
   ]
  },
  {
   "cell_type": "code",
   "execution_count": 17,
   "id": "8599401c",
   "metadata": {},
   "outputs": [
    {
     "name": "stdout",
     "output_type": "stream",
     "text": [
      "['four', 'one', 'three', 'two']\n"
     ]
    }
   ],
   "source": [
    "## 정렬하기 sort( ) 는 알파벳순서로 정렬하기 \n",
    "number=['one','two','three','four'] \n",
    "number.sort() \n",
    "print(number)"
   ]
  },
  {
   "cell_type": "code",
   "execution_count": 18,
   "id": "e80893e5",
   "metadata": {},
   "outputs": [
    {
     "name": "stdout",
     "output_type": "stream",
     "text": [
      "['four', 'one', 'three', 'two']\n"
     ]
    }
   ],
   "source": [
    "## 정렬하기 sorted( ) \n",
    "number=['one','two','three','four'] \n",
    "newnumber=sorted(number) \n",
    "print(newnumber)"
   ]
  },
  {
   "cell_type": "code",
   "execution_count": 19,
   "id": "c092970c",
   "metadata": {},
   "outputs": [
    {
     "name": "stdout",
     "output_type": "stream",
     "text": [
      "['four', 'one', 'three', 'two']\n",
      "['one', 'two', 'three', 'four']\n"
     ]
    }
   ],
   "source": [
    "## 정렬하기 sorted( ) \n",
    "number=['one','two','three','four'] \n",
    "newnumber=sorted(number) \n",
    "print(newnumber) \n",
    "print(number)"
   ]
  },
  {
   "cell_type": "code",
   "execution_count": 20,
   "id": "d73a4af6",
   "metadata": {},
   "outputs": [
    {
     "name": "stdout",
     "output_type": "stream",
     "text": [
      "[4, 3, 2, 1]\n"
     ]
    }
   ],
   "source": [
    "## sort(reverse=True) \n",
    "number=[1,2,3,4] \n",
    "number.sort(reverse=True) \n",
    "print(number)\n"
   ]
  },
  {
   "cell_type": "code",
   "execution_count": 21,
   "id": "1f818a2c",
   "metadata": {},
   "outputs": [
    {
     "data": {
      "text/plain": [
       "4"
      ]
     },
     "execution_count": 21,
     "metadata": {},
     "output_type": "execute_result"
    }
   ],
   "source": [
    "##리스트 항목개수 확인  len( ) \n",
    "number=['one','two','three','four'] \n",
    "len(number)\n"
   ]
  },
  {
   "cell_type": "code",
   "execution_count": null,
   "id": "0c1050b1",
   "metadata": {},
   "outputs": [],
   "source": []
  },
  {
   "cell_type": "markdown",
   "id": "050e4e42",
   "metadata": {},
   "source": [
    "### 2)  list 데이터 구조 활용"
   ]
  },
  {
   "cell_type": "code",
   "execution_count": null,
   "id": "4e89db12",
   "metadata": {},
   "outputs": [],
   "source": [
    "# 리스트 활용 :  여러 개의 데이터를 ‘순서대로’ 저장하고 이를 관리해야 하는 경우"
   ]
  },
  {
   "cell_type": "code",
   "execution_count": 62,
   "id": "29312777",
   "metadata": {},
   "outputs": [],
   "source": [
    "sec = [55300, 55800, 56400, 56200, 56000]"
   ]
  },
  {
   "cell_type": "code",
   "execution_count": 68,
   "id": "5a7e1cba",
   "metadata": {},
   "outputs": [],
   "source": [
    "result = sum(sec)"
   ]
  },
  {
   "cell_type": "code",
   "execution_count": 69,
   "id": "e1d459e0",
   "metadata": {},
   "outputs": [
    {
     "name": "stdout",
     "output_type": "stream",
     "text": [
      "279700\n"
     ]
    }
   ],
   "source": [
    "print(result)\n"
   ]
  },
  {
   "cell_type": "markdown",
   "id": "2584a4be",
   "metadata": {},
   "source": [
    "#### 통계 기초 "
   ]
  },
  {
   "cell_type": "code",
   "execution_count": null,
   "id": "c0d5702c",
   "metadata": {},
   "outputs": [],
   "source": [
    "# 중심경향치(central tendency measures)?\n",
    "# 자료의 중심을 나타내는 숫자\n",
    "# 자료 전체를 대표\n",
    "# 평균, 중간값, 최빈값 등"
   ]
  },
  {
   "cell_type": "markdown",
   "id": "bdcf9569",
   "metadata": {},
   "source": [
    "### 1. 중심경향치 "
   ]
  },
  {
   "cell_type": "markdown",
   "id": "edc7b4e8",
   "metadata": {},
   "source": [
    "#### 1) 리스트 데이터 평균 "
   ]
  },
  {
   "cell_type": "code",
   "execution_count": 1,
   "id": "87e90d3c",
   "metadata": {},
   "outputs": [
    {
     "data": {
      "text/plain": [
       "577.7777777777778"
      ]
     },
     "execution_count": 1,
     "metadata": {},
     "output_type": "execute_result"
    }
   ],
   "source": [
    "# numpy를 이용\n",
    "import numpy\n",
    "# 아래 리스트 데이터 : 리스트데이터는 대괄호로 , 변수 설정(데이터를 담다)\n",
    "b = [100, 200, 400, 500,600,700,800,900,1000]\n",
    "numpy.mean(b)"
   ]
  },
  {
   "cell_type": "code",
   "execution_count": 3,
   "id": "28501f39",
   "metadata": {},
   "outputs": [
    {
     "data": {
      "text/plain": [
       "1000520.0"
      ]
     },
     "execution_count": 3,
     "metadata": {},
     "output_type": "execute_result"
    }
   ],
   "source": [
    "# 이상치 영향\n",
    "# 데이터 전처리 과정에서 반드시 체크해야 함.\n",
    "# numpy.mean(변수명)으로 계산 가능\n",
    "\n",
    "b_1 = [100, 200, 400, 500,600,700,800,900,1000, 10000000]\n",
    "numpy.mean(b_1)"
   ]
  },
  {
   "cell_type": "markdown",
   "id": "6688d1b8",
   "metadata": {},
   "source": [
    "#### 2) 리스트 데이터 중앙값 "
   ]
  },
  {
   "cell_type": "code",
   "execution_count": null,
   "id": "e706dfdb",
   "metadata": {},
   "outputs": [],
   "source": [
    "# 중간값(median): 자료를 크기 순으로 정렬했을 때 정 가운데에 있는 값\n",
    "# '중앙값' 또는 '중위수'\n",
    "# numpy.median(변수명)으로 계산 가능\n",
    "# 서열척도/등간척도/비율척도에서 쓸 수 있다. 명명척도 사용 불가"
   ]
  },
  {
   "cell_type": "code",
   "execution_count": 8,
   "id": "cfe583cc",
   "metadata": {},
   "outputs": [
    {
     "data": {
      "text/plain": [
       "5.5"
      ]
     },
     "execution_count": 8,
     "metadata": {},
     "output_type": "execute_result"
    }
   ],
   "source": [
    "# 인자 숫자가 짝수인 경우\n",
    "\n",
    "c=[1,2,3,4,5,6,7,8,9,10]\n",
    "numpy.median(c)"
   ]
  },
  {
   "cell_type": "code",
   "execution_count": 7,
   "id": "da783af5",
   "metadata": {},
   "outputs": [
    {
     "data": {
      "text/plain": [
       "6.0"
      ]
     },
     "execution_count": 7,
     "metadata": {},
     "output_type": "execute_result"
    }
   ],
   "source": [
    "# 인자 숫자가 홀수인 경우\n",
    "\n",
    "c=[1,2,3,4,5,6,7,8,9,10,11]\n",
    "numpy.median(c)"
   ]
  },
  {
   "cell_type": "code",
   "execution_count": 6,
   "id": "5bec8f77",
   "metadata": {},
   "outputs": [
    {
     "data": {
      "text/plain": [
       "6.0"
      ]
     },
     "execution_count": 6,
     "metadata": {},
     "output_type": "execute_result"
    }
   ],
   "source": [
    "# 이상치 영향이 평균 값보다 적다.\n",
    "\n",
    "c_1=[1,2,3,4,5,6,7,8,9,10,1000]\n",
    "numpy.median(c_1)"
   ]
  },
  {
   "cell_type": "markdown",
   "id": "98f9eb23",
   "metadata": {},
   "source": [
    "#### 3) 최빈도 (mode)"
   ]
  },
  {
   "cell_type": "code",
   "execution_count": null,
   "id": "0c6c0bc5",
   "metadata": {},
   "outputs": [],
   "source": [
    "# 최빈값(mode): 가장 빈번하게 관찰/측정되는 값"
   ]
  },
  {
   "cell_type": "code",
   "execution_count": 12,
   "id": "2eeef8a8",
   "metadata": {},
   "outputs": [
    {
     "data": {
      "text/plain": [
       "ModeResult(mode=array([5]), count=array([4]))"
      ]
     },
     "execution_count": 12,
     "metadata": {},
     "output_type": "execute_result"
    }
   ],
   "source": [
    "from scipy.stats import mode\n",
    "\n",
    "d=[1,2,2,3,5,5,5,5,10,1000]\n",
    "mode(d)"
   ]
  },
  {
   "cell_type": "code",
   "execution_count": 13,
   "id": "16ff384b",
   "metadata": {},
   "outputs": [
    {
     "data": {
      "text/plain": [
       "ModeResult(mode=array([7]), count=array([6]))"
      ]
     },
     "execution_count": 13,
     "metadata": {},
     "output_type": "execute_result"
    }
   ],
   "source": [
    "e=[1,2,2,3,4,4,4,4,7,7,7,7,7,7,10,1000]\n",
    "mode(e)"
   ]
  },
  {
   "cell_type": "markdown",
   "id": "5dc3ac0d",
   "metadata": {},
   "source": [
    "### 2. 분산도 "
   ]
  },
  {
   "cell_type": "code",
   "execution_count": null,
   "id": "8122d19c",
   "metadata": {},
   "outputs": [],
   "source": [
    "# 범위, 분산(표준편차), 사분위간 범위\n",
    "# 데이터가 흩어져 있는 정도"
   ]
  },
  {
   "cell_type": "markdown",
   "id": "13aa5228",
   "metadata": {},
   "source": [
    "#### 1) 범위 (range)"
   ]
  },
  {
   "cell_type": "code",
   "execution_count": null,
   "id": "7f09634b",
   "metadata": {},
   "outputs": [],
   "source": [
    "# 대상 데티어의  최대값과 최소값 사이의 거리\n",
    "# 범위 계산 = 최댓값 - 최솟값"
   ]
  },
  {
   "cell_type": "code",
   "execution_count": 15,
   "id": "0156fe0e",
   "metadata": {},
   "outputs": [
    {
     "data": {
      "text/plain": [
       "900"
      ]
     },
     "execution_count": 15,
     "metadata": {},
     "output_type": "execute_result"
    }
   ],
   "source": [
    "b = [100, 200, 400, 500,600,700,800,900,1000]\n",
    "import numpy\n",
    "\n",
    "# 최대값에서 최소값을 차감하여 계산'\n",
    "#최댓값:\n",
    "numpy.max(b)\n",
    "# 최소값\n",
    "numpy.min(b)\n",
    "\n",
    "# 범위:\n",
    "numpy.max(b) - numpy.min(b)"
   ]
  },
  {
   "cell_type": "markdown",
   "id": "efcdc8a8",
   "metadata": {},
   "source": [
    "#### 2) 분산 "
   ]
  },
  {
   "cell_type": "code",
   "execution_count": null,
   "id": "07411104",
   "metadata": {},
   "outputs": [],
   "source": [
    "# 평균에서 데이터가 벗어난 정도를 수치화한 값\n",
    "# 편차의 제곱 합에 대한 평균 개념"
   ]
  },
  {
   "cell_type": "code",
   "execution_count": 16,
   "id": "cb5b65fd",
   "metadata": {},
   "outputs": [
    {
     "data": {
      "text/plain": [
       "83950.61728395062"
      ]
     },
     "execution_count": 16,
     "metadata": {},
     "output_type": "execute_result"
    }
   ],
   "source": [
    "numpy.var(b)"
   ]
  },
  {
   "cell_type": "markdown",
   "id": "f4be93f3",
   "metadata": {},
   "source": [
    "#### 3) 표준편차 "
   ]
  },
  {
   "cell_type": "code",
   "execution_count": 19,
   "id": "718a0a81",
   "metadata": {},
   "outputs": [],
   "source": [
    "# 분산값을 제곱근한 값\n",
    "# numpy.std(변수명)"
   ]
  },
  {
   "cell_type": "code",
   "execution_count": 20,
   "id": "0db21d77",
   "metadata": {},
   "outputs": [
    {
     "data": {
      "text/plain": [
       "289.74232912011774"
      ]
     },
     "execution_count": 20,
     "metadata": {},
     "output_type": "execute_result"
    }
   ],
   "source": [
    "numpy.std(b)"
   ]
  },
  {
   "cell_type": "code",
   "execution_count": 18,
   "id": "ace7e700",
   "metadata": {},
   "outputs": [
    {
     "data": {
      "text/plain": [
       "289.74232912011774"
      ]
     },
     "execution_count": 18,
     "metadata": {},
     "output_type": "execute_result"
    }
   ],
   "source": [
    "# 표준편차는 분산의 제곱근하여도 무방\n",
    "\n",
    "numpy.sqrt(numpy.var(b))"
   ]
  },
  {
   "cell_type": "markdown",
   "id": "4216b460",
   "metadata": {},
   "source": [
    "#### 4) 사분위간 범위 "
   ]
  },
  {
   "cell_type": "code",
   "execution_count": null,
   "id": "d624b660",
   "metadata": {},
   "outputs": [],
   "source": [
    "# 사분위간 범위(IQR, InterQuartile Range)는 제3사분위수에서 제1사분위수 간의 범위\n",
    "# 사분위수란 전체 데이터를 작은 값부터 큰 값까지 순서대로 나열한 후 4등분 하였을 때, 각 지점에 해당하는 값\n",
    "\n",
    "# 제1사분위수(Q1): 25% 지점\n",
    "# 제2사분위수(Q2): 50% 지점\n",
    "# 제3사분위수(Q3): 75%\n",
    "# 제1사분위수와 제3사분위수 사이의 구간에는 항상 전체 데이터의 50%가 포함 됨\n"
   ]
  },
  {
   "cell_type": "code",
   "execution_count": 24,
   "id": "20c7e080",
   "metadata": {},
   "outputs": [
    {
     "data": {
      "text/plain": [
       "400.0"
      ]
     },
     "execution_count": 24,
     "metadata": {},
     "output_type": "execute_result"
    }
   ],
   "source": [
    "# 제1사분위수\n",
    "\n",
    "numpy.quantile(b, 0.25)\n"
   ]
  },
  {
   "cell_type": "code",
   "execution_count": 25,
   "id": "8e3a2bbe",
   "metadata": {},
   "outputs": [
    {
     "data": {
      "text/plain": [
       "600.0"
      ]
     },
     "execution_count": 25,
     "metadata": {},
     "output_type": "execute_result"
    }
   ],
   "source": [
    "# 제2사분위수(50% 지점)\n",
    "# 중간값:\n",
    "\n",
    "numpy.quantile(b, 0.5)"
   ]
  },
  {
   "cell_type": "code",
   "execution_count": 26,
   "id": "11718c9c",
   "metadata": {},
   "outputs": [
    {
     "data": {
      "text/plain": [
       "600.0"
      ]
     },
     "execution_count": 26,
     "metadata": {},
     "output_type": "execute_result"
    }
   ],
   "source": [
    "numpy.median(b)"
   ]
  },
  {
   "cell_type": "code",
   "execution_count": 27,
   "id": "6b33c150",
   "metadata": {},
   "outputs": [
    {
     "data": {
      "text/plain": [
       "800.0"
      ]
     },
     "execution_count": 27,
     "metadata": {},
     "output_type": "execute_result"
    }
   ],
   "source": [
    "# 제3사분위수(75% 지점)\n",
    "\n",
    "numpy.quantile(b, 0.75)"
   ]
  },
  {
   "cell_type": "code",
   "execution_count": 28,
   "id": "54ddabb6",
   "metadata": {},
   "outputs": [
    {
     "data": {
      "text/plain": [
       "400.0"
      ]
     },
     "execution_count": 28,
     "metadata": {},
     "output_type": "execute_result"
    }
   ],
   "source": [
    "# 사분위간 범위(Q3 - Q1):\n",
    "\n",
    "numpy.quantile(b, 0.75) - numpy.quantile(b, 0.25)"
   ]
  },
  {
   "cell_type": "code",
   "execution_count": null,
   "id": "6cced007",
   "metadata": {},
   "outputs": [],
   "source": []
  },
  {
   "cell_type": "markdown",
   "id": "611d2ca5",
   "metadata": {},
   "source": [
    "#### 사례 : 평균 구하기"
   ]
  },
  {
   "cell_type": "code",
   "execution_count": null,
   "id": "90ad8b6c",
   "metadata": {},
   "outputs": [],
   "source": [
    "# 평균 구하기\n",
    "# 첫번째 방법\n",
    "print(f\"average : {result / len(sec)}\")"
   ]
  },
  {
   "cell_type": "code",
   "execution_count": 76,
   "id": "6e6d5ba2",
   "metadata": {},
   "outputs": [
    {
     "name": "stdout",
     "output_type": "stream",
     "text": [
      "55940.0\n"
     ]
    }
   ],
   "source": [
    "# 두번째 방법\n",
    "import numpy\n",
    "\n",
    "# 평균 구하기\n",
    "average = numpy.mean(sec)\n",
    "print(average)"
   ]
  },
  {
   "cell_type": "code",
   "execution_count": 77,
   "id": "a29b70b7",
   "metadata": {},
   "outputs": [
    {
     "name": "stdout",
     "output_type": "stream",
     "text": [
      "average1 : 55940\n"
     ]
    }
   ],
   "source": [
    "# 세번째 : 파이썬  statiscics 라이브러리를 이용\n",
    "import statistics\n",
    "\n",
    "# 평균 구하기\n",
    "result1 = statistics.mean(sec)\n",
    "# 출력\n",
    "print(f\"average1 : {result1}\")"
   ]
  },
  {
   "cell_type": "markdown",
   "id": "e1d61a5f",
   "metadata": {},
   "source": [
    "### 4)  리스트 인덱싱"
   ]
  },
  {
   "cell_type": "code",
   "execution_count": 78,
   "id": "d02ce370",
   "metadata": {},
   "outputs": [
    {
     "data": {
      "text/plain": [
       "55300"
      ]
     },
     "execution_count": 78,
     "metadata": {},
     "output_type": "execute_result"
    }
   ],
   "source": [
    "# 리스트의 인덱스 값을 통해 리스트가 가리키는 값에 접근\n",
    "# 리스트에 있는 데이터에 한개씩 접근할 때는 인덱싱 사용\n",
    "# 리스트의 인덱싱은 문자열 인덱싱과 동일\n",
    "sec = [55300, 55800, 56400, 56200, 56000]\n",
    "sec[0]"
   ]
  },
  {
   "cell_type": "code",
   "execution_count": 80,
   "id": "d9750469",
   "metadata": {},
   "outputs": [
    {
     "data": {
      "text/plain": [
       "56000"
      ]
     },
     "execution_count": 80,
     "metadata": {},
     "output_type": "execute_result"
    }
   ],
   "source": [
    "sec[4]"
   ]
  },
  {
   "cell_type": "code",
   "execution_count": null,
   "id": "ca9bea22",
   "metadata": {},
   "outputs": [],
   "source": [
    "# 리스트를 인덱싱할 때 [-1]은 리스트의 데이터 중 맨 마지막에 있는 데이터"
   ]
  },
  {
   "cell_type": "code",
   "execution_count": 81,
   "id": "21d51037",
   "metadata": {},
   "outputs": [
    {
     "data": {
      "text/plain": [
       "56000"
      ]
     },
     "execution_count": 81,
     "metadata": {},
     "output_type": "execute_result"
    }
   ],
   "source": [
    "sec[-1]"
   ]
  },
  {
   "cell_type": "code",
   "execution_count": 82,
   "id": "86cf7a88",
   "metadata": {},
   "outputs": [
    {
     "data": {
      "text/plain": [
       "56200"
      ]
     },
     "execution_count": 82,
     "metadata": {},
     "output_type": "execute_result"
    }
   ],
   "source": [
    "sec[-2]"
   ]
  },
  {
   "cell_type": "markdown",
   "id": "d3d1d77e",
   "metadata": {},
   "source": [
    "### 5) 리스트 슬라이싱"
   ]
  },
  {
   "cell_type": "code",
   "execution_count": null,
   "id": "d2669572",
   "metadata": {},
   "outputs": [],
   "source": [
    "#  리스트에 있는 여러 개의 데이터에 동시에 접근 하는 경우 슬라이싱 이용 \n",
    "# 리스트의 슬라이싱은 문자열 슬라이싱과 동일"
   ]
  },
  {
   "cell_type": "code",
   "execution_count": 109,
   "id": "4f81d9bb",
   "metadata": {},
   "outputs": [],
   "source": [
    "kospi_top7 =['삼성전자','LG엔솔','SK하이닉스','삼바', 'LG화학','현대차','NAVER']"
   ]
  },
  {
   "cell_type": "code",
   "execution_count": 110,
   "id": "1ce474fb",
   "metadata": {},
   "outputs": [
    {
     "name": "stdout",
     "output_type": "stream",
     "text": [
      "['삼성전자', 'LG엔솔', 'SK하이닉스', '삼바', 'LG화학', '현대차', 'NAVER']\n"
     ]
    }
   ],
   "source": [
    "print(kospi_top7)"
   ]
  },
  {
   "cell_type": "code",
   "execution_count": 111,
   "id": "99289e08",
   "metadata": {},
   "outputs": [
    {
     "name": "stdout",
     "output_type": "stream",
     "text": [
      "LG화학\n"
     ]
    }
   ],
   "source": [
    "print( kospi_top7[4])"
   ]
  },
  {
   "cell_type": "code",
   "execution_count": 119,
   "id": "c047bce4",
   "metadata": {},
   "outputs": [],
   "source": [
    "# 첫번째 종목에서 3개만 갖고 오기\n",
    "kospi_top3 = kospi_top7[0:3]"
   ]
  },
  {
   "cell_type": "code",
   "execution_count": 120,
   "id": "d03297d2",
   "metadata": {},
   "outputs": [
    {
     "name": "stdout",
     "output_type": "stream",
     "text": [
      "['삼성전자', 'LG엔솔', 'SK하이닉스']\n"
     ]
    }
   ],
   "source": [
    "print(kospi_top4)"
   ]
  },
  {
   "cell_type": "code",
   "execution_count": 122,
   "id": "b8deddc0",
   "metadata": {},
   "outputs": [
    {
     "name": "stdout",
     "output_type": "stream",
     "text": [
      "['삼성전자', 'LG엔솔', 'SK하이닉스', '삼바', 'LG화학']\n"
     ]
    }
   ],
   "source": [
    "# 첫번째 종목에서 5개만 갖고 오기\n",
    "kospi_top3 = kospi_top7[0:5]\n",
    "print(kospi_top3)"
   ]
  },
  {
   "cell_type": "code",
   "execution_count": 123,
   "id": "151a5c66",
   "metadata": {},
   "outputs": [
    {
     "data": {
      "text/plain": [
       "['삼바', 'LG화학', '현대차', 'NAVER']"
      ]
     },
     "execution_count": 123,
     "metadata": {},
     "output_type": "execute_result"
    }
   ],
   "source": [
    "kospi_top7[3:]"
   ]
  },
  {
   "cell_type": "code",
   "execution_count": 124,
   "id": "a8bc1527",
   "metadata": {},
   "outputs": [
    {
     "data": {
      "text/plain": [
       "['삼바', 'LG화학']"
      ]
     },
     "execution_count": 124,
     "metadata": {},
     "output_type": "execute_result"
    }
   ],
   "source": [
    "kospi_top7[3:5]"
   ]
  },
  {
   "cell_type": "markdown",
   "id": "da3ce93f",
   "metadata": {},
   "source": [
    "### 6) 리스트에 데이터 추가"
   ]
  },
  {
   "cell_type": "code",
   "execution_count": null,
   "id": "a7933a82",
   "metadata": {},
   "outputs": [],
   "source": [
    "# 리스트에 데이터 추가\n",
    "# 기존 리스트에 새로운 데이터를 추가 : append 메서드 사용 ( 이 경우 데이터 맨 뒷줄에 추가)"
   ]
  },
  {
   "cell_type": "code",
   "execution_count": 128,
   "id": "98219759",
   "metadata": {},
   "outputs": [],
   "source": [
    "kospi_top7 =['삼성전자','LG엔솔','SK하이닉스','삼바', 'LG화학','현대차','NAVER']\n",
    "kospi_top7.append('SK텔레콤') "
   ]
  },
  {
   "cell_type": "code",
   "execution_count": 129,
   "id": "a32305d7",
   "metadata": {},
   "outputs": [
    {
     "data": {
      "text/plain": [
       "['삼성전자', 'LG엔솔', 'SK하이닉스', '삼바', 'LG화학', '현대차', 'NAVER', 'SK텔레콤']"
      ]
     },
     "execution_count": 129,
     "metadata": {},
     "output_type": "execute_result"
    }
   ],
   "source": [
    "kospi_top7"
   ]
  },
  {
   "cell_type": "code",
   "execution_count": 132,
   "id": "e201a2d6",
   "metadata": {},
   "outputs": [
    {
     "data": {
      "text/plain": [
       "['삼성전자', 'LG엔솔', 'SK하이닉스', '삼바', 'LG화학', '현대차', 'NAVER', 'SK텔레콤']"
      ]
     },
     "execution_count": 132,
     "metadata": {},
     "output_type": "execute_result"
    }
   ],
   "source": [
    "# 위의 경우 추가된 리스트를 새롭게 명명하는게 적절\n",
    "kospi_top8 = kospi_top7\n",
    "kospi_top8    "
   ]
  },
  {
   "cell_type": "code",
   "execution_count": null,
   "id": "7665c9fd",
   "metadata": {},
   "outputs": [],
   "source": [
    "# 리스트에 데이터를 사용자가 원하는 특정 위치에 추가 \n",
    "# insert 메서드를 사용 "
   ]
  },
  {
   "cell_type": "code",
   "execution_count": 136,
   "id": "a54174d6",
   "metadata": {},
   "outputs": [],
   "source": [
    "kospi_top8.insert(2, '카카오')"
   ]
  },
  {
   "cell_type": "code",
   "execution_count": 138,
   "id": "8bcc5678",
   "metadata": {},
   "outputs": [],
   "source": [
    "kospi_top9=kospi_top8"
   ]
  },
  {
   "cell_type": "code",
   "execution_count": 142,
   "id": "64c729e6",
   "metadata": {},
   "outputs": [
    {
     "data": {
      "text/plain": [
       "['삼성전자', 'LG엔솔', '카카오', '카카오', 'SK하이닉스', '삼바', 'LG화학', '현대차', 'NAVER', 'SK텔레콤']"
      ]
     },
     "execution_count": 142,
     "metadata": {},
     "output_type": "execute_result"
    }
   ],
   "source": [
    "kospi_top9"
   ]
  },
  {
   "cell_type": "markdown",
   "id": "40614a10",
   "metadata": {},
   "source": [
    "### 7) 리스트에 데이터 삭제"
   ]
  },
  {
   "cell_type": "code",
   "execution_count": null,
   "id": "9415c9b5",
   "metadata": {},
   "outputs": [],
   "source": [
    "# 리스트 마지막 데이터를 삭제하기 위해 del 사용 \n",
    "# 이때 한 가지 주의할 점은 del 다음에 빈칸을 주고 그다음에 삭제할 데이터를 입력해야 한다"
   ]
  },
  {
   "cell_type": "code",
   "execution_count": 144,
   "id": "4ac8d8f4",
   "metadata": {},
   "outputs": [
    {
     "data": {
      "text/plain": [
       "'SK텔레콤'"
      ]
     },
     "execution_count": 144,
     "metadata": {},
     "output_type": "execute_result"
    }
   ],
   "source": [
    "kospi_top9[-1]\n"
   ]
  },
  {
   "cell_type": "code",
   "execution_count": 145,
   "id": "2459f5f7",
   "metadata": {},
   "outputs": [],
   "source": [
    "del kospi_top9[-1]"
   ]
  },
  {
   "cell_type": "code",
   "execution_count": 146,
   "id": "5bac0256",
   "metadata": {},
   "outputs": [
    {
     "data": {
      "text/plain": [
       "['삼성전자', 'LG엔솔', '카카오', '카카오', 'SK하이닉스', '삼바', 'LG화학', '현대차', 'NAVER']"
      ]
     },
     "execution_count": 146,
     "metadata": {},
     "output_type": "execute_result"
    }
   ],
   "source": [
    ">>> kospi_top9\n"
   ]
  },
  {
   "cell_type": "code",
   "execution_count": 147,
   "id": "550ede57",
   "metadata": {},
   "outputs": [
    {
     "data": {
      "text/plain": [
       "9"
      ]
     },
     "execution_count": 147,
     "metadata": {},
     "output_type": "execute_result"
    }
   ],
   "source": [
    "len(kospi_top9)"
   ]
  },
  {
   "cell_type": "markdown",
   "id": "5c22a46a",
   "metadata": {},
   "source": [
    "## 2. 튜플(tuple)"
   ]
  },
  {
   "cell_type": "markdown",
   "id": "e327173e",
   "metadata": {},
   "source": [
    "#### 1) 튜플 이해? "
   ]
  },
  {
   "cell_type": "code",
   "execution_count": null,
   "id": "51ef9734",
   "metadata": {},
   "outputs": [],
   "source": [
    "# 튜플과 리스트 차이 :  리스트는 리스트 내의 원소를 변경할 수 있지만 튜플은 변경할 수 없다. \n",
    "# 리스트는 대괄호'[]' 사용, 튜플은 소괄호'()' 사용 \n",
    "# 튜플은 리스트보다 속도가 빠르다는 장점 ; 데이터 수정이 필요 없는 경우는 리스트보다는 튜플을 사용하는 것이 효율적"
   ]
  },
  {
   "cell_type": "code",
   "execution_count": 24,
   "id": "2a1c966d",
   "metadata": {},
   "outputs": [],
   "source": [
    "kospi_top =('삼성전자','LG엔솔','SK하이닉스','삼바', 'LG화학','현대차','NAVER')"
   ]
  },
  {
   "cell_type": "code",
   "execution_count": 25,
   "id": "58f46a57",
   "metadata": {},
   "outputs": [
    {
     "data": {
      "text/plain": [
       "('삼성전자', 'LG엔솔', 'SK하이닉스', '삼바', 'LG화학', '현대차', 'NAVER')"
      ]
     },
     "execution_count": 25,
     "metadata": {},
     "output_type": "execute_result"
    }
   ],
   "source": [
    "kospi_top"
   ]
  },
  {
   "cell_type": "markdown",
   "id": "94d08372",
   "metadata": {},
   "source": [
    "#### 2) 튜플 데이터 확인 "
   ]
  },
  {
   "cell_type": "code",
   "execution_count": 26,
   "id": "5c96abeb",
   "metadata": {},
   "outputs": [
    {
     "data": {
      "text/plain": [
       "7"
      ]
     },
     "execution_count": 26,
     "metadata": {},
     "output_type": "execute_result"
    }
   ],
   "source": [
    "# 갯수 확인\n",
    "len(kospi_top)"
   ]
  },
  {
   "cell_type": "code",
   "execution_count": 27,
   "id": "bcdc0ed4",
   "metadata": {},
   "outputs": [
    {
     "data": {
      "text/plain": [
       "'삼성전자'"
      ]
     },
     "execution_count": 27,
     "metadata": {},
     "output_type": "execute_result"
    }
   ],
   "source": [
    "kospi_top[0]"
   ]
  },
  {
   "cell_type": "code",
   "execution_count": 28,
   "id": "1a34c853",
   "metadata": {},
   "outputs": [
    {
     "data": {
      "text/plain": [
       "'NAVER'"
      ]
     },
     "execution_count": 28,
     "metadata": {},
     "output_type": "execute_result"
    }
   ],
   "source": [
    "kospi_top[-1]"
   ]
  },
  {
   "cell_type": "code",
   "execution_count": 29,
   "id": "3a3a0ebe",
   "metadata": {},
   "outputs": [
    {
     "data": {
      "text/plain": [
       "'현대차'"
      ]
     },
     "execution_count": 29,
     "metadata": {},
     "output_type": "execute_result"
    }
   ],
   "source": [
    "kospi_top[-2]"
   ]
  },
  {
   "cell_type": "markdown",
   "id": "bbfa5f50",
   "metadata": {},
   "source": [
    "#### 3) 튜플 슬라이싱"
   ]
  },
  {
   "cell_type": "code",
   "execution_count": null,
   "id": "da1513d3",
   "metadata": {},
   "outputs": [],
   "source": [
    "# 튜플도 리스트와 동일하게 슬라이싱 가능"
   ]
  },
  {
   "cell_type": "code",
   "execution_count": 157,
   "id": "0e1bd050",
   "metadata": {},
   "outputs": [
    {
     "data": {
      "text/plain": [
       "('삼성전자', 'LG엔솔')"
      ]
     },
     "execution_count": 157,
     "metadata": {},
     "output_type": "execute_result"
    }
   ],
   "source": [
    "# 시작 인덱스와 끝 인덱스를 지정\n",
    "kospi_top[0:2]\n",
    "    "
   ]
  },
  {
   "cell_type": "markdown",
   "id": "823af6e9",
   "metadata": {},
   "source": [
    "## 3. 딕셔너리(dictionary)"
   ]
  },
  {
   "cell_type": "markdown",
   "id": "c2fccdcb",
   "metadata": {},
   "source": [
    "#### 1) 딕셔너리(dictionary) 이해 "
   ]
  },
  {
   "cell_type": "code",
   "execution_count": null,
   "id": "6dd9aeb6",
   "metadata": {},
   "outputs": [],
   "source": [
    "# 딕셔너리도 키(key)와 값(value)이라는 것을 쌍으로 저장함으로써 더 쉽게 저장된 값을 찾을 수 있는 구조\n",
    "# 딕셔너리는 중괄호 '{}' 기호 사용\n",
    "# 요소가 여러개인 경우 콤마(,)로 구분\n",
    "# 딕셔너리는 리스트와 튜플과 달리 인덱싱을 지원 않음.\n",
    "# 사례 : 주식종목 : 주가"
   ]
  },
  {
   "cell_type": "code",
   "execution_count": 1,
   "id": "7f9dc2d0",
   "metadata": {},
   "outputs": [],
   "source": [
    "sec_price = {}"
   ]
  },
  {
   "cell_type": "code",
   "execution_count": 2,
   "id": "f4091616",
   "metadata": {},
   "outputs": [
    {
     "data": {
      "text/plain": [
       "dict"
      ]
     },
     "execution_count": 2,
     "metadata": {},
     "output_type": "execute_result"
    }
   ],
   "source": [
    "type(sec_price) "
   ]
  },
  {
   "cell_type": "code",
   "execution_count": 3,
   "id": "fbc1c433",
   "metadata": {},
   "outputs": [],
   "source": [
    "sec_price['삼성전자'] = 58000"
   ]
  },
  {
   "cell_type": "code",
   "execution_count": 4,
   "id": "1cd63702",
   "metadata": {},
   "outputs": [
    {
     "data": {
      "text/plain": [
       "{'삼성전자': 58000}"
      ]
     },
     "execution_count": 4,
     "metadata": {},
     "output_type": "execute_result"
    }
   ],
   "source": [
    "sec_price"
   ]
  },
  {
   "cell_type": "code",
   "execution_count": 5,
   "id": "73d7aeaa",
   "metadata": {},
   "outputs": [],
   "source": [
    "sec_price['sk하이닉스'] = 80000"
   ]
  },
  {
   "cell_type": "code",
   "execution_count": 6,
   "id": "f637c6e6",
   "metadata": {},
   "outputs": [
    {
     "data": {
      "text/plain": [
       "{'삼성전자': 58000, 'sk하이닉스': 80000}"
      ]
     },
     "execution_count": 6,
     "metadata": {},
     "output_type": "execute_result"
    }
   ],
   "source": [
    "sec_price"
   ]
  },
  {
   "cell_type": "code",
   "execution_count": 30,
   "id": "3e43f8af",
   "metadata": {},
   "outputs": [],
   "source": [
    "score ={}"
   ]
  },
  {
   "cell_type": "code",
   "execution_count": 31,
   "id": "c9600cf3",
   "metadata": {},
   "outputs": [
    {
     "data": {
      "text/plain": [
       "dict"
      ]
     },
     "execution_count": 31,
     "metadata": {},
     "output_type": "execute_result"
    }
   ],
   "source": [
    "type(score) "
   ]
  },
  {
   "cell_type": "code",
   "execution_count": 34,
   "id": "429c651f",
   "metadata": {},
   "outputs": [],
   "source": [
    "score[\"김철호\"] =100"
   ]
  },
  {
   "cell_type": "code",
   "execution_count": 35,
   "id": "20ce2767",
   "metadata": {},
   "outputs": [],
   "source": [
    "score[\"김철호\"]"
   ]
  },
  {
   "cell_type": "code",
   "execution_count": 36,
   "id": "db749b78",
   "metadata": {},
   "outputs": [
    {
     "data": {
      "text/plain": [
       "{'김영호': 70, '김철호': 100}"
      ]
     },
     "execution_count": 36,
     "metadata": {},
     "output_type": "execute_result"
    }
   ],
   "source": [
    "score"
   ]
  },
  {
   "cell_type": "code",
   "execution_count": 37,
   "id": "8d4d5269",
   "metadata": {},
   "outputs": [
    {
     "data": {
      "text/plain": [
       "dict"
      ]
     },
     "execution_count": 37,
     "metadata": {},
     "output_type": "execute_result"
    }
   ],
   "source": [
    "type(score)"
   ]
  },
  {
   "cell_type": "code",
   "execution_count": 38,
   "id": "b1a06b25",
   "metadata": {},
   "outputs": [
    {
     "data": {
      "text/plain": [
       "2"
      ]
     },
     "execution_count": 38,
     "metadata": {},
     "output_type": "execute_result"
    }
   ],
   "source": [
    "len(score)"
   ]
  },
  {
   "cell_type": "code",
   "execution_count": 40,
   "id": "be93c9a0",
   "metadata": {},
   "outputs": [
    {
     "data": {
      "text/plain": [
       "100"
      ]
     },
     "execution_count": 40,
     "metadata": {},
     "output_type": "execute_result"
    }
   ],
   "source": [
    "score[\"김철호\"]"
   ]
  },
  {
   "cell_type": "markdown",
   "id": "7cf6e74b",
   "metadata": {},
   "source": [
    "#### 2) 딕셔너리(dictionary) 확인 "
   ]
  },
  {
   "cell_type": "code",
   "execution_count": 178,
   "id": "dfb73587",
   "metadata": {},
   "outputs": [
    {
     "data": {
      "text/plain": [
       "2"
      ]
     },
     "execution_count": 178,
     "metadata": {},
     "output_type": "execute_result"
    }
   ],
   "source": [
    "len(sec_price)"
   ]
  },
  {
   "cell_type": "code",
   "execution_count": 179,
   "id": "42353ad7",
   "metadata": {},
   "outputs": [
    {
     "data": {
      "text/plain": [
       "58000"
      ]
     },
     "execution_count": 179,
     "metadata": {},
     "output_type": "execute_result"
    }
   ],
   "source": [
    "sec_price['삼성전자']"
   ]
  },
  {
   "cell_type": "code",
   "execution_count": 41,
   "id": "83d03a4c",
   "metadata": {},
   "outputs": [],
   "source": [
    "score[\"박철호\"]=10"
   ]
  },
  {
   "cell_type": "code",
   "execution_count": 42,
   "id": "a811cf49",
   "metadata": {},
   "outputs": [
    {
     "data": {
      "text/plain": [
       "{'김영호': 70, '김철호': 100, '박철호': 10}"
      ]
     },
     "execution_count": 42,
     "metadata": {},
     "output_type": "execute_result"
    }
   ],
   "source": [
    "score"
   ]
  },
  {
   "cell_type": "code",
   "execution_count": 43,
   "id": "f2eb423e",
   "metadata": {},
   "outputs": [],
   "source": [
    "del score[\"김영호\"]"
   ]
  },
  {
   "cell_type": "code",
   "execution_count": 44,
   "id": "65946ad3",
   "metadata": {},
   "outputs": [
    {
     "data": {
      "text/plain": [
       "{'김철호': 100, '박철호': 10}"
      ]
     },
     "execution_count": 44,
     "metadata": {},
     "output_type": "execute_result"
    }
   ],
   "source": [
    "score"
   ]
  },
  {
   "cell_type": "code",
   "execution_count": 47,
   "id": "a0dee7db",
   "metadata": {},
   "outputs": [
    {
     "name": "stdout",
     "output_type": "stream",
     "text": [
      "{'김철호': 100, '박철호': 10}\n"
     ]
    }
   ],
   "source": [
    "print(score)"
   ]
  },
  {
   "cell_type": "markdown",
   "id": "553e4e2a",
   "metadata": {},
   "source": [
    "#### 3)딕셔너리에 데이터 삽입 "
   ]
  },
  {
   "cell_type": "code",
   "execution_count": 181,
   "id": "c456691f",
   "metadata": {},
   "outputs": [],
   "source": [
    "#딕셔너리는 리스트의 append나 insert 같은 메서드를 지원하지 않음.. \n",
    "# 리스트와는 달리 Dictionary변수에 추가하고자하는 데이터에 대한 key와 value를 추가 입력하여야 함."
   ]
  },
  {
   "cell_type": "code",
   "execution_count": 8,
   "id": "7deaf617",
   "metadata": {},
   "outputs": [
    {
     "data": {
      "text/plain": [
       "{'삼성전자': 58000, 'sk하이닉스': 80000, 'naver': 150000}"
      ]
     },
     "execution_count": 8,
     "metadata": {},
     "output_type": "execute_result"
    }
   ],
   "source": [
    "# naver 추가\n",
    "sec_price['naver'] = 150000\n",
    "sec_price"
   ]
  },
  {
   "cell_type": "markdown",
   "id": "40ad053e",
   "metadata": {},
   "source": [
    "#### 4) 딕셔너리에 데이터 삭제 "
   ]
  },
  {
   "cell_type": "code",
   "execution_count": 9,
   "id": "e00027db",
   "metadata": {},
   "outputs": [],
   "source": [
    "# 리스트와 마찬가지로 del을 사용 \n",
    "del sec_price['sk하이닉스']"
   ]
  },
  {
   "cell_type": "code",
   "execution_count": 10,
   "id": "1f44c83c",
   "metadata": {},
   "outputs": [
    {
     "data": {
      "text/plain": [
       "{'삼성전자': 58000, 'naver': 150000}"
      ]
     },
     "execution_count": 10,
     "metadata": {},
     "output_type": "execute_result"
    }
   ],
   "source": [
    "sec_price"
   ]
  },
  {
   "cell_type": "markdown",
   "id": "57f4c3c2",
   "metadata": {},
   "source": [
    "#### 5) 딕셔너리로부터 key-value 구하기 "
   ]
  },
  {
   "cell_type": "code",
   "execution_count": 11,
   "id": "0f819bbf",
   "metadata": {},
   "outputs": [
    {
     "data": {
      "text/plain": [
       "{'삼성전자': 58000, 'naver': 150000}"
      ]
     },
     "execution_count": 11,
     "metadata": {},
     "output_type": "execute_result"
    }
   ],
   "source": [
    "# 딕셔너리에 있는 key 값만 구하는 경우\n",
    "# key 값만 구하는 경우 : “딕셔너리이름.keys()”라고 호출 -->딕셔너리이름 다음에 마침표 하나 붙이고 keys()라고 적을 것!!\n",
    "sec_price"
   ]
  },
  {
   "cell_type": "code",
   "execution_count": 12,
   "id": "2b5b2434",
   "metadata": {},
   "outputs": [],
   "source": [
    "sec_price['sk하이닉스'] = 80000"
   ]
  },
  {
   "cell_type": "code",
   "execution_count": 13,
   "id": "e3ac9881",
   "metadata": {},
   "outputs": [
    {
     "data": {
      "text/plain": [
       "{'삼성전자': 58000, 'naver': 150000, 'sk하이닉스': 80000}"
      ]
     },
     "execution_count": 13,
     "metadata": {},
     "output_type": "execute_result"
    }
   ],
   "source": [
    "sec_price"
   ]
  },
  {
   "cell_type": "code",
   "execution_count": 14,
   "id": "58000dff",
   "metadata": {},
   "outputs": [
    {
     "data": {
      "text/plain": [
       "dict_keys(['삼성전자', 'naver', 'sk하이닉스'])"
      ]
     },
     "execution_count": 14,
     "metadata": {},
     "output_type": "execute_result"
    }
   ],
   "source": [
    "# key 값 만 보는 경우\n",
    "sec_price.keys()"
   ]
  },
  {
   "cell_type": "code",
   "execution_count": 15,
   "id": "bed113ea",
   "metadata": {},
   "outputs": [],
   "source": [
    "# value 만 리스트로\n",
    "price_list = list(sec_price.values())"
   ]
  },
  {
   "cell_type": "code",
   "execution_count": 16,
   "id": "15d0e314",
   "metadata": {},
   "outputs": [
    {
     "data": {
      "text/plain": [
       "[58000, 150000, 80000]"
      ]
     },
     "execution_count": 16,
     "metadata": {},
     "output_type": "execute_result"
    }
   ],
   "source": [
    "price_list"
   ]
  },
  {
   "cell_type": "code",
   "execution_count": 17,
   "id": "c4d0a9ff",
   "metadata": {},
   "outputs": [
    {
     "data": {
      "text/plain": [
       "58000"
      ]
     },
     "execution_count": 17,
     "metadata": {},
     "output_type": "execute_result"
    }
   ],
   "source": [
    "# 특정 값만 \n",
    "sec_price['삼성전자']"
   ]
  },
  {
   "cell_type": "code",
   "execution_count": null,
   "id": "db973a4a",
   "metadata": {},
   "outputs": [],
   "source": []
  },
  {
   "cell_type": "code",
   "execution_count": null,
   "id": "1c0b8aec",
   "metadata": {},
   "outputs": [],
   "source": [
    "# 연습"
   ]
  },
  {
   "cell_type": "code",
   "execution_count": 22,
   "id": "2953bff9",
   "metadata": {},
   "outputs": [
    {
     "name": "stdout",
     "output_type": "stream",
     "text": [
      "{'apple': 3500, 'peer': 2500, 'cherry': 5000}\n"
     ]
    }
   ],
   "source": [
    "## 다른 데이터 구조를 딕셔너리형으로 변환 dict( ) \n",
    "fruit_price =[['apple',3500],['peer',2500],['cherry',5000]] \n",
    "fruit_price=dict(fruit_price) \n",
    "print(fruit_price)"
   ]
  },
  {
   "cell_type": "code",
   "execution_count": null,
   "id": "a235282d",
   "metadata": {},
   "outputs": [],
   "source": []
  },
  {
   "cell_type": "markdown",
   "id": "7c7a691f",
   "metadata": {},
   "source": [
    "#### 4. 세트 (Set)"
   ]
  },
  {
   "cell_type": "markdown",
   "id": "3aa40f1d",
   "metadata": {},
   "source": [
    "#### 1) 세트 이해 "
   ]
  },
  {
   "cell_type": "code",
   "execution_count": null,
   "id": "8d446c2b",
   "metadata": {},
   "outputs": [],
   "source": [
    "# 집합 성격 데이터\n",
    "# 중괄호 {} 이용\n",
    "# 중괄호 안에 여러개 데이터인 경우 : 콤마 로 구분\n",
    "# 데이터의 중복을 허용하지 않는다.!!!!\n",
    "# 집합 성격이므로  연산관련 함수 제공 (합집합, 교집합 등)"
   ]
  },
  {
   "cell_type": "markdown",
   "id": "3fa5aec2",
   "metadata": {},
   "source": [
    "#### 2) 세트와 리스트 비교 "
   ]
  },
  {
   "cell_type": "code",
   "execution_count": 19,
   "id": "b73149b5",
   "metadata": {},
   "outputs": [
    {
     "data": {
      "text/plain": [
       "{'naver', '삼성전자', '하이닉스'}"
      ]
     },
     "execution_count": 19,
     "metadata": {},
     "output_type": "execute_result"
    }
   ],
   "source": [
    "# 집합으로 만든 경우 : 중괄호 사용\n",
    "stock_set= {'삼성전자', '하이닉스', 'naver'}\n",
    "stock_set"
   ]
  },
  {
   "cell_type": "code",
   "execution_count": 21,
   "id": "169897de",
   "metadata": {},
   "outputs": [
    {
     "data": {
      "text/plain": [
       "['삼성전자', '하이닉스', 'naver']"
      ]
     },
     "execution_count": 21,
     "metadata": {},
     "output_type": "execute_result"
    }
   ],
   "source": [
    "# 리스트로 만든 경우 : 대괄호 사용\n",
    "stock_list= ['삼성전자', '하이닉스', 'naver']\n",
    "stock_list"
   ]
  },
  {
   "cell_type": "code",
   "execution_count": 22,
   "id": "643036ff",
   "metadata": {},
   "outputs": [
    {
     "data": {
      "text/plain": [
       "{'naver', '삼성전자', '하이닉스'}"
      ]
     },
     "execution_count": 22,
     "metadata": {},
     "output_type": "execute_result"
    }
   ],
   "source": [
    "# set은 중복은 허용하지 않는다.\n",
    "stock_set= {'삼성전자', '하이닉스', 'naver', '삼성전자'}\n",
    "stock_set"
   ]
  },
  {
   "cell_type": "code",
   "execution_count": 25,
   "id": "1162e856",
   "metadata": {},
   "outputs": [
    {
     "data": {
      "text/plain": [
       "['삼성전자', '하이닉스', 'naver', '삼성전자']"
      ]
     },
     "execution_count": 25,
     "metadata": {},
     "output_type": "execute_result"
    }
   ],
   "source": [
    "# 리스트로 만든 경우 : 중복을 허용한다.\n",
    "stock_list= ['삼성전자', '하이닉스', 'naver','삼성전자']\n",
    "stock_list"
   ]
  },
  {
   "cell_type": "markdown",
   "id": "6fb3c25f",
   "metadata": {},
   "source": [
    "#### 3) 세트 데이터 확인하기 "
   ]
  },
  {
   "cell_type": "code",
   "execution_count": null,
   "id": "9ee21189",
   "metadata": {},
   "outputs": [],
   "source": [
    "# 데이터 추가하기\n",
    "# 세트 명을 기입하고 add(추가할 데이터)"
   ]
  },
  {
   "cell_type": "code",
   "execution_count": 27,
   "id": "373a1668",
   "metadata": {},
   "outputs": [
    {
     "data": {
      "text/plain": [
       "{'naver', '삼성전자', '카카오', '하이닉스'}"
      ]
     },
     "execution_count": 27,
     "metadata": {},
     "output_type": "execute_result"
    }
   ],
   "source": [
    "stock_set= {'삼성전자', '하이닉스', 'naver','카카오'}\n",
    "stock_set"
   ]
  },
  {
   "cell_type": "code",
   "execution_count": null,
   "id": "6f168055",
   "metadata": {},
   "outputs": [],
   "source": [
    "# 다른 세트에 데이터 업데이트 하기\n",
    "# 다른 세트 명을 기입하고 update(추가할 데이터)"
   ]
  },
  {
   "cell_type": "code",
   "execution_count": 31,
   "id": "5fe0ed3d",
   "metadata": {},
   "outputs": [],
   "source": [
    "stock_set= {'삼성전자', '하이닉스', 'naver','카카오'}\n",
    "stock_set1= {'카카오뱅크','신한지주'}\n"
   ]
  },
  {
   "cell_type": "code",
   "execution_count": 32,
   "id": "7f5cbcf8",
   "metadata": {},
   "outputs": [
    {
     "data": {
      "text/plain": [
       "{'신한지주', '카카오뱅크'}"
      ]
     },
     "execution_count": 32,
     "metadata": {},
     "output_type": "execute_result"
    }
   ],
   "source": [
    "stock_set1"
   ]
  },
  {
   "cell_type": "code",
   "execution_count": 34,
   "id": "a9c34543",
   "metadata": {},
   "outputs": [
    {
     "data": {
      "text/plain": [
       "{'naver', '삼성전자', '신한지주', '카카오', '카카오뱅크', '하이닉스'}"
      ]
     },
     "execution_count": 34,
     "metadata": {},
     "output_type": "execute_result"
    }
   ],
   "source": [
    "# 기존 stock_set 에 다른 데이터 set (stock_set1)을 추가하는 update\n",
    "stock_set.update(stock_set1)\n",
    "stock_set"
   ]
  },
  {
   "cell_type": "code",
   "execution_count": null,
   "id": "bb13a974",
   "metadata": {},
   "outputs": [],
   "source": []
  },
  {
   "cell_type": "markdown",
   "id": "9d529c86",
   "metadata": {},
   "source": [
    "# 문자열"
   ]
  },
  {
   "cell_type": "code",
   "execution_count": null,
   "id": "776c3034",
   "metadata": {},
   "outputs": [],
   "source": []
  },
  {
   "cell_type": "code",
   "execution_count": 5,
   "id": "7ed378c2",
   "metadata": {},
   "outputs": [
    {
     "data": {
      "text/plain": [
       "11"
      ]
     },
     "execution_count": 5,
     "metadata": {},
     "output_type": "execute_result"
    }
   ],
   "source": [
    "# 문자 길이 ()\n",
    "# 단어 사이에 있는 공백도 하나의 문자로 간주\n",
    "string  = 'hello world'\n",
    "len(string)"
   ]
  },
  {
   "cell_type": "code",
   "execution_count": null,
   "id": "903edb7f",
   "metadata": {},
   "outputs": [],
   "source": [
    "# 문자열 인덱싱과 슬라이싱"
   ]
  },
  {
   "cell_type": "code",
   "execution_count": null,
   "id": "22ad0947",
   "metadata": {},
   "outputs": [],
   "source": [
    "# 슬라이싱(slice)’\n",
    "# 원하는 문자열의 범위를 지정\n",
    "# 소괄호(), 중괄호{}, 대괄호[]\n",
    "#  대괄호 [ ]는 슬라이싱할 범위를 지정할 때 사용하는 기호"
   ]
  },
  {
   "cell_type": "code",
   "execution_count": 6,
   "id": "96ea97ba",
   "metadata": {},
   "outputs": [
    {
     "data": {
      "text/plain": [
       "'hello'"
      ]
     },
     "execution_count": 6,
     "metadata": {},
     "output_type": "execute_result"
    }
   ],
   "source": [
    "# 0은 시작 위치, 5는 끝 위치를 의미\n",
    "# 시작과 끝을 구분하기 위해 그 사이에 콜론(:) 사용\n",
    "string[0:5]"
   ]
  },
  {
   "cell_type": "code",
   "execution_count": 7,
   "id": "1b6b4a75",
   "metadata": {},
   "outputs": [
    {
     "data": {
      "text/plain": [
       "'hello w'"
      ]
     },
     "execution_count": 7,
     "metadata": {},
     "output_type": "execute_result"
    }
   ],
   "source": [
    "string[0:7]"
   ]
  },
  {
   "cell_type": "code",
   "execution_count": 8,
   "id": "979935a4",
   "metadata": {},
   "outputs": [
    {
     "data": {
      "text/plain": [
       "'world'"
      ]
     },
     "execution_count": 8,
     "metadata": {},
     "output_type": "execute_result"
    }
   ],
   "source": [
    "string[6:11]"
   ]
  },
  {
   "cell_type": "code",
   "execution_count": 9,
   "id": "6b44bd4a",
   "metadata": {},
   "outputs": [
    {
     "data": {
      "text/plain": [
       "'world'"
      ]
     },
     "execution_count": 9,
     "metadata": {},
     "output_type": "execute_result"
    }
   ],
   "source": [
    "string[6:]"
   ]
  },
  {
   "cell_type": "code",
   "execution_count": 11,
   "id": "1d856049",
   "metadata": {},
   "outputs": [
    {
     "data": {
      "text/plain": [
       "'wor'"
      ]
     },
     "execution_count": 11,
     "metadata": {},
     "output_type": "execute_result"
    }
   ],
   "source": [
    "string[6:-2]"
   ]
  },
  {
   "cell_type": "code",
   "execution_count": 17,
   "id": "f31e0727",
   "metadata": {},
   "outputs": [],
   "source": [
    "# 쉬어가기 l!!!!!\n",
    "# string 정도만 입력한 상태에서 키보드의 탭(Tab) 키를 누르면 자동으로 변수명이 완성 --> 변수명이 긴 경우에 유용하게 활용\n",
    "ansan_univ = 100\n"
   ]
  },
  {
   "cell_type": "code",
   "execution_count": 18,
   "id": "dccc06a7",
   "metadata": {},
   "outputs": [
    {
     "data": {
      "text/plain": [
       "100"
      ]
     },
     "execution_count": 18,
     "metadata": {},
     "output_type": "execute_result"
    }
   ],
   "source": [
    "ansan_univ"
   ]
  },
  {
   "cell_type": "code",
   "execution_count": 19,
   "id": "cd54c5d5",
   "metadata": {},
   "outputs": [
    {
     "data": {
      "text/plain": [
       "100"
      ]
     },
     "execution_count": 19,
     "metadata": {},
     "output_type": "execute_result"
    }
   ],
   "source": []
  },
  {
   "cell_type": "code",
   "execution_count": null,
   "id": "183a6133",
   "metadata": {},
   "outputs": [],
   "source": [
    "# 문자열 자르기\n",
    "#  split :  메서드(method) 지원\n",
    "# 파이썬에서 문자열을 분리하고 싶을 때는 위 코드 split 메서드를 사용"
   ]
  },
  {
   "cell_type": "code",
   "execution_count": 20,
   "id": "e438e03a",
   "metadata": {},
   "outputs": [],
   "source": [
    "stock  = \"SK LG\""
   ]
  },
  {
   "cell_type": "code",
   "execution_count": 21,
   "id": "caaaca82",
   "metadata": {},
   "outputs": [
    {
     "data": {
      "text/plain": [
       "'SK LG'"
      ]
     },
     "execution_count": 21,
     "metadata": {},
     "output_type": "execute_result"
    }
   ],
   "source": [
    "stock "
   ]
  },
  {
   "cell_type": "code",
   "execution_count": 22,
   "id": "7cdcc258",
   "metadata": {},
   "outputs": [
    {
     "data": {
      "text/plain": [
       "['SK', 'LG']"
      ]
     },
     "execution_count": 22,
     "metadata": {},
     "output_type": "execute_result"
    }
   ],
   "source": [
    "# split(' ')과 같이 작은따옴표 사이에 공백\n",
    "stock.split(' ')"
   ]
  },
  {
   "cell_type": "code",
   "execution_count": 23,
   "id": "5660dc79",
   "metadata": {},
   "outputs": [
    {
     "data": {
      "text/plain": [
       "'SK'"
      ]
     },
     "execution_count": 23,
     "metadata": {},
     "output_type": "execute_result"
    }
   ],
   "source": [
    "# 인덱스 값[0]을 사용해 리스트의 첫 번째 값\n",
    "stock.split(' ')[0]"
   ]
  },
  {
   "cell_type": "code",
   "execution_count": 24,
   "id": "838d8c55",
   "metadata": {},
   "outputs": [
    {
     "name": "stdout",
     "output_type": "stream",
     "text": [
      "SK\n"
     ]
    }
   ],
   "source": [
    "# 출력 함수 : print\n",
    "print(stock.split(' ')[0])"
   ]
  },
  {
   "cell_type": "code",
   "execution_count": null,
   "id": "c3154d04",
   "metadata": {},
   "outputs": [],
   "source": [
    "# 문자열 합치기"
   ]
  },
  {
   "cell_type": "code",
   "execution_count": 32,
   "id": "95f0077c",
   "metadata": {},
   "outputs": [],
   "source": [
    "meta = \"META\"\n",
    "facebook = \"FACEBOOK\""
   ]
  },
  {
   "cell_type": "code",
   "execution_count": 35,
   "id": "52a9cd53",
   "metadata": {},
   "outputs": [
    {
     "data": {
      "text/plain": [
       "'METAFACEBOOK'"
      ]
     },
     "execution_count": 35,
     "metadata": {},
     "output_type": "execute_result"
    }
   ],
   "source": [
    "# 이름을 변수로 지정해두지 두지 않으면 문자열 객체를 사용할 때마다 두 문자열을 합치는 번거로운 작업이 필요-->  합쳐진 문자열을 다른 변수가 가리키게 해준다.\n",
    "meta + facebook"
   ]
  },
  {
   "cell_type": "code",
   "execution_count": 34,
   "id": "9771175a",
   "metadata": {},
   "outputs": [
    {
     "data": {
      "text/plain": [
       "'META FACEBOOK'"
      ]
     },
     "execution_count": 34,
     "metadata": {},
     "output_type": "execute_result"
    }
   ],
   "source": [
    "# 공백을 표시하고 싶으면 작은따옴표('') 사이에 공백을 넣어서 표현\n",
    "meta + ' ' +facebook"
   ]
  },
  {
   "cell_type": "markdown",
   "id": "76a384cc",
   "metadata": {},
   "source": [
    "## 날짜와 시간 설정¶"
   ]
  },
  {
   "cell_type": "code",
   "execution_count": null,
   "id": "ac55a599",
   "metadata": {},
   "outputs": [],
   "source": [
    "# datetime 패키지\n",
    "# 날짜와 시간을 함께 저장하는 datetime 클래스\n",
    "# 날짜만 저장하는 date 클래스, \n",
    "# 시간만 저장하는 time 클래스, \n",
    "# 시간 구간 정보를 저장하는 timedelta 클래스 등을 제공"
   ]
  },
  {
   "cell_type": "code",
   "execution_count": 49,
   "id": "591ee14b",
   "metadata": {},
   "outputs": [
    {
     "name": "stdout",
     "output_type": "stream",
     "text": [
      "2022-10-26 12:23:01.895475\n"
     ]
    }
   ],
   "source": [
    "import datetime as dt\n",
    "x = dt.datetime.now()\n",
    "print(x)\n",
    "\n",
    "# now 클래스 메서드는 컴퓨터의 현재 시각을 datetime 클래스 객체로 만들어 반환한다. \n",
    "# datetime 클래스 객체는 다음과 같은 속성을 가진다.\n",
    "# year: 연도\n",
    "# month: 월\n",
    "# day: 일\n",
    "# hour: 시\n",
    "# minute: 분\n",
    "# second: 초\n",
    "# microsecond: 마이크로초(micro seconds, 백만분의 일초)"
   ]
  },
  {
   "cell_type": "code",
   "execution_count": 50,
   "id": "4f3b5e95",
   "metadata": {},
   "outputs": [
    {
     "data": {
      "text/plain": [
       "datetime.datetime(2022, 10, 26, 12, 23, 13, 723144)"
      ]
     },
     "execution_count": 50,
     "metadata": {},
     "output_type": "execute_result"
    }
   ],
   "source": [
    "import datetime as dt\n",
    "x = dt.datetime.now()\n",
    "x"
   ]
  },
  {
   "cell_type": "code",
   "execution_count": null,
   "id": "2bde1e8b",
   "metadata": {},
   "outputs": [],
   "source": [
    "# 다음과 같은 메서드도 제공\n",
    "# weekday: 요일 반환 (0:월, 1:화, 2:수, 3:목, 4:금, 5:토, 6:일)\n",
    "# strftime: 문자열 반환\n",
    "# date: 날짜 정보만 가지는 date 클래스 객체 반환\n",
    "# time: 시간 정보만 가지는 time 클래스 객체 반환"
   ]
  },
  {
   "cell_type": "code",
   "execution_count": 51,
   "id": "4ca247f8",
   "metadata": {},
   "outputs": [
    {
     "data": {
      "text/plain": [
       "2"
      ]
     },
     "execution_count": 51,
     "metadata": {},
     "output_type": "execute_result"
    }
   ],
   "source": [
    "x.weekday()"
   ]
  },
  {
   "cell_type": "code",
   "execution_count": 52,
   "id": "2b5aa372",
   "metadata": {},
   "outputs": [
    {
     "data": {
      "text/plain": [
       "datetime.date(2022, 10, 26)"
      ]
     },
     "execution_count": 52,
     "metadata": {},
     "output_type": "execute_result"
    }
   ],
   "source": [
    "x.date()"
   ]
  },
  {
   "cell_type": "code",
   "execution_count": 53,
   "id": "a9099c52",
   "metadata": {},
   "outputs": [
    {
     "data": {
      "text/plain": [
       "datetime.time(12, 23, 13, 723144)"
      ]
     },
     "execution_count": 53,
     "metadata": {},
     "output_type": "execute_result"
    }
   ],
   "source": [
    "x.time()"
   ]
  },
  {
   "cell_type": "code",
   "execution_count": null,
   "id": "93000b00",
   "metadata": {},
   "outputs": [],
   "source": []
  }
 ],
 "metadata": {
  "kernelspec": {
   "display_name": "Python 3 (ipykernel)",
   "language": "python",
   "name": "python3"
  },
  "language_info": {
   "codemirror_mode": {
    "name": "ipython",
    "version": 3
   },
   "file_extension": ".py",
   "mimetype": "text/x-python",
   "name": "python",
   "nbconvert_exporter": "python",
   "pygments_lexer": "ipython3",
   "version": "3.9.6"
  }
 },
 "nbformat": 4,
 "nbformat_minor": 5
}
