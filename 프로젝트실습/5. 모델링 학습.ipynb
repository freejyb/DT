{
 "cells": [
  {
   "cell_type": "markdown",
   "metadata": {},
   "source": [
    "### 1. 모델링 학습 개요\n",
    "#### 1-1. 모델\n",
    "- 1) 로지스틱 회귀 (logistic regression)\n",
    "     : 독립 변수의 선형 결합을 이용하여 사건의 발생 가능성을 예측하는 데 사용되는 통계 기법\n",
    "- 2) 의사결정나무(decision tree)\n",
    "      : 여러 가지 규칙을 순차적으로 적용하면서 독립 변수 공간을 분할하는 분류 모형\n",
    "- 3) 랜덤 포레스트(random forest)\n",
    "  : 여러 개의 의사결정나무를 구성하고, 각 의사결정나무의 예측 결과를 다수결 방식으로 조합하여 최종 예측 결과를 결정\n",
    "- 4) XGBoost(eXtreme Gradient Boosting) XGB :\n",
    "     : 앙상블의 부스팅 기법의 한 종류로 이전 모델의 오류를 순차적으로 보완해나가는 방식으로 모델을 형성한다.즉, 이전 모델에서의 실제값과 예측값의 오차(loss)를 훈련데이터 투입하고 gradient를 이용하여 오류를 보완하는 방식을 사용한다.\n",
    "     \n",
    "#### 1-2 성능평가"
   ]
  },
  {
   "cell_type": "markdown",
   "metadata": {},
   "source": [
    "### 2. 모델링"
   ]
  },
  {
   "cell_type": "markdown",
   "metadata": {},
   "source": [
    "#### 2-1 데이터 불러오기"
   ]
  },
  {
   "cell_type": "code",
   "execution_count": 1,
   "metadata": {},
   "outputs": [],
   "source": [
    "# 필요 라이브러리 import \n",
    "import pandas as pd\n",
    "import numpy as np\n",
    "from sklearn.preprocessing import MinMaxScaler\n",
    "import matplotlib.pyplot as plt\n"
   ]
  },
  {
   "cell_type": "code",
   "execution_count": 2,
   "metadata": {},
   "outputs": [],
   "source": [
    "# 최종 선택된 피처 데이터 불러오기\n",
    "df_train = pd.read_csv(\"./data/4. train_data.csv\")\n",
    "df_test = pd.read_csv(\"./data/4. test_data.csv\")"
   ]
  },
  {
   "cell_type": "code",
   "execution_count": 3,
   "metadata": {},
   "outputs": [
    {
     "data": {
      "text/html": [
       "<div>\n",
       "<style scoped>\n",
       "    .dataframe tbody tr th:only-of-type {\n",
       "        vertical-align: middle;\n",
       "    }\n",
       "\n",
       "    .dataframe tbody tr th {\n",
       "        vertical-align: top;\n",
       "    }\n",
       "\n",
       "    .dataframe thead th {\n",
       "        text-align: right;\n",
       "    }\n",
       "</style>\n",
       "<table border=\"1\" class=\"dataframe\">\n",
       "  <thead>\n",
       "    <tr style=\"text-align: right;\">\n",
       "      <th></th>\n",
       "      <th>유동비율</th>\n",
       "      <th>자기자본이익률</th>\n",
       "      <th>자기자본성장률</th>\n",
       "      <th>총자산회전율</th>\n",
       "      <th>총자산이익률</th>\n",
       "      <th>label</th>\n",
       "    </tr>\n",
       "  </thead>\n",
       "  <tbody>\n",
       "    <tr>\n",
       "      <th>0</th>\n",
       "      <td>104.10</td>\n",
       "      <td>2.29</td>\n",
       "      <td>9.57</td>\n",
       "      <td>0.00</td>\n",
       "      <td>0.99</td>\n",
       "      <td>0</td>\n",
       "    </tr>\n",
       "    <tr>\n",
       "      <th>1</th>\n",
       "      <td>809.29</td>\n",
       "      <td>6.63</td>\n",
       "      <td>30.17</td>\n",
       "      <td>23.21</td>\n",
       "      <td>5.61</td>\n",
       "      <td>1</td>\n",
       "    </tr>\n",
       "    <tr>\n",
       "      <th>2</th>\n",
       "      <td>134.06</td>\n",
       "      <td>0.00</td>\n",
       "      <td>29.25</td>\n",
       "      <td>53.80</td>\n",
       "      <td>0.00</td>\n",
       "      <td>0</td>\n",
       "    </tr>\n",
       "    <tr>\n",
       "      <th>3</th>\n",
       "      <td>67.05</td>\n",
       "      <td>2.90</td>\n",
       "      <td>10.38</td>\n",
       "      <td>18.95</td>\n",
       "      <td>1.22</td>\n",
       "      <td>0</td>\n",
       "    </tr>\n",
       "    <tr>\n",
       "      <th>4</th>\n",
       "      <td>52.81</td>\n",
       "      <td>1.31</td>\n",
       "      <td>5.68</td>\n",
       "      <td>41.51</td>\n",
       "      <td>0.66</td>\n",
       "      <td>0</td>\n",
       "    </tr>\n",
       "    <tr>\n",
       "      <th>...</th>\n",
       "      <td>...</td>\n",
       "      <td>...</td>\n",
       "      <td>...</td>\n",
       "      <td>...</td>\n",
       "      <td>...</td>\n",
       "      <td>...</td>\n",
       "    </tr>\n",
       "    <tr>\n",
       "      <th>7353</th>\n",
       "      <td>1108.08</td>\n",
       "      <td>1.53</td>\n",
       "      <td>3.38</td>\n",
       "      <td>0.00</td>\n",
       "      <td>1.43</td>\n",
       "      <td>0</td>\n",
       "    </tr>\n",
       "    <tr>\n",
       "      <th>7354</th>\n",
       "      <td>212.81</td>\n",
       "      <td>3.30</td>\n",
       "      <td>4.55</td>\n",
       "      <td>0.00</td>\n",
       "      <td>2.44</td>\n",
       "      <td>0</td>\n",
       "    </tr>\n",
       "    <tr>\n",
       "      <th>7355</th>\n",
       "      <td>167.57</td>\n",
       "      <td>1.66</td>\n",
       "      <td>7.90</td>\n",
       "      <td>0.00</td>\n",
       "      <td>1.20</td>\n",
       "      <td>0</td>\n",
       "    </tr>\n",
       "    <tr>\n",
       "      <th>7356</th>\n",
       "      <td>35.11</td>\n",
       "      <td>10.73</td>\n",
       "      <td>-72.95</td>\n",
       "      <td>6.36</td>\n",
       "      <td>-2.79</td>\n",
       "      <td>0</td>\n",
       "    </tr>\n",
       "    <tr>\n",
       "      <th>7357</th>\n",
       "      <td>614.55</td>\n",
       "      <td>6.21</td>\n",
       "      <td>27.92</td>\n",
       "      <td>29.90</td>\n",
       "      <td>4.84</td>\n",
       "      <td>0</td>\n",
       "    </tr>\n",
       "  </tbody>\n",
       "</table>\n",
       "<p>7358 rows × 6 columns</p>\n",
       "</div>"
      ],
      "text/plain": [
       "         유동비율  자기자본이익률  자기자본성장률  총자산회전율  총자산이익률  label\n",
       "0      104.10     2.29     9.57    0.00    0.99      0\n",
       "1      809.29     6.63    30.17   23.21    5.61      1\n",
       "2      134.06     0.00    29.25   53.80    0.00      0\n",
       "3       67.05     2.90    10.38   18.95    1.22      0\n",
       "4       52.81     1.31     5.68   41.51    0.66      0\n",
       "...       ...      ...      ...     ...     ...    ...\n",
       "7353  1108.08     1.53     3.38    0.00    1.43      0\n",
       "7354   212.81     3.30     4.55    0.00    2.44      0\n",
       "7355   167.57     1.66     7.90    0.00    1.20      0\n",
       "7356    35.11    10.73   -72.95    6.36   -2.79      0\n",
       "7357   614.55     6.21    27.92   29.90    4.84      0\n",
       "\n",
       "[7358 rows x 6 columns]"
      ]
     },
     "execution_count": 3,
     "metadata": {},
     "output_type": "execute_result"
    }
   ],
   "source": [
    "df_train"
   ]
  },
  {
   "cell_type": "markdown",
   "metadata": {},
   "source": [
    "### 2-2 feature taget 분리"
   ]
  },
  {
   "cell_type": "code",
   "execution_count": 4,
   "metadata": {},
   "outputs": [],
   "source": [
    "# 훈련 데이터에서 'label' 컬럼을 제외하여 독립 변수 X_train을 생성\n",
    "x_train = df_train.drop('label', axis=1)  # 'label' 열을 제외한 나머지 특성들\n",
    "y_train = df_train[\"label\"]  # 'label' 열을 종속 변수로 설정\n",
    "\n",
    "# 테스트 데이터에서 'label' 컬럼을 제외하여 독립 변수 X_test를 생성\n",
    "x_test = df_test.drop('label', axis=1)  # 'label' 열을 제외한 나머지 특성들\n",
    "y_test = df_test[\"label\"]  # 'label' 열을 종속 변수로 설정\n"
   ]
  },
  {
   "cell_type": "markdown",
   "metadata": {},
   "source": [
    "### 2-3 스케일링 적용"
   ]
  },
  {
   "cell_type": "code",
   "execution_count": 5,
   "metadata": {},
   "outputs": [],
   "source": [
    "# 데이터 스케일링을 위한 StandardScaler 객체 생성\n",
    "from sklearn.preprocessing import StandardScaler\n",
    "scaler = StandardScaler()\n",
    "\n",
    "# 훈련 데이터에 대해 fit 메서드를 사용하여 평균과 표준편차 계산\n",
    "scaler.fit(x_train)  # x_train 데이터를 기반으로 스케일링 파라미터 계산\n",
    "\n",
    "# 훈련 데이터와 테스트 데이터를 각각 스케일링 적용\n",
    "x_train_std = scaler.transform(x_train)  # 훈련 데이터를 스케일링\n",
    "x_test_std = scaler.transform(x_test)    # 테스트 데이터를 스케일링\n",
    "\n",
    "# 스케일링된 데이터를 pandas DataFrame 형태로 변환하여 컬럼명 유지\n",
    "x_train_std = pd.DataFrame(x_train_std, columns=x_train.columns)  # 스케일링된 훈련 데이터를 DataFrame으로 변환\n",
    "x_test_std = pd.DataFrame(x_test_std, columns=x_test.columns)    # 스케일링된 테스트 데이터를 DataFrame으로 변환\n"
   ]
  },
  {
   "cell_type": "markdown",
   "metadata": {},
   "source": [
    "### 2-4 모델 학습"
   ]
  },
  {
   "cell_type": "markdown",
   "metadata": {},
   "source": [
    "- 혼동 행렬(Confusion Matrix) :분류(Classifier) 모델의 예측값과 실제 값의 교차표- 행렬 값들을 조합해 학습 성능 평가에 사용한다.\n",
    "- TP(True Positive) : 실제 값이 Positive인 경우를 올바르게 예측\n",
    "- TN(True Negative) : 실제 값이 Negative인 경우를 올바르게 예측\n",
    "- FP(False Positive) : 실제 값이 Negative인 경우를 Positive로 잘못 예측\n",
    "- FN(False Negative) : 실제 값이 Positive인 경우를 Negative로 잘못 예측\n",
    "\n",
    "- 1) 정확도(Accuracy) :전체 건수중 실제 값을 올바르게 예측한 비율을 나타낸다. 따라서 정확도는 0에서 1사이의 값을 가진다.\n",
    " : (TP+TN)/(TP+TN+FP+FN)\n",
    "- 2) 재현율(Recall : 실제 부실기업(1) 을 부실기업으로 예측한 경우 --> Recall = TP / (FN + TP)\n",
    "- 3) 정밀도(Precision): 부실기업이라고 예측된 경우 중 정확히 부실기업으로 맞춘 경우 ==> Precision = TP / (FP + TP)\n",
    "- 4) F-1 Score : 정밀도와 재현율을 따로 볼 경우 Trade off 관계가 발생, 이러한 문제를 해결하기 위해 둘을 조화평균한 값 F1-Score\n",
    "-    => F1 = 2* (Precision * Recall)/ (Precision + Recall)"
   ]
  },
  {
   "cell_type": "code",
   "execution_count": 6,
   "metadata": {},
   "outputs": [],
   "source": [
    "# 필요한 라이브러리 불러오기\n",
    "import pandas as pd\n",
    "from sklearn.metrics import classification_report, accuracy_score # 성능평가 라이브러리리\n",
    "from sklearn.metrics import confusion_matrix # 오차행렬 데이터\n",
    "\n",
    "# 시각화 라이브러리 불러오기\n",
    "import seaborn as sns\n",
    "import matplotlib.pyplot as plt"
   ]
  },
  {
   "cell_type": "markdown",
   "metadata": {},
   "source": [
    "#### 1) 로지스틱 회귀"
   ]
  },
  {
   "cell_type": "code",
   "execution_count": 7,
   "metadata": {},
   "outputs": [
    {
     "name": "stdout",
     "output_type": "stream",
     "text": [
      "Logistic Regression Accuracy: 0.9463\n",
      "Classification Report for Logistic Regression:\n",
      "              precision    recall  f1-score   support\n",
      "\n",
      "           0       0.96      0.99      0.97      3107\n",
      "           1       0.18      0.05      0.07       150\n",
      "\n",
      "    accuracy                           0.95      3257\n",
      "   macro avg       0.57      0.52      0.52      3257\n",
      "weighted avg       0.92      0.95      0.93      3257\n",
      "\n"
     ]
    }
   ],
   "source": [
    "from sklearn.linear_model import LogisticRegression\n",
    "\n",
    "# 로지스틱 회귀 모델 생성\n",
    "logreg_model = LogisticRegression(max_iter=1000, random_state=42)\n",
    "\n",
    "# 모델 학습\n",
    "logreg_model.fit(x_train_std, y_train)\n",
    "\n",
    "# 예측\n",
    "y_pred_logreg = logreg_model.predict(x_test_std)\n",
    "\n",
    "# 성능 평가\n",
    "print(f'Logistic Regression Accuracy: {accuracy_score(y_test, y_pred_logreg):.4f}')\n",
    "print('Classification Report for Logistic Regression:')\n",
    "print(classification_report(y_test, y_pred_logreg))"
   ]
  },
  {
   "cell_type": "code",
   "execution_count": 8,
   "metadata": {},
   "outputs": [
    {
     "data": {
      "image/png": "[encoded data removed]",
      "text/plain": [
       "<Figure size 600x400 with 1 Axes>"
      ]
     },
     "metadata": {},
     "output_type": "display_data"
    }
   ],
   "source": [
    "# Confusion Matrix 계산\n",
    "cm_logreg = confusion_matrix(y_test, y_pred_logreg)\n",
    "\n",
    "# Confusion Matrix 시각화\n",
    "plt.figure(figsize=(6, 4))  # 시각화의 크기를 설정\n",
    "sns.heatmap(cm_logreg, annot=True, fmt='d', cmap='Blues', cbar=False, xticklabels=['Pred 0', 'Pred 1'], yticklabels=['True 0', 'True 1'])\n",
    "# annot=True: 각 셀에 숫자 값을 표시\n",
    "# xticklabels, yticklabels: x축과 y축의 레이블을 설정 (예측 값, 실제 값)\n",
    "\n",
    "# 제목, 레이블 설정\n",
    "plt.title('Logistic Regression Confusion Matrix')  # 제목 설정\n",
    "plt.xlabel('Predicted Labels')  # x축 레이블 설정\n",
    "plt.ylabel('True Labels')  # y축 레이블 설정\n",
    "\n",
    "plt.tight_layout()  # 레이아웃을 자동으로 조정하여 요소들이 겹치지 않도록 설정\n",
    "plt.show()  # 시각화 결과 출력"
   ]
  },
  {
   "cell_type": "markdown",
   "metadata": {},
   "source": [
    "#### 2) 의사결정나무(decision tree)"
   ]
  },
  {
   "cell_type": "code",
   "execution_count": 9,
   "metadata": {},
   "outputs": [
    {
     "name": "stdout",
     "output_type": "stream",
     "text": [
      "Accuracy: 0.9002\n",
      "Classification Report:\n",
      "              precision    recall  f1-score   support\n",
      "\n",
      "           0       0.96      0.94      0.95      3107\n",
      "           1       0.08      0.11      0.09       150\n",
      "\n",
      "    accuracy                           0.90      3257\n",
      "   macro avg       0.52      0.53      0.52      3257\n",
      "weighted avg       0.92      0.90      0.91      3257\n",
      "\n"
     ]
    }
   ],
   "source": [
    "# 디시전트리 라이브러리 불러오기기\n",
    "from sklearn.tree import DecisionTreeClassifier \n",
    "\n",
    "# Decision Tree 모델 생성\n",
    "model = DecisionTreeClassifier(random_state=42)\n",
    "\n",
    "# 모델 학습\n",
    "model.fit(x_train_std, y_train)\n",
    "\n",
    "# 예측\n",
    "y_pred = model.predict(x_test_std)\n",
    "\n",
    "# 성능 평가\n",
    "accuracy = accuracy_score(y_test, y_pred)\n",
    "print(f'Accuracy: {accuracy:.4f}')\n",
    "print('Classification Report:')\n",
    "print(classification_report(y_test, y_pred))"
   ]
  },
  {
   "cell_type": "code",
   "execution_count": 17,
   "metadata": {},
   "outputs": [
    {
     "data": {
      "image/png": "[encoded data removed]",
      "text/plain": [
       "<Figure size 600x400 with 1 Axes>"
      ]
     },
     "metadata": {},
     "output_type": "display_data"
    }
   ],
   "source": [
    "# Confusion Matrix 계산\n",
    "cm_dt = confusion_matrix(y_test, y_pred)\n",
    "\n",
    "# Confusion Matrix 시각화\n",
    "plt.figure(figsize=(6, 4))  # 시각화의 크기를 설정\n",
    "sns.heatmap(cm_dt, annot=True, fmt='d', cmap='Blues', cbar=False, xticklabels=['Pred 0', 'Pred 1'], yticklabels=['True 0', 'True 1'])\n",
    "# annot=True: 각 셀에 숫자 값을 표시\n",
    "# xticklabels, yticklabels: x축과 y축의 레이블을 설정 (예측 값, 실제 값)\n",
    "\n",
    "# 제목, 레이블 설정\n",
    "plt.title('Logistic Regression Confusion Matrix')  # 제목 설정\n",
    "plt.xlabel('Predicted Labels')  # x축 레이블 설정\n",
    "plt.ylabel('True Labels')  # y축 레이블 설정\n",
    "\n",
    "plt.tight_layout()  # 레이아웃을 자동으로 조정하여 요소들이 겹치지 않도록 설정\n",
    "plt.show()  # 시각화 결과 출력"
   ]
  },
  {
   "cell_type": "markdown",
   "metadata": {},
   "source": [
    "#### 3) 랜덤 포레스트(random forest)"
   ]
  },
  {
   "cell_type": "code",
   "execution_count": 18,
   "metadata": {},
   "outputs": [
    {
     "name": "stdout",
     "output_type": "stream",
     "text": [
      "Random Forest Accuracy: 0.9475\n",
      "Classification Report for Random Forest:\n",
      "              precision    recall  f1-score   support\n",
      "\n",
      "           0       0.95      0.99      0.97      3107\n",
      "           1       0.14      0.03      0.04       150\n",
      "\n",
      "    accuracy                           0.95      3257\n",
      "   macro avg       0.55      0.51      0.51      3257\n",
      "weighted avg       0.92      0.95      0.93      3257\n",
      "\n"
     ]
    }
   ],
   "source": [
    "from sklearn.ensemble import RandomForestClassifier\n",
    "\n",
    "# 랜덤포레스트 모델 생성\n",
    "rf_model = RandomForestClassifier(n_estimators=100, random_state=42) # 디폴트값진행\n",
    "\n",
    "# 모델 학습\n",
    "rf_model.fit(x_train_std, y_train)\n",
    "\n",
    "# 예측\n",
    "y_pred_rf = rf_model.predict(x_test_std)\n",
    "\n",
    "# 성능 평가\n",
    "print(f'Random Forest Accuracy: {accuracy_score(y_test, y_pred_rf):.4f}')\n",
    "print('Classification Report for Random Forest:')\n",
    "print(classification_report(y_test, y_pred_rf))"
   ]
  },
  {
   "cell_type": "code",
   "execution_count": 19,
   "metadata": {},
   "outputs": [
    {
     "data": {
      "image/png": "[encoded data removed]",
      "text/plain": [
       "<Figure size 600x400 with 1 Axes>"
      ]
     },
     "metadata": {},
     "output_type": "display_data"
    }
   ],
   "source": [
    "# Confusion Matrix 계산\n",
    "cm_rf = confusion_matrix(y_test, y_pred_rf)\n",
    "\n",
    "# Confusion Matrix 시각화\n",
    "plt.figure(figsize=(6, 4))  # 시각화의 크기를 설정\n",
    "sns.heatmap(cm_rf, annot=True, fmt='d', cmap='Blues', cbar=False, xticklabels=['Pred 0', 'Pred 1'], yticklabels=['True 0', 'True 1'])\n",
    "# annot=True: 각 셀에 숫자 값을 표시\n",
    "# xticklabels, yticklabels: x축과 y축의 레이블을 설정 (예측 값, 실제 값)\n",
    "\n",
    "# 제목, 레이블 설정\n",
    "plt.title('Logistic Regression Confusion Matrix')  # 제목 설정\n",
    "plt.xlabel('Predicted Labels')  # x축 레이블 설정\n",
    "plt.ylabel('True Labels')  # y축 레이블 설정\n",
    "\n",
    "plt.tight_layout()  # 레이아웃을 자동으로 조정하여 요소들이 겹치지 않도록 설정\n",
    "plt.show()  # 시각화 결과 출력"
   ]
  },
  {
   "cell_type": "markdown",
   "metadata": {},
   "source": [
    "#### 4) XGBoost(eXtreme Gradient Boosting)"
   ]
  },
  {
   "cell_type": "code",
   "execution_count": 13,
   "metadata": {},
   "outputs": [
    {
     "name": "stdout",
     "output_type": "stream",
     "text": [
      "XGBoost Accuracy: 0.9466\n",
      "Classification Report for XGBoost:\n",
      "              precision    recall  f1-score   support\n",
      "\n",
      "           0       0.96      0.99      0.97      3107\n",
      "           1       0.15      0.03      0.05       150\n",
      "\n",
      "    accuracy                           0.95      3257\n",
      "   macro avg       0.55      0.51      0.51      3257\n",
      "weighted avg       0.92      0.95      0.93      3257\n",
      "\n"
     ]
    }
   ],
   "source": [
    "import xgboost as xgb\n",
    "\n",
    "# XGBoost 모델 생성\n",
    "xgb_model = xgb.XGBClassifier(use_label_encoder=False, eval_metric='mlogloss', random_state=42)\n",
    "\n",
    "# 모델 학습\n",
    "xgb_model.fit(x_train_std, y_train)\n",
    "\n",
    "# 예측\n",
    "y_pred_xgb = xgb_model.predict(x_test_std)\n",
    "\n",
    "# 성능 평가\n",
    "print(f'XGBoost Accuracy: {accuracy_score(y_test, y_pred_xgb):.4f}')\n",
    "print('Classification Report for XGBoost:')\n",
    "print(classification_report(y_test, y_pred_xgb))\n"
   ]
  },
  {
   "cell_type": "code",
   "execution_count": 20,
   "metadata": {},
   "outputs": [
    {
     "data": {
      "image/png": "[encoded data removed]",
      "text/plain": [
       "<Figure size 600x400 with 1 Axes>"
      ]
     },
     "metadata": {},
     "output_type": "display_data"
    }
   ],
   "source": [
    "# Confusion Matrix 계산\n",
    "cm_xgb = confusion_matrix(y_test, y_pred_xgb)\n",
    "\n",
    "# Confusion Matrix 시각화\n",
    "plt.figure(figsize=(6, 4))  # 시각화의 크기를 설정\n",
    "sns.heatmap(cm_xgb, annot=True, fmt='d', cmap='Blues', cbar=False, xticklabels=['Pred 0', 'Pred 1'], yticklabels=['True 0', 'True 1'])\n",
    "# annot=True: 각 셀에 숫자 값을 표시\n",
    "# xticklabels, yticklabels: x축과 y축의 레이블을 설정 (예측 값, 실제 값)\n",
    "\n",
    "# 제목, 레이블 설정\n",
    "plt.title('Logistic Regression Confusion Matrix')  # 제목 설정\n",
    "plt.xlabel('Predicted Labels')  # x축 레이블 설정\n",
    "plt.ylabel('True Labels')  # y축 레이블 설정\n",
    "\n",
    "plt.tight_layout()  # 레이아웃을 자동으로 조정하여 요소들이 겹치지 않도록 설정\n",
    "plt.show()  # 시각화 결과 출력"
   ]
  },
  {
   "cell_type": "code",
   "execution_count": null,
   "metadata": {},
   "outputs": [],
   "source": []
  }
 ],
 "metadata": {
  "kernelspec": {
   "display_name": "Python 3 (ipykernel)",
   "language": "python",
   "name": "python3"
  },
  "language_info": {
   "codemirror_mode": {
    "name": "ipython",
    "version": 3
   },
   "file_extension": ".py",
   "mimetype": "text/x-python",
   "name": "python",
   "nbconvert_exporter": "python",
   "pygments_lexer": "ipython3",
   "version": "3.9.11"
  }
 },
 "nbformat": 4,
 "nbformat_minor": 4
}
