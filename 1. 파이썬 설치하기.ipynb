{
 "cells": [
  {
   "cell_type": "markdown",
   "id": "ce912635",
   "metadata": {},
   "source": [
    "# 데이터분석을 위한 파이썬 기초(시작)"
   ]
  },
  {
   "cell_type": "markdown",
   "id": "7b84be15",
   "metadata": {},
   "source": [
    "# python 설치\n",
    "### (http://www.python.org/downloads)"
   ]
  },
  {
   "cell_type": "code",
   "execution_count": 2,
   "id": "5d0bd30d",
   "metadata": {},
   "outputs": [],
   "source": [
    "# 1. 홈페이지의 다운로드 페이지(http://www.python.org/downloads)에서 윈도우용 파이썬 언어 패키지를 다운로드\n",
    "# 2. 인스톨러를 실행 --> \"Install Now\"를 선택 -->  설치 진행\n",
    "# 파이썬이 어느 곳에서든지 실행될 수 있도록 \"Add Python3.8 to PATH\" 옵션 반드시 선택\n",
    "# 3. 설치가 완료 : [close]를 클릭 종료"
   ]
  },
  {
   "cell_type": "markdown",
   "id": "02c5cfcb",
   "metadata": {},
   "source": [
    "# jupyter notebook 설치"
   ]
  },
  {
   "cell_type": "code",
   "execution_count": null,
   "id": "eaf8776e",
   "metadata": {},
   "outputs": [],
   "source": [
    "# cmd 창을 열고 명령어를 이용해서 설치\n",
    "# pip install jupyter"
   ]
  },
  {
   "cell_type": "code",
   "execution_count": null,
   "id": "1890f292",
   "metadata": {},
   "outputs": [],
   "source": [
    "# jupyter notebook 실행¶\n",
    "# C:\\Users\\user>cd \n",
    "# C:\\apps>cd finace_data\n",
    "# C:\\apps\\finace_data>jupyter notebook"
   ]
  },
  {
   "cell_type": "markdown",
   "id": "ca24e64c",
   "metadata": {},
   "source": [
    "## 아나콘다(Anaconda) 설치\n",
    "### https://www.anaconda.com/products/distribution"
   ]
  },
  {
   "cell_type": "code",
   "execution_count": null,
   "id": "78720eca",
   "metadata": {},
   "outputs": [],
   "source": [
    "# 아나콘다는 데이터 사이언스에 필요한 여러가지 패키지를 묶어 놓은 것\n",
    "# 파이썬 배포판"
   ]
  },
  {
   "cell_type": "code",
   "execution_count": null,
   "id": "b86d5c5c",
   "metadata": {},
   "outputs": [],
   "source": [
    "# 윈도우 또는 mac\n",
    "# 64비트, 32비트 \n",
    "# 확인 : 설정 - 시스템 - 정보 : 64비트 운영 체제, x64 기반 프로세\n",
    "# Advanced Options나오면 둘 다 체크"
   ]
  },
  {
   "cell_type": "markdown",
   "id": "5424a881",
   "metadata": {},
   "source": [
    "### 실행하기"
   ]
  },
  {
   "cell_type": "code",
   "execution_count": null,
   "id": "7e057dd6",
   "metadata": {},
   "outputs": [],
   "source": [
    "# 1. 아나콘다 네비게이터(Anaconda Navigator) 실행\n",
    "# CMD Prompt 실행(Launch)\n",
    "# Jupyter notebook 실행"
   ]
  },
  {
   "cell_type": "code",
   "execution_count": null,
   "id": "48570bdc",
   "metadata": {},
   "outputs": [],
   "source": [
    "# 3. 윈도우 : 아나콘다 프롬프트에서 실행  , 맥 : 터미널에서 "
   ]
  },
  {
   "cell_type": "code",
   "execution_count": null,
   "id": "29cf7fce",
   "metadata": {},
   "outputs": [],
   "source": [
    "# 2. (CMD Prompt)에서  Jupyter notebook을 실행"
   ]
  },
  {
   "cell_type": "markdown",
   "id": "22c4111c",
   "metadata": {},
   "source": [
    "## 비주얼 스튜디오 코드(Visual Studio Code)를 설치\n",
    "### https://code.visualstudio.com/download"
   ]
  },
  {
   "cell_type": "code",
   "execution_count": null,
   "id": "5939a9cd",
   "metadata": {},
   "outputs": [],
   "source": [
    "# 1. 비주얼 스튜디오 코드 다운로드 페이지 접속\n",
    "# 2. 비주얼 스튜디오 코드 다운로드\n",
    "# 3. Install 파일 실행\n",
    "# 4. 비주얼 스튜디오 코드 실행 및 마무리"
   ]
  },
  {
   "cell_type": "code",
   "execution_count": null,
   "id": "57672369",
   "metadata": {},
   "outputs": [],
   "source": [
    "#1. 비주얼 스튜디오 코드 다운로드 페이지 접속\n",
    "#  https://code.visualstudio.com/download"
   ]
  },
  {
   "cell_type": "code",
   "execution_count": null,
   "id": "8be274ed",
   "metadata": {},
   "outputs": [],
   "source": [
    "# 2. 비주얼 스튜디오 코드 다운로드\n",
    "# 비주얼 스튜디오 코드 다운로드 페이지로 들어가서 내 컴퓨터 OS에 따라 설치 가능"
   ]
  },
  {
   "cell_type": "code",
   "execution_count": null,
   "id": "3b10cf7e",
   "metadata": {},
   "outputs": [],
   "source": [
    "# 3. Install 파일 실행"
   ]
  },
  {
   "cell_type": "code",
   "execution_count": null,
   "id": "4160bc8a",
   "metadata": {},
   "outputs": [],
   "source": []
  },
  {
   "cell_type": "code",
   "execution_count": null,
   "id": "f98f144c",
   "metadata": {},
   "outputs": [],
   "source": []
  },
  {
   "cell_type": "markdown",
   "id": "2bbd474d",
   "metadata": {},
   "source": [
    "### 주피터 노트북 주요 기능 점검"
   ]
  },
  {
   "cell_type": "markdown",
   "id": "ef0a02bd",
   "metadata": {},
   "source": [
    "#### 1. 대시보드"
   ]
  },
  {
   "cell_type": "code",
   "execution_count": null,
   "id": "23b9eee5",
   "metadata": {},
   "outputs": [],
   "source": [
    "# 1) 현재 디렉토리 파일을 표시\n",
    "# 2) [New] 버튼 사용 : 새로운 주피터 노트북, 텍스트파일 등을 생성 가능\n",
    "# 3) Files  : 대시보드에서 노트북 의 실행 상태 확인 : 실행 중인 노트북은 녹색 아이콘으로 표시 됨.-> 이 경우 우측에 Running 표시,창을 닫아도 종료 명령 전까지는 계속 실행\n",
    "# 4) 종료 명령을 위해서는 왼쪽에 해당 클릭 후  [Shutdown] 하거나, [Shutdown] 에 들어가서 버튼 클릭해도 됨."
   ]
  },
  {
   "cell_type": "markdown",
   "id": "9696df5a",
   "metadata": {},
   "source": [
    "#### 2. UI(User Interface) "
   ]
  },
  {
   "cell_type": "markdown",
   "id": "b4f79856",
   "metadata": {},
   "source": [
    "#### 파일명, 메뉴바(File, Edit, View..Help) , Tool bar(빠른 실행을 위한 메뉴), 코드/마크다운 , 셀 구성 "
   ]
  },
  {
   "cell_type": "code",
   "execution_count": null,
   "id": "12f2c29c",
   "metadata": {},
   "outputs": [],
   "source": [
    "## New -> Python3 를 클릭하여 새 탭을 생성\n",
    "# 메뉴 바\n",
    "# Tool bar\n",
    "# 라인 : 헤더(Header) , 셀(Cell)\n"
   ]
  },
  {
   "cell_type": "markdown",
   "id": "e13a7746",
   "metadata": {},
   "source": [
    "#### 2-1. 메뉴 바"
   ]
  },
  {
   "cell_type": "markdown",
   "id": "f32a93f9",
   "metadata": {},
   "source": [
    "##### 1) File"
   ]
  },
  {
   "cell_type": "code",
   "execution_count": null,
   "id": "84f210cf",
   "metadata": {},
   "outputs": [],
   "source": [
    "# New Notebook :  새 Notebook을 작성\n",
    "# Open : 홈화면을 새 탭으로 열어 준다.\n",
    "# Make a Copy : 현재 Notebook을 복사하여 새 탭에 열어 준다.\n",
    "# Save as : 다른 이름으로 저장한다.\n",
    "# Rename : Notebook의 이름을 변경할 때 사용 (다른 방법 : 헤더에 파일명을 클릭하면 이름 변경참--> 새로운 이름 입력--> rename)\n",
    "# Save and Checkpoint : 현재 상태를 저장하고 체크포인트를 작성한다.\n",
    "# Revert to Checkpoint :지정한 체크포인트로 돌아간다.\n",
    "# Print Preview : 프린트 미리보기\n",
    "# Download as : 다른 확장자로 다운로드 ( 주피터 노트북 확장 자 . ipynb --> .py)\n",
    "# Close and Hait : 현재 Notebook 종료"
   ]
  },
  {
   "cell_type": "markdown",
   "id": "ff32ca11",
   "metadata": {},
   "source": [
    "#### 2) Edit"
   ]
  },
  {
   "cell_type": "code",
   "execution_count": null,
   "id": "bab8d1c8",
   "metadata": {},
   "outputs": [],
   "source": [
    "# Cut Cells : 현재 셀을 잘라내기 --> Tool bar(빠른 실행을 위한 메뉴에 [가위모양] 클릭으로 가능\n",
    "# Copy Cells : 현재 셀 복사하기\n",
    "# Paste Cells Above : 현재 지정한 셀 위에 붙여넣기 \n",
    "# Paste Cells Below : 현재 지정한 셀 아래에 붙여넣기 \n",
    "# Paste Cells & Replace : 현재 지정한 셀에 덮어쓰기\n",
    "# Delete Cells : 액티브 코드 셀 삭제\n",
    "# Undo Delete Cells :최근 삭제된 셀을 복원하기 --> 주로 단축키 Z  활용 (Undo Delete Cells 우측에 표시되어 있음) # 주의 : 단축기 모드에서(파란색)\n",
    "# Split Cell : 현재 액티브 셀 커서행을 경계로 분할하기\n",
    "# Merge Cell Above : 위의 셀과 병합하기\n",
    "# Merge Cell Below : 아래의 셀과 병합하기\n",
    "# Move Cell Up : 셀을 위로 이동하기 -> Tool bar(빠른 실행을 위한 메뉴에 [화살표] 클릭으로 가능\n",
    "# Move Cell Down : 셀을 아래로 이동 --> Tool bar(빠른 실행을 위한 메뉴에 [화살표] 클릭으로 가능\n",
    "# Edit Notebook Metadata : Notebook의 메타데이터 편집하기\n",
    "# Find and Replace : 찾아서 바꾸기 기능을 사용하기\n",
    "# Cut Cell Attachments : 이미지 잘라내기\n",
    "# Copy Cell Attachments : 이미지 붙여넣기\n",
    "# Paste Cell Attachments : 이미지 복사하기\n",
    "# Insert Image : 이미지 삽입"
   ]
  },
  {
   "cell_type": "markdown",
   "id": "f45e9924",
   "metadata": {},
   "source": [
    "#### 3) View"
   ]
  },
  {
   "cell_type": "code",
   "execution_count": null,
   "id": "8d5fd530",
   "metadata": {},
   "outputs": [],
   "source": [
    "# 이미지와 관련된 기능\n",
    "# 코드셀이 아닌 Markdown셀 등에서 활용"
   ]
  },
  {
   "cell_type": "code",
   "execution_count": null,
   "id": "ca4a3a1a",
   "metadata": {},
   "outputs": [],
   "source": [
    "# Toggle Header : 헤더(jupyter , 파일명 있는 부분) 숨김는 경우나, 보여주기\n",
    "# Toggle Toolbar : 툴바를 보여주거나 숨김\n",
    "# Toggle Line Numbers : 코드 셀의 라인넘버를 보여주거나 숨김기 : 셀 왼쪽에 1.2....\n",
    "# Cell Toolbars : 셀 툴바의 유형을 선택한다. (기본은 None 설정), Edit metadata 등 "
   ]
  },
  {
   "cell_type": "markdown",
   "id": "fb93689f",
   "metadata": {},
   "source": [
    "#### 4) Insert"
   ]
  },
  {
   "cell_type": "code",
   "execution_count": null,
   "id": "3b683b72",
   "metadata": {},
   "outputs": [],
   "source": [
    "# Insert Cell Above : 현재 셀 위에 빈 셀을 삽입하기  --> Tool bar(빠른 실행을 위한 메뉴에 [+] 클릭으로 가능, 단축키 A\n",
    "# Insert Cell Below : 현재 셀 아래에 빈 셀을 삽입하기 --> Tool bar(빠른 실행을 위한 메뉴에 [+] 클릭으로 가능, 단축기 B"
   ]
  },
  {
   "cell_type": "markdown",
   "id": "aaa0f1c5",
   "metadata": {},
   "source": [
    "#### 5) Cell\n",
    "##### 셀 선택모드(초록색), 코드선택 모드(파란색)"
   ]
  },
  {
   "cell_type": "markdown",
   "id": "9c180e46",
   "metadata": {},
   "source": [
    "###### (1) Cell 기본 이해"
   ]
  },
  {
   "cell_type": "code",
   "execution_count": null,
   "id": "c6e59536",
   "metadata": {},
   "outputs": [],
   "source": [
    "# 해당 셀에 입력부분을 클릭하게 되면 파란색에서 초록색으로 변경\n",
    "# 커서가 깜박거리는데 이때 코드를 작성하면 된다.\n",
    "# 셀 선택 모드에서 enter키 를 치면 코드 선택 모드(파란색)로 변경이 됨.\n",
    "# 코드 선택 모드에서 Esc버튼을 누르면 셀 선택 모드(초록색)로 변경\n",
    "# Esc 버튼 클릭으로  변경 가능\n"
   ]
  },
  {
   "cell_type": "markdown",
   "id": "fe8548ca",
   "metadata": {},
   "source": [
    "##### (2) Cell  내용"
   ]
  },
  {
   "cell_type": "code",
   "execution_count": null,
   "id": "38c4456d",
   "metadata": {},
   "outputs": [],
   "source": [
    "# Run Cells : 현재 셀을 실행하기-> Tool bar(빠른 실행을 위한 메뉴에 [Run] 클릭으로 가능# 단축키 : Shift+Enter\n",
    "# Run Cells and Select Below : 현재 셀을 실행하고, 아래의 셀로 이동하기\n",
    "# Run Cells and Insert Below : 현재 셀을 실행하고 아래에 빈 셀을 삽입하기\n",
    "# Run All : Notebook내의 모든 셀을 순서대로 실행하기\n",
    "# Run All Above : Notebook내의 셀을 현재 셀 위까지 실행하기\n",
    "# Run All Below : 현재 셀 아래의 모든 셀을 순서대로 실행하기\n",
    "# Cell Type :셀 타입을 변경하기 (마크다운 등)\n",
    "# Current Outputs : 현재 셀의 실행결과에 관한 메뉴 \n",
    "#   :   Toggle 결과를 보여주거나 숨기기, Toggle Scrolling: 실행 결과가 긴 경우 스크롤바 사용유무를 지정, Clear는 실행결과를 삭제\n",
    "\n",
    "# All Outputs : 전체 셀의 실행결과에 관한 메뉴"
   ]
  },
  {
   "cell_type": "markdown",
   "id": "05c38d66",
   "metadata": {},
   "source": [
    "### 6) Kernel "
   ]
  },
  {
   "cell_type": "code",
   "execution_count": 4,
   "id": "4a4541cc",
   "metadata": {},
   "outputs": [],
   "source": [
    "# 커널 : Jupyter와 파이썬을 연결하기 위한 연결통로, 파이썬과 가상환경을 연결해주는 연결통로\n",
    "# --> 주피터노트북에서 설치된 파이썬을 사용하는 경우 커널을 통하여 주피터와 파이썬을 연결한다.\n",
    "# --> 또한 주피터노트북에서 새롭게 설치한 가상환경을 연결하고자 하는 경우에도 커널을 설치하여 연결한다.\n",
    "    \n",
    "# ipykernel:  주피터노트북의 커널을 만들어주기 위한 라이브러리"
   ]
  },
  {
   "cell_type": "code",
   "execution_count": null,
   "id": "757dd0b1",
   "metadata": {},
   "outputs": [],
   "source": [
    "# 가상환경 : 독립적인 작업환경에서 패키지를 관리하기 위한 가상환경\n",
    "# Anaconda Prompt에서  cmd 창\n",
    "# 주피터 랩 설치 : pip install jupyter lab\n",
    "# 커널 설치 방법 :  pip install ipykernel"
   ]
  },
  {
   "cell_type": "code",
   "execution_count": null,
   "id": "1446f871",
   "metadata": {},
   "outputs": [],
   "source": [
    "# 가상환경을 설치\n",
    "# conda create -n 가상환경이름 python=버전"
   ]
  },
  {
   "cell_type": "code",
   "execution_count": null,
   "id": "9bd5f4aa",
   "metadata": {},
   "outputs": [],
   "source": []
  },
  {
   "cell_type": "code",
   "execution_count": null,
   "id": "7042fb81",
   "metadata": {},
   "outputs": [],
   "source": [
    "# Interrupt : 실행 중인 처리를 중단하기\n",
    "# Restart : Notebook을 재실행하기\n",
    "# Restart & Clear Output : Notebook을 재실행하고, 모든 실행결과를 삭제하기\n",
    "# Restart & Run All : Notebook을 재실행하고 모든 코드 셀을 순서대로 실행하기\n",
    "# Reconnect : 커널에 재접속하기\n",
    "# Shutdown : 커널을 종료하기\n",
    "# Change kernel : 커널을 변경하기"
   ]
  },
  {
   "cell_type": "code",
   "execution_count": null,
   "id": "142316c5",
   "metadata": {},
   "outputs": [],
   "source": [
    "z"
   ]
  },
  {
   "cell_type": "markdown",
   "id": "c3db298d",
   "metadata": {},
   "source": [
    "### 2-2. Tool bar "
   ]
  },
  {
   "cell_type": "code",
   "execution_count": 10,
   "id": "704b4da3",
   "metadata": {},
   "outputs": [],
   "source": [
    "# # 줄 왼쪽부터 설명 \n",
    "# [저장마크] : Notebook 파일을 덮어쓰고 저장하기\n",
    "# [+] :현재 셀의 아래에 빈 셀을 추가하기\n",
    "# [가위마크] : 현재 셀을 잘라내기\n",
    "# 복사 : 현재 셀을 복사하기\n",
    "# 붙여넣기 : 현재 셀 하부에 붙여넣기\n",
    "# [화살표] :현재 셀을 하나 위로 이동하기\n",
    "# [화살표] : 현재 셀을 하나 아래로 이동하기\n",
    "# [Run] : 현재 셀을 실행하기\n",
    "# 중단 : 코드 셀이 실행중인 경우 중단하기\n",
    "# 재실행 :  커널을 재실행하기\n",
    "# 다시 실행 : 커널을 재실행 하고, 코드를 순서대로 실행하기\n",
    "# 코드 셀 타입 : 코드 셀 타입을 지정하기\n",
    "# 명령 팔레트 : 실행 가능한 명령을 확인하고 실행하기"
   ]
  },
  {
   "cell_type": "code",
   "execution_count": null,
   "id": "21f3c8db",
   "metadata": {},
   "outputs": [],
   "source": []
  },
  {
   "cell_type": "markdown",
   "id": "4d3728b4",
   "metadata": {},
   "source": [
    "### 주요 편리 기능"
   ]
  },
  {
   "cell_type": "code",
   "execution_count": 11,
   "id": "f9cb0e1f",
   "metadata": {},
   "outputs": [],
   "source": [
    "# 1. 마크다운(Markdown)\n",
    "# Type을 변경해주어 Markdown 문서 작성\n",
    "# 2. 명령어 코드 자동완성 기능 : Tab 키 활용\n",
    "# 코드를 작성할 때 Tab 키를 누르면 자동완성 기능을 사용하여 쉽게 명령어를 완성할 수 있다.\n",
    "\n",
    "# 3. Docstring 표시\n",
    "# 그래프나 함수, 변수 등의 끝에 ?를 붙여 실행하거나 \n",
    "# 끝 부분에 커서를 놓고 Shift+Tab을 이용하여 현재 상태나 코멘트 등을 확인할 수 있다. \n",
    "\n",
    "# 4. 명령 프롬프트 사용\n",
    "# 셀 내에서 !를 맨 앞에 붙이고 명령어를 입력할 경우 명령 프롬프트 처럼 활용할 수있다.\n",
    "\n",
    "# 5. 매직 명령어\n",
    "# 매직명령어는 맨 앞에 %를 붙이고 명령어를 입력하는 형식이다. 아래는 몇 가지 유용한 매직 명령어들을 소개한다.\n",
    "\n",
    "# %time은 실행시간을 측정하는 매직 명령어다.\n",
    "# %ls는 디렉토리 목록을 보여준다.\n",
    "# %autosave 0  자동 저장 기능을 사용한다. 0을 입력할 경우 자동저장 기능을 사용하지 않는다. 0 대신 60을 입력할 경우 60초마다 자동 저장된다.\n",
    "# %matplotlib inline 그래프 작성 패키지 중의 하나인 matplotlib에 관한 매직 명령어이다. inline을 지정할 경우 코드 셀 바로 아래에 그래프가 출력된다.\n"
   ]
  },
  {
   "cell_type": "code",
   "execution_count": null,
   "id": "5be36d5d",
   "metadata": {},
   "outputs": [],
   "source": [
    "\n",
    "# <실행 옵션>\n",
    "# 주피터 노트북을 실행할 때 옵션 추가하기\n",
    " \n",
    "# 1. 다른 브라우저를 이용하고 싶다면,\n",
    "# $ jupyter notebook --browser=\"브라우저 명\"\n",
    "# 2. 포트 번호 지정\n",
    "# $ jupyter notebook --port=8889\n",
    "# 기본 포트는 8888을 사용한다. 다른 포트를 사용하고자 한다면 위와 같이 변경할 수 있다.\n",
    " \n",
    "# 3. 디렉토리 지정\n",
    "# $ jupyter notebook --notebook-dir=/디렉토리 경로\n",
    "# 4. 설정 파일 출력\n",
    "# $ jupyter notebook --generater-config\n",
    "# 5. MathJax 불러오기 취소\n",
    "# $ jupyter notebook --no-mathjax\n",
    "# MathJax는 마크다운에서 수식을 사용할때 사용이 된다. 허나 수식을 사용하지 않는다면 불러오기를 생략 가능"
   ]
  },
  {
   "cell_type": "markdown",
   "id": "b78b0665",
   "metadata": {},
   "source": [
    "### Help"
   ]
  },
  {
   "cell_type": "code",
   "execution_count": null,
   "id": "2aa17f7a",
   "metadata": {},
   "outputs": [],
   "source": [
    "# # 단축키\n",
    "# # Help --> Keyboard shortcut(단축기 안내) , 단추키 H :  Command Mode (press Esc to enable, 셀 파란색, Esc 클릭)에서 해야 함.\n",
    "# Shift+Enter, Ctrl+Enter : 현재 셀 실행 + 셀 이동 or 이동 안함\n",
    "# Z : 바로 앞 셀 복원\n",
    "# Ctrl+/ : 주석 처리\n",
    "# 현재 셀 위에 빈 셀을 삽입하기  : 단축키 A\n",
    "# 현재 셀 아래에 빈 셀을 삽입하기 : 단축기 B\n",
    "# Shift+m : 여러 셀 합치기\n",
    "# Ctrl+s : 전체 저장"
   ]
  },
  {
   "cell_type": "markdown",
   "id": "9c7df97c",
   "metadata": {},
   "source": [
    "### 주석"
   ]
  },
  {
   "cell_type": "code",
   "execution_count": 2,
   "id": "39a633cd",
   "metadata": {},
   "outputs": [],
   "source": [
    "# 문장앞에 # 기호 추가\n",
    "# 코드롤 읽지 않음.\n",
    "# 주석처리 단축 키 : 해당부분 블록 설정 후 Ctrl+ / "
   ]
  },
  {
   "cell_type": "markdown",
   "id": "55f91679",
   "metadata": {},
   "source": [
    "### Markdown"
   ]
  },
  {
   "cell_type": "code",
   "execution_count": null,
   "id": "22760287",
   "metadata": {},
   "outputs": [],
   "source": [
    "# 마크다운(Markdown)은 코드에 대한 설명을 달 때 유용\n",
    "# 마크다운을 하고 싶다면, Cell > Cell Type > Markdown을 클릭하면 된다.\n",
    "# 단축기 사용 : 명령 모드에서 ‘m’을 누르면 마크다운으로 변경된다. 다시 코드를 입력하고 싶다면, ‘y’를 누른다."
   ]
  },
  {
   "cell_type": "markdown",
   "id": "9c40fbb2",
   "metadata": {},
   "source": [
    "#### 1) 글자 크기"
   ]
  },
  {
   "cell_type": "code",
   "execution_count": null,
   "id": "dcc564d3",
   "metadata": {},
   "outputs": [],
   "source": [
    "#을 더 많이 붙일수록 크기가 작아진다. \n",
    "# 1개, # 2개, # 3개 # 4개 등 : 주로 2개, 3개,4개 사용\n",
    "#을 하고 띄어쓰기를 해야지만 적용"
   ]
  },
  {
   "cell_type": "markdown",
   "id": "1719af91",
   "metadata": {},
   "source": [
    "#### 2) 글씨체"
   ]
  },
  {
   "cell_type": "code",
   "execution_count": null,
   "id": "7c3fe898",
   "metadata": {},
   "outputs": [],
   "source": [
    "# *이탤릭체* 입력: * 1개를 단어 시작과 끝에 붙인다."
   ]
  },
  {
   "cell_type": "markdown",
   "id": "a7fcb467",
   "metadata": {},
   "source": [
    "*안산대학교*"
   ]
  },
  {
   "cell_type": "code",
   "execution_count": null,
   "id": "92c4abca",
   "metadata": {},
   "outputs": [],
   "source": [
    "# **볼드** 입력: * 2개를 단어 시작과 끝에 붙인다. "
   ]
  },
  {
   "cell_type": "markdown",
   "id": "e4cf3538",
   "metadata": {},
   "source": [
    "**금융디지털**"
   ]
  },
  {
   "cell_type": "markdown",
   "id": "4edae50e",
   "metadata": {},
   "source": [
    "#### 3) 목록 만들기"
   ]
  },
  {
   "cell_type": "markdown",
   "id": "103b705a",
   "metadata": {},
   "source": [
    "#### (1) 순서가 없는 목록 작성하는 경우"
   ]
  },
  {
   "cell_type": "code",
   "execution_count": null,
   "id": "ec7ff85d",
   "metadata": {},
   "outputs": [],
   "source": [
    "# 순서 없는 목록(bulletpoint)를 쓰고 싶은 경우\n",
    "# ‘-'를 문장앞에 입력하면 된다. 또는 '*'를 문장 앞에 입력해도 됨.\n",
    "# 주의 할점 : '-' 다음에 띄어쓰기하고 문자 입력해야 함.\n",
    "# 예를 들어 첫줄 한국거래소, 두번째 중 유가증권시장 인 경우\n"
   ]
  },
  {
   "cell_type": "code",
   "execution_count": null,
   "id": "5d82991a",
   "metadata": {},
   "outputs": [],
   "source": [
    "- 한국거래소\n",
    "- 유가증권시장"
   ]
  },
  {
   "cell_type": "markdown",
   "id": "c416f8d9",
   "metadata": {},
   "source": [
    "* 한국거래소\n",
    "* 유가증권시장"
   ]
  },
  {
   "cell_type": "markdown",
   "id": "a4fa5805",
   "metadata": {},
   "source": [
    "- 금융디지털\n",
    "- 금융실습"
   ]
  },
  {
   "cell_type": "markdown",
   "id": "074a9e73",
   "metadata": {},
   "source": [
    "#### (2) 순서가 있는 목록 작성하는 경우"
   ]
  },
  {
   "cell_type": "code",
   "execution_count": null,
   "id": "c1f07b77",
   "metadata": {},
   "outputs": [],
   "source": [
    "# 목록 숫자와 .을 써서 작성하면 된다.\n",
    "# 예를 들어 첫줄 한국거래소, 1. 유가증권시장 인 경우, 두번째 줄 2. 코스닥시장 인 경우"
   ]
  },
  {
   "cell_type": "markdown",
   "id": "7d2e8803",
   "metadata": {},
   "source": [
    "한국거래소\n",
    "1. 유가증권시장 \n",
    "2. 코스닥시장"
   ]
  },
  {
   "cell_type": "markdown",
   "id": "abf38c09",
   "metadata": {},
   "source": [
    "#### 4) 구분선 넣기"
   ]
  },
  {
   "cell_type": "code",
   "execution_count": null,
   "id": "6ba04b7f",
   "metadata": {},
   "outputs": [],
   "source": [
    "# 문장 사이 구분선을 넣는 경우\n",
    "# 예를 들어 첫줄 한국거래소 다음에 구분선을 넣고\n",
    "# 두번째 중 1. 유가증권시장 인 경우, 세번째 줄 2. 코스닥시장 인 경우"
   ]
  },
  {
   "cell_type": "markdown",
   "id": "8c2984ec",
   "metadata": {},
   "source": [
    "## 한국거래소\n",
    "----------------------\n",
    "1. 유가증권시장\n",
    "2. 코스닥시장"
   ]
  },
  {
   "cell_type": "markdown",
   "id": "878c0b8a",
   "metadata": {},
   "source": [
    "#### 5) 링크 연결"
   ]
  },
  {
   "cell_type": "code",
   "execution_count": null,
   "id": "97fafa65",
   "metadata": {},
   "outputs": [],
   "source": [
    "# url 주소를 기입 하이퍼링크가 동작\n",
    "# 링크 주소를 설명하고 싶은 경우 : [] 안에 링크 설명을 쓰고 ()에 링크주소를 입력하면 된다. \n",
    "# 주의 사항 : []와 () 사이에 띄어쓰기가 없어야 한다."
   ]
  },
  {
   "cell_type": "markdown",
   "id": "157987d3",
   "metadata": {},
   "source": [
    "#### 6) 이미지 추가하기"
   ]
  },
  {
   "cell_type": "code",
   "execution_count": null,
   "id": "d629ff5a",
   "metadata": {},
   "outputs": [],
   "source": [
    "# <img> 태그의 src 속성은 이미지 소스의 URL 주소를 복사해서 입력 : HTML:: 이미지 태그 사용 방법 \n",
    "# <img src= \" url 이미지 주소 \" 다음에 슬러시 / 입력한다.\n",
    "#  src : source의 약자"
   ]
  },
  {
   "cell_type": "code",
   "execution_count": null,
   "id": "2745aca1",
   "metadata": {},
   "outputs": [],
   "source": [
    "<img src= \"\"/>"
   ]
  },
  {
   "cell_type": "markdown",
   "id": "5372633a",
   "metadata": {},
   "source": [
    "<img src=\"https://upload.wikimedia.org/wikipedia/commons/thumb/4/44/Daum_communication_logo.svg/225px-Daum_communication_logo.svg.png\"/>"
   ]
  },
  {
   "cell_type": "code",
   "execution_count": 2,
   "id": "49e27ba4",
   "metadata": {},
   "outputs": [
    {
     "data": {
      "image/png": "[encoded data removed]",
      "text/plain": [
       "<IPython.core.display.Image object>"
      ]
     },
     "execution_count": 2,
     "metadata": {},
     "output_type": "execute_result"
    }
   ],
   "source": [
    "# 이미지 추가 다른 방법\n",
    "from IPython.display import Image\n",
    "Image(\"https://upload.wikimedia.org/wikipedia/commons/thumb/4/44/Daum_communication_logo.svg/225px-Daum_communication_logo.svg.png\")"
   ]
  },
  {
   "cell_type": "code",
   "execution_count": null,
   "id": "a1cab08e",
   "metadata": {},
   "outputs": [],
   "source": []
  },
  {
   "cell_type": "markdown",
   "id": "87a13e7b",
   "metadata": {},
   "source": [
    "## 파이썬 자습서\n",
    "#### https://docs.python.org/ko/3/tutorial/"
   ]
  },
  {
   "cell_type": "code",
   "execution_count": null,
   "id": "a140f237",
   "metadata": {},
   "outputs": [],
   "source": []
  },
  {
   "cell_type": "markdown",
   "id": "245613b1",
   "metadata": {},
   "source": [
    "# 파이썬 기초"
   ]
  },
  {
   "cell_type": "markdown",
   "id": "3944e45d",
   "metadata": {},
   "source": [
    "# 1. print 하기"
   ]
  },
  {
   "cell_type": "code",
   "execution_count": 6,
   "id": "1f3eebe1",
   "metadata": {},
   "outputs": [
    {
     "name": "stdout",
     "output_type": "stream",
     "text": [
      "Hello Python!\n"
     ]
    }
   ],
   "source": [
    "##자열을 출력 : 따옴표 필요--> 큰따옴표, 작은따옴표 모두 가능 \n",
    "print('Hello Python!')"
   ]
  },
  {
   "cell_type": "code",
   "execution_count": 4,
   "id": "f103dd4b",
   "metadata": {},
   "outputs": [
    {
     "name": "stdout",
     "output_type": "stream",
     "text": [
      "안산'금융정보학과'대학교\n"
     ]
    }
   ],
   "source": [
    "print(\"안산'금융정보학과'대학교\")"
   ]
  },
  {
   "cell_type": "code",
   "execution_count": 6,
   "id": "f4717ead",
   "metadata": {},
   "outputs": [
    {
     "name": "stdout",
     "output_type": "stream",
     "text": [
      "1\n"
     ]
    }
   ],
   "source": [
    "print(1)"
   ]
  },
  {
   "cell_type": "code",
   "execution_count": 2,
   "id": "318eb1e1",
   "metadata": {},
   "outputs": [
    {
     "name": "stdout",
     "output_type": "stream",
     "text": [
      "1\n"
     ]
    }
   ],
   "source": [
    "# 숫자를 출력\n",
    "print(1)"
   ]
  },
  {
   "cell_type": "code",
   "execution_count": 5,
   "id": "cb87036c",
   "metadata": {},
   "outputs": [
    {
     "name": "stdout",
     "output_type": "stream",
     "text": [
      "123\n"
     ]
    }
   ],
   "source": [
    "print(123)  "
   ]
  },
  {
   "cell_type": "code",
   "execution_count": 6,
   "id": "0051e3dd",
   "metadata": {},
   "outputs": [
    {
     "name": "stdout",
     "output_type": "stream",
     "text": [
      "[1, 2, 3]\n"
     ]
    }
   ],
   "source": [
    "print([1, 2, 3])"
   ]
  },
  {
   "cell_type": "markdown",
   "id": "e66866c7",
   "metadata": {},
   "source": [
    "# 라이브러리 보기/설치"
   ]
  },
  {
   "cell_type": "code",
   "execution_count": null,
   "id": "a7c85d2c",
   "metadata": {},
   "outputs": [],
   "source": [
    "# 라이브러리가 필요한 사례보기 ?"
   ]
  },
  {
   "cell_type": "code",
   "execution_count": null,
   "id": "194b3a45",
   "metadata": {},
   "outputs": [],
   "source": [
    "# + - *  ** / "
   ]
  },
  {
   "cell_type": "code",
   "execution_count": 7,
   "id": "d0e8ee2f",
   "metadata": {},
   "outputs": [
    {
     "data": {
      "text/plain": [
       "200"
      ]
     },
     "execution_count": 7,
     "metadata": {},
     "output_type": "execute_result"
    }
   ],
   "source": [
    "100*2"
   ]
  },
  {
   "cell_type": "code",
   "execution_count": 8,
   "id": "28e34268",
   "metadata": {},
   "outputs": [
    {
     "ename": "NameError",
     "evalue": "name 'log' is not defined",
     "output_type": "error",
     "traceback": [
      "\u001b[1;31m---------------------------------------------------------------------------\u001b[0m",
      "\u001b[1;31mNameError\u001b[0m                                 Traceback (most recent call last)",
      "\u001b[1;32m~\\AppData\\Local\\Temp/ipykernel_9404/697466879.py\u001b[0m in \u001b[0;36m<module>\u001b[1;34m\u001b[0m\n\u001b[1;32m----> 1\u001b[1;33m \u001b[0mlog\u001b[0m\u001b[1;33m(\u001b[0m\u001b[1;36m10\u001b[0m\u001b[1;33m)\u001b[0m\u001b[1;33m\u001b[0m\u001b[1;33m\u001b[0m\u001b[0m\n\u001b[0m",
      "\u001b[1;31mNameError\u001b[0m: name 'log' is not defined"
     ]
    }
   ],
   "source": [
    "log(10)"
   ]
  },
  {
   "cell_type": "code",
   "execution_count": 9,
   "id": "87f4d858",
   "metadata": {},
   "outputs": [
    {
     "data": {
      "text/plain": [
       "2.302585092994046"
      ]
     },
     "execution_count": 9,
     "metadata": {},
     "output_type": "execute_result"
    }
   ],
   "source": [
    "# math 모듈(Math Module)\n",
    "# 복잡한 연산이 필요한 경우 math 모듈을 사용\n",
    "import math\n",
    "math.log(10)"
   ]
  },
  {
   "cell_type": "code",
   "execution_count": 13,
   "id": "334486c3",
   "metadata": {},
   "outputs": [],
   "source": [
    "# 스타임포트 방식(한꺼번에 임포트함. 이름공간과 관련된 모호성 문제)\n",
    "# from 모듈명 import 뒤에 * 을 입력 : 그 모듈에 내포된 모든 함수를 로드하여 별다른 수식 없이 함수를 모두 사용 가능\n",
    "from math import *  "
   ]
  },
  {
   "cell_type": "code",
   "execution_count": 14,
   "id": "0bf5ed29",
   "metadata": {},
   "outputs": [
    {
     "data": {
      "text/plain": [
       "2.302585092994046"
      ]
     },
     "execution_count": 14,
     "metadata": {},
     "output_type": "execute_result"
    }
   ],
   "source": [
    "log(10)"
   ]
  },
  {
   "cell_type": "code",
   "execution_count": null,
   "id": "1fff05c8",
   "metadata": {},
   "outputs": [],
   "source": [
    "###2222"
   ]
  },
  {
   "cell_type": "markdown",
   "id": "f4c3eca7",
   "metadata": {},
   "source": [
    "# 설치되어 있는 라이브러리 보기"
   ]
  },
  {
   "cell_type": "code",
   "execution_count": 13,
   "id": "820cb971",
   "metadata": {},
   "outputs": [
    {
     "name": "stdout",
     "output_type": "stream",
     "text": [
      "Package                 Version\n",
      "----------------------- -------------------\n",
      "absl-py                 0.13.0\n",
      "ansi2html               1.6.0\n",
      "appdirs                 1.4.4\n",
      "arelle                  2.2\n",
      "argon2-cffi             20.1.0\n",
      "astor                   0.8.1\n",
      "astunparse              1.6.3Note: you may need to restart the kernel to use updated packages.\n",
      "async-generator         1.10\n",
      "atomicwrites            1.4.0\n",
      "attrs                   21.2.0\n",
      "backcall                0.2.0\n",
      "Backtesting             0.3.2\n",
      "backtrader              1.9.76.123\n",
      "beautifulsoup4          4.9.3\n",
      "bleach                  3.3.0\n",
      "bokeh                   2.4.2\n",
      "Brotli                  1.0.9\n",
      "bs4                     0.0.1\n",
      "bt                      0.2.9\n",
      "cachetools              4.2.2\n",
      "certifi                 2021.5.30\n",
      "cffi                    1.14.6\n",
      "chardet                 4.0.0\n",
      "charset-normalizer      2.0.1\n",
      "chart-studio            1.1.0\n",
      "click                   8.0.1\n",
      "colorama                0.4.4\n",
      "convertdate             2.3.2\n",
      "cssselect               1.1.0\n",
      "\n"
     ]
    },
    {
     "name": "stderr",
     "output_type": "stream",
     "text": [
      "WARNING: Ignoring invalid distribution -ip (c:\\users\\jyb\\appdata\\local\\programs\\python\\python39\\lib\\site-packages)\n",
      "WARNING: Ignoring invalid distribution -ip (c:\\users\\jyb\\appdata\\local\\programs\\python\\python39\\lib\\site-packages)\n",
      "WARNING: Ignoring invalid distribution -ip (c:\\users\\jyb\\appdata\\local\\programs\\python\\python39\\lib\\site-packages)\n",
      "WARNING: Ignoring invalid distribution -ip (c:\\users\\jyb\\appdata\\local\\programs\\python\\python39\\lib\\site-packages)\n"
     ]
    },
    {
     "name": "stdout",
     "output_type": "stream",
     "text": [
      "cycler                  0.10.0\n",
      "Cython                  0.29.24\n",
      "dart-fss                0.3.17\n",
      "dash                    1.21.0\n",
      "dash-core-components    1.17.1\n",
      "dash-html-components    1.1.4\n",
      "dash-table              4.12.0\n",
      "datapungi_fed           0.3.1\n",
      "DateTime                4.3\n",
      "debugpy                 1.3.0\n",
      "decorator               5.0.9\n",
      "defusedxml              0.7.1\n",
      "Deprecated              1.2.12\n",
      "empyrical               0.5.5\n",
      "entrypoints             0.3\n",
      "ephem                   4.0.0.2\n",
      "et-xmlfile              1.1.0\n",
      "fake-useragent          0.1.11\n",
      "feedparser              6.0.8\n",
      "ffn                     0.3.6\n",
      "finance-datareader      0.9.31\n",
      "Flask                   2.0.1\n",
      "Flask-Compress          1.10.1\n",
      "flatbuffers             1.12\n",
      "formulaic               0.2.4\n",
      "fredapi                 0.4.3\n",
      "fsspec                  2021.8.1\n",
      "full-fred               0.0.9a3\n",
      "future                  0.18.2\n",
      "gast                    0.4.0\n",
      "google-auth             1.33.1\n",
      "google-auth-oauthlib    0.4.4\n",
      "google-pasta            0.2.0\n",
      "grpcio                  1.34.1\n",
      "h5py                    3.1.0\n",
      "halo                    0.0.31\n",
      "hijri-converter         2.1.3\n",
      "html5lib                1.1\n",
      "idna                    3.2\n",
      "importlib-metadata      4.10.0\n",
      "iniconfig               1.1.1\n",
      "interface-meta          1.2.4\n",
      "ipykernel               6.0.1\n",
      "ipython                 7.25.0\n",
      "ipython-genutils        0.2.0\n",
      "ipywidgets              7.6.4\n",
      "isodate                 0.6.1\n",
      "itsdangerous            2.0.1\n",
      "jedi                    0.18.0\n",
      "Jinja2                  3.0.1\n",
      "joblib                  1.0.1\n",
      "jsonschema              3.2.0\n",
      "jupyter                 1.0.0\n",
      "jupyter-client          6.1.12\n",
      "jupyter-console         6.4.0\n",
      "jupyter-core            4.7.1\n",
      "jupyter-dash            0.4.0\n",
      "jupyterlab-pygments     0.1.2\n",
      "jupyterlab-widgets      1.0.1\n",
      "keras-nightly           2.5.0.dev2021032900\n",
      "Keras-Preprocessing     1.1.2\n",
      "keyring                 23.5.0\n",
      "kiwisolver              1.3.1\n",
      "korean-lunar-calendar   0.2.1\n",
      "linearmodels            4.25\n",
      "littleutils             0.2.2\n",
      "log-symbols             0.0.14\n",
      "lxml                    4.6.3\n",
      "Markdown                3.3.4\n",
      "MarkupSafe              2.0.1\n",
      "matplotlib              3.4.2\n",
      "matplotlib-inline       0.1.2\n",
      "missingno               0.5.1\n",
      "mistune                 0.8.4\n",
      "mpl-finance             0.10.1\n",
      "mplfinance              0.12.9b1\n",
      "multitasking            0.0.9\n",
      "mypy-extensions         0.4.3\n",
      "nbclient                0.5.3\n",
      "nbconvert               6.1.0\n",
      "nbformat                5.1.3\n",
      "nest-asyncio            1.5.1\n",
      "nltk                    3.7\n",
      "notebook                6.4.0\n",
      "numpy                   1.19.5\n",
      "numpy-financial         1.0.0\n",
      "oauthlib                3.1.1\n",
      "OpenDartReader          0.1.1\n",
      "openpyxl                3.0.9\n",
      "opstrat                 0.1.7\n",
      "opt-einsum              3.3.0\n",
      "outdated                0.2.1\n",
      "packaging               21.0\n",
      "pandas                  1.3.0\n",
      "pandas-datareader       0.10.0\n",
      "pandas-flavor           0.2.0\n",
      "pandocfilters           1.4.3\n",
      "parse                   1.19.0\n",
      "parso                   0.8.2\n",
      "patsy                   0.5.1\n",
      "pickleshare             0.7.5\n",
      "Pillow                  8.3.1\n",
      "pingouin                0.5.0\n",
      "pip                     21.3.1\n",
      "plotly                  5.1.0\n",
      "plotly-express          0.4.1\n",
      "pluggy                  1.0.0\n",
      "prometheus-client       0.11.0\n",
      "prompt-toolkit          3.0.19\n",
      "property-cached         1.6.4\n",
      "protobuf                3.17.3\n",
      "py                      1.11.0\n",
      "pyasn1                  0.4.8\n",
      "pyasn1-modules          0.2.8\n",
      "pycparser               2.20\n",
      "pyee                    8.2.2\n",
      "pyfolio                 0.9.2\n",
      "Pygments                2.9.0\n",
      "pyhdfe                  0.1.0\n",
      "pykrx                   1.0.17\n",
      "PyMeeus                 0.5.11\n",
      "pyparsing               2.4.7\n",
      "pyperclip               1.8.2\n",
      "pyppeteer               0.2.6\n",
      "PyPrind                 2.11.3\n",
      "pyquery                 1.4.3\n",
      "pyrsistent              0.18.0\n",
      "pytest                  6.2.5\n",
      "pytest-html             3.1.1\n",
      "pytest-metadata         1.11.0\n",
      "python-dateutil         2.8.1\n",
      "pytz                    2021.1\n",
      "pywin32                 301\n",
      "pywin32-ctypes          0.2.0\n",
      "pywinpty                1.1.3\n",
      "PyYAML                  6.0\n",
      "pyzmq                   22.1.0\n",
      "qtconsole               5.1.1\n",
      "QtPy                    1.11.0\n",
      "QuantLib                1.25\n",
      "QuantLib-Python         1.18\n",
      "regex                   2022.1.18\n",
      "requests                2.26.0\n",
      "requests-file           1.5.1\n",
      "requests-ftp            0.3.1\n",
      "requests-html           0.10.0\n",
      "requests-oauthlib       1.3.0\n",
      "retrying                1.3.3\n",
      "rsa                     4.7.2\n",
      "scikit-learn            0.24.2\n",
      "scipy                   1.7.0\n",
      "seaborn                 0.11.1\n",
      "Send2Trash              1.7.1\n",
      "setuptools              56.0.0\n",
      "setuptools-git          1.2\n",
      "sgmllib3k               1.0.0\n",
      "six                     1.15.0\n",
      "sklearn                 0.0\n",
      "soupsieve               2.2.1\n",
      "spinners                0.0.24\n",
      "statsmodels             0.12.2\n",
      "tabulate                0.8.9\n",
      "tenacity                8.0.1\n",
      "tensorboard             2.5.0\n",
      "tensorboard-data-server 0.6.1\n",
      "tensorboard-plugin-wit  1.8.0\n",
      "tensorflow              2.5.0\n",
      "tensorflow-estimator    2.5.0\n",
      "termcolor               1.1.0\n",
      "terminado               0.10.1\n",
      "testpath                0.5.0\n",
      "threadpoolctl           2.2.0\n",
      "toml                    0.10.2\n",
      "torch                   1.10.2\n",
      "tornado                 6.1\n",
      "tqdm                    4.61.2\n",
      "traitlets               5.0.5\n",
      "typing-extensions       3.7.4.3\n",
      "ujson                   4.0.2\n",
      "urllib3                 1.26.6\n",
      "w3lib                   1.22.0\n",
      "wcwidth                 0.2.5\n",
      "webencodings            0.5.1\n",
      "websockets              9.1\n",
      "Werkzeug                2.0.1\n",
      "wheel                   0.36.2\n",
      "widgetsnbextension      3.5.1\n",
      "wrapt                   1.12.1\n",
      "xarray                  0.20.2\n",
      "xlrd                    2.0.1\n",
      "xmltodict               0.13.0\n",
      "yahoo-fin               0.8.9.1\n",
      "yahoofinancials         1.6\n",
      "yfinance                0.1.63\n",
      "zipp                    3.6.0\n",
      "zope.interface          5.4.0\n"
     ]
    }
   ],
   "source": [
    "pip list"
   ]
  },
  {
   "cell_type": "markdown",
   "id": "cd2acc04",
   "metadata": {},
   "source": [
    "# 라이브러리 설치"
   ]
  },
  {
   "cell_type": "code",
   "execution_count": 14,
   "id": "58d7e14b",
   "metadata": {},
   "outputs": [
    {
     "name": "stdout",
     "output_type": "stream",
     "text": [
      "Requirement already satisfied: pandas in c:\\users\\jyb\\appdata\\local\\programs\\python\\python39\\lib\\site-packages (1.3.0)\n",
      "Requirement already satisfied: pytz>=2017.3 in c:\\users\\jyb\\appdata\\local\\programs\\python\\python39\\lib\\site-packages (from pandas) (2021.1)\n",
      "Requirement already satisfied: python-dateutil>=2.7.3 in c:\\users\\jyb\\appdata\\local\\programs\\python\\python39\\lib\\site-packages (from pandas) (2.8.1)\n",
      "Requirement already satisfied: numpy>=1.17.3 in c:\\users\\jyb\\appdata\\local\\programs\\python\\python39\\lib\\site-packages (from pandas) (1.19.5)\n",
      "Requirement already satisfied: six>=1.5 in c:\\users\\jyb\\appdata\\local\\programs\\python\\python39\\lib\\site-packages (from python-dateutil>=2.7.3->pandas) (1.15.0)\n",
      "Note: you may need to restart the kernel to use updated packages.\n"
     ]
    },
    {
     "name": "stderr",
     "output_type": "stream",
     "text": [
      "WARNING: Ignoring invalid distribution -ip (c:\\users\\jyb\\appdata\\local\\programs\\python\\python39\\lib\\site-packages)\n",
      "WARNING: Ignoring invalid distribution -ip (c:\\users\\jyb\\appdata\\local\\programs\\python\\python39\\lib\\site-packages)\n",
      "WARNING: Ignoring invalid distribution -ip (c:\\users\\jyb\\appdata\\local\\programs\\python\\python39\\lib\\site-packages)\n",
      "WARNING: Ignoring invalid distribution -ip (c:\\users\\jyb\\appdata\\local\\programs\\python\\python39\\lib\\site-packages)\n",
      "WARNING: Ignoring invalid distribution -ip (c:\\users\\jyb\\appdata\\local\\programs\\python\\python39\\lib\\site-packages)\n",
      "WARNING: Ignoring invalid distribution -ip (c:\\users\\jyb\\appdata\\local\\programs\\python\\python39\\lib\\site-packages)\n"
     ]
    }
   ],
   "source": [
    "pip install pandas"
   ]
  },
  {
   "cell_type": "code",
   "execution_count": null,
   "id": "e5e02a7d",
   "metadata": {},
   "outputs": [],
   "source": []
  },
  {
   "cell_type": "code",
   "execution_count": null,
   "id": "5d9debe0",
   "metadata": {},
   "outputs": [],
   "source": [
    "1111"
   ]
  },
  {
   "cell_type": "markdown",
   "id": "bb97f2ef",
   "metadata": {},
   "source": [
    "## 라이브러리 불러오기\n",
    "#### 1. import 라이브러리\n",
    "#### 2. import 라이브러리 as 별칭\n",
    "#### 3. from 라이브러리 import 함수명칭"
   ]
  },
  {
   "cell_type": "code",
   "execution_count": null,
   "id": "401a6e2f",
   "metadata": {},
   "outputs": [],
   "source": [
    "# 1. import 방법 :  import 모듈명\n",
    "import numpy"
   ]
  },
  {
   "cell_type": "code",
   "execution_count": null,
   "id": "32645fdd",
   "metadata": {},
   "outputs": [],
   "source": [
    "# 2. 별칭 (alias) 를 as로 지정하여 간편하게 불러오는 방법"
   ]
  },
  {
   "cell_type": "code",
   "execution_count": 8,
   "id": "4554b1b0",
   "metadata": {},
   "outputs": [],
   "source": [
    "import numpy as np   "
   ]
  },
  {
   "cell_type": "code",
   "execution_count": 11,
   "id": "73a3ecef",
   "metadata": {},
   "outputs": [],
   "source": [
    "import pandas as pd  "
   ]
  },
  {
   "cell_type": "code",
   "execution_count": 22,
   "id": "5f706ee6",
   "metadata": {},
   "outputs": [
    {
     "data": {
      "text/plain": [
       "['ALLOW_THREADS',\n",
       " 'AxisError',\n",
       " 'BUFSIZE',\n",
       " 'CLIP',\n",
       " 'ComplexWarning',\n",
       " 'DataSource',\n",
       " 'ERR_CALL',\n",
       " 'ERR_DEFAULT',\n",
       " 'ERR_IGNORE',\n",
       " 'ERR_LOG',\n",
       " 'ERR_PRINT',\n",
       " 'ERR_RAISE',\n",
       " 'ERR_WARN',\n",
       " 'FLOATING_POINT_SUPPORT',\n",
       " 'FPE_DIVIDEBYZERO',\n",
       " 'FPE_INVALID',\n",
       " 'FPE_OVERFLOW',\n",
       " 'FPE_UNDERFLOW',\n",
       " 'False_',\n",
       " 'Inf',\n",
       " 'Infinity',\n",
       " 'MAXDIMS',\n",
       " 'MAY_SHARE_BOUNDS',\n",
       " 'MAY_SHARE_EXACT',\n",
       " 'MachAr',\n",
       " 'ModuleDeprecationWarning',\n",
       " 'NAN',\n",
       " 'NINF',\n",
       " 'NZERO',\n",
       " 'NaN',\n",
       " 'PINF',\n",
       " 'PZERO',\n",
       " 'RAISE',\n",
       " 'RankWarning',\n",
       " 'SHIFT_DIVIDEBYZERO',\n",
       " 'SHIFT_INVALID',\n",
       " 'SHIFT_OVERFLOW',\n",
       " 'SHIFT_UNDERFLOW',\n",
       " 'ScalarType',\n",
       " 'Tester',\n",
       " 'TooHardError',\n",
       " 'True_',\n",
       " 'UFUNC_BUFSIZE_DEFAULT',\n",
       " 'UFUNC_PYVALS_NAME',\n",
       " 'VisibleDeprecationWarning',\n",
       " 'WRAP',\n",
       " '_NoValue',\n",
       " '_UFUNC_API',\n",
       " '__NUMPY_SETUP__',\n",
       " '__all__',\n",
       " '__builtins__',\n",
       " '__cached__',\n",
       " '__config__',\n",
       " '__dir__',\n",
       " '__doc__',\n",
       " '__file__',\n",
       " '__getattr__',\n",
       " '__git_revision__',\n",
       " '__loader__',\n",
       " '__name__',\n",
       " '__package__',\n",
       " '__path__',\n",
       " '__spec__',\n",
       " '__version__',\n",
       " '_add_newdoc_ufunc',\n",
       " '_distributor_init',\n",
       " '_globals',\n",
       " '_mat',\n",
       " '_pytesttester',\n",
       " 'abs',\n",
       " 'absolute',\n",
       " 'add',\n",
       " 'add_docstring',\n",
       " 'add_newdoc',\n",
       " 'add_newdoc_ufunc',\n",
       " 'alen',\n",
       " 'all',\n",
       " 'allclose',\n",
       " 'alltrue',\n",
       " 'amax',\n",
       " 'amin',\n",
       " 'angle',\n",
       " 'any',\n",
       " 'append',\n",
       " 'apply_along_axis',\n",
       " 'apply_over_axes',\n",
       " 'arange',\n",
       " 'arccos',\n",
       " 'arccosh',\n",
       " 'arcsin',\n",
       " 'arcsinh',\n",
       " 'arctan',\n",
       " 'arctan2',\n",
       " 'arctanh',\n",
       " 'argmax',\n",
       " 'argmin',\n",
       " 'argpartition',\n",
       " 'argsort',\n",
       " 'argwhere',\n",
       " 'around',\n",
       " 'array',\n",
       " 'array2string',\n",
       " 'array_equal',\n",
       " 'array_equiv',\n",
       " 'array_repr',\n",
       " 'array_split',\n",
       " 'array_str',\n",
       " 'asanyarray',\n",
       " 'asarray',\n",
       " 'asarray_chkfinite',\n",
       " 'ascontiguousarray',\n",
       " 'asfarray',\n",
       " 'asfortranarray',\n",
       " 'asmatrix',\n",
       " 'asscalar',\n",
       " 'atleast_1d',\n",
       " 'atleast_2d',\n",
       " 'atleast_3d',\n",
       " 'average',\n",
       " 'bartlett',\n",
       " 'base_repr',\n",
       " 'binary_repr',\n",
       " 'bincount',\n",
       " 'bitwise_and',\n",
       " 'bitwise_not',\n",
       " 'bitwise_or',\n",
       " 'bitwise_xor',\n",
       " 'blackman',\n",
       " 'block',\n",
       " 'bmat',\n",
       " 'bool',\n",
       " 'bool8',\n",
       " 'bool_',\n",
       " 'broadcast',\n",
       " 'broadcast_arrays',\n",
       " 'broadcast_to',\n",
       " 'busday_count',\n",
       " 'busday_offset',\n",
       " 'busdaycalendar',\n",
       " 'byte',\n",
       " 'byte_bounds',\n",
       " 'bytes0',\n",
       " 'bytes_',\n",
       " 'c_',\n",
       " 'can_cast',\n",
       " 'cast',\n",
       " 'cbrt',\n",
       " 'cdouble',\n",
       " 'ceil',\n",
       " 'cfloat',\n",
       " 'char',\n",
       " 'character',\n",
       " 'chararray',\n",
       " 'choose',\n",
       " 'clip',\n",
       " 'clongdouble',\n",
       " 'clongfloat',\n",
       " 'column_stack',\n",
       " 'common_type',\n",
       " 'compare_chararrays',\n",
       " 'compat',\n",
       " 'complex',\n",
       " 'complex128',\n",
       " 'complex64',\n",
       " 'complex_',\n",
       " 'complexfloating',\n",
       " 'compress',\n",
       " 'concatenate',\n",
       " 'conj',\n",
       " 'conjugate',\n",
       " 'convolve',\n",
       " 'copy',\n",
       " 'copysign',\n",
       " 'copyto',\n",
       " 'core',\n",
       " 'corrcoef',\n",
       " 'correlate',\n",
       " 'cos',\n",
       " 'cosh',\n",
       " 'count_nonzero',\n",
       " 'cov',\n",
       " 'cross',\n",
       " 'csingle',\n",
       " 'ctypeslib',\n",
       " 'cumprod',\n",
       " 'cumproduct',\n",
       " 'cumsum',\n",
       " 'datetime64',\n",
       " 'datetime_as_string',\n",
       " 'datetime_data',\n",
       " 'deg2rad',\n",
       " 'degrees',\n",
       " 'delete',\n",
       " 'deprecate',\n",
       " 'deprecate_with_doc',\n",
       " 'diag',\n",
       " 'diag_indices',\n",
       " 'diag_indices_from',\n",
       " 'diagflat',\n",
       " 'diagonal',\n",
       " 'diff',\n",
       " 'digitize',\n",
       " 'disp',\n",
       " 'divide',\n",
       " 'divmod',\n",
       " 'dot',\n",
       " 'double',\n",
       " 'dsplit',\n",
       " 'dstack',\n",
       " 'dtype',\n",
       " 'e',\n",
       " 'ediff1d',\n",
       " 'einsum',\n",
       " 'einsum_path',\n",
       " 'emath',\n",
       " 'empty',\n",
       " 'empty_like',\n",
       " 'equal',\n",
       " 'errstate',\n",
       " 'euler_gamma',\n",
       " 'exp',\n",
       " 'exp2',\n",
       " 'expand_dims',\n",
       " 'expm1',\n",
       " 'extract',\n",
       " 'eye',\n",
       " 'fabs',\n",
       " 'fastCopyAndTranspose',\n",
       " 'fft',\n",
       " 'fill_diagonal',\n",
       " 'find_common_type',\n",
       " 'finfo',\n",
       " 'fix',\n",
       " 'flatiter',\n",
       " 'flatnonzero',\n",
       " 'flexible',\n",
       " 'flip',\n",
       " 'fliplr',\n",
       " 'flipud',\n",
       " 'float',\n",
       " 'float16',\n",
       " 'float32',\n",
       " 'float64',\n",
       " 'float_',\n",
       " 'float_power',\n",
       " 'floating',\n",
       " 'floor',\n",
       " 'floor_divide',\n",
       " 'fmax',\n",
       " 'fmin',\n",
       " 'fmod',\n",
       " 'format_float_positional',\n",
       " 'format_float_scientific',\n",
       " 'format_parser',\n",
       " 'frexp',\n",
       " 'frombuffer',\n",
       " 'fromfile',\n",
       " 'fromfunction',\n",
       " 'fromiter',\n",
       " 'frompyfunc',\n",
       " 'fromregex',\n",
       " 'fromstring',\n",
       " 'full',\n",
       " 'full_like',\n",
       " 'fv',\n",
       " 'gcd',\n",
       " 'generic',\n",
       " 'genfromtxt',\n",
       " 'geomspace',\n",
       " 'get_array_wrap',\n",
       " 'get_include',\n",
       " 'get_printoptions',\n",
       " 'getbufsize',\n",
       " 'geterr',\n",
       " 'geterrcall',\n",
       " 'geterrobj',\n",
       " 'gradient',\n",
       " 'greater',\n",
       " 'greater_equal',\n",
       " 'half',\n",
       " 'hamming',\n",
       " 'hanning',\n",
       " 'heaviside',\n",
       " 'histogram',\n",
       " 'histogram2d',\n",
       " 'histogram_bin_edges',\n",
       " 'histogramdd',\n",
       " 'hsplit',\n",
       " 'hstack',\n",
       " 'hypot',\n",
       " 'i0',\n",
       " 'identity',\n",
       " 'iinfo',\n",
       " 'imag',\n",
       " 'in1d',\n",
       " 'index_exp',\n",
       " 'indices',\n",
       " 'inexact',\n",
       " 'inf',\n",
       " 'info',\n",
       " 'infty',\n",
       " 'inner',\n",
       " 'insert',\n",
       " 'int',\n",
       " 'int0',\n",
       " 'int16',\n",
       " 'int32',\n",
       " 'int64',\n",
       " 'int8',\n",
       " 'int_',\n",
       " 'intc',\n",
       " 'integer',\n",
       " 'interp',\n",
       " 'intersect1d',\n",
       " 'intp',\n",
       " 'invert',\n",
       " 'ipmt',\n",
       " 'irr',\n",
       " 'is_busday',\n",
       " 'isclose',\n",
       " 'iscomplex',\n",
       " 'iscomplexobj',\n",
       " 'isfinite',\n",
       " 'isfortran',\n",
       " 'isin',\n",
       " 'isinf',\n",
       " 'isnan',\n",
       " 'isnat',\n",
       " 'isneginf',\n",
       " 'isposinf',\n",
       " 'isreal',\n",
       " 'isrealobj',\n",
       " 'isscalar',\n",
       " 'issctype',\n",
       " 'issubclass_',\n",
       " 'issubdtype',\n",
       " 'issubsctype',\n",
       " 'iterable',\n",
       " 'ix_',\n",
       " 'kaiser',\n",
       " 'kron',\n",
       " 'lcm',\n",
       " 'ldexp',\n",
       " 'left_shift',\n",
       " 'less',\n",
       " 'less_equal',\n",
       " 'lexsort',\n",
       " 'lib',\n",
       " 'linalg',\n",
       " 'linspace',\n",
       " 'little_endian',\n",
       " 'load',\n",
       " 'loads',\n",
       " 'loadtxt',\n",
       " 'log',\n",
       " 'log10',\n",
       " 'log1p',\n",
       " 'log2',\n",
       " 'logaddexp',\n",
       " 'logaddexp2',\n",
       " 'logical_and',\n",
       " 'logical_not',\n",
       " 'logical_or',\n",
       " 'logical_xor',\n",
       " 'logspace',\n",
       " 'long',\n",
       " 'longcomplex',\n",
       " 'longdouble',\n",
       " 'longfloat',\n",
       " 'longlong',\n",
       " 'lookfor',\n",
       " 'ma',\n",
       " 'mafromtxt',\n",
       " 'mask_indices',\n",
       " 'mat',\n",
       " 'math',\n",
       " 'matmul',\n",
       " 'matrix',\n",
       " 'matrixlib',\n",
       " 'max',\n",
       " 'maximum',\n",
       " 'maximum_sctype',\n",
       " 'may_share_memory',\n",
       " 'mean',\n",
       " 'median',\n",
       " 'memmap',\n",
       " 'meshgrid',\n",
       " 'mgrid',\n",
       " 'min',\n",
       " 'min_scalar_type',\n",
       " 'minimum',\n",
       " 'mintypecode',\n",
       " 'mirr',\n",
       " 'mod',\n",
       " 'modf',\n",
       " 'moveaxis',\n",
       " 'msort',\n",
       " 'multiply',\n",
       " 'nan',\n",
       " 'nan_to_num',\n",
       " 'nanargmax',\n",
       " 'nanargmin',\n",
       " 'nancumprod',\n",
       " 'nancumsum',\n",
       " 'nanmax',\n",
       " 'nanmean',\n",
       " 'nanmedian',\n",
       " 'nanmin',\n",
       " 'nanpercentile',\n",
       " 'nanprod',\n",
       " 'nanquantile',\n",
       " 'nanstd',\n",
       " 'nansum',\n",
       " 'nanvar',\n",
       " 'nbytes',\n",
       " 'ndarray',\n",
       " 'ndenumerate',\n",
       " 'ndfromtxt',\n",
       " 'ndim',\n",
       " 'ndindex',\n",
       " 'nditer',\n",
       " 'negative',\n",
       " 'nested_iters',\n",
       " 'newaxis',\n",
       " 'nextafter',\n",
       " 'nonzero',\n",
       " 'not_equal',\n",
       " 'nper',\n",
       " 'npv',\n",
       " 'numarray',\n",
       " 'number',\n",
       " 'obj2sctype',\n",
       " 'object',\n",
       " 'object0',\n",
       " 'object_',\n",
       " 'ogrid',\n",
       " 'oldnumeric',\n",
       " 'ones',\n",
       " 'ones_like',\n",
       " 'os',\n",
       " 'outer',\n",
       " 'packbits',\n",
       " 'pad',\n",
       " 'partition',\n",
       " 'percentile',\n",
       " 'pi',\n",
       " 'piecewise',\n",
       " 'place',\n",
       " 'pmt',\n",
       " 'poly',\n",
       " 'poly1d',\n",
       " 'polyadd',\n",
       " 'polyder',\n",
       " 'polydiv',\n",
       " 'polyfit',\n",
       " 'polyint',\n",
       " 'polymul',\n",
       " 'polynomial',\n",
       " 'polysub',\n",
       " 'polyval',\n",
       " 'positive',\n",
       " 'power',\n",
       " 'ppmt',\n",
       " 'printoptions',\n",
       " 'prod',\n",
       " 'product',\n",
       " 'promote_types',\n",
       " 'ptp',\n",
       " 'put',\n",
       " 'put_along_axis',\n",
       " 'putmask',\n",
       " 'pv',\n",
       " 'quantile',\n",
       " 'r_',\n",
       " 'rad2deg',\n",
       " 'radians',\n",
       " 'random',\n",
       " 'rate',\n",
       " 'ravel',\n",
       " 'ravel_multi_index',\n",
       " 'real',\n",
       " 'real_if_close',\n",
       " 'rec',\n",
       " 'recarray',\n",
       " 'recfromcsv',\n",
       " 'recfromtxt',\n",
       " 'reciprocal',\n",
       " 'record',\n",
       " 'remainder',\n",
       " 'repeat',\n",
       " 'require',\n",
       " 'reshape',\n",
       " 'resize',\n",
       " 'result_type',\n",
       " 'right_shift',\n",
       " 'rint',\n",
       " 'roll',\n",
       " 'rollaxis',\n",
       " 'roots',\n",
       " 'rot90',\n",
       " 'round',\n",
       " 'round_',\n",
       " 'row_stack',\n",
       " 's_',\n",
       " 'safe_eval',\n",
       " 'save',\n",
       " 'savetxt',\n",
       " 'savez',\n",
       " 'savez_compressed',\n",
       " 'sctype2char',\n",
       " 'sctypeDict',\n",
       " 'sctypeNA',\n",
       " 'sctypes',\n",
       " 'searchsorted',\n",
       " 'select',\n",
       " 'set_numeric_ops',\n",
       " 'set_printoptions',\n",
       " 'set_string_function',\n",
       " 'setbufsize',\n",
       " 'setdiff1d',\n",
       " 'seterr',\n",
       " 'seterrcall',\n",
       " 'seterrobj',\n",
       " 'setxor1d',\n",
       " 'shape',\n",
       " 'shares_memory',\n",
       " 'short',\n",
       " 'show_config',\n",
       " 'sign',\n",
       " 'signbit',\n",
       " 'signedinteger',\n",
       " 'sin',\n",
       " 'sinc',\n",
       " 'single',\n",
       " 'singlecomplex',\n",
       " 'sinh',\n",
       " 'size',\n",
       " 'sometrue',\n",
       " 'sort',\n",
       " 'sort_complex',\n",
       " 'source',\n",
       " 'spacing',\n",
       " 'split',\n",
       " 'sqrt',\n",
       " 'square',\n",
       " 'squeeze',\n",
       " 'stack',\n",
       " 'std',\n",
       " 'str',\n",
       " 'str0',\n",
       " 'str_',\n",
       " 'string_',\n",
       " 'subtract',\n",
       " 'sum',\n",
       " 'swapaxes',\n",
       " 'sys',\n",
       " 'take',\n",
       " 'take_along_axis',\n",
       " 'tan',\n",
       " 'tanh',\n",
       " 'tensordot',\n",
       " 'test',\n",
       " 'testing',\n",
       " 'tile',\n",
       " 'timedelta64',\n",
       " 'trace',\n",
       " 'tracemalloc_domain',\n",
       " 'transpose',\n",
       " 'trapz',\n",
       " 'tri',\n",
       " 'tril',\n",
       " 'tril_indices',\n",
       " 'tril_indices_from',\n",
       " 'trim_zeros',\n",
       " 'triu',\n",
       " 'triu_indices',\n",
       " 'triu_indices_from',\n",
       " 'true_divide',\n",
       " 'trunc',\n",
       " 'typeDict',\n",
       " 'typeNA',\n",
       " 'typecodes',\n",
       " 'typename',\n",
       " 'ubyte',\n",
       " 'ufunc',\n",
       " 'uint',\n",
       " 'uint0',\n",
       " 'uint16',\n",
       " 'uint32',\n",
       " 'uint64',\n",
       " 'uint8',\n",
       " 'uintc',\n",
       " 'uintp',\n",
       " 'ulonglong',\n",
       " 'unicode',\n",
       " 'unicode_',\n",
       " 'union1d',\n",
       " 'unique',\n",
       " 'unpackbits',\n",
       " 'unravel_index',\n",
       " 'unsignedinteger',\n",
       " 'unwrap',\n",
       " 'use_hugepage',\n",
       " 'ushort',\n",
       " 'vander',\n",
       " 'var',\n",
       " 'vdot',\n",
       " 'vectorize',\n",
       " 'version',\n",
       " 'void',\n",
       " 'void0',\n",
       " 'vsplit',\n",
       " 'vstack',\n",
       " 'warnings',\n",
       " 'where',\n",
       " 'who',\n",
       " 'zeros',\n",
       " 'zeros_like']"
      ]
     },
     "execution_count": 22,
     "metadata": {},
     "output_type": "execute_result"
    }
   ],
   "source": [
    "# import된 라이브러리(패키지) 내용을 살펴보는 경우 \n",
    "\n",
    "dir(np)"
   ]
  },
  {
   "cell_type": "code",
   "execution_count": 16,
   "id": "8c93d4ec",
   "metadata": {},
   "outputs": [],
   "source": [
    "# 3. 모듈을 로드 한 뒤 함수명만을 사용하여 함수를 사용\n",
    "#  from 모듈명 import 함수명 \n",
    "# 모듈의 크기가 큰 경우에 사용할 함수만 지정하는 경우\n",
    "from math import asin"
   ]
  },
  {
   "cell_type": "code",
   "execution_count": 8,
   "id": "aa65a25a",
   "metadata": {},
   "outputs": [],
   "source": [
    "# from 모듈명 import 뒤에 * 을 입력 : 그 모듈에 내포된 모든 함수를 로드하여 별다른 수식 없이 함수를 모두 사용 가능\n",
    "from math import* "
   ]
  },
  {
   "cell_type": "code",
   "execution_count": null,
   "id": "62da5057",
   "metadata": {},
   "outputs": [],
   "source": []
  },
  {
   "cell_type": "code",
   "execution_count": null,
   "id": "3017b0f1",
   "metadata": {},
   "outputs": [],
   "source": [
    "# 모듈 이름을 작성 후 --> Tab 키를 뉴르면 호울 가능 함수 목록 확인 가능\n",
    "# 함수명 작성 다음에 괄호()에 커서 위치하고, shift+Tab 키를 누르면 함수 형태 확인 가능"
   ]
  },
  {
   "cell_type": "code",
   "execution_count": null,
   "id": "985ca75a",
   "metadata": {},
   "outputs": [],
   "source": [
    "# 금융데이터분석 실무에서 자주 사용되는 사례\n",
    "# import pandas as pd\n",
    "# import numpy as np\n",
    "# import statsmodels.api as sm\n",
    "# import seaborn as sns\n"
   ]
  },
  {
   "cell_type": "code",
   "execution_count": null,
   "id": "f68251d3",
   "metadata": {},
   "outputs": [],
   "source": []
  },
  {
   "cell_type": "code",
   "execution_count": null,
   "id": "f586fb42",
   "metadata": {},
   "outputs": [],
   "source": [
    "# 라이브러리에 포함된 함수 사용하기"
   ]
  },
  {
   "cell_type": "code",
   "execution_count": null,
   "id": "58ceb57e",
   "metadata": {},
   "outputs": [],
   "source": [
    "# numpy 모듈의 arange 함수\n",
    "#  [start, stop) 에서 step 의 크기만큼 일정하게 떨어져 있는 숫자들을 array 형태로 반환해 주는 함수\n",
    "# stop 매개변수의 값은 반드시 전달되어야 함.\n",
    "# start 는 step 은 꼭 전달되지 않아도 된다. \n",
    "# start 값이 전달되지 않으면 0 을 기본값으로 가진다."
   ]
  },
  {
   "cell_type": "code",
   "execution_count": 23,
   "id": "49b66e7a",
   "metadata": {},
   "outputs": [
    {
     "data": {
      "text/plain": [
       "array([0, 1, 2, 3, 4])"
      ]
     },
     "execution_count": 23,
     "metadata": {},
     "output_type": "execute_result"
    }
   ],
   "source": [
    "# import numpy as np :  numpy 모듈을 np 라는 별칭으로 import  하겠다는 의미\n",
    "\n",
    "import numpy as np\n",
    "\n",
    "# np.arange(5) 의 경우 stop 매개변수의 값만 전달되었으므로 [0, 5) \n",
    "np.arange(5)"
   ]
  },
  {
   "cell_type": "code",
   "execution_count": 12,
   "id": "60a251c1",
   "metadata": {},
   "outputs": [
    {
     "data": {
      "text/plain": [
       "array([0, 1, 2, 3, 4, 5, 6, 7, 8, 9])"
      ]
     },
     "execution_count": 12,
     "metadata": {},
     "output_type": "execute_result"
    }
   ],
   "source": [
    "import numpy as np\n",
    "np.arange(10)"
   ]
  },
  {
   "cell_type": "code",
   "execution_count": 25,
   "id": "82d3b735",
   "metadata": {},
   "outputs": [
    {
     "data": {
      "text/plain": [
       "array([0., 1., 2., 3., 4.])"
      ]
     },
     "execution_count": 25,
     "metadata": {},
     "output_type": "execute_result"
    }
   ],
   "source": [
    "# np.arange(5.0) 의 경우 \n",
    "# 전달된 stop 매개변수의 값 0.으로 부터 정수가 아닌 실수값임을 추론\n",
    "\n",
    "np.arange(5.0)\n",
    "\n"
   ]
  },
  {
   "cell_type": "code",
   "execution_count": 27,
   "id": "d08f7fbb",
   "metadata": {},
   "outputs": [
    {
     "data": {
      "text/plain": [
       "array([2, 3, 4, 5])"
      ]
     },
     "execution_count": 27,
     "metadata": {},
     "output_type": "execute_result"
    }
   ],
   "source": [
    "# np.arange(2, 6) 의 경우 \n",
    "# start=2, stop=6 이 주어진 경우\n",
    "# [2, 6) 에서 2를 시작으로 1 간격으로 떨어진 수들을 array의 형태로 반환\n",
    "\n",
    "np.arange(2,6)"
   ]
  },
  {
   "cell_type": "code",
   "execution_count": 14,
   "id": "e97e94a3",
   "metadata": {},
   "outputs": [
    {
     "data": {
      "text/plain": [
       "array([100, 101, 102, 103, 104, 105, 106, 107, 108, 109, 110, 111, 112,\n",
       "       113, 114, 115, 116, 117, 118, 119, 120, 121, 122, 123, 124, 125,\n",
       "       126, 127, 128, 129, 130, 131, 132, 133, 134, 135, 136, 137, 138,\n",
       "       139, 140, 141, 142, 143, 144, 145, 146, 147, 148, 149, 150])"
      ]
     },
     "execution_count": 14,
     "metadata": {},
     "output_type": "execute_result"
    }
   ],
   "source": [
    "# 100부터 150까지\n",
    "np.arange(100,151)"
   ]
  },
  {
   "cell_type": "code",
   "execution_count": 15,
   "id": "cc6a9801",
   "metadata": {},
   "outputs": [
    {
     "data": {
      "text/plain": [
       "array([2, 4])"
      ]
     },
     "execution_count": 15,
     "metadata": {},
     "output_type": "execute_result"
    }
   ],
   "source": [
    "# np.arange(2, 5, 2) 의 경우 \n",
    "# start=2, stop=5, step=2 \n",
    "# [2, 5) 에서 2을 시작으로 2 간격으로 떨어진 수들을 array의 형태로 반환\n",
    "\n",
    "np.arange(2,5,2)"
   ]
  },
  {
   "cell_type": "code",
   "execution_count": 16,
   "id": "a236cf9e",
   "metadata": {},
   "outputs": [
    {
     "data": {
      "text/plain": [
       "array([ 2,  4,  6,  8, 10, 12, 14, 16, 18])"
      ]
     },
     "execution_count": 16,
     "metadata": {},
     "output_type": "execute_result"
    }
   ],
   "source": [
    "np.arange(2,20,2)"
   ]
  },
  {
   "cell_type": "code",
   "execution_count": 17,
   "id": "845d9109",
   "metadata": {},
   "outputs": [
    {
     "data": {
      "text/plain": [
       "array([ 2,  5,  8, 11, 14, 17])"
      ]
     },
     "execution_count": 17,
     "metadata": {},
     "output_type": "execute_result"
    }
   ],
   "source": [
    "np.arange(2,20,3)"
   ]
  },
  {
   "cell_type": "code",
   "execution_count": null,
   "id": "0ac58c26",
   "metadata": {},
   "outputs": [],
   "source": [
    "# dtype 의 경우 결과로 반환되는 array 이의 type 을 지정할 때 사용\n",
    "# dtype 값이 주어지지 않는 경우 전달된 다른 매개 변수로부터 type 을 추론하게 된다."
   ]
  },
  {
   "cell_type": "code",
   "execution_count": null,
   "id": "2c0cb92a",
   "metadata": {},
   "outputs": [],
   "source": []
  },
  {
   "cell_type": "markdown",
   "id": "0524d1be",
   "metadata": {},
   "source": [
    "## 키워드(Keyword, 예약어)"
   ]
  },
  {
   "cell_type": "code",
   "execution_count": 18,
   "id": "0e938b3f",
   "metadata": {},
   "outputs": [
    {
     "name": "stdout",
     "output_type": "stream",
     "text": [
      "['False', 'None', 'True', '__peg_parser__', 'and', 'as', 'assert', 'async', 'await', 'break', 'class', 'continue', 'def', 'del', 'elif', 'else', 'except', 'finally', 'for', 'from', 'global', 'if', 'import', 'in', 'is', 'lambda', 'nonlocal', 'not', 'or', 'pass', 'raise', 'return', 'try', 'while', 'with', 'yield']\n"
     ]
    }
   ],
   "source": [
    "import keyword\n",
    "print(keyword.kwlist)"
   ]
  },
  {
   "cell_type": "code",
   "execution_count": null,
   "id": "634e0c96",
   "metadata": {},
   "outputs": [],
   "source": []
  },
  {
   "cell_type": "markdown",
   "id": "aa9b1116",
   "metadata": {},
   "source": [
    "## 사칙연산 연산자"
   ]
  },
  {
   "cell_type": "code",
   "execution_count": null,
   "id": "8192d4bc",
   "metadata": {},
   "outputs": [],
   "source": [
    "# +, - , * , /"
   ]
  },
  {
   "cell_type": "code",
   "execution_count": 32,
   "id": "e41692e5",
   "metadata": {},
   "outputs": [
    {
     "data": {
      "text/plain": [
       "3"
      ]
     },
     "execution_count": 32,
     "metadata": {},
     "output_type": "execute_result"
    }
   ],
   "source": [
    "1+2"
   ]
  },
  {
   "cell_type": "code",
   "execution_count": 33,
   "id": "accbc79a",
   "metadata": {},
   "outputs": [
    {
     "name": "stdout",
     "output_type": "stream",
     "text": [
      "3\n"
     ]
    }
   ],
   "source": [
    "print(1 + 2)  # 계산결과를 출력합니다."
   ]
  },
  {
   "cell_type": "code",
   "execution_count": 34,
   "id": "605f5fc7",
   "metadata": {},
   "outputs": [
    {
     "data": {
      "text/plain": [
       "2"
      ]
     },
     "execution_count": 34,
     "metadata": {},
     "output_type": "execute_result"
    }
   ],
   "source": [
    "5-3"
   ]
  },
  {
   "cell_type": "code",
   "execution_count": 35,
   "id": "6e0413dc",
   "metadata": {},
   "outputs": [
    {
     "data": {
      "text/plain": [
       "2"
      ]
     },
     "execution_count": 35,
     "metadata": {},
     "output_type": "execute_result"
    }
   ],
   "source": [
    "1+2\n",
    "5-3"
   ]
  },
  {
   "cell_type": "code",
   "execution_count": 36,
   "id": "442d764d",
   "metadata": {},
   "outputs": [
    {
     "data": {
      "text/plain": [
       "15"
      ]
     },
     "execution_count": 36,
     "metadata": {},
     "output_type": "execute_result"
    }
   ],
   "source": [
    "5*3"
   ]
  },
  {
   "cell_type": "code",
   "execution_count": 37,
   "id": "25417818",
   "metadata": {},
   "outputs": [
    {
     "data": {
      "text/plain": [
       "2.0"
      ]
     },
     "execution_count": 37,
     "metadata": {},
     "output_type": "execute_result"
    }
   ],
   "source": [
    "6/3"
   ]
  },
  {
   "cell_type": "code",
   "execution_count": 38,
   "id": "7b0006ed",
   "metadata": {},
   "outputs": [
    {
     "data": {
      "text/plain": [
       "25"
      ]
     },
     "execution_count": 38,
     "metadata": {},
     "output_type": "execute_result"
    }
   ],
   "source": [
    "5**2"
   ]
  },
  {
   "cell_type": "code",
   "execution_count": 19,
   "id": "3e5c9a07",
   "metadata": {},
   "outputs": [
    {
     "data": {
      "text/plain": [
       "88817841970012523233890533447265625"
      ]
     },
     "execution_count": 19,
     "metadata": {},
     "output_type": "execute_result"
    }
   ],
   "source": [
    "5**50"
   ]
  },
  {
   "cell_type": "code",
   "execution_count": 39,
   "id": "83f3400d",
   "metadata": {},
   "outputs": [
    {
     "data": {
      "text/plain": [
       "3.5"
      ]
     },
     "execution_count": 39,
     "metadata": {},
     "output_type": "execute_result"
    }
   ],
   "source": [
    "7/2"
   ]
  },
  {
   "cell_type": "code",
   "execution_count": 40,
   "id": "81a0a9d8",
   "metadata": {},
   "outputs": [
    {
     "data": {
      "text/plain": [
       "3"
      ]
     },
     "execution_count": 40,
     "metadata": {},
     "output_type": "execute_result"
    }
   ],
   "source": [
    "# //  : 나눗셈에서 몫만 \n",
    "7//2"
   ]
  },
  {
   "cell_type": "code",
   "execution_count": 42,
   "id": "f7ce3a82",
   "metadata": {},
   "outputs": [
    {
     "data": {
      "text/plain": [
       "1"
      ]
     },
     "execution_count": 42,
     "metadata": {},
     "output_type": "execute_result"
    }
   ],
   "source": [
    "# % : 나누기 연산 후 몫이 아닌 나머지를 구함\n",
    "7%2"
   ]
  },
  {
   "cell_type": "code",
   "execution_count": null,
   "id": "2f90e5eb",
   "metadata": {},
   "outputs": [],
   "source": [
    "#파이썬에서도 일반 수학의 연산 순서를 따른다. \n",
    "#곱셈과 나눗셈이 덧셈이나 뺄셈보다 먼저 연산"
   ]
  },
  {
   "cell_type": "code",
   "execution_count": 20,
   "id": "cf250574",
   "metadata": {},
   "outputs": [
    {
     "data": {
      "text/plain": [
       "8"
      ]
     },
     "execution_count": 20,
     "metadata": {},
     "output_type": "execute_result"
    }
   ],
   "source": [
    "2+3*2"
   ]
  },
  {
   "cell_type": "code",
   "execution_count": 44,
   "id": "9be5a896",
   "metadata": {},
   "outputs": [
    {
     "data": {
      "text/plain": [
       "13.0"
      ]
     },
     "execution_count": 44,
     "metadata": {},
     "output_type": "execute_result"
    }
   ],
   "source": [
    "10+6/2"
   ]
  },
  {
   "cell_type": "code",
   "execution_count": null,
   "id": "42668152",
   "metadata": {},
   "outputs": [],
   "source": [
    "# 괄호가 있으면 괄호안을 먼저 계산한다. "
   ]
  },
  {
   "cell_type": "code",
   "execution_count": 45,
   "id": "90dcba6c",
   "metadata": {},
   "outputs": [
    {
     "data": {
      "text/plain": [
       "2"
      ]
     },
     "execution_count": 45,
     "metadata": {},
     "output_type": "execute_result"
    }
   ],
   "source": [
    "10-(3*3-1)"
   ]
  },
  {
   "cell_type": "code",
   "execution_count": null,
   "id": "d3017988",
   "metadata": {},
   "outputs": [],
   "source": [
    "##부등식의 참과 거짓 계산¶True, False\n",
    "## 파이썬은 참과 거짓을 계산하는 부등식 연산도 가능"
   ]
  },
  {
   "cell_type": "code",
   "execution_count": null,
   "id": "a3d34b1c",
   "metadata": {},
   "outputs": [],
   "source": [
    "# 부등호 기호 : >  , <  "
   ]
  },
  {
   "cell_type": "code",
   "execution_count": 51,
   "id": "ea4d35e5",
   "metadata": {},
   "outputs": [
    {
     "data": {
      "text/plain": [
       "True"
      ]
     },
     "execution_count": 51,
     "metadata": {},
     "output_type": "execute_result"
    }
   ],
   "source": [
    "3 > 1"
   ]
  },
  {
   "cell_type": "code",
   "execution_count": 48,
   "id": "d19d040e",
   "metadata": {},
   "outputs": [
    {
     "data": {
      "text/plain": [
       "False"
      ]
     },
     "execution_count": 48,
     "metadata": {},
     "output_type": "execute_result"
    }
   ],
   "source": [
    "3 < 1"
   ]
  },
  {
   "cell_type": "code",
   "execution_count": 47,
   "id": "2eb74049",
   "metadata": {},
   "outputs": [
    {
     "data": {
      "text/plain": [
       "False"
      ]
     },
     "execution_count": 47,
     "metadata": {},
     "output_type": "execute_result"
    }
   ],
   "source": [
    "1 > 2"
   ]
  },
  {
   "cell_type": "code",
   "execution_count": null,
   "id": "8edbade0",
   "metadata": {},
   "outputs": [],
   "source": [
    "# 등호 기호 :  =="
   ]
  },
  {
   "cell_type": "code",
   "execution_count": 50,
   "id": "274b22e1",
   "metadata": {},
   "outputs": [
    {
     "data": {
      "text/plain": [
       "True"
      ]
     },
     "execution_count": 50,
     "metadata": {},
     "output_type": "execute_result"
    }
   ],
   "source": [
    "2 == 2"
   ]
  },
  {
   "cell_type": "code",
   "execution_count": null,
   "id": "499871aa",
   "metadata": {},
   "outputs": [],
   "source": [
    "# 같지 않다. !="
   ]
  },
  {
   "cell_type": "code",
   "execution_count": 52,
   "id": "253b5969",
   "metadata": {},
   "outputs": [
    {
     "data": {
      "text/plain": [
       "False"
      ]
     },
     "execution_count": 52,
     "metadata": {},
     "output_type": "execute_result"
    }
   ],
   "source": [
    "2 != 2 "
   ]
  },
  {
   "cell_type": "code",
   "execution_count": 53,
   "id": "ba63f0e4",
   "metadata": {},
   "outputs": [
    {
     "data": {
      "text/plain": [
       "True"
      ]
     },
     "execution_count": 53,
     "metadata": {},
     "output_type": "execute_result"
    }
   ],
   "source": [
    "2 != 3 "
   ]
  },
  {
   "cell_type": "code",
   "execution_count": 21,
   "id": "6f7db7e5",
   "metadata": {},
   "outputs": [
    {
     "data": {
      "text/plain": [
       "False"
      ]
     },
     "execution_count": 21,
     "metadata": {},
     "output_type": "execute_result"
    }
   ],
   "source": [
    "2>3"
   ]
  },
  {
   "cell_type": "code",
   "execution_count": 22,
   "id": "a969e2de",
   "metadata": {},
   "outputs": [
    {
     "data": {
      "text/plain": [
       "True"
      ]
     },
     "execution_count": 22,
     "metadata": {},
     "output_type": "execute_result"
    }
   ],
   "source": [
    "#2는 3보다 작거나 같다\n",
    "2 <= 3"
   ]
  },
  {
   "cell_type": "code",
   "execution_count": 23,
   "id": "2bbd30b0",
   "metadata": {},
   "outputs": [
    {
     "data": {
      "text/plain": [
       "False"
      ]
     },
     "execution_count": 23,
     "metadata": {},
     "output_type": "execute_result"
    }
   ],
   "source": [
    "#2는 3보다 크거나 같다\n",
    "2>=3"
   ]
  },
  {
   "cell_type": "markdown",
   "id": "7bca1f87",
   "metadata": {},
   "source": [
    "### 변수(variable) 할당하여 연산하기"
   ]
  },
  {
   "cell_type": "code",
   "execution_count": 24,
   "id": "902272b7",
   "metadata": {},
   "outputs": [
    {
     "data": {
      "text/plain": [
       "355"
      ]
     },
     "execution_count": 24,
     "metadata": {},
     "output_type": "execute_result"
    }
   ],
   "source": [
    "100+255"
   ]
  },
  {
   "cell_type": "code",
   "execution_count": null,
   "id": "404954d1",
   "metadata": {},
   "outputs": [],
   "source": []
  },
  {
   "cell_type": "code",
   "execution_count": null,
   "id": "9db8004a",
   "metadata": {},
   "outputs": [],
   "source": [
    "# 변수명을 할당(지정)하 여 사용하면 편리"
   ]
  },
  {
   "cell_type": "code",
   "execution_count": 26,
   "id": "0ab7b0e5",
   "metadata": {},
   "outputs": [
    {
     "data": {
      "text/plain": [
       "8"
      ]
     },
     "execution_count": 26,
     "metadata": {},
     "output_type": "execute_result"
    }
   ],
   "source": [
    "a=3\n",
    "b=5\n",
    "a+b"
   ]
  },
  {
   "cell_type": "code",
   "execution_count": 9,
   "id": "98b359d3",
   "metadata": {},
   "outputs": [
    {
     "data": {
      "text/plain": [
       "105"
      ]
     },
     "execution_count": 9,
     "metadata": {},
     "output_type": "execute_result"
    }
   ],
   "source": [
    "c=100\n",
    "b=5\n",
    "c+b"
   ]
  },
  {
   "cell_type": "code",
   "execution_count": 58,
   "id": "e9f38368",
   "metadata": {},
   "outputs": [
    {
     "name": "stdout",
     "output_type": "stream",
     "text": [
      "2\n"
     ]
    }
   ],
   "source": [
    "print(b-a)"
   ]
  },
  {
   "cell_type": "code",
   "execution_count": 59,
   "id": "ded656f9",
   "metadata": {},
   "outputs": [
    {
     "name": "stdout",
     "output_type": "stream",
     "text": [
      "-2\n"
     ]
    }
   ],
   "source": [
    "print( a - b )"
   ]
  },
  {
   "cell_type": "code",
   "execution_count": 60,
   "id": "be9ab361",
   "metadata": {},
   "outputs": [
    {
     "name": "stdout",
     "output_type": "stream",
     "text": [
      "0.6\n"
     ]
    }
   ],
   "source": [
    "print(a/b)"
   ]
  },
  {
   "cell_type": "code",
   "execution_count": 61,
   "id": "31f2a556",
   "metadata": {},
   "outputs": [
    {
     "data": {
      "text/plain": [
       "9765625"
      ]
     },
     "execution_count": 61,
     "metadata": {},
     "output_type": "execute_result"
    }
   ],
   "source": [
    "b**10"
   ]
  },
  {
   "cell_type": "code",
   "execution_count": null,
   "id": "2e359a59",
   "metadata": {},
   "outputs": [],
   "source": []
  },
  {
   "cell_type": "markdown",
   "id": "534fc333",
   "metadata": {},
   "source": [
    "### 작업 저장하기 "
   ]
  },
  {
   "cell_type": "code",
   "execution_count": null,
   "id": "24c93f8f",
   "metadata": {},
   "outputs": [],
   "source": [
    "# 저장하기 위하여는 사전에 별도 폴더에 만들어 두고 저장하기\n",
    "# 확장자 : 파이썬 파일 .py  ,  주피터노트북을 사용하는 경우  .ipynb\n",
    "# 주피터 노트북 작성 파일 확장자 변경 : File --> Download as --> Python(.py)"
   ]
  },
  {
   "cell_type": "code",
   "execution_count": null,
   "id": "189b9262",
   "metadata": {},
   "outputs": [],
   "source": []
  }
 ],
 "metadata": {
  "kernelspec": {
   "display_name": "Python 3 (ipykernel)",
   "language": "python",
   "name": "python3"
  },
  "language_info": {
   "codemirror_mode": {
    "name": "ipython",
    "version": 3
   },
   "file_extension": ".py",
   "mimetype": "text/x-python",
   "name": "python",
   "nbconvert_exporter": "python",
   "pygments_lexer": "ipython3",
   "version": "3.9.6"
  },
  "toc": {
   "base_numbering": 1,
   "nav_menu": {},
   "number_sections": true,
   "sideBar": true,
   "skip_h1_title": false,
   "title_cell": "Table of Contents",
   "title_sidebar": "Contents",
   "toc_cell": false,
   "toc_position": {},
   "toc_section_display": true,
   "toc_window_display": false
  }
 },
 "nbformat": 4,
 "nbformat_minor": 5
}
