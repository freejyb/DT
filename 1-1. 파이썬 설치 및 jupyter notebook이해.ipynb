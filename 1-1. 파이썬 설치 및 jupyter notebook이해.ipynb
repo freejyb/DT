{
 "cells": [
  {
   "cell_type": "markdown",
   "id": "c3f6f643",
   "metadata": {},
   "source": [
    "# 프로그래밍 언어 + 실행도구 "
   ]
  },
  {
   "cell_type": "markdown",
   "id": "848326f0",
   "metadata": {},
   "source": [
    "## 프로그래밍 언어"
   ]
  },
  {
   "cell_type": "code",
   "execution_count": 1,
   "id": "e4e6d484",
   "metadata": {},
   "outputs": [],
   "source": [
    "# 프로그래밍 언어 :  파이썬\n",
    "# 한글 작업은?\n",
    "# pt 작업은? \n",
    "# 프로그래밍 언어는 별도로 설치를 해야 함."
   ]
  },
  {
   "cell_type": "markdown",
   "id": "a3b820e2",
   "metadata": {},
   "source": [
    "## 실행도구"
   ]
  },
  {
   "cell_type": "code",
   "execution_count": 2,
   "id": "66d1bddd",
   "metadata": {},
   "outputs": [],
   "source": [
    "# 실행도구가 머지?\n",
    "# 실행도구가 필요한 이유?"
   ]
  },
  {
   "cell_type": "code",
   "execution_count": 3,
   "id": "bfb06419",
   "metadata": {},
   "outputs": [],
   "source": [
    "# 1. 아나콘다 배포판을 이용하는 방법"
   ]
  },
  {
   "cell_type": "code",
   "execution_count": 4,
   "id": "477f99a2",
   "metadata": {},
   "outputs": [],
   "source": [
    "# 2. 명령창(cmd) 이용하여 설치하는 방법"
   ]
  },
  {
   "cell_type": "code",
   "execution_count": null,
   "id": "41be55b4",
   "metadata": {},
   "outputs": [],
   "source": []
  },
  {
   "cell_type": "markdown",
   "id": "7b84be15",
   "metadata": {},
   "source": [
    "# python 설치\n",
    "## (http://www.python.org/downloads)"
   ]
  },
  {
   "cell_type": "code",
   "execution_count": 5,
   "id": "9c7c1a9f",
   "metadata": {},
   "outputs": [],
   "source": [
    "# 사전적으로 점검사항\n",
    "# 내 컴퓨터 os ? : 원도우, 맥, ...\n",
    "# 32, 64비트 확인 : 내pc --> 마우스 우측 클릭 --> 속성 --> 시스템 종류에서 확인 가능"
   ]
  },
  {
   "cell_type": "code",
   "execution_count": 6,
   "id": "5d0bd30d",
   "metadata": {},
   "outputs": [],
   "source": [
    "# 1. 홈페이지의 다운로드 페이지(http://www.python.org/downloads)에서 윈도우용 파이썬 언어 패키지를 다운로드\n",
    "\n",
    "# 2. 인스톨러를 실행 --> \"Install Now\"를 선택 -->  설치 진행\n",
    "\n",
    "# 3.파이썬이 어느 곳에서든지 실행될 수 있도록 \"Add Python3.8 to PATH\" 옵션 반드시 선택\n",
    "\n",
    "# 4. 설치가 완료 : [close]를 클릭 종료"
   ]
  },
  {
   "cell_type": "code",
   "execution_count": null,
   "id": "013659a6",
   "metadata": {},
   "outputs": [],
   "source": []
  },
  {
   "cell_type": "markdown",
   "id": "9f7f4557",
   "metadata": {},
   "source": [
    "# 실행 도구"
   ]
  },
  {
   "cell_type": "markdown",
   "id": "02c5cfcb",
   "metadata": {},
   "source": [
    "## jupyter notebook 설치"
   ]
  },
  {
   "cell_type": "markdown",
   "id": "d0a38812",
   "metadata": {},
   "source": [
    "### cmd 창 찾기"
   ]
  },
  {
   "cell_type": "code",
   "execution_count": 7,
   "id": "b172fec8",
   "metadata": {},
   "outputs": [],
   "source": [
    "#### 찾기 : cmd 입력"
   ]
  },
  {
   "cell_type": "code",
   "execution_count": 8,
   "id": "e0c95e5e",
   "metadata": {},
   "outputs": [],
   "source": [
    "## 작입표시줄에 고정 : 이러면 작업표지줄 아래쪽에 표시 되어 편리 함."
   ]
  },
  {
   "cell_type": "markdown",
   "id": "767f4192",
   "metadata": {},
   "source": [
    "### 사전에 폴더를 한개 만들기"
   ]
  },
  {
   "cell_type": "code",
   "execution_count": 9,
   "id": "679646dc",
   "metadata": {},
   "outputs": [],
   "source": [
    "# 사전에 일정 경로에 폴더 만들기\n",
    "# finance_data \n",
    "#  C --> 우측마우스 -> 새로만들기\n"
   ]
  },
  {
   "cell_type": "code",
   "execution_count": 10,
   "id": "decc8329",
   "metadata": {},
   "outputs": [],
   "source": [
    "# 향후 작업 파익을 여기 폴더에 저장해둔다.\n"
   ]
  },
  {
   "cell_type": "code",
   "execution_count": 11,
   "id": "55142b85",
   "metadata": {},
   "outputs": [],
   "source": [
    "# jupyter notebook 으로 작업된 파일의 확장명  : .ipynb"
   ]
  },
  {
   "cell_type": "markdown",
   "id": "b7a548b4",
   "metadata": {},
   "source": [
    "### jupyter notebook 설치"
   ]
  },
  {
   "cell_type": "code",
   "execution_count": 12,
   "id": "eaf8776e",
   "metadata": {},
   "outputs": [],
   "source": [
    "# cmd 창을 열고 명령어를 이용해서 설치\n",
    "# pip install jupyter"
   ]
  },
  {
   "cell_type": "markdown",
   "id": "52eb4693",
   "metadata": {},
   "source": [
    "### 설치 여부 확인 하기"
   ]
  },
  {
   "cell_type": "code",
   "execution_count": 13,
   "id": "72e9dbac",
   "metadata": {},
   "outputs": [],
   "source": [
    "# cmd 창을 열고 명령어 jupyter notebook"
   ]
  },
  {
   "cell_type": "markdown",
   "id": "f67c633c",
   "metadata": {},
   "source": [
    "### jupyter notebook실행하기 "
   ]
  },
  {
   "cell_type": "code",
   "execution_count": 14,
   "id": "1890f292",
   "metadata": {},
   "outputs": [],
   "source": [
    "# jupyter notebook 실행¶\n",
    "# C:\\Users\\user>cd \n",
    "# C:\\apps>cd finace_data\n",
    "# C:\\apps\\finace_data>jupyter notebook"
   ]
  },
  {
   "cell_type": "code",
   "execution_count": null,
   "id": "1861a168",
   "metadata": {},
   "outputs": [],
   "source": []
  },
  {
   "cell_type": "markdown",
   "id": "ca24e64c",
   "metadata": {},
   "source": [
    "## 아나콘다(Anaconda) 설치\n",
    "### https://www.anaconda.com/products/distribution"
   ]
  },
  {
   "cell_type": "code",
   "execution_count": 15,
   "id": "78720eca",
   "metadata": {},
   "outputs": [],
   "source": [
    "# 아나콘다는 데이터 사이언스에 필요한 여러가지 패키지를 묶어 놓은 것\n",
    "# 파이썬 배포판"
   ]
  },
  {
   "cell_type": "code",
   "execution_count": 16,
   "id": "b86d5c5c",
   "metadata": {},
   "outputs": [],
   "source": [
    "# 윈도우 또는 mac\n",
    "# 64비트, 32비트 \n",
    "# 확인 : 설정 - 시스템 - 정보 : 64비트 운영 체제, x64 기반 프로세\n",
    "# Advanced Options나오면 둘 다 체크"
   ]
  },
  {
   "cell_type": "markdown",
   "id": "5424a881",
   "metadata": {},
   "source": [
    "### 실행하기"
   ]
  },
  {
   "cell_type": "code",
   "execution_count": 17,
   "id": "7e057dd6",
   "metadata": {},
   "outputs": [],
   "source": [
    "# 1. 아나콘다 네비게이터(Anaconda Navigator) 실행\n",
    "# CMD Prompt 실행(Launch)\n",
    "# Jupyter notebook 실행"
   ]
  },
  {
   "cell_type": "code",
   "execution_count": 18,
   "id": "48570bdc",
   "metadata": {},
   "outputs": [],
   "source": [
    "# 3. 윈도우 : 아나콘다 프롬프트에서 실행  , 맥 : 터미널에서 "
   ]
  },
  {
   "cell_type": "code",
   "execution_count": 19,
   "id": "29cf7fce",
   "metadata": {},
   "outputs": [],
   "source": [
    "# 2. (CMD Prompt)에서  Jupyter notebook을 실행"
   ]
  },
  {
   "cell_type": "markdown",
   "id": "22c4111c",
   "metadata": {},
   "source": [
    "## 비주얼 스튜디오 코드(Visual Studio Code)를 설치\n",
    "### https://code.visualstudio.com/download"
   ]
  },
  {
   "cell_type": "code",
   "execution_count": 20,
   "id": "5939a9cd",
   "metadata": {},
   "outputs": [],
   "source": [
    "# 1. 비주얼 스튜디오 코드 다운로드 페이지 접속\n",
    "# 2. 비주얼 스튜디오 코드 다운로드\n",
    "# 3. Install 파일 실행\n",
    "# 4. 비주얼 스튜디오 코드 실행 및 마무리"
   ]
  },
  {
   "cell_type": "code",
   "execution_count": 21,
   "id": "57672369",
   "metadata": {},
   "outputs": [],
   "source": [
    "#1. 비주얼 스튜디오 코드 다운로드 페이지 접속\n",
    "#  https://code.visualstudio.com/download"
   ]
  },
  {
   "cell_type": "code",
   "execution_count": 22,
   "id": "8be274ed",
   "metadata": {},
   "outputs": [],
   "source": [
    "# 2. 비주얼 스튜디오 코드 다운로드\n",
    "# 비주얼 스튜디오 코드 다운로드 페이지로 들어가서 내 컴퓨터 OS에 따라 설치 가능"
   ]
  },
  {
   "cell_type": "code",
   "execution_count": 23,
   "id": "3b10cf7e",
   "metadata": {},
   "outputs": [],
   "source": [
    "# 3. Install 파일 실행"
   ]
  },
  {
   "cell_type": "code",
   "execution_count": null,
   "id": "4160bc8a",
   "metadata": {},
   "outputs": [],
   "source": []
  },
  {
   "cell_type": "markdown",
   "id": "fcee4510",
   "metadata": {},
   "source": [
    "# jupyter notebook 시작하기"
   ]
  },
  {
   "cell_type": "markdown",
   "id": "2bbd474d",
   "metadata": {},
   "source": [
    "## 주피터 노트북 주요 기능 점검"
   ]
  },
  {
   "cell_type": "markdown",
   "id": "ef0a02bd",
   "metadata": {},
   "source": [
    "### 대시보드"
   ]
  },
  {
   "cell_type": "code",
   "execution_count": 24,
   "id": "23b9eee5",
   "metadata": {},
   "outputs": [],
   "source": [
    "# 1) 현재 디렉토리 파일을 표시\n",
    "# 2) [New] 버튼 사용 : 새로운 주피터 노트북, 텍스트파일 등을 생성 가능\n",
    "# 3) Files  : 대시보드에서 노트북 의 실행 상태 확인 : 실행 중인 노트북은 녹색 아이콘으로 표시 됨.-> 이 경우 우측에 Running 표시,창을 닫아도 종료 명령 전까지는 계속 실행\n",
    "# 4) 종료 명령을 위해서는 왼쪽에 해당 클릭 후  [Shutdown] 하거나, [Shutdown] 에 들어가서 버튼 클릭해도 됨."
   ]
  },
  {
   "cell_type": "markdown",
   "id": "9696df5a",
   "metadata": {},
   "source": [
    "#### UI(User Interface) "
   ]
  },
  {
   "cell_type": "markdown",
   "id": "b4f79856",
   "metadata": {},
   "source": [
    "#####  (1) 파일명, 메뉴바(File, Edit, View..Help) , Tool bar(빠른 실행을 위한 메뉴), 코드/마크다운 , 셀 구성 "
   ]
  },
  {
   "cell_type": "code",
   "execution_count": 25,
   "id": "12f2c29c",
   "metadata": {},
   "outputs": [],
   "source": [
    "## New -> Python3 를 클릭하여 새 탭을 생성\n",
    "# 메뉴 바\n",
    "# Tool bar\n",
    "# 라인 : 헤더(Header) , 셀(Cell)\n"
   ]
  },
  {
   "cell_type": "markdown",
   "id": "e13a7746",
   "metadata": {},
   "source": [
    "##### (2) 메뉴 바"
   ]
  },
  {
   "cell_type": "markdown",
   "id": "f32a93f9",
   "metadata": {},
   "source": [
    "##### 1) File"
   ]
  },
  {
   "cell_type": "code",
   "execution_count": 26,
   "id": "84f210cf",
   "metadata": {},
   "outputs": [],
   "source": [
    "# New Notebook :  새 Notebook을 작성\n",
    "# Open : 홈화면을 새 탭으로 열어 준다.\n",
    "# Make a Copy : 현재 Notebook을 복사하여 새 탭에 열어 준다.\n",
    "# Save as : 다른 이름으로 저장한다.\n",
    "# Rename : Notebook의 이름을 변경할 때 사용 (다른 방법 : 헤더에 파일명을 클릭하면 이름 변경참--> 새로운 이름 입력--> rename)\n",
    "# Save and Checkpoint : 현재 상태를 저장하고 체크포인트를 작성한다.\n",
    "# Revert to Checkpoint :지정한 체크포인트로 돌아간다.\n",
    "# Print Preview : 프린트 미리보기\n",
    "# Download as : 다른 확장자로 다운로드 ( 주피터 노트북 확장 자 . ipynb --> .py)\n",
    "# Close and Hait : 현재 Notebook 종료"
   ]
  },
  {
   "cell_type": "markdown",
   "id": "ff32ca11",
   "metadata": {},
   "source": [
    "##### 2) Edit"
   ]
  },
  {
   "cell_type": "code",
   "execution_count": 27,
   "id": "bab8d1c8",
   "metadata": {},
   "outputs": [],
   "source": [
    "# Cut Cells : 현재 셀을 잘라내기 --> Tool bar(빠른 실행을 위한 메뉴에 [가위모양] 클릭으로 가능\n",
    "# Copy Cells : 현재 셀 복사하기\n",
    "# Paste Cells Above : 현재 지정한 셀 위에 붙여넣기 \n",
    "# Paste Cells Below : 현재 지정한 셀 아래에 붙여넣기 \n",
    "# Paste Cells & Replace : 현재 지정한 셀에 덮어쓰기\n",
    "# Delete Cells : 액티브 코드 셀 삭제\n",
    "# Undo Delete Cells :최근 삭제된 셀을 복원하기 --> 주로 단축키 Z  활용 (Undo Delete Cells 우측에 표시되어 있음) # 주의 : 단축기 모드에서(파란색)\n",
    "# Split Cell : 현재 액티브 셀 커서행을 경계로 분할하기\n",
    "# Merge Cell Above : 위의 셀과 병합하기\n",
    "# Merge Cell Below : 아래의 셀과 병합하기\n",
    "# Move Cell Up : 셀을 위로 이동하기 -> Tool bar(빠른 실행을 위한 메뉴에 [화살표] 클릭으로 가능\n",
    "# Move Cell Down : 셀을 아래로 이동 --> Tool bar(빠른 실행을 위한 메뉴에 [화살표] 클릭으로 가능\n",
    "# Edit Notebook Metadata : Notebook의 메타데이터 편집하기\n",
    "# Find and Replace : 찾아서 바꾸기 기능을 사용하기\n",
    "# Cut Cell Attachments : 이미지 잘라내기\n",
    "# Copy Cell Attachments : 이미지 붙여넣기\n",
    "# Paste Cell Attachments : 이미지 복사하기\n",
    "# Insert Image : 이미지 삽입"
   ]
  },
  {
   "cell_type": "markdown",
   "id": "f45e9924",
   "metadata": {},
   "source": [
    "##### 3) View"
   ]
  },
  {
   "cell_type": "code",
   "execution_count": 28,
   "id": "8d5fd530",
   "metadata": {},
   "outputs": [],
   "source": [
    "# 이미지와 관련된 기능\n",
    "# 코드셀이 아닌 Markdown셀 등에서 활용"
   ]
  },
  {
   "cell_type": "code",
   "execution_count": 29,
   "id": "ca4a3a1a",
   "metadata": {},
   "outputs": [],
   "source": [
    "# Toggle Header : 헤더(jupyter , 파일명 있는 부분) 숨김는 경우나, 보여주기\n",
    "# Toggle Toolbar : 툴바를 보여주거나 숨김\n",
    "# Toggle Line Numbers : 코드 셀의 라인넘버를 보여주거나 숨김기 : 셀 왼쪽에 1.2....\n",
    "# Cell Toolbars : 셀 툴바의 유형을 선택한다. (기본은 None 설정), Edit metadata 등 "
   ]
  },
  {
   "cell_type": "markdown",
   "id": "fb93689f",
   "metadata": {},
   "source": [
    "##### 4) Insert"
   ]
  },
  {
   "cell_type": "code",
   "execution_count": 30,
   "id": "3b683b72",
   "metadata": {},
   "outputs": [],
   "source": [
    "# Insert Cell Above : 현재 셀 위에 빈 셀을 삽입하기  --> Tool bar(빠른 실행을 위한 메뉴에 [+] 클릭으로 가능, 단축키 A\n",
    "# Insert Cell Below : 현재 셀 아래에 빈 셀을 삽입하기 --> Tool bar(빠른 실행을 위한 메뉴에 [+] 클릭으로 가능, 단축기 B"
   ]
  },
  {
   "cell_type": "markdown",
   "id": "aaa0f1c5",
   "metadata": {},
   "source": [
    "##### 5) Cell\n",
    "##### 셀 선택모드(초록색), 코드선택 모드(파란색)"
   ]
  },
  {
   "cell_type": "markdown",
   "id": "9c180e46",
   "metadata": {},
   "source": [
    "###### Cell 기본 이해"
   ]
  },
  {
   "cell_type": "code",
   "execution_count": 31,
   "id": "c6e59536",
   "metadata": {},
   "outputs": [],
   "source": [
    "# 해당 셀에 입력부분을 클릭하게 되면 파란색에서 초록색으로 변경\n",
    "# 커서가 깜박거리는데 이때 코드를 작성하면 된다.\n",
    "# 셀 선택 모드에서 enter키 를 치면 코드 선택 모드(파란색)로 변경이 됨.\n",
    "# 코드 선택 모드에서 Esc버튼을 누르면 셀 선택 모드(초록색)로 변경\n",
    "# Esc 버튼 클릭으로  변경 가능\n"
   ]
  },
  {
   "cell_type": "markdown",
   "id": "fe8548ca",
   "metadata": {},
   "source": [
    "##### Cell  내용"
   ]
  },
  {
   "cell_type": "code",
   "execution_count": 32,
   "id": "38c4456d",
   "metadata": {},
   "outputs": [],
   "source": [
    "# Run Cells : 현재 셀을 실행하기-> Tool bar(빠른 실행을 위한 메뉴에 [Run] 클릭으로 가능# 단축키 : Shift+Enter\n",
    "# Run Cells and Select Below : 현재 셀을 실행하고, 아래의 셀로 이동하기\n",
    "# Run Cells and Insert Below : 현재 셀을 실행하고 아래에 빈 셀을 삽입하기\n",
    "# Run All : Notebook내의 모든 셀을 순서대로 실행하기\n",
    "# Run All Above : Notebook내의 셀을 현재 셀 위까지 실행하기\n",
    "# Run All Below : 현재 셀 아래의 모든 셀을 순서대로 실행하기\n",
    "# Cell Type :셀 타입을 변경하기 (마크다운 등)\n",
    "# Current Outputs : 현재 셀의 실행결과에 관한 메뉴 \n",
    "#   :   Toggle 결과를 보여주거나 숨기기, Toggle Scrolling: 실행 결과가 긴 경우 스크롤바 사용유무를 지정, Clear는 실행결과를 삭제\n",
    "\n",
    "# All Outputs : 전체 셀의 실행결과에 관한 메뉴"
   ]
  },
  {
   "cell_type": "markdown",
   "id": "05c38d66",
   "metadata": {},
   "source": [
    "##### 6) Kernel "
   ]
  },
  {
   "cell_type": "code",
   "execution_count": 33,
   "id": "4a4541cc",
   "metadata": {},
   "outputs": [],
   "source": [
    "# 커널 : Jupyter와 파이썬을 연결하기 위한 연결통로, 파이썬과 가상환경을 연결해주는 연결통로\n",
    "# --> 주피터노트북에서 설치된 파이썬을 사용하는 경우 커널을 통하여 주피터와 파이썬을 연결한다.\n",
    "# --> 또한 주피터노트북에서 새롭게 설치한 가상환경을 연결하고자 하는 경우에도 커널을 설치하여 연결한다.\n",
    "    \n",
    "# ipykernel:  주피터노트북의 커널을 만들어주기 위한 라이브러리"
   ]
  },
  {
   "cell_type": "code",
   "execution_count": 34,
   "id": "757dd0b1",
   "metadata": {},
   "outputs": [],
   "source": [
    "# 가상환경 : 독립적인 작업환경에서 패키지를 관리하기 위한 가상환경\n",
    "# Anaconda Prompt에서  cmd 창\n",
    "# 주피터 랩 설치 : pip install jupyter lab\n",
    "# 커널 설치 방법 :  pip install ipykernel"
   ]
  },
  {
   "cell_type": "code",
   "execution_count": 35,
   "id": "1446f871",
   "metadata": {},
   "outputs": [],
   "source": [
    "# 가상환경을 설치\n",
    "# conda create -n 가상환경이름 python=버전"
   ]
  },
  {
   "cell_type": "code",
   "execution_count": 36,
   "id": "7042fb81",
   "metadata": {},
   "outputs": [],
   "source": [
    "# Interrupt : 실행 중인 처리를 중단하기\n",
    "# Restart : Notebook을 재실행하기\n",
    "# Restart & Clear Output : Notebook을 재실행하고, 모든 실행결과를 삭제하기\n",
    "# Restart & Run All : Notebook을 재실행하고 모든 코드 셀을 순서대로 실행하기\n",
    "# Reconnect : 커널에 재접속하기\n",
    "# Shutdown : 커널을 종료하기\n",
    "# Change kernel : 커널을 변경하기"
   ]
  },
  {
   "cell_type": "code",
   "execution_count": null,
   "id": "142316c5",
   "metadata": {},
   "outputs": [],
   "source": []
  },
  {
   "cell_type": "markdown",
   "id": "c3db298d",
   "metadata": {},
   "source": [
    "### Tool bar "
   ]
  },
  {
   "cell_type": "code",
   "execution_count": 37,
   "id": "704b4da3",
   "metadata": {},
   "outputs": [],
   "source": [
    "# # 줄 왼쪽부터 설명 \n",
    "# [저장마크] : Notebook 파일을 덮어쓰고 저장하기\n",
    "# [+] :현재 셀의 아래에 빈 셀을 추가하기\n",
    "# [가위마크] : 현재 셀을 잘라내기\n",
    "# 복사 : 현재 셀을 복사하기\n",
    "# 붙여넣기 : 현재 셀 하부에 붙여넣기\n",
    "# [화살표] :현재 셀을 하나 위로 이동하기\n",
    "# [화살표] : 현재 셀을 하나 아래로 이동하기\n",
    "# [Run] : 현재 셀을 실행하기\n",
    "# 중단 : 코드 셀이 실행중인 경우 중단하기\n",
    "# 재실행 :  커널을 재실행하기\n",
    "# 다시 실행 : 커널을 재실행 하고, 코드를 순서대로 실행하기\n",
    "# 코드 셀 타입 : 코드 셀 타입을 지정하기\n",
    "# 명령 팔레트 : 실행 가능한 명령을 확인하고 실행하기"
   ]
  },
  {
   "cell_type": "markdown",
   "id": "4d3728b4",
   "metadata": {},
   "source": [
    "### 주요 편리 기능"
   ]
  },
  {
   "cell_type": "code",
   "execution_count": 38,
   "id": "f9cb0e1f",
   "metadata": {},
   "outputs": [],
   "source": [
    "# 1. 마크다운(Markdown)\n",
    "# Type을 변경해주어 Markdown 문서 작성\n",
    "# 2. 명령어 코드 자동완성 기능 : Tab 키 활용\n",
    "# 코드를 작성할 때 Tab 키를 누르면 자동완성 기능을 사용하여 쉽게 명령어를 완성할 수 있다.\n",
    "\n",
    "# 3. Docstring 표시\n",
    "# 그래프나 함수, 변수 등의 끝에 ?를 붙여 실행하거나 \n",
    "# 끝 부분에 커서를 놓고 Shift+Tab을 이용하여 현재 상태나 코멘트 등을 확인할 수 있다. \n",
    "\n",
    "# 4. 명령 프롬프트 사용\n",
    "# 셀 내에서 !를 맨 앞에 붙이고 명령어를 입력할 경우 명령 프롬프트 처럼 활용할 수있다.\n",
    "\n",
    "# 5. 매직 명령어\n",
    "# 매직명령어는 맨 앞에 %를 붙이고 명령어를 입력하는 형식이다. 아래는 몇 가지 유용한 매직 명령어들을 소개한다.\n",
    "\n",
    "# %time은 실행시간을 측정하는 매직 명령어다.\n",
    "# %ls는 디렉토리 목록을 보여준다.\n",
    "# %autosave 0  자동 저장 기능을 사용한다. 0을 입력할 경우 자동저장 기능을 사용하지 않는다. 0 대신 60을 입력할 경우 60초마다 자동 저장된다.\n",
    "# %matplotlib inline 그래프 작성 패키지 중의 하나인 matplotlib에 관한 매직 명령어이다. inline을 지정할 경우 코드 셀 바로 아래에 그래프가 출력된다.\n"
   ]
  },
  {
   "cell_type": "code",
   "execution_count": 39,
   "id": "5be36d5d",
   "metadata": {},
   "outputs": [],
   "source": [
    "\n",
    "# <실행 옵션>  \n",
    "\n",
    "# 1. 다른 브라우저를 이용하고 싶다면,\n",
    "# $ jupyter notebook --browser=\"브라우저 명\"\n",
    "# 2. 포트 번호 지정\n",
    "# $ jupyter notebook --port=8889\n",
    "\n",
    "# 3. 디렉토리 지정\n",
    "# $ jupyter notebook --notebook-dir=/디렉토리 경로\n",
    "# 4. 설정 파일 출력\n",
    "# $ jupyter notebook --generater-config\n",
    "# 5. MathJax 불러오기 취소\n",
    "# $ jupyter notebook --no-mathjax\n",
    "# MathJax는 마크다운에서 수식을 사용할때 사용이 된다. 허나 수식을 사용하지 않는다면 불러오기를 생략 가능"
   ]
  },
  {
   "cell_type": "markdown",
   "id": "b78b0665",
   "metadata": {},
   "source": [
    "### Help"
   ]
  },
  {
   "cell_type": "code",
   "execution_count": 40,
   "id": "2aa17f7a",
   "metadata": {},
   "outputs": [],
   "source": [
    "# # 단축키\n",
    "# # Help --> Keyboard shortcut(단축기 안내) , 단추키 H :  Command Mode (press Esc to enable, 셀 파란색, Esc 클릭)에서 해야 함.\n",
    "# Shift+Enter, Ctrl+Enter : 현재 셀 실행 + 셀 이동 or 이동 안함\n",
    "# Z : 바로 앞 셀 복원\n",
    "# Ctrl+/ : 주석 처리\n",
    "# 현재 셀 위에 빈 셀을 삽입하기  : 단축키 A\n",
    "# 현재 셀 아래에 빈 셀을 삽입하기 : 단축기 B\n",
    "# Shift+m : 여러 셀 합치기\n",
    "# Ctrl+s : 전체 저장"
   ]
  },
  {
   "cell_type": "markdown",
   "id": "55f91679",
   "metadata": {},
   "source": [
    "### Markdown"
   ]
  },
  {
   "cell_type": "code",
   "execution_count": 41,
   "id": "22760287",
   "metadata": {},
   "outputs": [],
   "source": [
    "# 마크다운(Markdown)은 코드에 대한 설명을 달 때 유용\n",
    "# 마크다운을 하고 싶다면, Cell > Cell Type > Markdown을 클릭하면 된다.\n",
    "# 단축기 사용 : 명령 모드에서 ‘m’을 누르면 마크다운으로 변경된다. 다시 코드를 입력하고 싶다면, ‘y’를 누른다."
   ]
  },
  {
   "cell_type": "markdown",
   "id": "9c40fbb2",
   "metadata": {},
   "source": [
    "#### 1) 글자 크기"
   ]
  },
  {
   "cell_type": "code",
   "execution_count": 42,
   "id": "dcc564d3",
   "metadata": {},
   "outputs": [],
   "source": [
    "#을 더 많이 붙일수록 크기가 작아진다. \n",
    "# 1개, # 2개, # 3개 # 4개 등 : 주로 2개, 3개,4개 사용\n",
    "#을 하고 띄어쓰기를 해야지만 적용"
   ]
  },
  {
   "cell_type": "markdown",
   "id": "1719af91",
   "metadata": {},
   "source": [
    "#### 2) 글씨체"
   ]
  },
  {
   "cell_type": "code",
   "execution_count": 43,
   "id": "7c3fe898",
   "metadata": {},
   "outputs": [],
   "source": [
    "# *이탤릭체* 입력: * 1개를 단어 시작과 끝에 붙인다."
   ]
  },
  {
   "cell_type": "markdown",
   "id": "a7fcb467",
   "metadata": {},
   "source": [
    "*안산대학교*"
   ]
  },
  {
   "cell_type": "code",
   "execution_count": 44,
   "id": "92c4abca",
   "metadata": {},
   "outputs": [],
   "source": [
    "# **볼드** 입력: * 2개를 단어 시작과 끝에 붙인다. "
   ]
  },
  {
   "cell_type": "markdown",
   "id": "e4cf3538",
   "metadata": {},
   "source": [
    "**금융디지털**"
   ]
  },
  {
   "cell_type": "markdown",
   "id": "4edae50e",
   "metadata": {},
   "source": [
    "#### 3) 목록 만들기"
   ]
  },
  {
   "cell_type": "markdown",
   "id": "103b705a",
   "metadata": {},
   "source": [
    "#### (1) 순서가 없는 목록 작성하는 경우"
   ]
  },
  {
   "cell_type": "code",
   "execution_count": 45,
   "id": "ec7ff85d",
   "metadata": {},
   "outputs": [],
   "source": [
    "# 순서 없는 목록(bulletpoint)를 쓰고 싶은 경우\n",
    "# ‘-'를 문장앞에 입력하면 된다. 또는 '*'를 문장 앞에 입력해도 됨.\n",
    "# 주의 할점 : '-' 다음에 띄어쓰기하고 문자 입력해야 함.\n",
    "# 예를 들어 첫줄 한국거래소, 두번째 중 유가증권시장 인 경우\n"
   ]
  },
  {
   "cell_type": "code",
   "execution_count": null,
   "id": "96f6fc0b",
   "metadata": {},
   "outputs": [],
   "source": [
    "- 한국거래소\n",
    "- 유가증권시장"
   ]
  },
  {
   "cell_type": "markdown",
   "id": "c416f8d9",
   "metadata": {},
   "source": [
    "* 한국거래소\n",
    "* 유가증권시장"
   ]
  },
  {
   "cell_type": "markdown",
   "id": "a4fa5805",
   "metadata": {},
   "source": [
    "- 금융디지털\n",
    "- 금융실습"
   ]
  },
  {
   "cell_type": "markdown",
   "id": "074a9e73",
   "metadata": {},
   "source": [
    "#### (2) 순서가 있는 목록 작성하는 경우"
   ]
  },
  {
   "cell_type": "code",
   "execution_count": 46,
   "id": "c1f07b77",
   "metadata": {},
   "outputs": [],
   "source": [
    "# 목록 숫자와 .을 써서 작성하면 된다.\n",
    "# 예를 들어 첫줄 한국거래소, 1. 유가증권시장 인 경우, 두번째 줄 2. 코스닥시장 인 경우"
   ]
  },
  {
   "cell_type": "markdown",
   "id": "7d2e8803",
   "metadata": {},
   "source": [
    "한국거래소\n",
    "1. 유가증권시장 \n",
    "2. 코스닥시장"
   ]
  },
  {
   "cell_type": "markdown",
   "id": "abf38c09",
   "metadata": {},
   "source": [
    "#### 4) 구분선 넣기"
   ]
  },
  {
   "cell_type": "code",
   "execution_count": 47,
   "id": "6ba04b7f",
   "metadata": {},
   "outputs": [],
   "source": [
    "# 문장 사이 구분선을 넣는 경우\n",
    "# 예를 들어 첫줄 한국거래소 다음에 구분선을 넣고\n",
    "# 두번째 중 1. 유가증권시장 인 경우, 세번째 줄 2. 코스닥시장 인 경우"
   ]
  },
  {
   "cell_type": "markdown",
   "id": "8c2984ec",
   "metadata": {},
   "source": [
    "## 한국거래소\n",
    "----------------------\n",
    "1. 유가증권시장\n",
    "2. 코스닥시장"
   ]
  },
  {
   "cell_type": "markdown",
   "id": "878c0b8a",
   "metadata": {},
   "source": [
    "#### 5) 링크 연결"
   ]
  },
  {
   "cell_type": "code",
   "execution_count": 48,
   "id": "97fafa65",
   "metadata": {},
   "outputs": [],
   "source": [
    "# url 주소를 기입 하이퍼링크가 동작\n",
    "# 링크 주소를 설명하고 싶은 경우 : [] 안에 링크 설명을 쓰고 ()에 링크주소를 입력하면 된다. \n",
    "# 주의 사항 : []와 () 사이에 띄어쓰기가 없어야 한다."
   ]
  },
  {
   "cell_type": "markdown",
   "id": "157987d3",
   "metadata": {},
   "source": [
    "#### 6) 이미지 추가하기"
   ]
  },
  {
   "cell_type": "code",
   "execution_count": 49,
   "id": "d629ff5a",
   "metadata": {},
   "outputs": [],
   "source": [
    "# <img> 태그의 src 속성은 이미지 소스의 URL 주소를 복사해서 입력 : HTML:: 이미지 태그 사용 방법 \n",
    "# <img src= \" url 이미지 주소 \" 다음에 슬러시 / 입력한다.\n",
    "#  src : source의 약자\n"
   ]
  },
  {
   "cell_type": "code",
   "execution_count": null,
   "id": "abfe6782",
   "metadata": {},
   "outputs": [],
   "source": [
    "<img src= \"\"/>"
   ]
  },
  {
   "cell_type": "markdown",
   "id": "5372633a",
   "metadata": {},
   "source": [
    "<img src=\"https://upload.wikimedia.org/wikipedia/commons/thumb/4/44/Daum_communication_logo.svg/225px-Daum_communication_logo.svg.png\"/>"
   ]
  },
  {
   "cell_type": "code",
   "execution_count": 51,
   "id": "49e27ba4",
   "metadata": {},
   "outputs": [
    {
     "data": {
      "image/png": "[encoded data removed]",
      "text/plain": [
       "<IPython.core.display.Image object>"
      ]
     },
     "execution_count": 51,
     "metadata": {},
     "output_type": "execute_result"
    }
   ],
   "source": [
    "# 이미지 추가 다른 방법\n",
    "from IPython.display import Image\n",
    "Image(\"https://upload.wikimedia.org/wikipedia/commons/thumb/4/44/Daum_communication_logo.svg/225px-Daum_communication_logo.svg.png\")"
   ]
  },
  {
   "cell_type": "markdown",
   "id": "5b8c4d67",
   "metadata": {},
   "source": [
    "# 주석"
   ]
  },
  {
   "cell_type": "code",
   "execution_count": 52,
   "id": "e5981a1a",
   "metadata": {},
   "outputs": [],
   "source": [
    "# 문장앞에 # 기호 추가\n",
    "# 코드롤 읽지 않음.\n",
    "# 주석처리 단축 키 : 해당부분 블록 설정 후 Ctrl+ / "
   ]
  },
  {
   "cell_type": "code",
   "execution_count": null,
   "id": "bc16f0b4",
   "metadata": {},
   "outputs": [],
   "source": []
  },
  {
   "cell_type": "markdown",
   "id": "87a13e7b",
   "metadata": {},
   "source": [
    "# 파이썬 자습서\n",
    "## https://docs.python.org/ko/3/tutorial/"
   ]
  },
  {
   "cell_type": "code",
   "execution_count": null,
   "id": "a140f237",
   "metadata": {},
   "outputs": [],
   "source": []
  }
 ],
 "metadata": {
  "kernelspec": {
   "display_name": "Python 3 (ipykernel)",
   "language": "python",
   "name": "python3"
  },
  "language_info": {
   "codemirror_mode": {
    "name": "ipython",
    "version": 3
   },
   "file_extension": ".py",
   "mimetype": "text/x-python",
   "name": "python",
   "nbconvert_exporter": "python",
   "pygments_lexer": "ipython3",
   "version": "3.9.6"
  },
  "toc": {
   "base_numbering": 1,
   "nav_menu": {},
   "number_sections": true,
   "sideBar": true,
   "skip_h1_title": false,
   "title_cell": "Table of Contents",
   "title_sidebar": "Contents",
   "toc_cell": false,
   "toc_position": {},
   "toc_section_display": true,
   "toc_window_display": false
  }
 },
 "nbformat": 4,
 "nbformat_minor": 5
}
