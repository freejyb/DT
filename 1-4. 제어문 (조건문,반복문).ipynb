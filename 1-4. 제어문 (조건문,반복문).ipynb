{
 "cells": [
  {
   "cell_type": "markdown",
   "id": "991a27f9",
   "metadata": {},
   "source": [
    "# 제어문(조건문, 반복문)"
   ]
  },
  {
   "cell_type": "code",
   "execution_count": 1,
   "id": "cf661ce9",
   "metadata": {},
   "outputs": [],
   "source": [
    "# 제어문(조건문, 반복문) :  조건문이나 반복문 처럼 프로그램 명령어가 기술된 순서대로 순차 수행하는 경우\n",
    "# 제어문 : if, for, while\n",
    "\n",
    "# 조건문 : 어떤 조건을 보고 코드를 수행하는 것 ==> if ,  if~else , if~elif ~ else\n",
    "# 반복문 : 어떤 조건하에서 반복적으로 코드를 수행하는 것 ==> for,  while\n"
   ]
  },
  {
   "cell_type": "code",
   "execution_count": 2,
   "id": "82e0660e",
   "metadata": {},
   "outputs": [
    {
     "name": "stdout",
     "output_type": "stream",
     "text": [
      "The Zen of Python, by Tim Peters\n",
      "\n",
      "Beautiful is better than ugly.\n",
      "Explicit is better than implicit.\n",
      "Simple is better than complex.\n",
      "Complex is better than complicated.\n",
      "Flat is better than nested.\n",
      "Sparse is better than dense.\n",
      "Readability counts.\n",
      "Special cases aren't special enough to break the rules.\n",
      "Although practicality beats purity.\n",
      "Errors should never pass silently.\n",
      "Unless explicitly silenced.\n",
      "In the face of ambiguity, refuse the temptation to guess.\n",
      "There should be one-- and preferably only one --obvious way to do it.\n",
      "Although that way may not be obvious at first unless you're Dutch.\n",
      "Now is better than never.\n",
      "Although never is often better than *right* now.\n",
      "If the implementation is hard to explain, it's a bad idea.\n",
      "If the implementation is easy to explain, it may be a good idea.\n",
      "Namespaces are one honking great idea -- let's do more of those!\n"
     ]
    }
   ],
   "source": [
    "import this"
   ]
  },
  {
   "cell_type": "markdown",
   "id": "5f46ae88",
   "metadata": {},
   "source": [
    "## if 조건문"
   ]
  },
  {
   "cell_type": "markdown",
   "id": "ab5eb289",
   "metadata": {},
   "source": [
    "### if 조건문  이해 "
   ]
  },
  {
   "cell_type": "code",
   "execution_count": 3,
   "id": "153e01e0",
   "metadata": {},
   "outputs": [],
   "source": [
    "# 특정 조건에 따라 코드 실행이 다르게 수행하는 조건문\n",
    "# if :  조건문을 표현\n",
    "# if 문의 끝에는 콜론(:)을 입력\n",
    "# .if 문의 조건이 True일 때 실행되는 문장은 들여쓰기"
   ]
  },
  {
   "cell_type": "code",
   "execution_count": 4,
   "id": "ddd4afa2",
   "metadata": {},
   "outputs": [],
   "source": [
    "# 사례"
   ]
  },
  {
   "cell_type": "code",
   "execution_count": 9,
   "id": "9becf06a",
   "metadata": {},
   "outputs": [],
   "source": [
    "# \"삼성전자의 현재가가 55,000원 이하이면 100주 매수\"\n",
    "# \"삼성전자의 현재가가 80,000원 이상이면 100주 매도\"\n",
    "\n",
    "# if 문의 조건식이 참이므로 4칸의 공백으로 들여쓰기된 'print(\"Buy \")'이라는 문장이 실행\n",
    "# 들여쓰기 : 들여쓰기를 통해 문장의 시작과 끝을 표시 --> 별도 들여쓰기 없이도 콜론(:)후 enter하면 들여쓰기가 됨.\n",
    "# if 문의 조건식이 true이면 실행되고 false면 실행하지 않는다.\n"
   ]
  },
  {
   "cell_type": "code",
   "execution_count": 24,
   "id": "751fa87b",
   "metadata": {},
   "outputs": [
    {
     "name": "stdout",
     "output_type": "stream",
     "text": [
      "Buy\n"
     ]
    }
   ],
   "source": [
    "# 아래 사례 : True 경우\n",
    "\n",
    "삼성전자_sec_price = 50000\n",
    "if 삼성전자_sec_price <= 55000:\n",
    "    print(\"Buy\")"
   ]
  },
  {
   "cell_type": "code",
   "execution_count": 25,
   "id": "5f2eca07",
   "metadata": {},
   "outputs": [],
   "source": [
    "# 아래 사례 :False 경우\n",
    "# if 문의 조건식이 true이면 실행되고 False면 실행하지 않는다.\n",
    "\n",
    "삼성전자_sec_price = 70000\n",
    "if 삼성전자_sec_price <= 55000:\n",
    "    print(\"Buy\")"
   ]
  },
  {
   "cell_type": "code",
   "execution_count": null,
   "id": "273d4d78",
   "metadata": {},
   "outputs": [],
   "source": []
  },
  {
   "cell_type": "markdown",
   "id": "63aa7b83",
   "metadata": {},
   "source": [
    "### if ~ else 문"
   ]
  },
  {
   "cell_type": "code",
   "execution_count": 7,
   "id": "8c6e30a1",
   "metadata": {},
   "outputs": [],
   "source": [
    "# if문은 조건문은 조건에 true이면 실행되고 false면 실행하지 않는다.\n",
    "# 만일 ~ 참이면 (if) + ‘그렇지 않으면’(else) 라는 새로운 조건이 추가. \n",
    "# 즉, else는 if의 조건에 맞지 않을때 실행--> 즉, 조건문의 조건이 false이면 실행되고 true면 실행하지 않는다."
   ]
  },
  {
   "cell_type": "code",
   "execution_count": 26,
   "id": "3ac6cec3",
   "metadata": {},
   "outputs": [
    {
     "name": "stdout",
     "output_type": "stream",
     "text": [
      "Buy\n"
     ]
    }
   ],
   "source": [
    "# 사례\n",
    "\n",
    "# 삼성전자 가격이 55000 이하이면 Buy 100, 아니면 \"Sell\"을 출력\n",
    "# 50000이므로 Buy 100 출력\n",
    "\n",
    "삼성전자_sec_price = 50000\n",
    "if 삼성전자_sec_price <= 55000:\n",
    "        print(\"Buy\")\n",
    "else:\n",
    "        print(\"Sell\")"
   ]
  },
  {
   "cell_type": "code",
   "execution_count": 27,
   "id": "e8e0d4ea",
   "metadata": {},
   "outputs": [
    {
     "name": "stdout",
     "output_type": "stream",
     "text": [
      "Sell\n"
     ]
    }
   ],
   "source": [
    "삼성전자_sec_price = 70000\n",
    "# 삼성전자 가격이 55000 이하이면 Buy 100, 아니면 \"Sell\"을 출력\n",
    "# 70000이므로 Sell 출력\n",
    "if 삼성전자_sec_price <= 55000:\n",
    "        print(\"Buy\")\n",
    "else:\n",
    "        print(\"Sell\")"
   ]
  },
  {
   "cell_type": "markdown",
   "id": "0b7ff0d9",
   "metadata": {},
   "source": [
    "### elif "
   ]
  },
  {
   "cell_type": "code",
   "execution_count": 10,
   "id": "81ddbc6e",
   "metadata": {},
   "outputs": [],
   "source": [
    "# elif라는 것을 사용하면 여러 개의 조건을 검사해서 그 중에서 맘에 드는 것을 선택"
   ]
  },
  {
   "cell_type": "code",
   "execution_count": 12,
   "id": "dda82ad4",
   "metadata": {},
   "outputs": [],
   "source": [
    "# IF (조건 식1이 참이면) THEN\n",
    "#                  문장1을 수행한다.\n",
    "#           ELSE IF (조건 식2가 참이면) THEN\n",
    "#                  문장2를 수행한다.\n",
    "#           ELSE IF (조건 식3이 참이면) THEN\n",
    "#                  문장3을 수행한다.\n",
    "#           ....\n",
    "#           ELSE IF (조건 식n이 참이면) THEN\n",
    "#                  문장n을 수행한다.\n",
    "#           ELSE\n",
    "#                  문장n+1을 수행한다"
   ]
  },
  {
   "cell_type": "code",
   "execution_count": 28,
   "id": "4fbfc392",
   "metadata": {},
   "outputs": [
    {
     "name": "stdout",
     "output_type": "stream",
     "text": [
      "Buy 10\n"
     ]
    }
   ],
   "source": [
    "삼성전자_sec_price = 45000\n",
    "# 삼성전자 가격이 55000 이하이면 Buy 10, 또는 65000이상이면 Sell, 아니면 \"관망\"을 출력\n",
    "# 45000이므로 Buy 100 출력\n",
    "if 삼성전자_sec_price <= 55000:\n",
    "        print(\"Buy 10\")\n",
    "elif 삼성전자_sec_price >= 65000:\n",
    "        print(\"Sell\")\n",
    "else: \n",
    "        print(\"관망\")"
   ]
  },
  {
   "cell_type": "code",
   "execution_count": 29,
   "id": "e4987538",
   "metadata": {},
   "outputs": [
    {
     "name": "stdout",
     "output_type": "stream",
     "text": [
      "관망\n"
     ]
    }
   ],
   "source": [
    "삼성전자_sec_price = 60000\n",
    "# 삼성전자 가격이 55000 이하이면 Buy 10, 또는 65000이상이면 Sell, 둘다 아니면 \"관망\"을 출력\n",
    "# 60000이므로 관망 출력\n",
    "if 삼성전자_sec_price <= 55000:\n",
    "        print(\"Buy\")\n",
    "elif 삼성전자_sec_price >= 65000: \n",
    "        print(\"Sell\")\n",
    "else: \n",
    "        print(\"관망\")"
   ]
  },
  {
   "cell_type": "code",
   "execution_count": 30,
   "id": "a4ad8092",
   "metadata": {},
   "outputs": [
    {
     "name": "stdout",
     "output_type": "stream",
     "text": [
      "Sell\n"
     ]
    }
   ],
   "source": [
    "삼성전자_sec_price = 80000\n",
    "# 삼성전자 가격이 55000 이하이면 Buy 10, 또는 65000이상이면 Sell, 둘다아니면 \"관망\"을 출력\n",
    "# 80000이므로 Sell 출력\n",
    "if 삼성전자_sec_price <= 55000:\n",
    "        print(\"Buy\")\n",
    "elif 삼성전자_sec_price >= 65000:\n",
    "        print(\"Sell\")        \n",
    "else: \n",
    "        print(\"관망\")"
   ]
  },
  {
   "cell_type": "markdown",
   "id": "bb07f003",
   "metadata": {},
   "source": [
    "### 이중 if : kospi 조건을 제약"
   ]
  },
  {
   "cell_type": "code",
   "execution_count": 31,
   "id": "fd484dc6",
   "metadata": {},
   "outputs": [
    {
     "name": "stdout",
     "output_type": "stream",
     "text": [
      "비중확대\n"
     ]
    }
   ],
   "source": [
    "# kospi  2200pt 이하 , 삼성전자 50000 이하 : 비중 확대\n",
    "#  kospi  2400pt 이상 , 삼성전자 65000 이상 : 매도\n",
    "# 둘다 아니면 비중유지\n",
    "# kospi  2200pt 이하 , 삼성전자 50000 이하 이므로 비중 확대 출력\n",
    "kospi = 2150\n",
    "삼성전자_sec_price = 50000\n",
    "if 삼성전자_sec_price <= 50000 and kospi<=2200:\n",
    "        print(\"비중확대\")\n",
    "elif 삼성전자_sec_price >=65000 and  삼성전자_sec_price >= 2400:\n",
    "        print(\"비중 축소\")        \n",
    "else: \n",
    "        print(\"비중 유지\")"
   ]
  },
  {
   "cell_type": "code",
   "execution_count": 32,
   "id": "7a0e0588",
   "metadata": {},
   "outputs": [
    {
     "name": "stdout",
     "output_type": "stream",
     "text": [
      "비중 축소\n"
     ]
    }
   ],
   "source": [
    "# kospi  2200pt 이하 , 삼성전자 50000 이하 : 비중 확대\n",
    "#  kospi  2400pt 이상 , 삼성전자 65000 이상  : 비중 축소\n",
    "# 둘다 아니면 비중유지\n",
    "# kospi  2400pt 이상 , 삼성전자 65000 이상  이므로 비중축소 출력\n",
    "kospi = 2500\n",
    "삼성전자_sec_price = 80000\n",
    "if 삼성전자_sec_price <= 50000 and kospi<=2200:\n",
    "        print(\"비중확대\")\n",
    "elif 삼성전자_sec_price >=65000 and  삼성전자_sec_price >= 2400:\n",
    "        print(\"비중 축소\")        \n",
    "else: \n",
    "        print(\"비중 유지\")"
   ]
  },
  {
   "cell_type": "code",
   "execution_count": 33,
   "id": "9f0c9f3a",
   "metadata": {},
   "outputs": [
    {
     "name": "stdout",
     "output_type": "stream",
     "text": [
      "비중 유지\n"
     ]
    }
   ],
   "source": [
    "# kospi  2200pt 이하 , 삼성전자 50000 이하 : 비중 확대\n",
    "#  kospi  2400pt 이상 , 삼성전자 65000 이상  : 비중 축소\n",
    "# 둘다 아니면 비중유지\n",
    "# 두가지 조건에 해당하지 않으므로 비중유지\n",
    "\n",
    "kospi = 2300\n",
    "삼성전자_sec_price = 58000\n",
    "if 삼성전자_sec_price <= 50000 and kospi<=2200:\n",
    "        print(\"비중확대\")\n",
    "elif 삼성전자_sec_price >=65000 and  삼성전자_sec_price >= 2400:\n",
    "        print(\"비중 축소\")        \n",
    "else: \n",
    "        print(\"비중 유지\")"
   ]
  },
  {
   "cell_type": "code",
   "execution_count": null,
   "id": "9fdc05f7",
   "metadata": {},
   "outputs": [],
   "source": []
  },
  {
   "cell_type": "markdown",
   "id": "7a5687a1",
   "metadata": {},
   "source": [
    "# 반복문(for 문)"
   ]
  },
  {
   "cell_type": "markdown",
   "id": "e5073059",
   "metadata": {},
   "source": [
    "## 기본 이해 "
   ]
  },
  {
   "cell_type": "code",
   "execution_count": 18,
   "id": "6a628084",
   "metadata": {},
   "outputs": [],
   "source": [
    "# 반복되는 경우 효율성 제고\n",
    "# 특정 횟수만큼 반복 실행\n",
    "# 자료를 순서대로 할당\n",
    "\n",
    "# 작성 방법 ==> for [변수] in [변수 반복 하려는 인자] :\n",
    "               # 들여쓰기 수행문"
   ]
  },
  {
   "cell_type": "code",
   "execution_count": 19,
   "id": "8269cdff",
   "metadata": {},
   "outputs": [
    {
     "name": "stdout",
     "output_type": "stream",
     "text": [
      "1\n"
     ]
    }
   ],
   "source": [
    "print(1)"
   ]
  },
  {
   "cell_type": "code",
   "execution_count": 20,
   "id": "21232494",
   "metadata": {},
   "outputs": [
    {
     "name": "stdout",
     "output_type": "stream",
     "text": [
      "2\n"
     ]
    }
   ],
   "source": [
    "print(2)"
   ]
  },
  {
   "cell_type": "code",
   "execution_count": 21,
   "id": "991a08c9",
   "metadata": {},
   "outputs": [
    {
     "name": "stdout",
     "output_type": "stream",
     "text": [
      "3\n"
     ]
    }
   ],
   "source": [
    "print(3)"
   ]
  },
  {
   "cell_type": "code",
   "execution_count": 34,
   "id": "af4e57cb",
   "metadata": {},
   "outputs": [
    {
     "name": "stdout",
     "output_type": "stream",
     "text": [
      "0\n",
      "1\n",
      "2\n",
      "3\n",
      "4\n",
      "5\n"
     ]
    }
   ],
   "source": [
    "# for 문을 사용하면 중복된 부분의 코드를 줄일 수 있어 프로그램을 빨리 작성할 수 있고 코드의 가독성도 향상 \n",
    "\n",
    "# 작성 방법 ==> for [ 지정한 변수명] in [반복 인자] :\n",
    "               # 들여쓰기 수행문\n",
    "\n",
    "# for 문장 끝에 콜론(:)\n",
    "# for 문에서 수행되는 문장은 들여쓰기.\n",
    "# for () in : 리스트 안에 있는 각 값을 print()\n",
    "\n",
    "for sample in [0, 1, 2, 3, 4, 5]:\n",
    "    print(sample)"
   ]
  },
  {
   "cell_type": "code",
   "execution_count": 35,
   "id": "f5089309",
   "metadata": {},
   "outputs": [
    {
     "name": "stdout",
     "output_type": "stream",
     "text": [
      "10\n",
      "11\n",
      "12\n",
      "13\n",
      "14\n",
      "15\n"
     ]
    }
   ],
   "source": [
    "# 수행문이 sample 변수에 5를 더한 값\n",
    "# sample 변수에 10을 더한 값을 new_sample에 담는다.\n",
    "\n",
    "for sample in [0, 1, 2, 3, 4, 5]:\n",
    "        new_sample = sample+10\n",
    "        print(new_sample)        "
   ]
  },
  {
   "cell_type": "markdown",
   "id": "981f2d7f",
   "metadata": {},
   "source": [
    "## for문 range 함수와 함께 "
   ]
  },
  {
   "cell_type": "code",
   "execution_count": 25,
   "id": "5bc26aba",
   "metadata": {},
   "outputs": [],
   "source": [
    "# for문은 range라는 함수와 함께 많이 사용\n",
    "# range 함수는 숫자(정수) 리스트를 자동으로 생성\n",
    "# 정수 범위를 표현"
   ]
  },
  {
   "cell_type": "code",
   "execution_count": 36,
   "id": "18d31dd5",
   "metadata": {},
   "outputs": [
    {
     "data": {
      "text/plain": [
       "range(1, 5)"
      ]
     },
     "execution_count": 36,
     "metadata": {},
     "output_type": "execute_result"
    }
   ],
   "source": [
    "range(1, 5)"
   ]
  },
  {
   "cell_type": "code",
   "execution_count": 37,
   "id": "14b6cd90",
   "metadata": {},
   "outputs": [
    {
     "data": {
      "text/plain": [
       "[1, 2, 3, 4]"
      ]
     },
     "execution_count": 37,
     "metadata": {},
     "output_type": "execute_result"
    }
   ],
   "source": [
    "# range(1, 10)을 list라는 키워드를 통해 리스트 객체로 변환\n",
    "# 1부터 4까지 의 경우\n",
    "list(range(1,5))"
   ]
  },
  {
   "cell_type": "code",
   "execution_count": 38,
   "id": "8b47df24",
   "metadata": {},
   "outputs": [
    {
     "data": {
      "text/plain": [
       "range(1, 11)"
      ]
     },
     "execution_count": 38,
     "metadata": {},
     "output_type": "execute_result"
    }
   ],
   "source": [
    "# 만약 1부터 10까지 출력 \n",
    "range(1, 11)"
   ]
  },
  {
   "cell_type": "code",
   "execution_count": 39,
   "id": "c661acc8",
   "metadata": {},
   "outputs": [
    {
     "data": {
      "text/plain": [
       "[1, 2, 3, 4, 5, 6, 7, 8, 9, 10]"
      ]
     },
     "execution_count": 39,
     "metadata": {},
     "output_type": "execute_result"
    }
   ],
   "source": [
    "list(range(1,11))"
   ]
  },
  {
   "cell_type": "code",
   "execution_count": 40,
   "id": "0dec96fc",
   "metadata": {},
   "outputs": [
    {
     "name": "stdout",
     "output_type": "stream",
     "text": [
      "1\n",
      "2\n",
      "3\n",
      "4\n",
      "5\n",
      "6\n",
      "7\n",
      "8\n",
      "9\n",
      "10\n"
     ]
    }
   ],
   "source": [
    "# for 변수 in range(시작숫자, 끝숫자)\n",
    "for num in range(1,11) : \n",
    "    print(num)"
   ]
  },
  {
   "cell_type": "code",
   "execution_count": 41,
   "id": "dfcbc405",
   "metadata": {},
   "outputs": [
    {
     "name": "stdout",
     "output_type": "stream",
     "text": [
      "0\n",
      "1\n",
      "2\n"
     ]
    }
   ],
   "source": [
    " #range(숫자) : 0부터 입력한 숫자전까지 정수를 반환한다.\n",
    "for num in range(3) :   \n",
    "    print(num)"
   ]
  },
  {
   "cell_type": "code",
   "execution_count": 42,
   "id": "31867ebd",
   "metadata": {},
   "outputs": [
    {
     "name": "stdout",
     "output_type": "stream",
     "text": [
      "1\n",
      "4\n",
      "7\n",
      "10\n",
      "13\n",
      "16\n",
      "19\n",
      "22\n",
      "25\n",
      "28\n"
     ]
    }
   ],
   "source": [
    "#range(숫자1,숫자2,숫자3) : 숫자1부터 숫자2 전까지 숫자3씩 증가하는 정수를 반환한다.\n",
    "for num in range(1,30,3) :   \n",
    "    print(num)"
   ]
  },
  {
   "cell_type": "code",
   "execution_count": null,
   "id": "5b9584dc",
   "metadata": {},
   "outputs": [],
   "source": []
  },
  {
   "cell_type": "markdown",
   "id": "18f4ed45",
   "metadata": {},
   "source": [
    "# 반복문(while 문)"
   ]
  },
  {
   "cell_type": "code",
   "execution_count": 35,
   "id": "c6b6ab74",
   "metadata": {},
   "outputs": [],
   "source": [
    "# while 문은 반복해야 할 횟수가 특별히 정해지지 않고 어떤 조건을 충족하는 동안만 실행될 때 주로 사용\n",
    "#for 문을 사용한 경우나 while 문을 사용한 경우의 결과는 동일 함."
   ]
  },
  {
   "cell_type": "code",
   "execution_count": 36,
   "id": "431f4635",
   "metadata": {},
   "outputs": [
    {
     "name": "stdout",
     "output_type": "stream",
     "text": [
      "1\n",
      "3\n",
      "5\n",
      "7\n",
      "9\n"
     ]
    }
   ],
   "source": [
    "# 0부터 10까지의 숫자 중에서 홀수만 화면에 출력하는 프로그램 구현 사례\n",
    "# 나머지 값 : %\n",
    "# 사칙연산 참고\n",
    "num = 0\n",
    "while num <= 10:\n",
    "        if num % 2 == 1:\n",
    "                print(num)\n",
    "        num += 1"
   ]
  },
  {
   "cell_type": "code",
   "execution_count": null,
   "id": "e3525104",
   "metadata": {},
   "outputs": [],
   "source": []
  },
  {
   "cell_type": "markdown",
   "id": "385cb49e",
   "metadata": {},
   "source": [
    "# 파이썬 함수(function)"
   ]
  },
  {
   "cell_type": "markdown",
   "id": "e5175b3e",
   "metadata": {},
   "source": [
    "## 함수란? "
   ]
  },
  {
   "cell_type": "code",
   "execution_count": 44,
   "id": "5ae3ced7",
   "metadata": {},
   "outputs": [],
   "source": [
    "# 프로그램을 개발 과정에서 중복으로 사용되는 코드일 때\n",
    "# 중복 코드를 재사용하고 싶을 때는 함수(function) 형태로 코드를 작성\n",
    "# 입력값을 넣으면 원하는 출력값을 얻을 수 있음.--> 입력값을 연산을 통해 새로운 출력값을 얻을 수 있다.\n",
    "# 입력값  --> 함수 --> 출력 값\n",
    "# 내장함수, 외장함수"
   ]
  },
  {
   "cell_type": "code",
   "execution_count": 45,
   "id": "6c537de3",
   "metadata": {},
   "outputs": [
    {
     "name": "stdout",
     "output_type": "stream",
     "text": [
      "한국대학교\n"
     ]
    }
   ],
   "source": [
    "print(\"한국대학교\")"
   ]
  },
  {
   "cell_type": "code",
   "execution_count": 46,
   "id": "349b2237",
   "metadata": {},
   "outputs": [
    {
     "name": "stdout",
     "output_type": "stream",
     "text": [
      "한국대학교\n",
      "한국대학교\n",
      "한국대학교\n"
     ]
    }
   ],
   "source": [
    "for i in range(3):\n",
    "    print(\"한국대학교\")"
   ]
  },
  {
   "cell_type": "markdown",
   "id": "26e01afd",
   "metadata": {},
   "source": [
    "## 함수 만들기 "
   ]
  },
  {
   "cell_type": "code",
   "execution_count": 47,
   "id": "30dfa501",
   "metadata": {},
   "outputs": [],
   "source": [
    "# def : 파이썬에서는 함수 만들 때 사용하는 키워드\n",
    "# def : definition\n",
    "# 함수의 기능과 연관된 적당한 함수명을 지정이 필요\n",
    "# 함수라는 것은 처음에 한 번만 잘 만들어 두면 다음에는 호출하여 원하는 기능을 실행\n",
    "# 실행 차례 : 함수 정의(선언)--> 함수 호출"
   ]
  },
  {
   "cell_type": "code",
   "execution_count": 43,
   "id": "d03eb7b8",
   "metadata": {},
   "outputs": [],
   "source": [
    "# def 다음에  함수이름(인자)\n",
    "# 두번째 줄에 들여쓰기 후 함수 본문\n",
    "\n",
    "def print_school():\n",
    "        print(\"한국대학교\")"
   ]
  },
  {
   "cell_type": "code",
   "execution_count": 44,
   "id": "df3f17ee",
   "metadata": {},
   "outputs": [],
   "source": [
    "def print_school(n):\n",
    "    for i in range(n):\n",
    "        print(\"한국대학교\")\n"
   ]
  },
  {
   "cell_type": "code",
   "execution_count": 45,
   "id": "0b8d90a3",
   "metadata": {},
   "outputs": [
    {
     "name": "stdout",
     "output_type": "stream",
     "text": [
      "한국대학교\n"
     ]
    }
   ],
   "source": [
    "print_school(1)"
   ]
  },
  {
   "cell_type": "code",
   "execution_count": 48,
   "id": "1012b117",
   "metadata": {},
   "outputs": [
    {
     "name": "stdout",
     "output_type": "stream",
     "text": [
      "한국대학교\n",
      "한국대학교\n",
      "한국대학교\n",
      "한국대학교\n",
      "한국대학교\n"
     ]
    }
   ],
   "source": [
    "print_school(5)"
   ]
  },
  {
   "cell_type": "code",
   "execution_count": null,
   "id": "88e67ade",
   "metadata": {},
   "outputs": [],
   "source": []
  },
  {
   "cell_type": "markdown",
   "id": "17d896a1",
   "metadata": {},
   "source": [
    "# 파이썬 내장 함수\n",
    "## https://docs.python.org/ko/3/library/functions.html"
   ]
  },
  {
   "cell_type": "code",
   "execution_count": 52,
   "id": "318fc287",
   "metadata": {},
   "outputs": [],
   "source": [
    "# 내장함수(Built-in Functions) 기본 제공\n",
    "    \n",
    "# abs()\tlen() dict () min () 등   "
   ]
  },
  {
   "cell_type": "code",
   "execution_count": 49,
   "id": "3aeb2758",
   "metadata": {},
   "outputs": [
    {
     "data": {
      "text/plain": [
       "10"
      ]
     },
     "execution_count": 49,
     "metadata": {},
     "output_type": "execute_result"
    }
   ],
   "source": [
    "# abs(x) : 정수형 또는 실수형 값을 입력받은 후 해당 값의 절댓값을 반환하는 함수\n",
    "\n",
    "abs(-10)"
   ]
  },
  {
   "cell_type": "code",
   "execution_count": 50,
   "id": "81b6e92f",
   "metadata": {},
   "outputs": [
    {
     "data": {
      "text/plain": [
       "5"
      ]
     },
     "execution_count": 50,
     "metadata": {},
     "output_type": "execute_result"
    }
   ],
   "source": [
    "# len() : 리스트, 튜플, 문자열, 딕셔너리 등을 입력받아 해당 객체의 원소 개수를 반환\n",
    "len('한국대학교')"
   ]
  },
  {
   "cell_type": "code",
   "execution_count": 55,
   "id": "8867b535",
   "metadata": {},
   "outputs": [
    {
     "data": {
      "text/plain": [
       "['한', '국', '대', '학', '교']"
      ]
     },
     "execution_count": 55,
     "metadata": {},
     "output_type": "execute_result"
    }
   ],
   "source": [
    "# list :문자열이나 튜플을 입력받은 후 리스트 객체로 만들고 해당 리스트를 반환\n",
    "list('한국대학교')"
   ]
  },
  {
   "cell_type": "code",
   "execution_count": 56,
   "id": "ac453b5b",
   "metadata": {},
   "outputs": [],
   "source": [
    "# max : 입력값 중 최댓값을 반환\n",
    "# min : 입력값 중 최소값을 반환"
   ]
  },
  {
   "cell_type": "code",
   "execution_count": 51,
   "id": "de243646",
   "metadata": {},
   "outputs": [
    {
     "data": {
      "text/plain": [
       "5"
      ]
     },
     "execution_count": 51,
     "metadata": {},
     "output_type": "execute_result"
    }
   ],
   "source": [
    "max(1,2,3,4,5)"
   ]
  },
  {
   "cell_type": "code",
   "execution_count": 52,
   "id": "65fed322",
   "metadata": {},
   "outputs": [
    {
     "data": {
      "text/plain": [
       "1"
      ]
     },
     "execution_count": 52,
     "metadata": {},
     "output_type": "execute_result"
    }
   ],
   "source": [
    "min(1,2,3,4,5)"
   ]
  },
  {
   "cell_type": "code",
   "execution_count": 59,
   "id": "93dc5fa6",
   "metadata": {},
   "outputs": [],
   "source": [
    "# sorted : 입력값을 정렬한 후 정렬된 결괏값을 ‘리스트’로 반환"
   ]
  },
  {
   "cell_type": "code",
   "execution_count": 53,
   "id": "f6d154d7",
   "metadata": {},
   "outputs": [
    {
     "data": {
      "text/plain": [
       "[0, 1, 3, 4, 5]"
      ]
     },
     "execution_count": 53,
     "metadata": {},
     "output_type": "execute_result"
    }
   ],
   "source": [
    "sorted((4,3,1,5,0))"
   ]
  },
  {
   "cell_type": "code",
   "execution_count": 61,
   "id": "753b01bb",
   "metadata": {},
   "outputs": [
    {
     "data": {
      "text/plain": [
       "['a', 'b', 'c', 'd']"
      ]
     },
     "execution_count": 61,
     "metadata": {},
     "output_type": "execute_result"
    }
   ],
   "source": [
    "sorted(['c', 'b', \"d\",'a'])"
   ]
  },
  {
   "cell_type": "code",
   "execution_count": 62,
   "id": "09c2bc2c",
   "metadata": {},
   "outputs": [
    {
     "data": {
      "text/plain": [
       "['대학교', '컴공과', '한국']"
      ]
     },
     "execution_count": 62,
     "metadata": {},
     "output_type": "execute_result"
    }
   ],
   "source": [
    "sorted(['한국', '대학교', \"컴공과\"])"
   ]
  },
  {
   "cell_type": "code",
   "execution_count": null,
   "id": "a94e04f7",
   "metadata": {},
   "outputs": [],
   "source": []
  }
 ],
 "metadata": {
  "kernelspec": {
   "display_name": "Python 3 (ipykernel)",
   "language": "python",
   "name": "python3"
  },
  "language_info": {
   "codemirror_mode": {
    "name": "ipython",
    "version": 3
   },
   "file_extension": ".py",
   "mimetype": "text/x-python",
   "name": "python",
   "nbconvert_exporter": "python",
   "pygments_lexer": "ipython3",
   "version": "3.9.6"
  },
  "toc": {
   "base_numbering": 1,
   "nav_menu": {},
   "number_sections": true,
   "sideBar": true,
   "skip_h1_title": false,
   "title_cell": "Table of Contents",
   "title_sidebar": "Contents",
   "toc_cell": false,
   "toc_position": {},
   "toc_section_display": true,
   "toc_window_display": false
  }
 },
 "nbformat": 4,
 "nbformat_minor": 5
}
