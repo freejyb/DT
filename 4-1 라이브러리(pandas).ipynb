{
 "cells": [
  {
   "cell_type": "markdown",
   "id": "e73ca93c",
   "metadata": {},
   "source": [
    " # pandas의 핵심 자료구조\n",
    " ### https://pandas.pydata.org/docs/user_guide/10min.html"
   ]
  },
  {
   "cell_type": "code",
   "execution_count": null,
   "id": "44a09571",
   "metadata": {},
   "outputs": [],
   "source": [
    "# 테이블 형태(행과 열로 이루어진 데이터 객체)의 데이터 구조와 객체를 편리하게 다루기 위한 패키지\n",
    "# Pandas 자료구조\n",
    "# Series: 1차원 벡터 형식\n",
    "# DataFrame: 2차원 행렬 형식\n",
    "# Panel: 3차원 배열 형식\n",
    "\n",
    "# # 데이터 입출력¶\n",
    "# Pandas는 데이터 파일을 읽어 데이터프레임을 만들 수 있다. 다음처럼 여러가지 포맷을 지원한다.\n",
    "\n",
    "# CSV : CSV(Comma Separated Value) 포맷 , CSV 파일 포맷은 데이터 값이 쉽표(comma)로 구분되는 텍스트 파일\n",
    "# Excel\n",
    "# HTML\n",
    "# JSON\n",
    "# HDF5\n",
    "# SAS\n",
    "# STATA\n",
    "# SQL"
   ]
  },
  {
   "cell_type": "markdown",
   "id": "6202efde",
   "metadata": {},
   "source": [
    "## Series와 DataFrame"
   ]
  },
  {
   "cell_type": "code",
   "execution_count": 2,
   "id": "5ad39792",
   "metadata": {},
   "outputs": [],
   "source": [
    "# Pandas 자료구조\n",
    "\n",
    "# Series: 1차원 벡터 형식 , 하나의 열이 되는 데이터를 리스트나 일차원 배열을 준비한다.\n",
    "# DataFrame: 2차원 행렬 형식\n",
    "# Panel: 3차원 배열 형식\n"
   ]
  },
  {
   "cell_type": "markdown",
   "id": "a5a49eff",
   "metadata": {},
   "source": [
    "### 1) Series "
   ]
  },
  {
   "cell_type": "markdown",
   "id": "402e3cfb",
   "metadata": {},
   "source": [
    "#### (1) 시리즈 이해 "
   ]
  },
  {
   "cell_type": "code",
   "execution_count": null,
   "id": "aae925bd",
   "metadata": {},
   "outputs": [],
   "source": [
    "# Series :  1차원 형태의 자료구조\n",
    "# 파이썬의 리스트와 비슷하고 , 딕셔너리와 유사한 자료구조\n",
    "# Series모든 데이터 유형(정수, 문자열, 부동 소수점 숫자, Python 객체 등)을 보유할 수 있는 1차원 레이블 배열\n",
    "# Series형태의 자료구조는 기본적으로 index와 value 가 존재하기 때문에 일반적으로 생각하는 시계열 형태와 일치 "
   ]
  },
  {
   "cell_type": "markdown",
   "id": "b50972c9",
   "metadata": {},
   "source": [
    "#### (2) 시리즈 생성하기 "
   ]
  },
  {
   "cell_type": "code",
   "execution_count": 2,
   "id": "9fb424a5",
   "metadata": {},
   "outputs": [
    {
     "data": {
      "text/plain": [
       "삼성전자     55000\n",
       "하이닉스     80000\n",
       "카카오뱅크    20000\n",
       "dtype: int64"
      ]
     },
     "execution_count": 2,
     "metadata": {},
     "output_type": "execute_result"
    }
   ],
   "source": [
    "# 라이브러리 불러오기\n",
    "import numpy as np\n",
    "import pandas as pd\n",
    "\n",
    "# 판다스로 시리즈 만들기\n",
    "# 시리즈 인덱스를 따로 지정하지 않으면 0부터 시작한다. \n",
    "# 인덱스를 따로 지정하려면 index 인자에 리스트를 전달하면 된다. \n",
    "# columns 인자를 사용하면 데이터프레임의 열 순서를 지정할 수 있다.\n",
    "\n",
    "\n",
    "stock_list = pd.Series([55000, 80000, 20000],\n",
    "              index=[\"삼성전자\", \"하이닉스\", \"카카오뱅크\"])\n",
    "stock_list"
   ]
  },
  {
   "cell_type": "code",
   "execution_count": 4,
   "id": "c351c881",
   "metadata": {},
   "outputs": [
    {
     "name": "stdout",
     "output_type": "stream",
     "text": [
      "삼성전자     55000\n",
      "하이닉스     80000\n",
      "카카오뱅크    20000\n",
      "dtype: int64\n"
     ]
    }
   ],
   "source": [
    "print(stock_list)"
   ]
  },
  {
   "cell_type": "markdown",
   "id": "d8f6aefb",
   "metadata": {},
   "source": [
    "#### (3) 시리즈 구성 확인하기 "
   ]
  },
  {
   "cell_type": "code",
   "execution_count": null,
   "id": "00c8b2c9",
   "metadata": {},
   "outputs": [],
   "source": [
    "# 판다스 패키지의 시리즈 클래스는 dictionary와 비슷한 구조로 index와 values로 구성"
   ]
  },
  {
   "cell_type": "code",
   "execution_count": 5,
   "id": "df3d0e87",
   "metadata": {},
   "outputs": [
    {
     "name": "stdout",
     "output_type": "stream",
     "text": [
      "Index(['삼성전자', '하이닉스', '카카오뱅크'], dtype='object')\n"
     ]
    }
   ],
   "source": [
    "# index 확인\n",
    "print(stock_list.index)"
   ]
  },
  {
   "cell_type": "code",
   "execution_count": 6,
   "id": "5c98c749",
   "metadata": {},
   "outputs": [
    {
     "name": "stdout",
     "output_type": "stream",
     "text": [
      "[55000 80000 20000]\n"
     ]
    }
   ],
   "source": [
    "# value 확인\n",
    "print(stock_list.values)"
   ]
  },
  {
   "cell_type": "markdown",
   "id": "0d32ca0e",
   "metadata": {},
   "source": [
    "#### (4) 시리즈 이름 지정 "
   ]
  },
  {
   "cell_type": "code",
   "execution_count": 12,
   "id": "446b5780",
   "metadata": {},
   "outputs": [
    {
     "data": {
      "text/plain": [
       "(기업명, 주가)\n",
       "삼성전자     55000\n",
       "하이닉스     80000\n",
       "카카오뱅크    20000\n",
       "dtype: int64"
      ]
     },
     "execution_count": 12,
     "metadata": {},
     "output_type": "execute_result"
    }
   ],
   "source": [
    "# 인덱스 이름 지정\n",
    "# pd.Series()함수의 옵션으로 index명을 지정\n",
    "\n",
    "stock_list.index.name = \"기업명\",\"주가\"\n",
    "stock_list"
   ]
  },
  {
   "cell_type": "markdown",
   "id": "846bfd20",
   "metadata": {},
   "source": [
    "#### (5) Series를  DataFrame으로 변환 가능 "
   ]
  },
  {
   "cell_type": "code",
   "execution_count": 20,
   "id": "fce1322d",
   "metadata": {},
   "outputs": [
    {
     "data": {
      "text/html": [
       "<div>\n",
       "<style scoped>\n",
       "    .dataframe tbody tr th:only-of-type {\n",
       "        vertical-align: middle;\n",
       "    }\n",
       "\n",
       "    .dataframe tbody tr th {\n",
       "        vertical-align: top;\n",
       "    }\n",
       "\n",
       "    .dataframe thead th {\n",
       "        text-align: right;\n",
       "    }\n",
       "</style>\n",
       "<table border=\"1\" class=\"dataframe\">\n",
       "  <thead>\n",
       "    <tr style=\"text-align: right;\">\n",
       "      <th></th>\n",
       "      <th>0</th>\n",
       "    </tr>\n",
       "    <tr>\n",
       "      <th>(기업명, 주가)</th>\n",
       "      <th></th>\n",
       "    </tr>\n",
       "  </thead>\n",
       "  <tbody>\n",
       "    <tr>\n",
       "      <th>삼성전자</th>\n",
       "      <td>55000</td>\n",
       "    </tr>\n",
       "    <tr>\n",
       "      <th>하이닉스</th>\n",
       "      <td>80000</td>\n",
       "    </tr>\n",
       "    <tr>\n",
       "      <th>카카오뱅크</th>\n",
       "      <td>20000</td>\n",
       "    </tr>\n",
       "  </tbody>\n",
       "</table>\n",
       "</div>"
      ],
      "text/plain": [
       "               0\n",
       "(기업명, 주가)       \n",
       "삼성전자       55000\n",
       "하이닉스       80000\n",
       "카카오뱅크      20000"
      ]
     },
     "execution_count": 20,
     "metadata": {},
     "output_type": "execute_result"
    }
   ],
   "source": [
    "stock_list.to_frame()"
   ]
  },
  {
   "cell_type": "code",
   "execution_count": 21,
   "id": "2ce3f973",
   "metadata": {},
   "outputs": [
    {
     "name": "stdout",
     "output_type": "stream",
     "text": [
      "('기업명', '주가')   삼성전자   하이닉스  카카오뱅크\n",
      "0              55000  80000  20000\n"
     ]
    }
   ],
   "source": [
    "df = pd.DataFrame([stock_list])\n",
    "print (df)"
   ]
  },
  {
   "cell_type": "code",
   "execution_count": null,
   "id": "be23aa92",
   "metadata": {},
   "outputs": [],
   "source": []
  },
  {
   "cell_type": "code",
   "execution_count": 32,
   "id": "2e10043b",
   "metadata": {},
   "outputs": [
    {
     "name": "stdout",
     "output_type": "stream",
     "text": [
      "apple     2500\n",
      "banana    3800\n",
      "peer      1200\n",
      "cherry    6000\n",
      "dtype: int64\n"
     ]
    }
   ],
   "source": [
    "## 시리즈 만들기\n",
    "from pandas import Series, DataFrame\n",
    "import pandas as pd\n",
    "## series\n",
    "fruit = Series([2500,3800,1200,6000],index=['apple','banana','peer','cherry'])\n",
    "print(fruit)"
   ]
  },
  {
   "cell_type": "code",
   "execution_count": 32,
   "id": "80d29d96",
   "metadata": {},
   "outputs": [
    {
     "name": "stdout",
     "output_type": "stream",
     "text": [
      "0    600\n",
      "1    590\n",
      "2    570\n",
      "3    550\n",
      "4    570\n",
      "dtype: int64\n"
     ]
    }
   ],
   "source": [
    "from pandas import Series, DataFrame\n",
    "\n",
    "abc = Series([600, 590, 570, 550, 570])\n",
    "print(abc)"
   ]
  },
  {
   "cell_type": "code",
   "execution_count": 33,
   "id": "fb22326a",
   "metadata": {},
   "outputs": [
    {
     "name": "stdout",
     "output_type": "stream",
     "text": [
      "590\n",
      "570\n"
     ]
    }
   ],
   "source": [
    "# Series 객체를 생성할 때 인자로 넘겨준 리스트 내의 데이터 순서 기준으로 인덱싱\n",
    "print(abc[1])\n",
    "print(abc[4])"
   ]
  },
  {
   "cell_type": "code",
   "execution_count": 34,
   "id": "f5eae93a",
   "metadata": {},
   "outputs": [],
   "source": [
    "# index에 인덱싱할 값을 넘겨주면 해당 값으로 인덱싱"
   ]
  },
  {
   "cell_type": "code",
   "execution_count": 35,
   "id": "cb7f6052",
   "metadata": {},
   "outputs": [
    {
     "name": "stdout",
     "output_type": "stream",
     "text": [
      "2020-02-19    600\n",
      "2020-02-18    590\n",
      "2020-02-17    570\n",
      "2020-02-16    550\n",
      "2020-02-15    570\n",
      "dtype: int64\n"
     ]
    }
   ],
   "source": [
    "abc1 = Series([600, 590, 570, 550, 570], index=['2020-02-19',\n",
    "                                                            '2020-02-18',\n",
    "                                                            '2020-02-17',\n",
    "                                                            '2020-02-16',\n",
    "                                                            '2020-02-15'])\n",
    "print(abc1)"
   ]
  },
  {
   "cell_type": "code",
   "execution_count": 36,
   "id": "f23d0db2",
   "metadata": {},
   "outputs": [
    {
     "name": "stdout",
     "output_type": "stream",
     "text": [
      "550\n"
     ]
    }
   ],
   "source": [
    "print(abc1['2020-02-16'])"
   ]
  },
  {
   "cell_type": "code",
   "execution_count": 37,
   "id": "b5cd151b",
   "metadata": {},
   "outputs": [
    {
     "name": "stdout",
     "output_type": "stream",
     "text": [
      "2020-02-19\n",
      "2020-02-18\n",
      "2020-02-17\n",
      "2020-02-16\n",
      "2020-02-15\n",
      "600\n",
      "590\n",
      "570\n",
      "550\n",
      "570\n"
     ]
    }
   ],
   "source": [
    "for date in abc1.index:\n",
    "    print(date)\n",
    "\n",
    "for ending_price in abc1.values:\n",
    "    print(ending_price)"
   ]
  },
  {
   "cell_type": "markdown",
   "id": "4c9eb05e",
   "metadata": {},
   "source": [
    "#### (7) 시리즈의 기초 통계 메서드 사용하기 "
   ]
  },
  {
   "cell_type": "code",
   "execution_count": 38,
   "id": "658712ec",
   "metadata": {},
   "outputs": [],
   "source": [
    "# describe                요약 통계량 계산\n",
    "# min                     최솟값 반환\n",
    "# max                     최댓값 반환\n",
    "# mean                    산술 평균 반환\n",
    "# median                  중간값 반환\n",
    "# std                     표준편차"
   ]
  },
  {
   "cell_type": "code",
   "execution_count": 40,
   "id": "c87aeb62",
   "metadata": {},
   "outputs": [
    {
     "name": "stdout",
     "output_type": "stream",
     "text": [
      "count        3.000000\n",
      "mean     51666.666667\n",
      "std      30138.568867\n",
      "min      20000.000000\n",
      "25%      37500.000000\n",
      "50%      55000.000000\n",
      "75%      67500.000000\n",
      "max      80000.000000\n",
      "dtype: float64\n"
     ]
    }
   ],
   "source": [
    "print(stock_list.describe())"
   ]
  },
  {
   "cell_type": "code",
   "execution_count": 41,
   "id": "96aa0815",
   "metadata": {},
   "outputs": [
    {
     "name": "stdout",
     "output_type": "stream",
     "text": [
      "51666.666666666664\n"
     ]
    }
   ],
   "source": [
    "print(stock_list.mean())\n"
   ]
  },
  {
   "cell_type": "code",
   "execution_count": 42,
   "id": "db305e04",
   "metadata": {},
   "outputs": [
    {
     "name": "stdout",
     "output_type": "stream",
     "text": [
      "30138.56886670854\n"
     ]
    }
   ],
   "source": [
    "print(stock_list.std())"
   ]
  },
  {
   "cell_type": "code",
   "execution_count": 44,
   "id": "bfd14ad2",
   "metadata": {},
   "outputs": [
    {
     "name": "stdout",
     "output_type": "stream",
     "text": [
      "count      5.000000\n",
      "mean     576.000000\n",
      "std       19.493589\n",
      "min      550.000000\n",
      "25%      570.000000\n",
      "50%      570.000000\n",
      "75%      590.000000\n",
      "max      600.000000\n",
      "dtype: float64\n"
     ]
    }
   ],
   "source": [
    "print(abc.describe())"
   ]
  },
  {
   "cell_type": "code",
   "execution_count": 45,
   "id": "1cace457",
   "metadata": {},
   "outputs": [
    {
     "name": "stdout",
     "output_type": "stream",
     "text": [
      "     0    1    2    3    4\n",
      "0  600  590  570  550  570\n"
     ]
    }
   ],
   "source": [
    "df2 = pd.DataFrame([abc])\n",
    "print (df2)"
   ]
  },
  {
   "cell_type": "code",
   "execution_count": null,
   "id": "81932c81",
   "metadata": {},
   "outputs": [],
   "source": []
  },
  {
   "cell_type": "code",
   "execution_count": null,
   "id": "99c72c15",
   "metadata": {},
   "outputs": [],
   "source": [
    "# # 유용한 메소드\n",
    "\n",
    "# append                  2개 이상의 시리즈 연결\n",
    "# drop_duplicates         중복값이 없는 시리즈 반환\n",
    "# equals                  시리즈에 해당 값을 가진 요소가 있는지 확인\n",
    "# get_values              시리즈 값 구하기(values 속성과 동일)\n",
    "# isin                    시리즈에 포함된 값이 있는지 확인\n",
    "\n",
    "# replace                 특정 값을 가진 시리즈 값을 교체\n",
    "# sample                  시리즈에서 임이의 값을 반환\n",
    "# sort_values             값을 정렬\n",
    "# to_frame                시리즈를 데이터프레임으로 변환"
   ]
  },
  {
   "cell_type": "code",
   "execution_count": null,
   "id": "bbf8316d",
   "metadata": {},
   "outputs": [],
   "source": []
  },
  {
   "cell_type": "markdown",
   "id": "8b6592b4",
   "metadata": {},
   "source": [
    "# 2) Pandas DataFrame"
   ]
  },
  {
   "cell_type": "code",
   "execution_count": null,
   "id": "8f13ef62",
   "metadata": {},
   "outputs": [],
   "source": [
    "# DataFrame : 여러 개의 로우(row), 칼럼(Column)으로 구성된 2차원 형태의 자료구조"
   ]
  },
  {
   "cell_type": "code",
   "execution_count": null,
   "id": "bda04533",
   "metadata": {},
   "outputs": [],
   "source": [
    " # 딕셔너리를 통해 각 칼럼에 대한 데이터를 저장한 후\n",
    "    # 딕셔너리를 DataFrame 클래스의 생성자 인자로 넘겨주면 DataFrame 객체 생성     "
   ]
  },
  {
   "cell_type": "code",
   "execution_count": 21,
   "id": "d5943edc",
   "metadata": {},
   "outputs": [
    {
     "name": "stdout",
     "output_type": "stream",
     "text": [
      "   col0  col1  col2\n",
      "0     1    10   100\n",
      "1     2    20   200\n",
      "2     3    30   300\n",
      "3     4    40   400\n",
      "4     5    50   500\n"
     ]
    }
   ],
   "source": [
    "from pandas import Series, DataFrame\n",
    "\n",
    "raw_data = {'col0': [1, 2, 3, 4, 5],\n",
    "            'col1': [10, 20, 30, 40, 50],\n",
    "            'col2': [100, 200, 300, 400, 500]}\n",
    "\n",
    "data = DataFrame(raw_data)\n",
    "print(data)"
   ]
  },
  {
   "cell_type": "code",
   "execution_count": 23,
   "id": "b292b164",
   "metadata": {},
   "outputs": [
    {
     "name": "stdout",
     "output_type": "stream",
     "text": [
      "    open   high    low  close\n",
      "0  11650  12100  11600  11900\n",
      "1  11100  11800  11050  11600\n",
      "2  11200  11200  10900  11000\n",
      "3  11100  11100  10950  11100\n",
      "4  11000  11150  10900  11050\n"
     ]
    }
   ],
   "source": [
    "from pandas import Series, DataFrame\n",
    "\n",
    "abcd = {'open':  [11650, 11100, 11200, 11100, 11000],\n",
    "           'high':  [12100, 11800, 11200, 11100, 11150],\n",
    "           'low' :  [11600, 11050, 10900, 10950, 10900],\n",
    "           'close': [11900, 11600, 11000, 11100, 11050]}\n",
    "\n",
    "abcd_day = DataFrame(abcd)\n",
    "print(abcd_day)"
   ]
  },
  {
   "cell_type": "code",
   "execution_count": 26,
   "id": "1cca6e0b",
   "metadata": {},
   "outputs": [],
   "source": [
    "date = ['2020.02.29', '2020.02.26', '2020.02.25', '2020.02.24', '2020.02.23']\n",
    "abcd_day = DataFrame(abcd, columns=['open', 'high', 'low', 'close'], index=date)"
   ]
  },
  {
   "cell_type": "code",
   "execution_count": 27,
   "id": "fa4f9348",
   "metadata": {},
   "outputs": [
    {
     "name": "stdout",
     "output_type": "stream",
     "text": [
      "             open   high    low  close\n",
      "2020.02.29  11650  12100  11600  11900\n",
      "2020.02.26  11100  11800  11050  11600\n",
      "2020.02.25  11200  11200  10900  11000\n",
      "2020.02.24  11100  11100  10950  11100\n",
      "2020.02.23  11000  11150  10900  11050\n"
     ]
    }
   ],
   "source": [
    "print(abcd_day)"
   ]
  },
  {
   "cell_type": "markdown",
   "id": "9cc7e458",
   "metadata": {},
   "source": [
    "### DataFrame 로우(인덱스) ,칼럼 선택"
   ]
  },
  {
   "cell_type": "code",
   "execution_count": 28,
   "id": "379a42e0",
   "metadata": {},
   "outputs": [
    {
     "name": "stdout",
     "output_type": "stream",
     "text": [
      "2020.02.29    11900\n",
      "2020.02.26    11600\n",
      "2020.02.25    11000\n",
      "2020.02.24    11100\n",
      "2020.02.23    11050\n",
      "Name: close, dtype: int64\n"
     ]
    }
   ],
   "source": [
    " #'close' 칼럼에 대한 데이터만 DataFrame 객체로부터 얻는 경우\n",
    "close = abcd_day['close']\n",
    "print(close)\n",
    "    "
   ]
  },
  {
   "cell_type": "code",
   "execution_count": 33,
   "id": "68750e10",
   "metadata": {},
   "outputs": [
    {
     "name": "stdout",
     "output_type": "stream",
     "text": [
      "open     11100\n",
      "high     11800\n",
      "low      11050\n",
      "close    11600\n",
      "Name: 2020.02.26, dtype: int64\n",
      "<class 'pandas.core.series.Series'>\n"
     ]
    }
   ],
   "source": [
    "# DataFrame 객체의 로우에 접근하려면 loc 메서드를 사용해 인덱스 값을 넘겨주어야 함.\n",
    "day_data = abcd_day.loc['2020.02.26']\n",
    "print(day_data)\n",
    "print(type(day_data))"
   ]
  },
  {
   "cell_type": "code",
   "execution_count": 34,
   "id": "ccf5082e",
   "metadata": {},
   "outputs": [
    {
     "name": "stdout",
     "output_type": "stream",
     "text": [
      "Index(['open', 'high', 'low', 'close'], dtype='object')\n",
      "Index(['2020.02.29', '2020.02.26', '2020.02.25', '2020.02.24', '2020.02.23'], dtype='object')\n"
     ]
    }
   ],
   "source": [
    "# DataFrame 객체의 칼럼 이름과 인덱스 값을 확인하려면 각각 columns와 index 속성을 사용\n",
    "print(abcd_day.columns)\n",
    "print(abcd_day.index)"
   ]
  },
  {
   "cell_type": "markdown",
   "id": "4d970679",
   "metadata": {},
   "source": [
    "#### 텍스트 파일 만들기 "
   ]
  },
  {
   "cell_type": "code",
   "execution_count": null,
   "id": "6f56bc2b",
   "metadata": {},
   "outputs": [],
   "source": []
  },
  {
   "cell_type": "code",
   "execution_count": null,
   "id": "207bc1e8",
   "metadata": {},
   "outputs": [],
   "source": [
    "#  CSV(Comma Separated Value) 포맷 입출력\n",
    "#  --> CSV 파일 포맷은 데이터 값이 쉽표(comma)로 구분되는 텍스트 파일이다.\n",
    "\n",
    "# CSV 파일 입력¶\n",
    "# CSV 파일로부터 데이터를 읽어 데이터프레임을 만들 때는 pandas.read_csv 함수를 사용한다. \n",
    "# 함수의 입력값으로 파일 이름을 넣는다."
   ]
  },
  {
   "cell_type": "markdown",
   "id": "546a5bad",
   "metadata": {},
   "source": [
    "#### 1) %%writefile "
   ]
  },
  {
   "cell_type": "code",
   "execution_count": null,
   "id": "39c3f84a",
   "metadata": {},
   "outputs": [],
   "source": [
    "# 판다스 불러오기\n",
    "import pandas as pd"
   ]
  },
  {
   "cell_type": "code",
   "execution_count": null,
   "id": "40147464",
   "metadata": {},
   "outputs": [],
   "source": [
    "# %%writefile: 셀에 기입한 내용대로 텍스트 파일을 만드는 명령"
   ]
  },
  {
   "cell_type": "code",
   "execution_count": 24,
   "id": "41f6d2c4",
   "metadata": {},
   "outputs": [
    {
     "name": "stdout",
     "output_type": "stream",
     "text": [
      "Overwriting stock_list.csv\n"
     ]
    }
   ],
   "source": [
    "%%writefile stock_list.csv\n",
    "삼성,현대차, 네이버\n",
    "1, 100, 200,150\n",
    "2, 110, 210,220\n",
    "3, 120, 220,200"
   ]
  },
  {
   "cell_type": "markdown",
   "id": "a0f939e5",
   "metadata": {},
   "source": [
    "#### 2) csv 파일 불러오기 "
   ]
  },
  {
   "cell_type": "code",
   "execution_count": 25,
   "id": "8f34cfc7",
   "metadata": {},
   "outputs": [
    {
     "data": {
      "text/html": [
       "<div>\n",
       "<style scoped>\n",
       "    .dataframe tbody tr th:only-of-type {\n",
       "        vertical-align: middle;\n",
       "    }\n",
       "\n",
       "    .dataframe tbody tr th {\n",
       "        vertical-align: top;\n",
       "    }\n",
       "\n",
       "    .dataframe thead th {\n",
       "        text-align: right;\n",
       "    }\n",
       "</style>\n",
       "<table border=\"1\" class=\"dataframe\">\n",
       "  <thead>\n",
       "    <tr style=\"text-align: right;\">\n",
       "      <th></th>\n",
       "      <th>삼성</th>\n",
       "      <th>현대차</th>\n",
       "      <th>네이버</th>\n",
       "    </tr>\n",
       "  </thead>\n",
       "  <tbody>\n",
       "    <tr>\n",
       "      <th>1</th>\n",
       "      <td>100</td>\n",
       "      <td>200</td>\n",
       "      <td>150</td>\n",
       "    </tr>\n",
       "    <tr>\n",
       "      <th>2</th>\n",
       "      <td>110</td>\n",
       "      <td>210</td>\n",
       "      <td>220</td>\n",
       "    </tr>\n",
       "    <tr>\n",
       "      <th>3</th>\n",
       "      <td>120</td>\n",
       "      <td>220</td>\n",
       "      <td>200</td>\n",
       "    </tr>\n",
       "  </tbody>\n",
       "</table>\n",
       "</div>"
      ],
      "text/plain": [
       "    삼성  현대차   네이버\n",
       "1  100  200   150\n",
       "2  110  210   220\n",
       "3  120  220   200"
      ]
     },
     "execution_count": 25,
     "metadata": {},
     "output_type": "execute_result"
    }
   ],
   "source": [
    "# csv 파일 불러오기 \n",
    "pd.read_csv('stock_list.csv')"
   ]
  },
  {
   "cell_type": "markdown",
   "id": "10589cb0",
   "metadata": {},
   "source": [
    "#### 3) csv 파일을 df로 "
   ]
  },
  {
   "cell_type": "code",
   "execution_count": 33,
   "id": "28893ab4",
   "metadata": {},
   "outputs": [
    {
     "data": {
      "text/html": [
       "<div>\n",
       "<style scoped>\n",
       "    .dataframe tbody tr th:only-of-type {\n",
       "        vertical-align: middle;\n",
       "    }\n",
       "\n",
       "    .dataframe tbody tr th {\n",
       "        vertical-align: top;\n",
       "    }\n",
       "\n",
       "    .dataframe thead th {\n",
       "        text-align: right;\n",
       "    }\n",
       "</style>\n",
       "<table border=\"1\" class=\"dataframe\">\n",
       "  <thead>\n",
       "    <tr style=\"text-align: right;\">\n",
       "      <th></th>\n",
       "      <th>삼성</th>\n",
       "      <th>현대차</th>\n",
       "      <th>네이버</th>\n",
       "    </tr>\n",
       "  </thead>\n",
       "  <tbody>\n",
       "    <tr>\n",
       "      <th>1</th>\n",
       "      <td>100</td>\n",
       "      <td>200</td>\n",
       "      <td>150</td>\n",
       "    </tr>\n",
       "    <tr>\n",
       "      <th>2</th>\n",
       "      <td>110</td>\n",
       "      <td>210</td>\n",
       "      <td>220</td>\n",
       "    </tr>\n",
       "    <tr>\n",
       "      <th>3</th>\n",
       "      <td>120</td>\n",
       "      <td>220</td>\n",
       "      <td>200</td>\n",
       "    </tr>\n",
       "  </tbody>\n",
       "</table>\n",
       "</div>"
      ],
      "text/plain": [
       "    삼성  현대차   네이버\n",
       "1  100  200   150\n",
       "2  110  210   220\n",
       "3  120  220   200"
      ]
     },
     "execution_count": 33,
     "metadata": {},
     "output_type": "execute_result"
    }
   ],
   "source": [
    "# csv 파일을 df로\n",
    "df = pd.read_csv('stock_list.csv')\n",
    "df"
   ]
  },
  {
   "cell_type": "markdown",
   "id": "cb63f9cb",
   "metadata": {},
   "source": [
    "#### 4) csv파일 저장하기 "
   ]
  },
  {
   "cell_type": "code",
   "execution_count": 34,
   "id": "c0ae03b2",
   "metadata": {},
   "outputs": [],
   "source": [
    "df.to_csv('stock_list')"
   ]
  },
  {
   "cell_type": "markdown",
   "id": "4bcc562b",
   "metadata": {},
   "source": [
    "#### 5) 저장 파일 확인하기 "
   ]
  },
  {
   "cell_type": "code",
   "execution_count": 1,
   "id": "ce020249",
   "metadata": {},
   "outputs": [
    {
     "name": "stdout",
     "output_type": "stream",
     "text": [
      "�궪�꽦,�쁽���李�, �꽕�씠踰�\n",
      "1, 100, 200,150\n",
      "2, 110, 210,220\n",
      "3, 120, 220,200\n"
     ]
    }
   ],
   "source": [
    " # csv파일 내용 확인하기\n",
    "!type stock_list.csv"
   ]
  },
  {
   "cell_type": "markdown",
   "id": "75d1cf55",
   "metadata": {},
   "source": [
    "#### 6) 웹 상의 CSV 파일 입력"
   ]
  },
  {
   "cell_type": "code",
   "execution_count": 37,
   "id": "b83997a3",
   "metadata": {},
   "outputs": [
    {
     "data": {
      "text/html": [
       "<div>\n",
       "<style scoped>\n",
       "    .dataframe tbody tr th:only-of-type {\n",
       "        vertical-align: middle;\n",
       "    }\n",
       "\n",
       "    .dataframe tbody tr th {\n",
       "        vertical-align: top;\n",
       "    }\n",
       "\n",
       "    .dataframe thead th {\n",
       "        text-align: right;\n",
       "    }\n",
       "</style>\n",
       "<table border=\"1\" class=\"dataframe\">\n",
       "  <thead>\n",
       "    <tr style=\"text-align: right;\">\n",
       "      <th></th>\n",
       "      <th>PassengerId</th>\n",
       "      <th>Survived</th>\n",
       "      <th>Pclass</th>\n",
       "      <th>Name</th>\n",
       "      <th>Sex</th>\n",
       "      <th>Age</th>\n",
       "      <th>SibSp</th>\n",
       "      <th>Parch</th>\n",
       "      <th>Ticket</th>\n",
       "      <th>Fare</th>\n",
       "      <th>Cabin</th>\n",
       "      <th>Embarked</th>\n",
       "    </tr>\n",
       "  </thead>\n",
       "  <tbody>\n",
       "    <tr>\n",
       "      <th>0</th>\n",
       "      <td>1</td>\n",
       "      <td>0</td>\n",
       "      <td>3</td>\n",
       "      <td>Braund, Mr. Owen Harris</td>\n",
       "      <td>male</td>\n",
       "      <td>22.0</td>\n",
       "      <td>1</td>\n",
       "      <td>0</td>\n",
       "      <td>A/5 21171</td>\n",
       "      <td>7.2500</td>\n",
       "      <td>NaN</td>\n",
       "      <td>S</td>\n",
       "    </tr>\n",
       "    <tr>\n",
       "      <th>1</th>\n",
       "      <td>2</td>\n",
       "      <td>1</td>\n",
       "      <td>1</td>\n",
       "      <td>Cumings, Mrs. John Bradley (Florence Briggs Th...</td>\n",
       "      <td>female</td>\n",
       "      <td>38.0</td>\n",
       "      <td>1</td>\n",
       "      <td>0</td>\n",
       "      <td>PC 17599</td>\n",
       "      <td>71.2833</td>\n",
       "      <td>C85</td>\n",
       "      <td>C</td>\n",
       "    </tr>\n",
       "    <tr>\n",
       "      <th>2</th>\n",
       "      <td>3</td>\n",
       "      <td>1</td>\n",
       "      <td>3</td>\n",
       "      <td>Heikkinen, Miss. Laina</td>\n",
       "      <td>female</td>\n",
       "      <td>26.0</td>\n",
       "      <td>0</td>\n",
       "      <td>0</td>\n",
       "      <td>STON/O2. 3101282</td>\n",
       "      <td>7.9250</td>\n",
       "      <td>NaN</td>\n",
       "      <td>S</td>\n",
       "    </tr>\n",
       "    <tr>\n",
       "      <th>3</th>\n",
       "      <td>4</td>\n",
       "      <td>1</td>\n",
       "      <td>1</td>\n",
       "      <td>Futrelle, Mrs. Jacques Heath (Lily May Peel)</td>\n",
       "      <td>female</td>\n",
       "      <td>35.0</td>\n",
       "      <td>1</td>\n",
       "      <td>0</td>\n",
       "      <td>113803</td>\n",
       "      <td>53.1000</td>\n",
       "      <td>C123</td>\n",
       "      <td>S</td>\n",
       "    </tr>\n",
       "    <tr>\n",
       "      <th>4</th>\n",
       "      <td>5</td>\n",
       "      <td>0</td>\n",
       "      <td>3</td>\n",
       "      <td>Allen, Mr. William Henry</td>\n",
       "      <td>male</td>\n",
       "      <td>35.0</td>\n",
       "      <td>0</td>\n",
       "      <td>0</td>\n",
       "      <td>373450</td>\n",
       "      <td>8.0500</td>\n",
       "      <td>NaN</td>\n",
       "      <td>S</td>\n",
       "    </tr>\n",
       "  </tbody>\n",
       "</table>\n",
       "</div>"
      ],
      "text/plain": [
       "   PassengerId  Survived  Pclass  \\\n",
       "0            1         0       3   \n",
       "1            2         1       1   \n",
       "2            3         1       3   \n",
       "3            4         1       1   \n",
       "4            5         0       3   \n",
       "\n",
       "                                                Name     Sex   Age  SibSp  \\\n",
       "0                            Braund, Mr. Owen Harris    male  22.0      1   \n",
       "1  Cumings, Mrs. John Bradley (Florence Briggs Th...  female  38.0      1   \n",
       "2                             Heikkinen, Miss. Laina  female  26.0      0   \n",
       "3       Futrelle, Mrs. Jacques Heath (Lily May Peel)  female  35.0      1   \n",
       "4                           Allen, Mr. William Henry    male  35.0      0   \n",
       "\n",
       "   Parch            Ticket     Fare Cabin Embarked  \n",
       "0      0         A/5 21171   7.2500   NaN        S  \n",
       "1      0          PC 17599  71.2833   C85        C  \n",
       "2      0  STON/O2. 3101282   7.9250   NaN        S  \n",
       "3      0            113803  53.1000  C123        S  \n",
       "4      0            373450   8.0500   NaN        S  "
      ]
     },
     "execution_count": 37,
     "metadata": {},
     "output_type": "execute_result"
    }
   ],
   "source": [
    "# url을 이용하여 csv 파일을 다운하여 입력\n",
    "df = pd.read_csv(\"https://raw.githubusercontent.com/datascienceschool/docker_rpython/master/data/titanic.csv\")\n",
    "df.head()\n"
   ]
  },
  {
   "cell_type": "code",
   "execution_count": null,
   "id": "c781031a",
   "metadata": {},
   "outputs": [],
   "source": []
  },
  {
   "cell_type": "markdown",
   "id": "59b353d6",
   "metadata": {},
   "source": [
    "### 주식 데이터 받기 : 별도 자료 참고"
   ]
  },
  {
   "cell_type": "markdown",
   "id": "f1a22894",
   "metadata": {},
   "source": [
    "## FinanceDataReader을 이용한 분석\n",
    "#### https://pandas-datareader.readthedocs.io/en/latest/readers/index.html¶"
   ]
  },
  {
   "cell_type": "code",
   "execution_count": null,
   "id": "e9117593",
   "metadata": {},
   "outputs": [],
   "source": [
    "\n",
    "# 한국 주식 가격, 미국주식 가격, 지수, 환율, 암호화폐 가격, 종목 리스팅 등 금융 데이터 수집 라이브러리\n",
    "# FinanceData/FinanceDataReader: Financial data reader\n",
    "\n",
    "# FinanceDataReader 사용자 안내서 적극 활용 "
   ]
  },
  {
   "cell_type": "code",
   "execution_count": null,
   "id": "89979dd5",
   "metadata": {},
   "outputs": [],
   "source": [
    "# pandas-datareader 라는 이름의 독립 패키지 활용\n",
    "# pandas_datareader 패키지의 DataReader라는 함수 : 웹 상의 데이터를 DataFrame 객체로 만드는 기능 제공"
   ]
  },
  {
   "cell_type": "code",
   "execution_count": null,
   "id": "bc4c89ea",
   "metadata": {},
   "outputs": [],
   "source": [
    "# finance-datareader 설치¶\n",
    "\n",
    "!pip install finance-datareader"
   ]
  },
  {
   "cell_type": "code",
   "execution_count": 5,
   "id": "18bf8740",
   "metadata": {},
   "outputs": [],
   "source": [
    "# 라이브러리 불러오기¶\n",
    "# 데이터프레임을 활용한 다양한 활용을 위한 pandas 불러오기\n",
    "\n",
    "import pandas as pd\n",
    "import numpy as np"
   ]
  },
  {
   "cell_type": "markdown",
   "id": "84b0338d",
   "metadata": {},
   "source": [
    "### 한국거래소 상장종목 전체 가져오기"
   ]
  },
  {
   "cell_type": "code",
   "execution_count": 6,
   "id": "1943e414",
   "metadata": {},
   "outputs": [
    {
     "data": {
      "text/plain": [
       "'0.9.31'"
      ]
     },
     "execution_count": 6,
     "metadata": {},
     "output_type": "execute_result"
    }
   ],
   "source": [
    "# FinanceDataReader 를 fdr 별칭으로 불러오는 방법으로\n",
    "import FinanceDataReader as fdr\n",
    "\n",
    "fdr.__version__"
   ]
  },
  {
   "cell_type": "code",
   "execution_count": 7,
   "id": "e0199090",
   "metadata": {},
   "outputs": [],
   "source": [
    "# 데이터를 갖고 오는 시장 지정하기\n",
    "# KRX : KRX 종목 전체¶\n",
    "# KOSPI : KOSPI 종목\n",
    "# KOSDAQ : KOSDAQ 종목\n",
    "# KONEX : KONEX 종목\n",
    "# NASDAQ : 나스닥 종목\n",
    "# NYSE : 뉴욕증권거래소 종목\n",
    "# SP500 : S&P500 종목"
   ]
  },
  {
   "cell_type": "code",
   "execution_count": 3,
   "id": "4f09d01b",
   "metadata": {},
   "outputs": [
    {
     "name": "stderr",
     "output_type": "stream",
     "text": [
      "100%|█████████████████████████████████████████████████████████████████████████████| 4616/4616 [00:09<00:00, 478.78it/s]\n"
     ]
    }
   ],
   "source": [
    "#한국 거래소 상장종목 가져오기\n",
    "data_krx = fdr.StockListing('KRX')\n",
    "data_nasdaq = fdr.StockListing('NASDAQ')"
   ]
  },
  {
   "cell_type": "code",
   "execution_count": 4,
   "id": "92df00a8",
   "metadata": {},
   "outputs": [
    {
     "data": {
      "text/plain": [
       "(7890, 10)"
      ]
     },
     "execution_count": 4,
     "metadata": {},
     "output_type": "execute_result"
    }
   ],
   "source": [
    "data_krx.shape"
   ]
  },
  {
   "cell_type": "code",
   "execution_count": 8,
   "id": "7407f5ce",
   "metadata": {},
   "outputs": [
    {
     "name": "stdout",
     "output_type": "stream",
     "text": [
      "<class 'pandas.core.frame.DataFrame'>\n",
      "Int64Index: 7890 entries, 0 to 7889\n",
      "Data columns (total 10 columns):\n",
      " #   Column          Non-Null Count  Dtype         \n",
      "---  ------          --------------  -----         \n",
      " 0   Symbol          7890 non-null   object        \n",
      " 1   Market          7890 non-null   object        \n",
      " 2   Name            7890 non-null   object        \n",
      " 3   Sector          2526 non-null   object        \n",
      " 4   Industry        2510 non-null   object        \n",
      " 5   ListingDate     2526 non-null   datetime64[ns]\n",
      " 6   SettleMonth     2526 non-null   object        \n",
      " 7   Representative  2526 non-null   object        \n",
      " 8   HomePage        2368 non-null   object        \n",
      " 9   Region          2525 non-null   object        \n",
      "dtypes: datetime64[ns](1), object(9)\n",
      "memory usage: 678.0+ KB\n"
     ]
    }
   ],
   "source": [
    "#data_krx의 전체적인 데이타의 특성정보를 확인할 수 있다.\n",
    "data_krx.info()"
   ]
  },
  {
   "cell_type": "code",
   "execution_count": 9,
   "id": "a14a60ac",
   "metadata": {},
   "outputs": [
    {
     "name": "stderr",
     "output_type": "stream",
     "text": [
      "C:\\Users\\JYB\\AppData\\Local\\Temp/ipykernel_22224/2534613696.py:2: FutureWarning: Treating datetime data as categorical rather than numeric in `.describe` is deprecated and will be removed in a future version of pandas. Specify `datetime_is_numeric=True` to silence this warning and adopt the future behavior now.\n",
      "  data_krx.describe()\n"
     ]
    },
    {
     "data": {
      "text/html": [
       "<div>\n",
       "<style scoped>\n",
       "    .dataframe tbody tr th:only-of-type {\n",
       "        vertical-align: middle;\n",
       "    }\n",
       "\n",
       "    .dataframe tbody tr th {\n",
       "        vertical-align: top;\n",
       "    }\n",
       "\n",
       "    .dataframe thead th {\n",
       "        text-align: right;\n",
       "    }\n",
       "</style>\n",
       "<table border=\"1\" class=\"dataframe\">\n",
       "  <thead>\n",
       "    <tr style=\"text-align: right;\">\n",
       "      <th></th>\n",
       "      <th>Symbol</th>\n",
       "      <th>Market</th>\n",
       "      <th>Name</th>\n",
       "      <th>Sector</th>\n",
       "      <th>Industry</th>\n",
       "      <th>ListingDate</th>\n",
       "      <th>SettleMonth</th>\n",
       "      <th>Representative</th>\n",
       "      <th>HomePage</th>\n",
       "      <th>Region</th>\n",
       "    </tr>\n",
       "  </thead>\n",
       "  <tbody>\n",
       "    <tr>\n",
       "      <th>count</th>\n",
       "      <td>7890</td>\n",
       "      <td>7890</td>\n",
       "      <td>7890</td>\n",
       "      <td>2526</td>\n",
       "      <td>2510</td>\n",
       "      <td>2526</td>\n",
       "      <td>2526</td>\n",
       "      <td>2526</td>\n",
       "      <td>2368</td>\n",
       "      <td>2525</td>\n",
       "    </tr>\n",
       "    <tr>\n",
       "      <th>unique</th>\n",
       "      <td>7890</td>\n",
       "      <td>3</td>\n",
       "      <td>7890</td>\n",
       "      <td>161</td>\n",
       "      <td>2346</td>\n",
       "      <td>1879</td>\n",
       "      <td>8</td>\n",
       "      <td>2405</td>\n",
       "      <td>2346</td>\n",
       "      <td>22</td>\n",
       "    </tr>\n",
       "    <tr>\n",
       "      <th>top</th>\n",
       "      <td>060310</td>\n",
       "      <td>KOSPI</td>\n",
       "      <td>3S</td>\n",
       "      <td>소프트웨어 개발 및 공급업</td>\n",
       "      <td>기업인수합병</td>\n",
       "      <td>1976-06-30 00:00:00</td>\n",
       "      <td>12월</td>\n",
       "      <td>김현수</td>\n",
       "      <td>http://www.ibks.com</td>\n",
       "      <td>서울특별시</td>\n",
       "    </tr>\n",
       "    <tr>\n",
       "      <th>freq</th>\n",
       "      <td>1</td>\n",
       "      <td>6168</td>\n",
       "      <td>1</td>\n",
       "      <td>155</td>\n",
       "      <td>29</td>\n",
       "      <td>8</td>\n",
       "      <td>2467</td>\n",
       "      <td>4</td>\n",
       "      <td>3</td>\n",
       "      <td>1028</td>\n",
       "    </tr>\n",
       "    <tr>\n",
       "      <th>first</th>\n",
       "      <td>NaN</td>\n",
       "      <td>NaN</td>\n",
       "      <td>NaN</td>\n",
       "      <td>NaN</td>\n",
       "      <td>NaN</td>\n",
       "      <td>1956-03-03 00:00:00</td>\n",
       "      <td>NaN</td>\n",
       "      <td>NaN</td>\n",
       "      <td>NaN</td>\n",
       "      <td>NaN</td>\n",
       "    </tr>\n",
       "    <tr>\n",
       "      <th>last</th>\n",
       "      <td>NaN</td>\n",
       "      <td>NaN</td>\n",
       "      <td>NaN</td>\n",
       "      <td>NaN</td>\n",
       "      <td>NaN</td>\n",
       "      <td>2022-09-27 00:00:00</td>\n",
       "      <td>NaN</td>\n",
       "      <td>NaN</td>\n",
       "      <td>NaN</td>\n",
       "      <td>NaN</td>\n",
       "    </tr>\n",
       "  </tbody>\n",
       "</table>\n",
       "</div>"
      ],
      "text/plain": [
       "        Symbol Market  Name          Sector Industry          ListingDate  \\\n",
       "count     7890   7890  7890            2526     2510                 2526   \n",
       "unique    7890      3  7890             161     2346                 1879   \n",
       "top     060310  KOSPI    3S  소프트웨어 개발 및 공급업   기업인수합병  1976-06-30 00:00:00   \n",
       "freq         1   6168     1             155       29                    8   \n",
       "first      NaN    NaN   NaN             NaN      NaN  1956-03-03 00:00:00   \n",
       "last       NaN    NaN   NaN             NaN      NaN  2022-09-27 00:00:00   \n",
       "\n",
       "       SettleMonth Representative             HomePage Region  \n",
       "count         2526           2526                 2368   2525  \n",
       "unique           8           2405                 2346     22  \n",
       "top            12월            김현수  http://www.ibks.com  서울특별시  \n",
       "freq          2467              4                    3   1028  \n",
       "first          NaN            NaN                  NaN    NaN  \n",
       "last           NaN            NaN                  NaN    NaN  "
      ]
     },
     "execution_count": 9,
     "metadata": {},
     "output_type": "execute_result"
    }
   ],
   "source": [
    "#data_krx의 전체적인 데이타의 기술통계값을 확인할 수 있다.\n",
    "data_krx.describe()"
   ]
  },
  {
   "cell_type": "code",
   "execution_count": 10,
   "id": "081fca27",
   "metadata": {},
   "outputs": [
    {
     "data": {
      "text/plain": [
       "Index(['Symbol', 'Market', 'Name', 'Sector', 'Industry', 'ListingDate',\n",
       "       'SettleMonth', 'Representative', 'HomePage', 'Region'],\n",
       "      dtype='object')"
      ]
     },
     "execution_count": 10,
     "metadata": {},
     "output_type": "execute_result"
    }
   ],
   "source": [
    "data_krx.columns"
   ]
  },
  {
   "cell_type": "code",
   "execution_count": 13,
   "id": "9127d8cc",
   "metadata": {},
   "outputs": [
    {
     "data": {
      "text/html": [
       "<div>\n",
       "<style scoped>\n",
       "    .dataframe tbody tr th:only-of-type {\n",
       "        vertical-align: middle;\n",
       "    }\n",
       "\n",
       "    .dataframe tbody tr th {\n",
       "        vertical-align: top;\n",
       "    }\n",
       "\n",
       "    .dataframe thead th {\n",
       "        text-align: right;\n",
       "    }\n",
       "</style>\n",
       "<table border=\"1\" class=\"dataframe\">\n",
       "  <thead>\n",
       "    <tr style=\"text-align: right;\">\n",
       "      <th></th>\n",
       "      <th>Symbol</th>\n",
       "      <th>Market</th>\n",
       "      <th>Name</th>\n",
       "      <th>Sector</th>\n",
       "      <th>Industry</th>\n",
       "      <th>ListingDate</th>\n",
       "      <th>SettleMonth</th>\n",
       "      <th>Representative</th>\n",
       "      <th>HomePage</th>\n",
       "      <th>Region</th>\n",
       "    </tr>\n",
       "  </thead>\n",
       "  <tbody>\n",
       "    <tr>\n",
       "      <th>0</th>\n",
       "      <td>060310</td>\n",
       "      <td>KOSDAQ</td>\n",
       "      <td>3S</td>\n",
       "      <td>전자부품 제조업</td>\n",
       "      <td>반도체 웨이퍼 캐리어</td>\n",
       "      <td>2002-04-23</td>\n",
       "      <td>03월</td>\n",
       "      <td>김세완</td>\n",
       "      <td>http://www.3sref.com</td>\n",
       "      <td>서울특별시</td>\n",
       "    </tr>\n",
       "    <tr>\n",
       "      <th>1</th>\n",
       "      <td>095570</td>\n",
       "      <td>KOSPI</td>\n",
       "      <td>AJ네트웍스</td>\n",
       "      <td>산업용 기계 및 장비 임대업</td>\n",
       "      <td>렌탈(파렛트, OA장비, 건설장비)</td>\n",
       "      <td>2015-08-21</td>\n",
       "      <td>12월</td>\n",
       "      <td>박대현, 손삼달</td>\n",
       "      <td>http://www.ajnet.co.kr</td>\n",
       "      <td>서울특별시</td>\n",
       "    </tr>\n",
       "    <tr>\n",
       "      <th>2</th>\n",
       "      <td>006840</td>\n",
       "      <td>KOSPI</td>\n",
       "      <td>AK홀딩스</td>\n",
       "      <td>기타 금융업</td>\n",
       "      <td>지주사업</td>\n",
       "      <td>1999-08-11</td>\n",
       "      <td>12월</td>\n",
       "      <td>채형석, 이석주(각자 대표이사)</td>\n",
       "      <td>http://www.aekyunggroup.co.kr</td>\n",
       "      <td>서울특별시</td>\n",
       "    </tr>\n",
       "    <tr>\n",
       "      <th>3</th>\n",
       "      <td>054620</td>\n",
       "      <td>KOSDAQ</td>\n",
       "      <td>APS홀딩스</td>\n",
       "      <td>기타 금융업</td>\n",
       "      <td>인터넷 트래픽 솔루션</td>\n",
       "      <td>2001-12-04</td>\n",
       "      <td>12월</td>\n",
       "      <td>정기로</td>\n",
       "      <td>http://www.apsholdings.co.kr</td>\n",
       "      <td>경기도</td>\n",
       "    </tr>\n",
       "    <tr>\n",
       "      <th>4</th>\n",
       "      <td>265520</td>\n",
       "      <td>KOSDAQ</td>\n",
       "      <td>AP시스템</td>\n",
       "      <td>특수 목적용 기계 제조업</td>\n",
       "      <td>디스플레이 제조 장비</td>\n",
       "      <td>2017-04-07</td>\n",
       "      <td>12월</td>\n",
       "      <td>김영주</td>\n",
       "      <td>http://www.apsystems.co.kr</td>\n",
       "      <td>경기도</td>\n",
       "    </tr>\n",
       "    <tr>\n",
       "      <th>...</th>\n",
       "      <td>...</td>\n",
       "      <td>...</td>\n",
       "      <td>...</td>\n",
       "      <td>...</td>\n",
       "      <td>...</td>\n",
       "      <td>...</td>\n",
       "      <td>...</td>\n",
       "      <td>...</td>\n",
       "      <td>...</td>\n",
       "      <td>...</td>\n",
       "    </tr>\n",
       "    <tr>\n",
       "      <th>7885</th>\n",
       "      <td>435550</td>\n",
       "      <td>KOSPI</td>\n",
       "      <td>히어로즈 TDF2050액티브</td>\n",
       "      <td>NaN</td>\n",
       "      <td>NaN</td>\n",
       "      <td>NaT</td>\n",
       "      <td>NaN</td>\n",
       "      <td>NaN</td>\n",
       "      <td>NaN</td>\n",
       "      <td>NaN</td>\n",
       "    </tr>\n",
       "    <tr>\n",
       "      <th>7886</th>\n",
       "      <td>437550</td>\n",
       "      <td>KOSPI</td>\n",
       "      <td>히어로즈 글로벌리츠이지스액티브</td>\n",
       "      <td>NaN</td>\n",
       "      <td>NaN</td>\n",
       "      <td>NaT</td>\n",
       "      <td>NaN</td>\n",
       "      <td>NaN</td>\n",
       "      <td>NaN</td>\n",
       "      <td>NaN</td>\n",
       "    </tr>\n",
       "    <tr>\n",
       "      <th>7887</th>\n",
       "      <td>419890</td>\n",
       "      <td>KOSPI</td>\n",
       "      <td>히어로즈 단기채권ESG액티브</td>\n",
       "      <td>NaN</td>\n",
       "      <td>NaN</td>\n",
       "      <td>NaT</td>\n",
       "      <td>NaN</td>\n",
       "      <td>NaN</td>\n",
       "      <td>NaN</td>\n",
       "      <td>NaN</td>\n",
       "    </tr>\n",
       "    <tr>\n",
       "      <th>7888</th>\n",
       "      <td>429870</td>\n",
       "      <td>KOSPI</td>\n",
       "      <td>히어로즈 리츠이지스액티브</td>\n",
       "      <td>NaN</td>\n",
       "      <td>NaN</td>\n",
       "      <td>NaT</td>\n",
       "      <td>NaN</td>\n",
       "      <td>NaN</td>\n",
       "      <td>NaN</td>\n",
       "      <td>NaN</td>\n",
       "    </tr>\n",
       "    <tr>\n",
       "      <th>7889</th>\n",
       "      <td>238490</td>\n",
       "      <td>KOSDAQ</td>\n",
       "      <td>힘스</td>\n",
       "      <td>특수 목적용 기계 제조업</td>\n",
       "      <td>OLED Mask 인장기, OLED Mask 검사기 등</td>\n",
       "      <td>2017-07-20</td>\n",
       "      <td>12월</td>\n",
       "      <td>김주환</td>\n",
       "      <td>http://www.hims.co.kr</td>\n",
       "      <td>인천광역시</td>\n",
       "    </tr>\n",
       "  </tbody>\n",
       "</table>\n",
       "<p>7890 rows × 10 columns</p>\n",
       "</div>"
      ],
      "text/plain": [
       "      Symbol  Market              Name           Sector  \\\n",
       "0     060310  KOSDAQ                3S         전자부품 제조업   \n",
       "1     095570   KOSPI            AJ네트웍스  산업용 기계 및 장비 임대업   \n",
       "2     006840   KOSPI             AK홀딩스           기타 금융업   \n",
       "3     054620  KOSDAQ            APS홀딩스           기타 금융업   \n",
       "4     265520  KOSDAQ             AP시스템    특수 목적용 기계 제조업   \n",
       "...      ...     ...               ...              ...   \n",
       "7885  435550   KOSPI   히어로즈 TDF2050액티브              NaN   \n",
       "7886  437550   KOSPI  히어로즈 글로벌리츠이지스액티브              NaN   \n",
       "7887  419890   KOSPI   히어로즈 단기채권ESG액티브              NaN   \n",
       "7888  429870   KOSPI     히어로즈 리츠이지스액티브              NaN   \n",
       "7889  238490  KOSDAQ                힘스    특수 목적용 기계 제조업   \n",
       "\n",
       "                            Industry ListingDate SettleMonth  \\\n",
       "0                        반도체 웨이퍼 캐리어  2002-04-23         03월   \n",
       "1                렌탈(파렛트, OA장비, 건설장비)  2015-08-21         12월   \n",
       "2                               지주사업  1999-08-11         12월   \n",
       "3                        인터넷 트래픽 솔루션  2001-12-04         12월   \n",
       "4                        디스플레이 제조 장비  2017-04-07         12월   \n",
       "...                              ...         ...         ...   \n",
       "7885                             NaN         NaT         NaN   \n",
       "7886                             NaN         NaT         NaN   \n",
       "7887                             NaN         NaT         NaN   \n",
       "7888                             NaN         NaT         NaN   \n",
       "7889  OLED Mask 인장기, OLED Mask 검사기 등  2017-07-20         12월   \n",
       "\n",
       "         Representative                       HomePage Region  \n",
       "0                   김세완           http://www.3sref.com  서울특별시  \n",
       "1              박대현, 손삼달         http://www.ajnet.co.kr  서울특별시  \n",
       "2     채형석, 이석주(각자 대표이사)  http://www.aekyunggroup.co.kr  서울특별시  \n",
       "3                   정기로   http://www.apsholdings.co.kr    경기도  \n",
       "4                   김영주     http://www.apsystems.co.kr    경기도  \n",
       "...                 ...                            ...    ...  \n",
       "7885                NaN                            NaN    NaN  \n",
       "7886                NaN                            NaN    NaN  \n",
       "7887                NaN                            NaN    NaN  \n",
       "7888                NaN                            NaN    NaN  \n",
       "7889                김주환          http://www.hims.co.kr  인천광역시  \n",
       "\n",
       "[7890 rows x 10 columns]"
      ]
     },
     "execution_count": 13,
     "metadata": {},
     "output_type": "execute_result"
    }
   ],
   "source": [
    "# 파일로 저장하고 불러오기¶\n",
    "data_krx"
   ]
  },
  {
   "cell_type": "code",
   "execution_count": 15,
   "id": "462e4994",
   "metadata": {},
   "outputs": [
    {
     "data": {
      "text/html": [
       "<div>\n",
       "<style scoped>\n",
       "    .dataframe tbody tr th:only-of-type {\n",
       "        vertical-align: middle;\n",
       "    }\n",
       "\n",
       "    .dataframe tbody tr th {\n",
       "        vertical-align: top;\n",
       "    }\n",
       "\n",
       "    .dataframe thead th {\n",
       "        text-align: right;\n",
       "    }\n",
       "</style>\n",
       "<table border=\"1\" class=\"dataframe\">\n",
       "  <thead>\n",
       "    <tr style=\"text-align: right;\">\n",
       "      <th></th>\n",
       "      <th>Unnamed: 0</th>\n",
       "      <th>Symbol</th>\n",
       "      <th>Market</th>\n",
       "      <th>Name</th>\n",
       "      <th>Sector</th>\n",
       "      <th>Industry</th>\n",
       "      <th>ListingDate</th>\n",
       "      <th>SettleMonth</th>\n",
       "      <th>Representative</th>\n",
       "      <th>HomePage</th>\n",
       "      <th>Region</th>\n",
       "    </tr>\n",
       "  </thead>\n",
       "  <tbody>\n",
       "    <tr>\n",
       "      <th>0</th>\n",
       "      <td>0</td>\n",
       "      <td>060310</td>\n",
       "      <td>KOSDAQ</td>\n",
       "      <td>3S</td>\n",
       "      <td>전자부품 제조업</td>\n",
       "      <td>반도체 웨이퍼 캐리어</td>\n",
       "      <td>2002-04-23</td>\n",
       "      <td>03월</td>\n",
       "      <td>김세완</td>\n",
       "      <td>http://www.3sref.com</td>\n",
       "      <td>서울특별시</td>\n",
       "    </tr>\n",
       "    <tr>\n",
       "      <th>1</th>\n",
       "      <td>1</td>\n",
       "      <td>095570</td>\n",
       "      <td>KOSPI</td>\n",
       "      <td>AJ네트웍스</td>\n",
       "      <td>산업용 기계 및 장비 임대업</td>\n",
       "      <td>렌탈(파렛트, OA장비, 건설장비)</td>\n",
       "      <td>2015-08-21</td>\n",
       "      <td>12월</td>\n",
       "      <td>박대현, 손삼달</td>\n",
       "      <td>http://www.ajnet.co.kr</td>\n",
       "      <td>서울특별시</td>\n",
       "    </tr>\n",
       "    <tr>\n",
       "      <th>2</th>\n",
       "      <td>2</td>\n",
       "      <td>006840</td>\n",
       "      <td>KOSPI</td>\n",
       "      <td>AK홀딩스</td>\n",
       "      <td>기타 금융업</td>\n",
       "      <td>지주사업</td>\n",
       "      <td>1999-08-11</td>\n",
       "      <td>12월</td>\n",
       "      <td>채형석, 이석주(각자 대표이사)</td>\n",
       "      <td>http://www.aekyunggroup.co.kr</td>\n",
       "      <td>서울특별시</td>\n",
       "    </tr>\n",
       "    <tr>\n",
       "      <th>3</th>\n",
       "      <td>3</td>\n",
       "      <td>054620</td>\n",
       "      <td>KOSDAQ</td>\n",
       "      <td>APS홀딩스</td>\n",
       "      <td>기타 금융업</td>\n",
       "      <td>인터넷 트래픽 솔루션</td>\n",
       "      <td>2001-12-04</td>\n",
       "      <td>12월</td>\n",
       "      <td>정기로</td>\n",
       "      <td>http://www.apsholdings.co.kr</td>\n",
       "      <td>경기도</td>\n",
       "    </tr>\n",
       "    <tr>\n",
       "      <th>4</th>\n",
       "      <td>4</td>\n",
       "      <td>265520</td>\n",
       "      <td>KOSDAQ</td>\n",
       "      <td>AP시스템</td>\n",
       "      <td>특수 목적용 기계 제조업</td>\n",
       "      <td>디스플레이 제조 장비</td>\n",
       "      <td>2017-04-07</td>\n",
       "      <td>12월</td>\n",
       "      <td>김영주</td>\n",
       "      <td>http://www.apsystems.co.kr</td>\n",
       "      <td>경기도</td>\n",
       "    </tr>\n",
       "    <tr>\n",
       "      <th>...</th>\n",
       "      <td>...</td>\n",
       "      <td>...</td>\n",
       "      <td>...</td>\n",
       "      <td>...</td>\n",
       "      <td>...</td>\n",
       "      <td>...</td>\n",
       "      <td>...</td>\n",
       "      <td>...</td>\n",
       "      <td>...</td>\n",
       "      <td>...</td>\n",
       "      <td>...</td>\n",
       "    </tr>\n",
       "    <tr>\n",
       "      <th>7885</th>\n",
       "      <td>7885</td>\n",
       "      <td>435550</td>\n",
       "      <td>KOSPI</td>\n",
       "      <td>히어로즈 TDF2050액티브</td>\n",
       "      <td>NaN</td>\n",
       "      <td>NaN</td>\n",
       "      <td>NaN</td>\n",
       "      <td>NaN</td>\n",
       "      <td>NaN</td>\n",
       "      <td>NaN</td>\n",
       "      <td>NaN</td>\n",
       "    </tr>\n",
       "    <tr>\n",
       "      <th>7886</th>\n",
       "      <td>7886</td>\n",
       "      <td>437550</td>\n",
       "      <td>KOSPI</td>\n",
       "      <td>히어로즈 글로벌리츠이지스액티브</td>\n",
       "      <td>NaN</td>\n",
       "      <td>NaN</td>\n",
       "      <td>NaN</td>\n",
       "      <td>NaN</td>\n",
       "      <td>NaN</td>\n",
       "      <td>NaN</td>\n",
       "      <td>NaN</td>\n",
       "    </tr>\n",
       "    <tr>\n",
       "      <th>7887</th>\n",
       "      <td>7887</td>\n",
       "      <td>419890</td>\n",
       "      <td>KOSPI</td>\n",
       "      <td>히어로즈 단기채권ESG액티브</td>\n",
       "      <td>NaN</td>\n",
       "      <td>NaN</td>\n",
       "      <td>NaN</td>\n",
       "      <td>NaN</td>\n",
       "      <td>NaN</td>\n",
       "      <td>NaN</td>\n",
       "      <td>NaN</td>\n",
       "    </tr>\n",
       "    <tr>\n",
       "      <th>7888</th>\n",
       "      <td>7888</td>\n",
       "      <td>429870</td>\n",
       "      <td>KOSPI</td>\n",
       "      <td>히어로즈 리츠이지스액티브</td>\n",
       "      <td>NaN</td>\n",
       "      <td>NaN</td>\n",
       "      <td>NaN</td>\n",
       "      <td>NaN</td>\n",
       "      <td>NaN</td>\n",
       "      <td>NaN</td>\n",
       "      <td>NaN</td>\n",
       "    </tr>\n",
       "    <tr>\n",
       "      <th>7889</th>\n",
       "      <td>7889</td>\n",
       "      <td>238490</td>\n",
       "      <td>KOSDAQ</td>\n",
       "      <td>힘스</td>\n",
       "      <td>특수 목적용 기계 제조업</td>\n",
       "      <td>OLED Mask 인장기, OLED Mask 검사기 등</td>\n",
       "      <td>2017-07-20</td>\n",
       "      <td>12월</td>\n",
       "      <td>김주환</td>\n",
       "      <td>http://www.hims.co.kr</td>\n",
       "      <td>인천광역시</td>\n",
       "    </tr>\n",
       "  </tbody>\n",
       "</table>\n",
       "<p>7890 rows × 11 columns</p>\n",
       "</div>"
      ],
      "text/plain": [
       "      Unnamed: 0  Symbol  Market              Name           Sector  \\\n",
       "0              0  060310  KOSDAQ                3S         전자부품 제조업   \n",
       "1              1  095570   KOSPI            AJ네트웍스  산업용 기계 및 장비 임대업   \n",
       "2              2  006840   KOSPI             AK홀딩스           기타 금융업   \n",
       "3              3  054620  KOSDAQ            APS홀딩스           기타 금융업   \n",
       "4              4  265520  KOSDAQ             AP시스템    특수 목적용 기계 제조업   \n",
       "...          ...     ...     ...               ...              ...   \n",
       "7885        7885  435550   KOSPI   히어로즈 TDF2050액티브              NaN   \n",
       "7886        7886  437550   KOSPI  히어로즈 글로벌리츠이지스액티브              NaN   \n",
       "7887        7887  419890   KOSPI   히어로즈 단기채권ESG액티브              NaN   \n",
       "7888        7888  429870   KOSPI     히어로즈 리츠이지스액티브              NaN   \n",
       "7889        7889  238490  KOSDAQ                힘스    특수 목적용 기계 제조업   \n",
       "\n",
       "                            Industry ListingDate SettleMonth  \\\n",
       "0                        반도체 웨이퍼 캐리어  2002-04-23         03월   \n",
       "1                렌탈(파렛트, OA장비, 건설장비)  2015-08-21         12월   \n",
       "2                               지주사업  1999-08-11         12월   \n",
       "3                        인터넷 트래픽 솔루션  2001-12-04         12월   \n",
       "4                        디스플레이 제조 장비  2017-04-07         12월   \n",
       "...                              ...         ...         ...   \n",
       "7885                             NaN         NaN         NaN   \n",
       "7886                             NaN         NaN         NaN   \n",
       "7887                             NaN         NaN         NaN   \n",
       "7888                             NaN         NaN         NaN   \n",
       "7889  OLED Mask 인장기, OLED Mask 검사기 등  2017-07-20         12월   \n",
       "\n",
       "         Representative                       HomePage Region  \n",
       "0                   김세완           http://www.3sref.com  서울특별시  \n",
       "1              박대현, 손삼달         http://www.ajnet.co.kr  서울특별시  \n",
       "2     채형석, 이석주(각자 대표이사)  http://www.aekyunggroup.co.kr  서울특별시  \n",
       "3                   정기로   http://www.apsholdings.co.kr    경기도  \n",
       "4                   김영주     http://www.apsystems.co.kr    경기도  \n",
       "...                 ...                            ...    ...  \n",
       "7885                NaN                            NaN    NaN  \n",
       "7886                NaN                            NaN    NaN  \n",
       "7887                NaN                            NaN    NaN  \n",
       "7888                NaN                            NaN    NaN  \n",
       "7889                김주환          http://www.hims.co.kr  인천광역시  \n",
       "\n",
       "[7890 rows x 11 columns]"
      ]
     },
     "execution_count": 15,
     "metadata": {},
     "output_type": "execute_result"
    }
   ],
   "source": [
    "data_krx.to_csv('krx_data.csv')\n",
    "pd.read_csv('krx_data.csv')"
   ]
  },
  {
   "cell_type": "code",
   "execution_count": 17,
   "id": "70fb0f20",
   "metadata": {},
   "outputs": [
    {
     "data": {
      "text/html": [
       "<div>\n",
       "<style scoped>\n",
       "    .dataframe tbody tr th:only-of-type {\n",
       "        vertical-align: middle;\n",
       "    }\n",
       "\n",
       "    .dataframe tbody tr th {\n",
       "        vertical-align: top;\n",
       "    }\n",
       "\n",
       "    .dataframe thead th {\n",
       "        text-align: right;\n",
       "    }\n",
       "</style>\n",
       "<table border=\"1\" class=\"dataframe\">\n",
       "  <thead>\n",
       "    <tr style=\"text-align: right;\">\n",
       "      <th></th>\n",
       "      <th>Unnamed: 0</th>\n",
       "      <th>Symbol</th>\n",
       "      <th>Market</th>\n",
       "      <th>Name</th>\n",
       "      <th>Sector</th>\n",
       "      <th>Industry</th>\n",
       "      <th>ListingDate</th>\n",
       "      <th>SettleMonth</th>\n",
       "      <th>Representative</th>\n",
       "      <th>HomePage</th>\n",
       "      <th>Region</th>\n",
       "    </tr>\n",
       "  </thead>\n",
       "  <tbody>\n",
       "    <tr>\n",
       "      <th>0</th>\n",
       "      <td>0</td>\n",
       "      <td>060310</td>\n",
       "      <td>KOSDAQ</td>\n",
       "      <td>3S</td>\n",
       "      <td>전자부품 제조업</td>\n",
       "      <td>반도체 웨이퍼 캐리어</td>\n",
       "      <td>2002-04-23</td>\n",
       "      <td>03월</td>\n",
       "      <td>김세완</td>\n",
       "      <td>http://www.3sref.com</td>\n",
       "      <td>서울특별시</td>\n",
       "    </tr>\n",
       "    <tr>\n",
       "      <th>1</th>\n",
       "      <td>1</td>\n",
       "      <td>095570</td>\n",
       "      <td>KOSPI</td>\n",
       "      <td>AJ네트웍스</td>\n",
       "      <td>산업용 기계 및 장비 임대업</td>\n",
       "      <td>렌탈(파렛트, OA장비, 건설장비)</td>\n",
       "      <td>2015-08-21</td>\n",
       "      <td>12월</td>\n",
       "      <td>박대현, 손삼달</td>\n",
       "      <td>http://www.ajnet.co.kr</td>\n",
       "      <td>서울특별시</td>\n",
       "    </tr>\n",
       "    <tr>\n",
       "      <th>2</th>\n",
       "      <td>2</td>\n",
       "      <td>006840</td>\n",
       "      <td>KOSPI</td>\n",
       "      <td>AK홀딩스</td>\n",
       "      <td>기타 금융업</td>\n",
       "      <td>지주사업</td>\n",
       "      <td>1999-08-11</td>\n",
       "      <td>12월</td>\n",
       "      <td>채형석, 이석주(각자 대표이사)</td>\n",
       "      <td>http://www.aekyunggroup.co.kr</td>\n",
       "      <td>서울특별시</td>\n",
       "    </tr>\n",
       "    <tr>\n",
       "      <th>3</th>\n",
       "      <td>3</td>\n",
       "      <td>054620</td>\n",
       "      <td>KOSDAQ</td>\n",
       "      <td>APS홀딩스</td>\n",
       "      <td>기타 금융업</td>\n",
       "      <td>인터넷 트래픽 솔루션</td>\n",
       "      <td>2001-12-04</td>\n",
       "      <td>12월</td>\n",
       "      <td>정기로</td>\n",
       "      <td>http://www.apsholdings.co.kr</td>\n",
       "      <td>경기도</td>\n",
       "    </tr>\n",
       "    <tr>\n",
       "      <th>4</th>\n",
       "      <td>4</td>\n",
       "      <td>265520</td>\n",
       "      <td>KOSDAQ</td>\n",
       "      <td>AP시스템</td>\n",
       "      <td>특수 목적용 기계 제조업</td>\n",
       "      <td>디스플레이 제조 장비</td>\n",
       "      <td>2017-04-07</td>\n",
       "      <td>12월</td>\n",
       "      <td>김영주</td>\n",
       "      <td>http://www.apsystems.co.kr</td>\n",
       "      <td>경기도</td>\n",
       "    </tr>\n",
       "    <tr>\n",
       "      <th>...</th>\n",
       "      <td>...</td>\n",
       "      <td>...</td>\n",
       "      <td>...</td>\n",
       "      <td>...</td>\n",
       "      <td>...</td>\n",
       "      <td>...</td>\n",
       "      <td>...</td>\n",
       "      <td>...</td>\n",
       "      <td>...</td>\n",
       "      <td>...</td>\n",
       "      <td>...</td>\n",
       "    </tr>\n",
       "    <tr>\n",
       "      <th>7885</th>\n",
       "      <td>7885</td>\n",
       "      <td>435550</td>\n",
       "      <td>KOSPI</td>\n",
       "      <td>히어로즈 TDF2050액티브</td>\n",
       "      <td>NaN</td>\n",
       "      <td>NaN</td>\n",
       "      <td>NaN</td>\n",
       "      <td>NaN</td>\n",
       "      <td>NaN</td>\n",
       "      <td>NaN</td>\n",
       "      <td>NaN</td>\n",
       "    </tr>\n",
       "    <tr>\n",
       "      <th>7886</th>\n",
       "      <td>7886</td>\n",
       "      <td>437550</td>\n",
       "      <td>KOSPI</td>\n",
       "      <td>히어로즈 글로벌리츠이지스액티브</td>\n",
       "      <td>NaN</td>\n",
       "      <td>NaN</td>\n",
       "      <td>NaN</td>\n",
       "      <td>NaN</td>\n",
       "      <td>NaN</td>\n",
       "      <td>NaN</td>\n",
       "      <td>NaN</td>\n",
       "    </tr>\n",
       "    <tr>\n",
       "      <th>7887</th>\n",
       "      <td>7887</td>\n",
       "      <td>419890</td>\n",
       "      <td>KOSPI</td>\n",
       "      <td>히어로즈 단기채권ESG액티브</td>\n",
       "      <td>NaN</td>\n",
       "      <td>NaN</td>\n",
       "      <td>NaN</td>\n",
       "      <td>NaN</td>\n",
       "      <td>NaN</td>\n",
       "      <td>NaN</td>\n",
       "      <td>NaN</td>\n",
       "    </tr>\n",
       "    <tr>\n",
       "      <th>7888</th>\n",
       "      <td>7888</td>\n",
       "      <td>429870</td>\n",
       "      <td>KOSPI</td>\n",
       "      <td>히어로즈 리츠이지스액티브</td>\n",
       "      <td>NaN</td>\n",
       "      <td>NaN</td>\n",
       "      <td>NaN</td>\n",
       "      <td>NaN</td>\n",
       "      <td>NaN</td>\n",
       "      <td>NaN</td>\n",
       "      <td>NaN</td>\n",
       "    </tr>\n",
       "    <tr>\n",
       "      <th>7889</th>\n",
       "      <td>7889</td>\n",
       "      <td>238490</td>\n",
       "      <td>KOSDAQ</td>\n",
       "      <td>힘스</td>\n",
       "      <td>특수 목적용 기계 제조업</td>\n",
       "      <td>OLED Mask 인장기, OLED Mask 검사기 등</td>\n",
       "      <td>2017-07-20</td>\n",
       "      <td>12월</td>\n",
       "      <td>김주환</td>\n",
       "      <td>http://www.hims.co.kr</td>\n",
       "      <td>인천광역시</td>\n",
       "    </tr>\n",
       "  </tbody>\n",
       "</table>\n",
       "<p>7890 rows × 11 columns</p>\n",
       "</div>"
      ],
      "text/plain": [
       "      Unnamed: 0  Symbol  Market              Name           Sector  \\\n",
       "0              0  060310  KOSDAQ                3S         전자부품 제조업   \n",
       "1              1  095570   KOSPI            AJ네트웍스  산업용 기계 및 장비 임대업   \n",
       "2              2  006840   KOSPI             AK홀딩스           기타 금융업   \n",
       "3              3  054620  KOSDAQ            APS홀딩스           기타 금융업   \n",
       "4              4  265520  KOSDAQ             AP시스템    특수 목적용 기계 제조업   \n",
       "...          ...     ...     ...               ...              ...   \n",
       "7885        7885  435550   KOSPI   히어로즈 TDF2050액티브              NaN   \n",
       "7886        7886  437550   KOSPI  히어로즈 글로벌리츠이지스액티브              NaN   \n",
       "7887        7887  419890   KOSPI   히어로즈 단기채권ESG액티브              NaN   \n",
       "7888        7888  429870   KOSPI     히어로즈 리츠이지스액티브              NaN   \n",
       "7889        7889  238490  KOSDAQ                힘스    특수 목적용 기계 제조업   \n",
       "\n",
       "                            Industry ListingDate SettleMonth  \\\n",
       "0                        반도체 웨이퍼 캐리어  2002-04-23         03월   \n",
       "1                렌탈(파렛트, OA장비, 건설장비)  2015-08-21         12월   \n",
       "2                               지주사업  1999-08-11         12월   \n",
       "3                        인터넷 트래픽 솔루션  2001-12-04         12월   \n",
       "4                        디스플레이 제조 장비  2017-04-07         12월   \n",
       "...                              ...         ...         ...   \n",
       "7885                             NaN         NaN         NaN   \n",
       "7886                             NaN         NaN         NaN   \n",
       "7887                             NaN         NaN         NaN   \n",
       "7888                             NaN         NaN         NaN   \n",
       "7889  OLED Mask 인장기, OLED Mask 검사기 등  2017-07-20         12월   \n",
       "\n",
       "         Representative                       HomePage Region  \n",
       "0                   김세완           http://www.3sref.com  서울특별시  \n",
       "1              박대현, 손삼달         http://www.ajnet.co.kr  서울특별시  \n",
       "2     채형석, 이석주(각자 대표이사)  http://www.aekyunggroup.co.kr  서울특별시  \n",
       "3                   정기로   http://www.apsholdings.co.kr    경기도  \n",
       "4                   김영주     http://www.apsystems.co.kr    경기도  \n",
       "...                 ...                            ...    ...  \n",
       "7885                NaN                            NaN    NaN  \n",
       "7886                NaN                            NaN    NaN  \n",
       "7887                NaN                            NaN    NaN  \n",
       "7888                NaN                            NaN    NaN  \n",
       "7889                김주환          http://www.hims.co.kr  인천광역시  \n",
       "\n",
       "[7890 rows x 11 columns]"
      ]
     },
     "execution_count": 17,
     "metadata": {},
     "output_type": "execute_result"
    }
   ],
   "source": [
    "data_krx.to_csv('krx_data.csv', encoding=\"utf-8-sig\")\n",
    "pd.read_csv('krx_data.csv')"
   ]
  },
  {
   "cell_type": "code",
   "execution_count": 19,
   "id": "b4bdf386",
   "metadata": {},
   "outputs": [
    {
     "data": {
      "text/html": [
       "<div>\n",
       "<style scoped>\n",
       "    .dataframe tbody tr th:only-of-type {\n",
       "        vertical-align: middle;\n",
       "    }\n",
       "\n",
       "    .dataframe tbody tr th {\n",
       "        vertical-align: top;\n",
       "    }\n",
       "\n",
       "    .dataframe thead th {\n",
       "        text-align: right;\n",
       "    }\n",
       "</style>\n",
       "<table border=\"1\" class=\"dataframe\">\n",
       "  <thead>\n",
       "    <tr style=\"text-align: right;\">\n",
       "      <th></th>\n",
       "      <th>Symbol</th>\n",
       "      <th>Market</th>\n",
       "      <th>Name</th>\n",
       "      <th>Sector</th>\n",
       "      <th>Industry</th>\n",
       "      <th>ListingDate</th>\n",
       "      <th>SettleMonth</th>\n",
       "      <th>Representative</th>\n",
       "      <th>HomePage</th>\n",
       "      <th>Region</th>\n",
       "    </tr>\n",
       "  </thead>\n",
       "  <tbody>\n",
       "    <tr>\n",
       "      <th>0</th>\n",
       "      <td>060310</td>\n",
       "      <td>KOSDAQ</td>\n",
       "      <td>3S</td>\n",
       "      <td>전자부품 제조업</td>\n",
       "      <td>반도체 웨이퍼 캐리어</td>\n",
       "      <td>2002-04-23</td>\n",
       "      <td>03월</td>\n",
       "      <td>김세완</td>\n",
       "      <td>http://www.3sref.com</td>\n",
       "      <td>서울특별시</td>\n",
       "    </tr>\n",
       "    <tr>\n",
       "      <th>1</th>\n",
       "      <td>095570</td>\n",
       "      <td>KOSPI</td>\n",
       "      <td>AJ네트웍스</td>\n",
       "      <td>산업용 기계 및 장비 임대업</td>\n",
       "      <td>렌탈(파렛트, OA장비, 건설장비)</td>\n",
       "      <td>2015-08-21</td>\n",
       "      <td>12월</td>\n",
       "      <td>박대현, 손삼달</td>\n",
       "      <td>http://www.ajnet.co.kr</td>\n",
       "      <td>서울특별시</td>\n",
       "    </tr>\n",
       "    <tr>\n",
       "      <th>2</th>\n",
       "      <td>006840</td>\n",
       "      <td>KOSPI</td>\n",
       "      <td>AK홀딩스</td>\n",
       "      <td>기타 금융업</td>\n",
       "      <td>지주사업</td>\n",
       "      <td>1999-08-11</td>\n",
       "      <td>12월</td>\n",
       "      <td>채형석, 이석주(각자 대표이사)</td>\n",
       "      <td>http://www.aekyunggroup.co.kr</td>\n",
       "      <td>서울특별시</td>\n",
       "    </tr>\n",
       "    <tr>\n",
       "      <th>3</th>\n",
       "      <td>054620</td>\n",
       "      <td>KOSDAQ</td>\n",
       "      <td>APS홀딩스</td>\n",
       "      <td>기타 금융업</td>\n",
       "      <td>인터넷 트래픽 솔루션</td>\n",
       "      <td>2001-12-04</td>\n",
       "      <td>12월</td>\n",
       "      <td>정기로</td>\n",
       "      <td>http://www.apsholdings.co.kr</td>\n",
       "      <td>경기도</td>\n",
       "    </tr>\n",
       "    <tr>\n",
       "      <th>4</th>\n",
       "      <td>265520</td>\n",
       "      <td>KOSDAQ</td>\n",
       "      <td>AP시스템</td>\n",
       "      <td>특수 목적용 기계 제조업</td>\n",
       "      <td>디스플레이 제조 장비</td>\n",
       "      <td>2017-04-07</td>\n",
       "      <td>12월</td>\n",
       "      <td>김영주</td>\n",
       "      <td>http://www.apsystems.co.kr</td>\n",
       "      <td>경기도</td>\n",
       "    </tr>\n",
       "    <tr>\n",
       "      <th>...</th>\n",
       "      <td>...</td>\n",
       "      <td>...</td>\n",
       "      <td>...</td>\n",
       "      <td>...</td>\n",
       "      <td>...</td>\n",
       "      <td>...</td>\n",
       "      <td>...</td>\n",
       "      <td>...</td>\n",
       "      <td>...</td>\n",
       "      <td>...</td>\n",
       "    </tr>\n",
       "    <tr>\n",
       "      <th>7885</th>\n",
       "      <td>435550</td>\n",
       "      <td>KOSPI</td>\n",
       "      <td>히어로즈 TDF2050액티브</td>\n",
       "      <td>NaN</td>\n",
       "      <td>NaN</td>\n",
       "      <td>NaN</td>\n",
       "      <td>NaN</td>\n",
       "      <td>NaN</td>\n",
       "      <td>NaN</td>\n",
       "      <td>NaN</td>\n",
       "    </tr>\n",
       "    <tr>\n",
       "      <th>7886</th>\n",
       "      <td>437550</td>\n",
       "      <td>KOSPI</td>\n",
       "      <td>히어로즈 글로벌리츠이지스액티브</td>\n",
       "      <td>NaN</td>\n",
       "      <td>NaN</td>\n",
       "      <td>NaN</td>\n",
       "      <td>NaN</td>\n",
       "      <td>NaN</td>\n",
       "      <td>NaN</td>\n",
       "      <td>NaN</td>\n",
       "    </tr>\n",
       "    <tr>\n",
       "      <th>7887</th>\n",
       "      <td>419890</td>\n",
       "      <td>KOSPI</td>\n",
       "      <td>히어로즈 단기채권ESG액티브</td>\n",
       "      <td>NaN</td>\n",
       "      <td>NaN</td>\n",
       "      <td>NaN</td>\n",
       "      <td>NaN</td>\n",
       "      <td>NaN</td>\n",
       "      <td>NaN</td>\n",
       "      <td>NaN</td>\n",
       "    </tr>\n",
       "    <tr>\n",
       "      <th>7888</th>\n",
       "      <td>429870</td>\n",
       "      <td>KOSPI</td>\n",
       "      <td>히어로즈 리츠이지스액티브</td>\n",
       "      <td>NaN</td>\n",
       "      <td>NaN</td>\n",
       "      <td>NaN</td>\n",
       "      <td>NaN</td>\n",
       "      <td>NaN</td>\n",
       "      <td>NaN</td>\n",
       "      <td>NaN</td>\n",
       "    </tr>\n",
       "    <tr>\n",
       "      <th>7889</th>\n",
       "      <td>238490</td>\n",
       "      <td>KOSDAQ</td>\n",
       "      <td>힘스</td>\n",
       "      <td>특수 목적용 기계 제조업</td>\n",
       "      <td>OLED Mask 인장기, OLED Mask 검사기 등</td>\n",
       "      <td>2017-07-20</td>\n",
       "      <td>12월</td>\n",
       "      <td>김주환</td>\n",
       "      <td>http://www.hims.co.kr</td>\n",
       "      <td>인천광역시</td>\n",
       "    </tr>\n",
       "  </tbody>\n",
       "</table>\n",
       "<p>7890 rows × 10 columns</p>\n",
       "</div>"
      ],
      "text/plain": [
       "      Symbol  Market              Name           Sector  \\\n",
       "0     060310  KOSDAQ                3S         전자부품 제조업   \n",
       "1     095570   KOSPI            AJ네트웍스  산업용 기계 및 장비 임대업   \n",
       "2     006840   KOSPI             AK홀딩스           기타 금융업   \n",
       "3     054620  KOSDAQ            APS홀딩스           기타 금융업   \n",
       "4     265520  KOSDAQ             AP시스템    특수 목적용 기계 제조업   \n",
       "...      ...     ...               ...              ...   \n",
       "7885  435550   KOSPI   히어로즈 TDF2050액티브              NaN   \n",
       "7886  437550   KOSPI  히어로즈 글로벌리츠이지스액티브              NaN   \n",
       "7887  419890   KOSPI   히어로즈 단기채권ESG액티브              NaN   \n",
       "7888  429870   KOSPI     히어로즈 리츠이지스액티브              NaN   \n",
       "7889  238490  KOSDAQ                힘스    특수 목적용 기계 제조업   \n",
       "\n",
       "                            Industry ListingDate SettleMonth  \\\n",
       "0                        반도체 웨이퍼 캐리어  2002-04-23         03월   \n",
       "1                렌탈(파렛트, OA장비, 건설장비)  2015-08-21         12월   \n",
       "2                               지주사업  1999-08-11         12월   \n",
       "3                        인터넷 트래픽 솔루션  2001-12-04         12월   \n",
       "4                        디스플레이 제조 장비  2017-04-07         12월   \n",
       "...                              ...         ...         ...   \n",
       "7885                             NaN         NaN         NaN   \n",
       "7886                             NaN         NaN         NaN   \n",
       "7887                             NaN         NaN         NaN   \n",
       "7888                             NaN         NaN         NaN   \n",
       "7889  OLED Mask 인장기, OLED Mask 검사기 등  2017-07-20         12월   \n",
       "\n",
       "         Representative                       HomePage Region  \n",
       "0                   김세완           http://www.3sref.com  서울특별시  \n",
       "1              박대현, 손삼달         http://www.ajnet.co.kr  서울특별시  \n",
       "2     채형석, 이석주(각자 대표이사)  http://www.aekyunggroup.co.kr  서울특별시  \n",
       "3                   정기로   http://www.apsholdings.co.kr    경기도  \n",
       "4                   김영주     http://www.apsystems.co.kr    경기도  \n",
       "...                 ...                            ...    ...  \n",
       "7885                NaN                            NaN    NaN  \n",
       "7886                NaN                            NaN    NaN  \n",
       "7887                NaN                            NaN    NaN  \n",
       "7888                NaN                            NaN    NaN  \n",
       "7889                김주환          http://www.hims.co.kr  인천광역시  \n",
       "\n",
       "[7890 rows x 10 columns]"
      ]
     },
     "execution_count": 19,
     "metadata": {},
     "output_type": "execute_result"
    }
   ],
   "source": [
    "data_krx.to_csv('krx_data.csv', encoding=\"utf-8-sig\", index=False)\n",
    "pd.read_csv('krx_data.csv')"
   ]
  },
  {
   "cell_type": "code",
   "execution_count": 20,
   "id": "525438e4",
   "metadata": {},
   "outputs": [
    {
     "data": {
      "text/plain": [
       "0                     3S\n",
       "1                 AJ네트웍스\n",
       "2                  AK홀딩스\n",
       "3                 APS홀딩스\n",
       "4                  AP시스템\n",
       "              ...       \n",
       "7885     히어로즈 TDF2050액티브\n",
       "7886    히어로즈 글로벌리츠이지스액티브\n",
       "7887     히어로즈 단기채권ESG액티브\n",
       "7888       히어로즈 리츠이지스액티브\n",
       "7889                  힘스\n",
       "Name: Name, Length: 7890, dtype: object"
      ]
     },
     "execution_count": 20,
     "metadata": {},
     "output_type": "execute_result"
    }
   ],
   "source": [
    "# Name 컬럼 중 특정한 하나만 가져오는 경우\n",
    "data_krx['Name']"
   ]
  },
  {
   "cell_type": "code",
   "execution_count": 21,
   "id": "e38c0f03",
   "metadata": {},
   "outputs": [
    {
     "data": {
      "text/plain": [
       "Symbol                          060310\n",
       "Market                          KOSDAQ\n",
       "Name                                3S\n",
       "Sector                        전자부품 제조업\n",
       "Industry                   반도체 웨이퍼 캐리어\n",
       "ListingDate        2002-04-23 00:00:00\n",
       "SettleMonth                        03월\n",
       "Representative                     김세완\n",
       "HomePage          http://www.3sref.com\n",
       "Region                           서울특별시\n",
       "Name: 0, dtype: object"
      ]
     },
     "execution_count": 21,
     "metadata": {},
     "output_type": "execute_result"
    }
   ],
   "source": [
    "# 0번째 행만 가져오는 경우\n",
    "# 행인덱스를 가져올때는 .loc를 사용\n",
    "# loc는 위치(locate)를 의미\n",
    "data_krx.loc[0]"
   ]
  },
  {
   "cell_type": "code",
   "execution_count": 22,
   "id": "05c88af7",
   "metadata": {},
   "outputs": [
    {
     "data": {
      "text/plain": [
       "pandas.core.series.Series"
      ]
     },
     "execution_count": 22,
     "metadata": {},
     "output_type": "execute_result"
    }
   ],
   "source": [
    "# df.loc[0] 의 type을 보는 경우\n",
    "type(data_krx.loc[0])"
   ]
  },
  {
   "cell_type": "code",
   "execution_count": 23,
   "id": "5eb63a33",
   "metadata": {},
   "outputs": [
    {
     "data": {
      "text/html": [
       "<div>\n",
       "<style scoped>\n",
       "    .dataframe tbody tr th:only-of-type {\n",
       "        vertical-align: middle;\n",
       "    }\n",
       "\n",
       "    .dataframe tbody tr th {\n",
       "        vertical-align: top;\n",
       "    }\n",
       "\n",
       "    .dataframe thead th {\n",
       "        text-align: right;\n",
       "    }\n",
       "</style>\n",
       "<table border=\"1\" class=\"dataframe\">\n",
       "  <thead>\n",
       "    <tr style=\"text-align: right;\">\n",
       "      <th></th>\n",
       "      <th>Name</th>\n",
       "      <th>Industry</th>\n",
       "    </tr>\n",
       "  </thead>\n",
       "  <tbody>\n",
       "    <tr>\n",
       "      <th>0</th>\n",
       "      <td>3S</td>\n",
       "      <td>반도체 웨이퍼 캐리어</td>\n",
       "    </tr>\n",
       "    <tr>\n",
       "      <th>1</th>\n",
       "      <td>AJ네트웍스</td>\n",
       "      <td>렌탈(파렛트, OA장비, 건설장비)</td>\n",
       "    </tr>\n",
       "    <tr>\n",
       "      <th>2</th>\n",
       "      <td>AK홀딩스</td>\n",
       "      <td>지주사업</td>\n",
       "    </tr>\n",
       "    <tr>\n",
       "      <th>3</th>\n",
       "      <td>APS홀딩스</td>\n",
       "      <td>인터넷 트래픽 솔루션</td>\n",
       "    </tr>\n",
       "    <tr>\n",
       "      <th>4</th>\n",
       "      <td>AP시스템</td>\n",
       "      <td>디스플레이 제조 장비</td>\n",
       "    </tr>\n",
       "    <tr>\n",
       "      <th>...</th>\n",
       "      <td>...</td>\n",
       "      <td>...</td>\n",
       "    </tr>\n",
       "    <tr>\n",
       "      <th>7885</th>\n",
       "      <td>히어로즈 TDF2050액티브</td>\n",
       "      <td>NaN</td>\n",
       "    </tr>\n",
       "    <tr>\n",
       "      <th>7886</th>\n",
       "      <td>히어로즈 글로벌리츠이지스액티브</td>\n",
       "      <td>NaN</td>\n",
       "    </tr>\n",
       "    <tr>\n",
       "      <th>7887</th>\n",
       "      <td>히어로즈 단기채권ESG액티브</td>\n",
       "      <td>NaN</td>\n",
       "    </tr>\n",
       "    <tr>\n",
       "      <th>7888</th>\n",
       "      <td>히어로즈 리츠이지스액티브</td>\n",
       "      <td>NaN</td>\n",
       "    </tr>\n",
       "    <tr>\n",
       "      <th>7889</th>\n",
       "      <td>힘스</td>\n",
       "      <td>OLED Mask 인장기, OLED Mask 검사기 등</td>\n",
       "    </tr>\n",
       "  </tbody>\n",
       "</table>\n",
       "<p>7890 rows × 2 columns</p>\n",
       "</div>"
      ],
      "text/plain": [
       "                  Name                        Industry\n",
       "0                   3S                     반도체 웨이퍼 캐리어\n",
       "1               AJ네트웍스             렌탈(파렛트, OA장비, 건설장비)\n",
       "2                AK홀딩스                            지주사업\n",
       "3               APS홀딩스                     인터넷 트래픽 솔루션\n",
       "4                AP시스템                     디스플레이 제조 장비\n",
       "...                ...                             ...\n",
       "7885   히어로즈 TDF2050액티브                             NaN\n",
       "7886  히어로즈 글로벌리츠이지스액티브                             NaN\n",
       "7887   히어로즈 단기채권ESG액티브                             NaN\n",
       "7888     히어로즈 리츠이지스액티브                             NaN\n",
       "7889                힘스  OLED Mask 인장기, OLED Mask 검사기 등\n",
       "\n",
       "[7890 rows x 2 columns]"
      ]
     },
     "execution_count": 23,
     "metadata": {},
     "output_type": "execute_result"
    }
   ],
   "source": [
    "# 여러 컬럼을 지정할 때는 리스트 형태로 묶어주어야 함.\n",
    "# 2차원 행렬은 대괄호가 [] 2개가 있다.\n",
    "data_krx[['Name','Industry']]"
   ]
  },
  {
   "cell_type": "code",
   "execution_count": 24,
   "id": "792da0ce",
   "metadata": {},
   "outputs": [
    {
     "data": {
      "text/html": [
       "<div>\n",
       "<style scoped>\n",
       "    .dataframe tbody tr th:only-of-type {\n",
       "        vertical-align: middle;\n",
       "    }\n",
       "\n",
       "    .dataframe tbody tr th {\n",
       "        vertical-align: top;\n",
       "    }\n",
       "\n",
       "    .dataframe thead th {\n",
       "        text-align: right;\n",
       "    }\n",
       "</style>\n",
       "<table border=\"1\" class=\"dataframe\">\n",
       "  <thead>\n",
       "    <tr style=\"text-align: right;\">\n",
       "      <th></th>\n",
       "      <th>Symbol</th>\n",
       "      <th>Market</th>\n",
       "      <th>Name</th>\n",
       "      <th>Sector</th>\n",
       "      <th>Industry</th>\n",
       "      <th>ListingDate</th>\n",
       "      <th>SettleMonth</th>\n",
       "      <th>Representative</th>\n",
       "      <th>HomePage</th>\n",
       "      <th>Region</th>\n",
       "    </tr>\n",
       "  </thead>\n",
       "  <tbody>\n",
       "    <tr>\n",
       "      <th>0</th>\n",
       "      <td>060310</td>\n",
       "      <td>KOSDAQ</td>\n",
       "      <td>3S</td>\n",
       "      <td>전자부품 제조업</td>\n",
       "      <td>반도체 웨이퍼 캐리어</td>\n",
       "      <td>2002-04-23</td>\n",
       "      <td>03월</td>\n",
       "      <td>김세완</td>\n",
       "      <td>http://www.3sref.com</td>\n",
       "      <td>서울특별시</td>\n",
       "    </tr>\n",
       "    <tr>\n",
       "      <th>3</th>\n",
       "      <td>054620</td>\n",
       "      <td>KOSDAQ</td>\n",
       "      <td>APS홀딩스</td>\n",
       "      <td>기타 금융업</td>\n",
       "      <td>인터넷 트래픽 솔루션</td>\n",
       "      <td>2001-12-04</td>\n",
       "      <td>12월</td>\n",
       "      <td>정기로</td>\n",
       "      <td>http://www.apsholdings.co.kr</td>\n",
       "      <td>경기도</td>\n",
       "    </tr>\n",
       "    <tr>\n",
       "      <th>5</th>\n",
       "      <td>211270</td>\n",
       "      <td>KOSDAQ</td>\n",
       "      <td>AP위성</td>\n",
       "      <td>통신 및 방송 장비 제조업</td>\n",
       "      <td>위성통신 단말기</td>\n",
       "      <td>2016-03-04</td>\n",
       "      <td>12월</td>\n",
       "      <td>류장수</td>\n",
       "      <td>http://www.apsi.co.kr</td>\n",
       "      <td>서울특별시</td>\n",
       "    </tr>\n",
       "    <tr>\n",
       "      <th>7</th>\n",
       "      <td>295820</td>\n",
       "      <td>KOSPI</td>\n",
       "      <td>ARIRANG 200동일가중</td>\n",
       "      <td>NaN</td>\n",
       "      <td>NaN</td>\n",
       "      <td>NaT</td>\n",
       "      <td>NaN</td>\n",
       "      <td>NaN</td>\n",
       "      <td>NaN</td>\n",
       "      <td>NaN</td>\n",
       "    </tr>\n",
       "  </tbody>\n",
       "</table>\n",
       "</div>"
      ],
      "text/plain": [
       "   Symbol  Market             Name          Sector     Industry ListingDate  \\\n",
       "0  060310  KOSDAQ               3S        전자부품 제조업  반도체 웨이퍼 캐리어  2002-04-23   \n",
       "3  054620  KOSDAQ           APS홀딩스          기타 금융업  인터넷 트래픽 솔루션  2001-12-04   \n",
       "5  211270  KOSDAQ             AP위성  통신 및 방송 장비 제조업     위성통신 단말기  2016-03-04   \n",
       "7  295820   KOSPI  ARIRANG 200동일가중             NaN          NaN         NaT   \n",
       "\n",
       "  SettleMonth Representative                      HomePage Region  \n",
       "0         03월            김세완          http://www.3sref.com  서울특별시  \n",
       "3         12월            정기로  http://www.apsholdings.co.kr    경기도  \n",
       "5         12월            류장수         http://www.apsi.co.kr  서울특별시  \n",
       "7         NaN            NaN                           NaN    NaN  "
      ]
     },
     "execution_count": 24,
     "metadata": {},
     "output_type": "execute_result"
    }
   ],
   "source": [
    "# 여러 개의 행을 가져오는 경우\n",
    "# [] 대괄호를 통해 리스트 형태로 묶어준다.\n",
    "data_krx.loc[[0,3,5,7]]"
   ]
  },
  {
   "cell_type": "code",
   "execution_count": null,
   "id": "0c13551f",
   "metadata": {},
   "outputs": [],
   "source": []
  },
  {
   "cell_type": "code",
   "execution_count": null,
   "id": "7ee56882",
   "metadata": {},
   "outputs": [],
   "source": [
    "# pandas_datareader 패키지의 data 모듈을 임포트한 후 \n",
    "# 추가로 datetime이라는 모듈을 임포트 : datetime은 파이썬에서 날짜를 쉽게 표현하는 데 사용하는 모듈"
   ]
  },
  {
   "cell_type": "code",
   "execution_count": 3,
   "id": "ab866d35",
   "metadata": {},
   "outputs": [],
   "source": [
    "# 2월과 3월을 입력할 때 02, 03이 아니라 2, 3으로 입력\n",
    "import pandas_datareader.data as web\n",
    "import datetime\n",
    "start = datetime.datetime(2022, 1, 3)\n",
    "end = datetime.datetime(2022, 9, 1)\n"
   ]
  },
  {
   "cell_type": "code",
   "execution_count": 6,
   "id": "79e66354",
   "metadata": {},
   "outputs": [
    {
     "data": {
      "text/html": [
       "<div>\n",
       "<style scoped>\n",
       "    .dataframe tbody tr th:only-of-type {\n",
       "        vertical-align: middle;\n",
       "    }\n",
       "\n",
       "    .dataframe tbody tr th {\n",
       "        vertical-align: top;\n",
       "    }\n",
       "\n",
       "    .dataframe thead th {\n",
       "        text-align: right;\n",
       "    }\n",
       "</style>\n",
       "<table border=\"1\" class=\"dataframe\">\n",
       "  <thead>\n",
       "    <tr style=\"text-align: right;\">\n",
       "      <th></th>\n",
       "      <th>High</th>\n",
       "      <th>Low</th>\n",
       "      <th>Open</th>\n",
       "      <th>Close</th>\n",
       "      <th>Volume</th>\n",
       "      <th>Adj Close</th>\n",
       "    </tr>\n",
       "    <tr>\n",
       "      <th>Date</th>\n",
       "      <th></th>\n",
       "      <th></th>\n",
       "      <th></th>\n",
       "      <th></th>\n",
       "      <th></th>\n",
       "      <th></th>\n",
       "    </tr>\n",
       "  </thead>\n",
       "  <tbody>\n",
       "    <tr>\n",
       "      <th>2022-01-04</th>\n",
       "      <td>79200.0</td>\n",
       "      <td>78300.0</td>\n",
       "      <td>78800.0</td>\n",
       "      <td>78700.0</td>\n",
       "      <td>12427416.0</td>\n",
       "      <td>77819.453125</td>\n",
       "    </tr>\n",
       "    <tr>\n",
       "      <th>2022-01-05</th>\n",
       "      <td>79000.0</td>\n",
       "      <td>76400.0</td>\n",
       "      <td>78800.0</td>\n",
       "      <td>77400.0</td>\n",
       "      <td>25470640.0</td>\n",
       "      <td>76533.992188</td>\n",
       "    </tr>\n",
       "    <tr>\n",
       "      <th>2022-01-06</th>\n",
       "      <td>77600.0</td>\n",
       "      <td>76600.0</td>\n",
       "      <td>76700.0</td>\n",
       "      <td>76900.0</td>\n",
       "      <td>12931954.0</td>\n",
       "      <td>76039.585938</td>\n",
       "    </tr>\n",
       "    <tr>\n",
       "      <th>2022-01-07</th>\n",
       "      <td>78400.0</td>\n",
       "      <td>77400.0</td>\n",
       "      <td>78100.0</td>\n",
       "      <td>78300.0</td>\n",
       "      <td>15163757.0</td>\n",
       "      <td>77423.929688</td>\n",
       "    </tr>\n",
       "    <tr>\n",
       "      <th>2022-01-10</th>\n",
       "      <td>78100.0</td>\n",
       "      <td>77100.0</td>\n",
       "      <td>78100.0</td>\n",
       "      <td>78000.0</td>\n",
       "      <td>9947422.0</td>\n",
       "      <td>77127.289062</td>\n",
       "    </tr>\n",
       "    <tr>\n",
       "      <th>...</th>\n",
       "      <td>...</td>\n",
       "      <td>...</td>\n",
       "      <td>...</td>\n",
       "      <td>...</td>\n",
       "      <td>...</td>\n",
       "      <td>...</td>\n",
       "    </tr>\n",
       "    <tr>\n",
       "      <th>2022-08-26</th>\n",
       "      <td>60900.0</td>\n",
       "      <td>59900.0</td>\n",
       "      <td>60300.0</td>\n",
       "      <td>60000.0</td>\n",
       "      <td>9499995.0</td>\n",
       "      <td>60000.000000</td>\n",
       "    </tr>\n",
       "    <tr>\n",
       "      <th>2022-08-29</th>\n",
       "      <td>58900.0</td>\n",
       "      <td>58600.0</td>\n",
       "      <td>58700.0</td>\n",
       "      <td>58600.0</td>\n",
       "      <td>9841329.0</td>\n",
       "      <td>58600.000000</td>\n",
       "    </tr>\n",
       "    <tr>\n",
       "      <th>2022-08-30</th>\n",
       "      <td>59000.0</td>\n",
       "      <td>58300.0</td>\n",
       "      <td>58700.0</td>\n",
       "      <td>58800.0</td>\n",
       "      <td>9690044.0</td>\n",
       "      <td>58800.000000</td>\n",
       "    </tr>\n",
       "    <tr>\n",
       "      <th>2022-08-31</th>\n",
       "      <td>59900.0</td>\n",
       "      <td>58200.0</td>\n",
       "      <td>58200.0</td>\n",
       "      <td>59700.0</td>\n",
       "      <td>14203512.0</td>\n",
       "      <td>59700.000000</td>\n",
       "    </tr>\n",
       "    <tr>\n",
       "      <th>2022-09-01</th>\n",
       "      <td>58900.0</td>\n",
       "      <td>58300.0</td>\n",
       "      <td>58700.0</td>\n",
       "      <td>58400.0</td>\n",
       "      <td>14905777.0</td>\n",
       "      <td>58400.000000</td>\n",
       "    </tr>\n",
       "  </tbody>\n",
       "</table>\n",
       "<p>163 rows × 6 columns</p>\n",
       "</div>"
      ],
      "text/plain": [
       "               High      Low     Open    Close      Volume     Adj Close\n",
       "Date                                                                    \n",
       "2022-01-04  79200.0  78300.0  78800.0  78700.0  12427416.0  77819.453125\n",
       "2022-01-05  79000.0  76400.0  78800.0  77400.0  25470640.0  76533.992188\n",
       "2022-01-06  77600.0  76600.0  76700.0  76900.0  12931954.0  76039.585938\n",
       "2022-01-07  78400.0  77400.0  78100.0  78300.0  15163757.0  77423.929688\n",
       "2022-01-10  78100.0  77100.0  78100.0  78000.0   9947422.0  77127.289062\n",
       "...             ...      ...      ...      ...         ...           ...\n",
       "2022-08-26  60900.0  59900.0  60300.0  60000.0   9499995.0  60000.000000\n",
       "2022-08-29  58900.0  58600.0  58700.0  58600.0   9841329.0  58600.000000\n",
       "2022-08-30  59000.0  58300.0  58700.0  58800.0   9690044.0  58800.000000\n",
       "2022-08-31  59900.0  58200.0  58200.0  59700.0  14203512.0  59700.000000\n",
       "2022-09-01  58900.0  58300.0  58700.0  58400.0  14905777.0  58400.000000\n",
       "\n",
       "[163 rows x 6 columns]"
      ]
     },
     "execution_count": 6,
     "metadata": {},
     "output_type": "execute_result"
    }
   ],
   "source": [
    "# DataReader 함수의 첫 번째 인자로는 조회할 종목 정보 입력\n",
    "# KS : KOSPI 시장 , \n",
    "# 두 번째 인자로는 데이터를 가져올 원천(야후)에 대한 정보를 입력\n",
    "# 조회 기간의 시작일과 종료일을 입력\n",
    "sm = web.DataReader(\"005930.KS\", \"yahoo\", start, end)\n",
    "sm"
   ]
  },
  {
   "cell_type": "code",
   "execution_count": 21,
   "id": "c3b87391",
   "metadata": {},
   "outputs": [
    {
     "data": {
      "text/html": [
       "<div>\n",
       "<style scoped>\n",
       "    .dataframe tbody tr th:only-of-type {\n",
       "        vertical-align: middle;\n",
       "    }\n",
       "\n",
       "    .dataframe tbody tr th {\n",
       "        vertical-align: top;\n",
       "    }\n",
       "\n",
       "    .dataframe thead th {\n",
       "        text-align: right;\n",
       "    }\n",
       "</style>\n",
       "<table border=\"1\" class=\"dataframe\">\n",
       "  <thead>\n",
       "    <tr style=\"text-align: right;\">\n",
       "      <th></th>\n",
       "      <th>High</th>\n",
       "      <th>Low</th>\n",
       "      <th>Open</th>\n",
       "      <th>Close</th>\n",
       "      <th>Volume</th>\n",
       "      <th>Adj Close</th>\n",
       "    </tr>\n",
       "    <tr>\n",
       "      <th>Date</th>\n",
       "      <th></th>\n",
       "      <th></th>\n",
       "      <th></th>\n",
       "      <th></th>\n",
       "      <th></th>\n",
       "      <th></th>\n",
       "    </tr>\n",
       "  </thead>\n",
       "  <tbody>\n",
       "    <tr>\n",
       "      <th>2022-01-04</th>\n",
       "      <td>79200.0</td>\n",
       "      <td>78300.0</td>\n",
       "      <td>78800.0</td>\n",
       "      <td>78700.0</td>\n",
       "      <td>12427416.0</td>\n",
       "      <td>77819.453125</td>\n",
       "    </tr>\n",
       "    <tr>\n",
       "      <th>2022-01-05</th>\n",
       "      <td>79000.0</td>\n",
       "      <td>76400.0</td>\n",
       "      <td>78800.0</td>\n",
       "      <td>77400.0</td>\n",
       "      <td>25470640.0</td>\n",
       "      <td>76534.000000</td>\n",
       "    </tr>\n",
       "    <tr>\n",
       "      <th>2022-01-06</th>\n",
       "      <td>77600.0</td>\n",
       "      <td>76600.0</td>\n",
       "      <td>76700.0</td>\n",
       "      <td>76900.0</td>\n",
       "      <td>12931954.0</td>\n",
       "      <td>76039.593750</td>\n",
       "    </tr>\n",
       "    <tr>\n",
       "      <th>2022-01-07</th>\n",
       "      <td>78400.0</td>\n",
       "      <td>77400.0</td>\n",
       "      <td>78100.0</td>\n",
       "      <td>78300.0</td>\n",
       "      <td>15163757.0</td>\n",
       "      <td>77423.921875</td>\n",
       "    </tr>\n",
       "    <tr>\n",
       "      <th>2022-01-10</th>\n",
       "      <td>78100.0</td>\n",
       "      <td>77100.0</td>\n",
       "      <td>78100.0</td>\n",
       "      <td>78000.0</td>\n",
       "      <td>9947422.0</td>\n",
       "      <td>77127.289062</td>\n",
       "    </tr>\n",
       "    <tr>\n",
       "      <th>...</th>\n",
       "      <td>...</td>\n",
       "      <td>...</td>\n",
       "      <td>...</td>\n",
       "      <td>...</td>\n",
       "      <td>...</td>\n",
       "      <td>...</td>\n",
       "    </tr>\n",
       "    <tr>\n",
       "      <th>2022-08-26</th>\n",
       "      <td>60900.0</td>\n",
       "      <td>59900.0</td>\n",
       "      <td>60300.0</td>\n",
       "      <td>60000.0</td>\n",
       "      <td>9499995.0</td>\n",
       "      <td>60000.000000</td>\n",
       "    </tr>\n",
       "    <tr>\n",
       "      <th>2022-08-29</th>\n",
       "      <td>58900.0</td>\n",
       "      <td>58600.0</td>\n",
       "      <td>58700.0</td>\n",
       "      <td>58600.0</td>\n",
       "      <td>9841329.0</td>\n",
       "      <td>58600.000000</td>\n",
       "    </tr>\n",
       "    <tr>\n",
       "      <th>2022-08-30</th>\n",
       "      <td>59000.0</td>\n",
       "      <td>58300.0</td>\n",
       "      <td>58700.0</td>\n",
       "      <td>58800.0</td>\n",
       "      <td>9690044.0</td>\n",
       "      <td>58800.000000</td>\n",
       "    </tr>\n",
       "    <tr>\n",
       "      <th>2022-08-31</th>\n",
       "      <td>59900.0</td>\n",
       "      <td>58200.0</td>\n",
       "      <td>58200.0</td>\n",
       "      <td>59700.0</td>\n",
       "      <td>14203512.0</td>\n",
       "      <td>59700.000000</td>\n",
       "    </tr>\n",
       "    <tr>\n",
       "      <th>2022-09-01</th>\n",
       "      <td>58900.0</td>\n",
       "      <td>58300.0</td>\n",
       "      <td>58700.0</td>\n",
       "      <td>58400.0</td>\n",
       "      <td>14905777.0</td>\n",
       "      <td>58400.000000</td>\n",
       "    </tr>\n",
       "  </tbody>\n",
       "</table>\n",
       "<p>163 rows × 6 columns</p>\n",
       "</div>"
      ],
      "text/plain": [
       "               High      Low     Open    Close      Volume     Adj Close\n",
       "Date                                                                    \n",
       "2022-01-04  79200.0  78300.0  78800.0  78700.0  12427416.0  77819.453125\n",
       "2022-01-05  79000.0  76400.0  78800.0  77400.0  25470640.0  76534.000000\n",
       "2022-01-06  77600.0  76600.0  76700.0  76900.0  12931954.0  76039.593750\n",
       "2022-01-07  78400.0  77400.0  78100.0  78300.0  15163757.0  77423.921875\n",
       "2022-01-10  78100.0  77100.0  78100.0  78000.0   9947422.0  77127.289062\n",
       "...             ...      ...      ...      ...         ...           ...\n",
       "2022-08-26  60900.0  59900.0  60300.0  60000.0   9499995.0  60000.000000\n",
       "2022-08-29  58900.0  58600.0  58700.0  58600.0   9841329.0  58600.000000\n",
       "2022-08-30  59000.0  58300.0  58700.0  58800.0   9690044.0  58800.000000\n",
       "2022-08-31  59900.0  58200.0  58200.0  59700.0  14203512.0  59700.000000\n",
       "2022-09-01  58900.0  58300.0  58700.0  58400.0  14905777.0  58400.000000\n",
       "\n",
       "[163 rows x 6 columns]"
      ]
     },
     "execution_count": 21,
     "metadata": {},
     "output_type": "execute_result"
    }
   ],
   "source": [
    "# 데이터 가져오기 다른 방법\n",
    "# datetime 모듈을 이용해 조회 기간을 입력하는 경우 외에도 조회 기간의 시작일과 종료일을 직접 입력해도 가능\n",
    "# 이 경우에는 datetime과 달리 날짜에 0을 넣거나 빼도 무방\n",
    "sm = web.DataReader(\"005930.KS\", \"yahoo\", \"2022-01-03\", \"2022-09-01\")\n",
    "sm\n"
   ]
  },
  {
   "cell_type": "code",
   "execution_count": 22,
   "id": "3916eb45",
   "metadata": {},
   "outputs": [
    {
     "data": {
      "text/html": [
       "<div>\n",
       "<style scoped>\n",
       "    .dataframe tbody tr th:only-of-type {\n",
       "        vertical-align: middle;\n",
       "    }\n",
       "\n",
       "    .dataframe tbody tr th {\n",
       "        vertical-align: top;\n",
       "    }\n",
       "\n",
       "    .dataframe thead th {\n",
       "        text-align: right;\n",
       "    }\n",
       "</style>\n",
       "<table border=\"1\" class=\"dataframe\">\n",
       "  <thead>\n",
       "    <tr style=\"text-align: right;\">\n",
       "      <th></th>\n",
       "      <th>High</th>\n",
       "      <th>Low</th>\n",
       "      <th>Open</th>\n",
       "      <th>Close</th>\n",
       "      <th>Volume</th>\n",
       "      <th>Adj Close</th>\n",
       "    </tr>\n",
       "    <tr>\n",
       "      <th>Date</th>\n",
       "      <th></th>\n",
       "      <th></th>\n",
       "      <th></th>\n",
       "      <th></th>\n",
       "      <th></th>\n",
       "      <th></th>\n",
       "    </tr>\n",
       "  </thead>\n",
       "  <tbody>\n",
       "    <tr>\n",
       "      <th>2022-01-04</th>\n",
       "      <td>79200.0</td>\n",
       "      <td>78300.0</td>\n",
       "      <td>78800.0</td>\n",
       "      <td>78700.0</td>\n",
       "      <td>12427416.0</td>\n",
       "      <td>77819.453125</td>\n",
       "    </tr>\n",
       "    <tr>\n",
       "      <th>2022-01-05</th>\n",
       "      <td>79000.0</td>\n",
       "      <td>76400.0</td>\n",
       "      <td>78800.0</td>\n",
       "      <td>77400.0</td>\n",
       "      <td>25470640.0</td>\n",
       "      <td>76533.992188</td>\n",
       "    </tr>\n",
       "    <tr>\n",
       "      <th>2022-01-06</th>\n",
       "      <td>77600.0</td>\n",
       "      <td>76600.0</td>\n",
       "      <td>76700.0</td>\n",
       "      <td>76900.0</td>\n",
       "      <td>12931954.0</td>\n",
       "      <td>76039.585938</td>\n",
       "    </tr>\n",
       "    <tr>\n",
       "      <th>2022-01-07</th>\n",
       "      <td>78400.0</td>\n",
       "      <td>77400.0</td>\n",
       "      <td>78100.0</td>\n",
       "      <td>78300.0</td>\n",
       "      <td>15163757.0</td>\n",
       "      <td>77423.929688</td>\n",
       "    </tr>\n",
       "    <tr>\n",
       "      <th>2022-01-10</th>\n",
       "      <td>78100.0</td>\n",
       "      <td>77100.0</td>\n",
       "      <td>78100.0</td>\n",
       "      <td>78000.0</td>\n",
       "      <td>9947422.0</td>\n",
       "      <td>77127.289062</td>\n",
       "    </tr>\n",
       "    <tr>\n",
       "      <th>...</th>\n",
       "      <td>...</td>\n",
       "      <td>...</td>\n",
       "      <td>...</td>\n",
       "      <td>...</td>\n",
       "      <td>...</td>\n",
       "      <td>...</td>\n",
       "    </tr>\n",
       "    <tr>\n",
       "      <th>2022-08-26</th>\n",
       "      <td>60900.0</td>\n",
       "      <td>59900.0</td>\n",
       "      <td>60300.0</td>\n",
       "      <td>60000.0</td>\n",
       "      <td>9499995.0</td>\n",
       "      <td>60000.000000</td>\n",
       "    </tr>\n",
       "    <tr>\n",
       "      <th>2022-08-29</th>\n",
       "      <td>58900.0</td>\n",
       "      <td>58600.0</td>\n",
       "      <td>58700.0</td>\n",
       "      <td>58600.0</td>\n",
       "      <td>9841329.0</td>\n",
       "      <td>58600.000000</td>\n",
       "    </tr>\n",
       "    <tr>\n",
       "      <th>2022-08-30</th>\n",
       "      <td>59000.0</td>\n",
       "      <td>58300.0</td>\n",
       "      <td>58700.0</td>\n",
       "      <td>58800.0</td>\n",
       "      <td>9690044.0</td>\n",
       "      <td>58800.000000</td>\n",
       "    </tr>\n",
       "    <tr>\n",
       "      <th>2022-08-31</th>\n",
       "      <td>59900.0</td>\n",
       "      <td>58200.0</td>\n",
       "      <td>58200.0</td>\n",
       "      <td>59700.0</td>\n",
       "      <td>14203512.0</td>\n",
       "      <td>59700.000000</td>\n",
       "    </tr>\n",
       "    <tr>\n",
       "      <th>2022-09-01</th>\n",
       "      <td>58900.0</td>\n",
       "      <td>58300.0</td>\n",
       "      <td>58700.0</td>\n",
       "      <td>58400.0</td>\n",
       "      <td>14905777.0</td>\n",
       "      <td>58400.000000</td>\n",
       "    </tr>\n",
       "  </tbody>\n",
       "</table>\n",
       "<p>163 rows × 6 columns</p>\n",
       "</div>"
      ],
      "text/plain": [
       "               High      Low     Open    Close      Volume     Adj Close\n",
       "Date                                                                    \n",
       "2022-01-04  79200.0  78300.0  78800.0  78700.0  12427416.0  77819.453125\n",
       "2022-01-05  79000.0  76400.0  78800.0  77400.0  25470640.0  76533.992188\n",
       "2022-01-06  77600.0  76600.0  76700.0  76900.0  12931954.0  76039.585938\n",
       "2022-01-07  78400.0  77400.0  78100.0  78300.0  15163757.0  77423.929688\n",
       "2022-01-10  78100.0  77100.0  78100.0  78000.0   9947422.0  77127.289062\n",
       "...             ...      ...      ...      ...         ...           ...\n",
       "2022-08-26  60900.0  59900.0  60300.0  60000.0   9499995.0  60000.000000\n",
       "2022-08-29  58900.0  58600.0  58700.0  58600.0   9841329.0  58600.000000\n",
       "2022-08-30  59000.0  58300.0  58700.0  58800.0   9690044.0  58800.000000\n",
       "2022-08-31  59900.0  58200.0  58200.0  59700.0  14203512.0  59700.000000\n",
       "2022-09-01  58900.0  58300.0  58700.0  58400.0  14905777.0  58400.000000\n",
       "\n",
       "[163 rows x 6 columns]"
      ]
     },
     "execution_count": 22,
     "metadata": {},
     "output_type": "execute_result"
    }
   ],
   "source": [
    "# 위 경우에는 datetime과 달리 날짜에 0을 넣거나 빼도 무방\n",
    "sm = web.DataReader(\"005930.KS\", \"yahoo\", \"2022-1-3\", \"2022-9-1\")\n",
    "sm"
   ]
  },
  {
   "cell_type": "code",
   "execution_count": null,
   "id": "9f182a59",
   "metadata": {},
   "outputs": [],
   "source": []
  },
  {
   "cell_type": "markdown",
   "id": "96aab0d8",
   "metadata": {},
   "source": [
    "### 데이터를 시각적으로 표현"
   ]
  },
  {
   "cell_type": "code",
   "execution_count": null,
   "id": "5cf9d090",
   "metadata": {},
   "outputs": [],
   "source": [
    "# 그래픽 종류\n",
    "# line\tline graph\n",
    "# pie\tpie chart\n",
    "# scatter\tscatter plot\n",
    "# bar, barh\tvertical, horizontal bar charts\n",
    "# area\tarea plots\n",
    "# box\tbox plot\n",
    "# hexbin\thexbin plot\n",
    "# hist\thistogram\n",
    "# kde, density\tkernel density charts"
   ]
  },
  {
   "cell_type": "code",
   "execution_count": null,
   "id": "242f3bc6",
   "metadata": {},
   "outputs": [],
   "source": []
  },
  {
   "cell_type": "code",
   "execution_count": 10,
   "id": "4414b781",
   "metadata": {},
   "outputs": [],
   "source": [
    "import pandas_datareader.data as web\n",
    "import datetime\n",
    "start = datetime.datetime(2022, 1, 3)\n",
    "end = datetime.datetime(2022, 9, 1)\n",
    "sm = web.DataReader(\"005930.KS\", \"yahoo\", start, end)"
   ]
  },
  {
   "cell_type": "code",
   "execution_count": 11,
   "id": "250a5662",
   "metadata": {},
   "outputs": [
    {
     "name": "stdout",
     "output_type": "stream",
     "text": [
      "<class 'pandas.core.frame.DataFrame'>\n",
      "DatetimeIndex: 163 entries, 2022-01-04 to 2022-09-01\n",
      "Data columns (total 6 columns):\n",
      " #   Column     Non-Null Count  Dtype  \n",
      "---  ------     --------------  -----  \n",
      " 0   High       163 non-null    float64\n",
      " 1   Low        163 non-null    float64\n",
      " 2   Open       163 non-null    float64\n",
      " 3   Close      163 non-null    float64\n",
      " 4   Volume     163 non-null    float64\n",
      " 5   Adj Close  163 non-null    float64\n",
      "dtypes: float64(6)\n",
      "memory usage: 8.9 KB\n"
     ]
    }
   ],
   "source": [
    "# info 메서드를 호출하면 DataFrame 객체를 요약\n",
    "sm.info()"
   ]
  },
  {
   "cell_type": "code",
   "execution_count": 12,
   "id": "0fbe4446",
   "metadata": {},
   "outputs": [],
   "source": [
    "# 그래프를 그릴 때는 matplotlib라는 패키지를 주로 사용 \n",
    "# 그래프는 matplotlib 패키지의 pyplot이라는 모듈 사용\n",
    "\n",
    "import matplotlib.pyplot as plt"
   ]
  },
  {
   "cell_type": "code",
   "execution_count": null,
   "id": "960c0078",
   "metadata": {},
   "outputs": [],
   "source": [
    "# pyplot 모듈에는 그래프를 그리는 plot 함수가 내재\n",
    "# plot 함수를 호출 : 그래프로 표현하려는 데이터를 인자로 전달하면 됨.\n",
    "# DataFrame에서 'Adj Close'라는 칼럼데이터를 전달\n",
    "# 그래프를 화면에 출력하기 위해 show 메서드를 호출"
   ]
  },
  {
   "cell_type": "code",
   "execution_count": 17,
   "id": "3d7736d5",
   "metadata": {},
   "outputs": [
    {
     "data": {
      "text/plain": [
       "[<matplotlib.lines.Line2D at 0x23319e0bca0>]"
      ]
     },
     "execution_count": 17,
     "metadata": {},
     "output_type": "execute_result"
    },
    {
     "data": {
      "image/png": "[encoded data removed]",
      "text/plain": [
       "<Figure size 432x288 with 1 Axes>"
      ]
     },
     "metadata": {
      "needs_background": "light"
     },
     "output_type": "display_data"
    }
   ],
   "source": [
    "plt.plot(sm['Adj Close'])"
   ]
  },
  {
   "cell_type": "code",
   "execution_count": 18,
   "id": "0c2bf49f",
   "metadata": {},
   "outputs": [
    {
     "data": {
      "image/png": "[encoded data removed]",
      "text/plain": [
       "<Figure size 432x288 with 1 Axes>"
      ]
     },
     "metadata": {
      "needs_background": "light"
     },
     "output_type": "display_data"
    }
   ],
   "source": [
    "plt.plot(sm['Adj Close'])\n",
    "plt.show()"
   ]
  },
  {
   "cell_type": "markdown",
   "id": "19b9e686",
   "metadata": {},
   "source": [
    "### 기술적 분석지표로 이동평균선"
   ]
  },
  {
   "cell_type": "code",
   "execution_count": null,
   "id": "3c4bc010",
   "metadata": {},
   "outputs": [],
   "source": [
    "# pandas를 이용해 이동평균을 계산\n",
    "# 주가이동평균 : 일정 기간의 주가를 산술 평균한 값\n",
    "# 5일로 사용한 것이 5일 주가이동평균이고 이를 연결한 것이 5일 주가이동평균 선\n",
    "# 주가이동평균을 계산하는 데 사용되는 값은 수정 종가(Adjusted Closing Price)"
   ]
  },
  {
   "cell_type": "code",
   "execution_count": 23,
   "id": "c84c6273",
   "metadata": {},
   "outputs": [],
   "source": [
    "import pandas as pd\n",
    "import pandas_datareader.data as web\n",
    "sm = web.DataReader(\"005930.KS\", \"yahoo\", \"2022-01-03\", \"2022-09-01\")\n"
   ]
  },
  {
   "cell_type": "code",
   "execution_count": 27,
   "id": "8541d3f6",
   "metadata": {},
   "outputs": [
    {
     "data": {
      "text/html": [
       "<div>\n",
       "<style scoped>\n",
       "    .dataframe tbody tr th:only-of-type {\n",
       "        vertical-align: middle;\n",
       "    }\n",
       "\n",
       "    .dataframe tbody tr th {\n",
       "        vertical-align: top;\n",
       "    }\n",
       "\n",
       "    .dataframe thead th {\n",
       "        text-align: right;\n",
       "    }\n",
       "</style>\n",
       "<table border=\"1\" class=\"dataframe\">\n",
       "  <thead>\n",
       "    <tr style=\"text-align: right;\">\n",
       "      <th></th>\n",
       "      <th>High</th>\n",
       "      <th>Low</th>\n",
       "      <th>Open</th>\n",
       "      <th>Close</th>\n",
       "      <th>Volume</th>\n",
       "      <th>Adj Close</th>\n",
       "    </tr>\n",
       "    <tr>\n",
       "      <th>Date</th>\n",
       "      <th></th>\n",
       "      <th></th>\n",
       "      <th></th>\n",
       "      <th></th>\n",
       "      <th></th>\n",
       "      <th></th>\n",
       "    </tr>\n",
       "  </thead>\n",
       "  <tbody>\n",
       "    <tr>\n",
       "      <th>2022-01-04</th>\n",
       "      <td>79200.0</td>\n",
       "      <td>78300.0</td>\n",
       "      <td>78800.0</td>\n",
       "      <td>78700.0</td>\n",
       "      <td>12427416.0</td>\n",
       "      <td>77819.453125</td>\n",
       "    </tr>\n",
       "    <tr>\n",
       "      <th>2022-01-05</th>\n",
       "      <td>79000.0</td>\n",
       "      <td>76400.0</td>\n",
       "      <td>78800.0</td>\n",
       "      <td>77400.0</td>\n",
       "      <td>25470640.0</td>\n",
       "      <td>76534.000000</td>\n",
       "    </tr>\n",
       "    <tr>\n",
       "      <th>2022-01-06</th>\n",
       "      <td>77600.0</td>\n",
       "      <td>76600.0</td>\n",
       "      <td>76700.0</td>\n",
       "      <td>76900.0</td>\n",
       "      <td>12931954.0</td>\n",
       "      <td>76039.593750</td>\n",
       "    </tr>\n",
       "    <tr>\n",
       "      <th>2022-01-07</th>\n",
       "      <td>78400.0</td>\n",
       "      <td>77400.0</td>\n",
       "      <td>78100.0</td>\n",
       "      <td>78300.0</td>\n",
       "      <td>15163757.0</td>\n",
       "      <td>77423.921875</td>\n",
       "    </tr>\n",
       "    <tr>\n",
       "      <th>2022-01-10</th>\n",
       "      <td>78100.0</td>\n",
       "      <td>77100.0</td>\n",
       "      <td>78100.0</td>\n",
       "      <td>78000.0</td>\n",
       "      <td>9947422.0</td>\n",
       "      <td>77127.289062</td>\n",
       "    </tr>\n",
       "    <tr>\n",
       "      <th>...</th>\n",
       "      <td>...</td>\n",
       "      <td>...</td>\n",
       "      <td>...</td>\n",
       "      <td>...</td>\n",
       "      <td>...</td>\n",
       "      <td>...</td>\n",
       "    </tr>\n",
       "    <tr>\n",
       "      <th>2022-08-26</th>\n",
       "      <td>60900.0</td>\n",
       "      <td>59900.0</td>\n",
       "      <td>60300.0</td>\n",
       "      <td>60000.0</td>\n",
       "      <td>9499995.0</td>\n",
       "      <td>60000.000000</td>\n",
       "    </tr>\n",
       "    <tr>\n",
       "      <th>2022-08-29</th>\n",
       "      <td>58900.0</td>\n",
       "      <td>58600.0</td>\n",
       "      <td>58700.0</td>\n",
       "      <td>58600.0</td>\n",
       "      <td>9841329.0</td>\n",
       "      <td>58600.000000</td>\n",
       "    </tr>\n",
       "    <tr>\n",
       "      <th>2022-08-30</th>\n",
       "      <td>59000.0</td>\n",
       "      <td>58300.0</td>\n",
       "      <td>58700.0</td>\n",
       "      <td>58800.0</td>\n",
       "      <td>9690044.0</td>\n",
       "      <td>58800.000000</td>\n",
       "    </tr>\n",
       "    <tr>\n",
       "      <th>2022-08-31</th>\n",
       "      <td>59900.0</td>\n",
       "      <td>58200.0</td>\n",
       "      <td>58200.0</td>\n",
       "      <td>59700.0</td>\n",
       "      <td>14203512.0</td>\n",
       "      <td>59700.000000</td>\n",
       "    </tr>\n",
       "    <tr>\n",
       "      <th>2022-09-01</th>\n",
       "      <td>58900.0</td>\n",
       "      <td>58300.0</td>\n",
       "      <td>58700.0</td>\n",
       "      <td>58400.0</td>\n",
       "      <td>14905777.0</td>\n",
       "      <td>58400.000000</td>\n",
       "    </tr>\n",
       "  </tbody>\n",
       "</table>\n",
       "<p>163 rows × 6 columns</p>\n",
       "</div>"
      ],
      "text/plain": [
       "               High      Low     Open    Close      Volume     Adj Close\n",
       "Date                                                                    \n",
       "2022-01-04  79200.0  78300.0  78800.0  78700.0  12427416.0  77819.453125\n",
       "2022-01-05  79000.0  76400.0  78800.0  77400.0  25470640.0  76534.000000\n",
       "2022-01-06  77600.0  76600.0  76700.0  76900.0  12931954.0  76039.593750\n",
       "2022-01-07  78400.0  77400.0  78100.0  78300.0  15163757.0  77423.921875\n",
       "2022-01-10  78100.0  77100.0  78100.0  78000.0   9947422.0  77127.289062\n",
       "...             ...      ...      ...      ...         ...           ...\n",
       "2022-08-26  60900.0  59900.0  60300.0  60000.0   9499995.0  60000.000000\n",
       "2022-08-29  58900.0  58600.0  58700.0  58600.0   9841329.0  58600.000000\n",
       "2022-08-30  59000.0  58300.0  58700.0  58800.0   9690044.0  58800.000000\n",
       "2022-08-31  59900.0  58200.0  58200.0  59700.0  14203512.0  59700.000000\n",
       "2022-09-01  58900.0  58300.0  58700.0  58400.0  14905777.0  58400.000000\n",
       "\n",
       "[163 rows x 6 columns]"
      ]
     },
     "execution_count": 27,
     "metadata": {},
     "output_type": "execute_result"
    }
   ],
   "source": [
    "sm"
   ]
  },
  {
   "cell_type": "code",
   "execution_count": 24,
   "id": "ad790d1a",
   "metadata": {},
   "outputs": [
    {
     "data": {
      "text/html": [
       "<div>\n",
       "<style scoped>\n",
       "    .dataframe tbody tr th:only-of-type {\n",
       "        vertical-align: middle;\n",
       "    }\n",
       "\n",
       "    .dataframe tbody tr th {\n",
       "        vertical-align: top;\n",
       "    }\n",
       "\n",
       "    .dataframe thead th {\n",
       "        text-align: right;\n",
       "    }\n",
       "</style>\n",
       "<table border=\"1\" class=\"dataframe\">\n",
       "  <thead>\n",
       "    <tr style=\"text-align: right;\">\n",
       "      <th></th>\n",
       "      <th>High</th>\n",
       "      <th>Low</th>\n",
       "      <th>Open</th>\n",
       "      <th>Close</th>\n",
       "      <th>Volume</th>\n",
       "      <th>Adj Close</th>\n",
       "    </tr>\n",
       "    <tr>\n",
       "      <th>Date</th>\n",
       "      <th></th>\n",
       "      <th></th>\n",
       "      <th></th>\n",
       "      <th></th>\n",
       "      <th></th>\n",
       "      <th></th>\n",
       "    </tr>\n",
       "  </thead>\n",
       "  <tbody>\n",
       "    <tr>\n",
       "      <th>2022-08-26</th>\n",
       "      <td>60900.0</td>\n",
       "      <td>59900.0</td>\n",
       "      <td>60300.0</td>\n",
       "      <td>60000.0</td>\n",
       "      <td>9499995.0</td>\n",
       "      <td>60000.0</td>\n",
       "    </tr>\n",
       "    <tr>\n",
       "      <th>2022-08-29</th>\n",
       "      <td>58900.0</td>\n",
       "      <td>58600.0</td>\n",
       "      <td>58700.0</td>\n",
       "      <td>58600.0</td>\n",
       "      <td>9841329.0</td>\n",
       "      <td>58600.0</td>\n",
       "    </tr>\n",
       "    <tr>\n",
       "      <th>2022-08-30</th>\n",
       "      <td>59000.0</td>\n",
       "      <td>58300.0</td>\n",
       "      <td>58700.0</td>\n",
       "      <td>58800.0</td>\n",
       "      <td>9690044.0</td>\n",
       "      <td>58800.0</td>\n",
       "    </tr>\n",
       "    <tr>\n",
       "      <th>2022-08-31</th>\n",
       "      <td>59900.0</td>\n",
       "      <td>58200.0</td>\n",
       "      <td>58200.0</td>\n",
       "      <td>59700.0</td>\n",
       "      <td>14203512.0</td>\n",
       "      <td>59700.0</td>\n",
       "    </tr>\n",
       "    <tr>\n",
       "      <th>2022-09-01</th>\n",
       "      <td>58900.0</td>\n",
       "      <td>58300.0</td>\n",
       "      <td>58700.0</td>\n",
       "      <td>58400.0</td>\n",
       "      <td>14905777.0</td>\n",
       "      <td>58400.0</td>\n",
       "    </tr>\n",
       "  </tbody>\n",
       "</table>\n",
       "</div>"
      ],
      "text/plain": [
       "               High      Low     Open    Close      Volume  Adj Close\n",
       "Date                                                                 \n",
       "2022-08-26  60900.0  59900.0  60300.0  60000.0   9499995.0    60000.0\n",
       "2022-08-29  58900.0  58600.0  58700.0  58600.0   9841329.0    58600.0\n",
       "2022-08-30  59000.0  58300.0  58700.0  58800.0   9690044.0    58800.0\n",
       "2022-08-31  59900.0  58200.0  58200.0  59700.0  14203512.0    59700.0\n",
       "2022-09-01  58900.0  58300.0  58700.0  58400.0  14905777.0    58400.0"
      ]
     },
     "execution_count": 24,
     "metadata": {},
     "output_type": "execute_result"
    }
   ],
   "source": [
    " # tail 메서드를 호출해서 끝부분에 위치하는 5개의 데이터를 확인\n",
    "sm.tail()\n",
    "    "
   ]
  },
  {
   "cell_type": "code",
   "execution_count": 25,
   "id": "8d602700",
   "metadata": {},
   "outputs": [
    {
     "data": {
      "text/html": [
       "<div>\n",
       "<style scoped>\n",
       "    .dataframe tbody tr th:only-of-type {\n",
       "        vertical-align: middle;\n",
       "    }\n",
       "\n",
       "    .dataframe tbody tr th {\n",
       "        vertical-align: top;\n",
       "    }\n",
       "\n",
       "    .dataframe thead th {\n",
       "        text-align: right;\n",
       "    }\n",
       "</style>\n",
       "<table border=\"1\" class=\"dataframe\">\n",
       "  <thead>\n",
       "    <tr style=\"text-align: right;\">\n",
       "      <th></th>\n",
       "      <th>High</th>\n",
       "      <th>Low</th>\n",
       "      <th>Open</th>\n",
       "      <th>Close</th>\n",
       "      <th>Volume</th>\n",
       "      <th>Adj Close</th>\n",
       "    </tr>\n",
       "    <tr>\n",
       "      <th>Date</th>\n",
       "      <th></th>\n",
       "      <th></th>\n",
       "      <th></th>\n",
       "      <th></th>\n",
       "      <th></th>\n",
       "      <th></th>\n",
       "    </tr>\n",
       "  </thead>\n",
       "  <tbody>\n",
       "    <tr>\n",
       "      <th>2022-01-04</th>\n",
       "      <td>79200.0</td>\n",
       "      <td>78300.0</td>\n",
       "      <td>78800.0</td>\n",
       "      <td>78700.0</td>\n",
       "      <td>12427416.0</td>\n",
       "      <td>77819.453125</td>\n",
       "    </tr>\n",
       "    <tr>\n",
       "      <th>2022-01-05</th>\n",
       "      <td>79000.0</td>\n",
       "      <td>76400.0</td>\n",
       "      <td>78800.0</td>\n",
       "      <td>77400.0</td>\n",
       "      <td>25470640.0</td>\n",
       "      <td>76534.000000</td>\n",
       "    </tr>\n",
       "    <tr>\n",
       "      <th>2022-01-06</th>\n",
       "      <td>77600.0</td>\n",
       "      <td>76600.0</td>\n",
       "      <td>76700.0</td>\n",
       "      <td>76900.0</td>\n",
       "      <td>12931954.0</td>\n",
       "      <td>76039.593750</td>\n",
       "    </tr>\n",
       "    <tr>\n",
       "      <th>2022-01-07</th>\n",
       "      <td>78400.0</td>\n",
       "      <td>77400.0</td>\n",
       "      <td>78100.0</td>\n",
       "      <td>78300.0</td>\n",
       "      <td>15163757.0</td>\n",
       "      <td>77423.921875</td>\n",
       "    </tr>\n",
       "    <tr>\n",
       "      <th>2022-01-10</th>\n",
       "      <td>78100.0</td>\n",
       "      <td>77100.0</td>\n",
       "      <td>78100.0</td>\n",
       "      <td>78000.0</td>\n",
       "      <td>9947422.0</td>\n",
       "      <td>77127.289062</td>\n",
       "    </tr>\n",
       "  </tbody>\n",
       "</table>\n",
       "</div>"
      ],
      "text/plain": [
       "               High      Low     Open    Close      Volume     Adj Close\n",
       "Date                                                                    \n",
       "2022-01-04  79200.0  78300.0  78800.0  78700.0  12427416.0  77819.453125\n",
       "2022-01-05  79000.0  76400.0  78800.0  77400.0  25470640.0  76534.000000\n",
       "2022-01-06  77600.0  76600.0  76700.0  76900.0  12931954.0  76039.593750\n",
       "2022-01-07  78400.0  77400.0  78100.0  78300.0  15163757.0  77423.921875\n",
       "2022-01-10  78100.0  77100.0  78100.0  78000.0   9947422.0  77127.289062"
      ]
     },
     "execution_count": 25,
     "metadata": {},
     "output_type": "execute_result"
    }
   ],
   "source": [
    " # head 메서드를 호출해서 끝부분에 위치하는 5개의 데이터를 확인\n",
    "sm.head()"
   ]
  },
  {
   "cell_type": "code",
   "execution_count": 26,
   "id": "6781c558",
   "metadata": {},
   "outputs": [
    {
     "data": {
      "text/html": [
       "<div>\n",
       "<style scoped>\n",
       "    .dataframe tbody tr th:only-of-type {\n",
       "        vertical-align: middle;\n",
       "    }\n",
       "\n",
       "    .dataframe tbody tr th {\n",
       "        vertical-align: top;\n",
       "    }\n",
       "\n",
       "    .dataframe thead th {\n",
       "        text-align: right;\n",
       "    }\n",
       "</style>\n",
       "<table border=\"1\" class=\"dataframe\">\n",
       "  <thead>\n",
       "    <tr style=\"text-align: right;\">\n",
       "      <th></th>\n",
       "      <th>High</th>\n",
       "      <th>Low</th>\n",
       "      <th>Open</th>\n",
       "      <th>Close</th>\n",
       "      <th>Volume</th>\n",
       "      <th>Adj Close</th>\n",
       "    </tr>\n",
       "    <tr>\n",
       "      <th>Date</th>\n",
       "      <th></th>\n",
       "      <th></th>\n",
       "      <th></th>\n",
       "      <th></th>\n",
       "      <th></th>\n",
       "      <th></th>\n",
       "    </tr>\n",
       "  </thead>\n",
       "  <tbody>\n",
       "    <tr>\n",
       "      <th>2022-01-04</th>\n",
       "      <td>79200.0</td>\n",
       "      <td>78300.0</td>\n",
       "      <td>78800.0</td>\n",
       "      <td>78700.0</td>\n",
       "      <td>12427416.0</td>\n",
       "      <td>77819.453125</td>\n",
       "    </tr>\n",
       "    <tr>\n",
       "      <th>2022-01-05</th>\n",
       "      <td>79000.0</td>\n",
       "      <td>76400.0</td>\n",
       "      <td>78800.0</td>\n",
       "      <td>77400.0</td>\n",
       "      <td>25470640.0</td>\n",
       "      <td>76534.000000</td>\n",
       "    </tr>\n",
       "    <tr>\n",
       "      <th>2022-01-06</th>\n",
       "      <td>77600.0</td>\n",
       "      <td>76600.0</td>\n",
       "      <td>76700.0</td>\n",
       "      <td>76900.0</td>\n",
       "      <td>12931954.0</td>\n",
       "      <td>76039.593750</td>\n",
       "    </tr>\n",
       "    <tr>\n",
       "      <th>2022-01-07</th>\n",
       "      <td>78400.0</td>\n",
       "      <td>77400.0</td>\n",
       "      <td>78100.0</td>\n",
       "      <td>78300.0</td>\n",
       "      <td>15163757.0</td>\n",
       "      <td>77423.921875</td>\n",
       "    </tr>\n",
       "    <tr>\n",
       "      <th>2022-01-10</th>\n",
       "      <td>78100.0</td>\n",
       "      <td>77100.0</td>\n",
       "      <td>78100.0</td>\n",
       "      <td>78000.0</td>\n",
       "      <td>9947422.0</td>\n",
       "      <td>77127.289062</td>\n",
       "    </tr>\n",
       "    <tr>\n",
       "      <th>...</th>\n",
       "      <td>...</td>\n",
       "      <td>...</td>\n",
       "      <td>...</td>\n",
       "      <td>...</td>\n",
       "      <td>...</td>\n",
       "      <td>...</td>\n",
       "    </tr>\n",
       "    <tr>\n",
       "      <th>2022-08-26</th>\n",
       "      <td>60900.0</td>\n",
       "      <td>59900.0</td>\n",
       "      <td>60300.0</td>\n",
       "      <td>60000.0</td>\n",
       "      <td>9499995.0</td>\n",
       "      <td>60000.000000</td>\n",
       "    </tr>\n",
       "    <tr>\n",
       "      <th>2022-08-29</th>\n",
       "      <td>58900.0</td>\n",
       "      <td>58600.0</td>\n",
       "      <td>58700.0</td>\n",
       "      <td>58600.0</td>\n",
       "      <td>9841329.0</td>\n",
       "      <td>58600.000000</td>\n",
       "    </tr>\n",
       "    <tr>\n",
       "      <th>2022-08-30</th>\n",
       "      <td>59000.0</td>\n",
       "      <td>58300.0</td>\n",
       "      <td>58700.0</td>\n",
       "      <td>58800.0</td>\n",
       "      <td>9690044.0</td>\n",
       "      <td>58800.000000</td>\n",
       "    </tr>\n",
       "    <tr>\n",
       "      <th>2022-08-31</th>\n",
       "      <td>59900.0</td>\n",
       "      <td>58200.0</td>\n",
       "      <td>58200.0</td>\n",
       "      <td>59700.0</td>\n",
       "      <td>14203512.0</td>\n",
       "      <td>59700.000000</td>\n",
       "    </tr>\n",
       "    <tr>\n",
       "      <th>2022-09-01</th>\n",
       "      <td>58900.0</td>\n",
       "      <td>58300.0</td>\n",
       "      <td>58700.0</td>\n",
       "      <td>58400.0</td>\n",
       "      <td>14905777.0</td>\n",
       "      <td>58400.000000</td>\n",
       "    </tr>\n",
       "  </tbody>\n",
       "</table>\n",
       "<p>163 rows × 6 columns</p>\n",
       "</div>"
      ],
      "text/plain": [
       "               High      Low     Open    Close      Volume     Adj Close\n",
       "Date                                                                    \n",
       "2022-01-04  79200.0  78300.0  78800.0  78700.0  12427416.0  77819.453125\n",
       "2022-01-05  79000.0  76400.0  78800.0  77400.0  25470640.0  76534.000000\n",
       "2022-01-06  77600.0  76600.0  76700.0  76900.0  12931954.0  76039.593750\n",
       "2022-01-07  78400.0  77400.0  78100.0  78300.0  15163757.0  77423.921875\n",
       "2022-01-10  78100.0  77100.0  78100.0  78000.0   9947422.0  77127.289062\n",
       "...             ...      ...      ...      ...         ...           ...\n",
       "2022-08-26  60900.0  59900.0  60300.0  60000.0   9499995.0  60000.000000\n",
       "2022-08-29  58900.0  58600.0  58700.0  58600.0   9841329.0  58600.000000\n",
       "2022-08-30  59000.0  58300.0  58700.0  58800.0   9690044.0  58800.000000\n",
       "2022-08-31  59900.0  58200.0  58200.0  59700.0  14203512.0  59700.000000\n",
       "2022-09-01  58900.0  58300.0  58700.0  58400.0  14905777.0  58400.000000\n",
       "\n",
       "[163 rows x 6 columns]"
      ]
     },
     "execution_count": 26,
     "metadata": {},
     "output_type": "execute_result"
    }
   ],
   "source": [
    "sm"
   ]
  },
  {
   "cell_type": "code",
   "execution_count": 86,
   "id": "ef0d3f36",
   "metadata": {},
   "outputs": [],
   "source": [
    "# 5일 이평 계산 : 수정 종가에 대해 5일 주가 이동평균을 계산\n",
    "# 5일 이평 변수명 지정 : ma5 \n",
    "\n",
    "ma5 = sm['Adj Close'].rolling(window=5).mean()"
   ]
  },
  {
   "cell_type": "code",
   "execution_count": 97,
   "id": "7f3b8693",
   "metadata": {},
   "outputs": [
    {
     "data": {
      "text/plain": [
       "pandas.core.series.Series"
      ]
     },
     "execution_count": 97,
     "metadata": {},
     "output_type": "execute_result"
    }
   ],
   "source": [
    "# 객체의 타입을 보면 pandas의 Series임을 확인\n",
    "type(ma5)"
   ]
  },
  {
   "cell_type": "code",
   "execution_count": 98,
   "id": "7b3c8b44",
   "metadata": {},
   "outputs": [
    {
     "data": {
      "text/plain": [
       "Date\n",
       "2020-01-02             NaN\n",
       "2020-01-03             NaN\n",
       "2020-01-06             NaN\n",
       "2020-01-07             NaN\n",
       "2020-01-08    51764.125781\n",
       "                  ...     \n",
       "2022-08-26    59560.000000\n",
       "2022-08-29    59280.000000\n",
       "2022-08-30    59220.000000\n",
       "2022-08-31    59360.000000\n",
       "2022-09-01    59100.000000\n",
       "Name: Adj Close, Length: 646, dtype: float64"
      ]
     },
     "execution_count": 98,
     "metadata": {},
     "output_type": "execute_result"
    }
   ],
   "source": [
    "ma5"
   ]
  },
  {
   "cell_type": "code",
   "execution_count": 99,
   "id": "525dbc67",
   "metadata": {},
   "outputs": [
    {
     "data": {
      "text/plain": [
       "Date\n",
       "2022-08-19    60800.0\n",
       "2022-08-22    60760.0\n",
       "2022-08-23    60380.0\n",
       "2022-08-24    60100.0\n",
       "2022-08-25    59740.0\n",
       "2022-08-26    59560.0\n",
       "2022-08-29    59280.0\n",
       "2022-08-30    59220.0\n",
       "2022-08-31    59360.0\n",
       "2022-09-01    59100.0\n",
       "Name: Adj Close, dtype: float64"
      ]
     },
     "execution_count": 99,
     "metadata": {},
     "output_type": "execute_result"
    }
   ],
   "source": [
    "ma5.tail(10)"
   ]
  },
  {
   "cell_type": "code",
   "execution_count": 75,
   "id": "3688a3dc",
   "metadata": {},
   "outputs": [
    {
     "data": {
      "text/plain": [
       "Date\n",
       "2020-01-02    True\n",
       "2020-01-03    True\n",
       "2020-01-06    True\n",
       "2020-01-07    True\n",
       "2020-01-08    True\n",
       "              ... \n",
       "2022-08-26    True\n",
       "2022-08-29    True\n",
       "2022-08-30    True\n",
       "2022-08-31    True\n",
       "2022-09-01    True\n",
       "Name: Volume, Length: 659, dtype: bool"
      ]
     },
     "execution_count": 75,
     "metadata": {},
     "output_type": "execute_result"
    }
   ],
   "source": [
    "# 공휴일  일자의 데이터를 DataFrame 객체에서 제거 필요 한 경우\n",
    "# DataFrame 객체의 칼럼을 어떤 값과 비교하면 칼럼(Series 객체)에 있는 모든 값에 비교 연산자가 적용\n",
    "\n",
    "sm['Volume'] != 0\n",
    "# 거래량이 0이었던 일자에는 False 값이, 그렇지 않은 일자에는 True가 반환\n",
    "# DataFrame 객체에서 특정 조건을 만족하는 데이터만 쉽게 축출"
   ]
  },
  {
   "cell_type": "code",
   "execution_count": 100,
   "id": "70a16eea",
   "metadata": {},
   "outputs": [
    {
     "data": {
      "text/html": [
       "<div>\n",
       "<style scoped>\n",
       "    .dataframe tbody tr th:only-of-type {\n",
       "        vertical-align: middle;\n",
       "    }\n",
       "\n",
       "    .dataframe tbody tr th {\n",
       "        vertical-align: top;\n",
       "    }\n",
       "\n",
       "    .dataframe thead th {\n",
       "        text-align: right;\n",
       "    }\n",
       "</style>\n",
       "<table border=\"1\" class=\"dataframe\">\n",
       "  <thead>\n",
       "    <tr style=\"text-align: right;\">\n",
       "      <th></th>\n",
       "      <th>High</th>\n",
       "      <th>Low</th>\n",
       "      <th>Open</th>\n",
       "      <th>Close</th>\n",
       "      <th>Volume</th>\n",
       "      <th>Adj Close</th>\n",
       "    </tr>\n",
       "    <tr>\n",
       "      <th>Date</th>\n",
       "      <th></th>\n",
       "      <th></th>\n",
       "      <th></th>\n",
       "      <th></th>\n",
       "      <th></th>\n",
       "      <th></th>\n",
       "    </tr>\n",
       "  </thead>\n",
       "  <tbody>\n",
       "    <tr>\n",
       "      <th>2022-08-26</th>\n",
       "      <td>60900.0</td>\n",
       "      <td>59900.0</td>\n",
       "      <td>60300.0</td>\n",
       "      <td>60000.0</td>\n",
       "      <td>9499995.0</td>\n",
       "      <td>60000.0</td>\n",
       "    </tr>\n",
       "    <tr>\n",
       "      <th>2022-08-29</th>\n",
       "      <td>58900.0</td>\n",
       "      <td>58600.0</td>\n",
       "      <td>58700.0</td>\n",
       "      <td>58600.0</td>\n",
       "      <td>9841329.0</td>\n",
       "      <td>58600.0</td>\n",
       "    </tr>\n",
       "    <tr>\n",
       "      <th>2022-08-30</th>\n",
       "      <td>59000.0</td>\n",
       "      <td>58300.0</td>\n",
       "      <td>58700.0</td>\n",
       "      <td>58800.0</td>\n",
       "      <td>9690044.0</td>\n",
       "      <td>58800.0</td>\n",
       "    </tr>\n",
       "    <tr>\n",
       "      <th>2022-08-31</th>\n",
       "      <td>59900.0</td>\n",
       "      <td>58200.0</td>\n",
       "      <td>58200.0</td>\n",
       "      <td>59700.0</td>\n",
       "      <td>14203512.0</td>\n",
       "      <td>59700.0</td>\n",
       "    </tr>\n",
       "    <tr>\n",
       "      <th>2022-09-01</th>\n",
       "      <td>58900.0</td>\n",
       "      <td>58300.0</td>\n",
       "      <td>58700.0</td>\n",
       "      <td>58400.0</td>\n",
       "      <td>14905777.0</td>\n",
       "      <td>58400.0</td>\n",
       "    </tr>\n",
       "  </tbody>\n",
       "</table>\n",
       "</div>"
      ],
      "text/plain": [
       "               High      Low     Open    Close      Volume  Adj Close\n",
       "Date                                                                 \n",
       "2022-08-26  60900.0  59900.0  60300.0  60000.0   9499995.0    60000.0\n",
       "2022-08-29  58900.0  58600.0  58700.0  58600.0   9841329.0    58600.0\n",
       "2022-08-30  59000.0  58300.0  58700.0  58800.0   9690044.0    58800.0\n",
       "2022-08-31  59900.0  58200.0  58200.0  59700.0  14203512.0    59700.0\n",
       "2022-09-01  58900.0  58300.0  58700.0  58400.0  14905777.0    58400.0"
      ]
     },
     "execution_count": 100,
     "metadata": {},
     "output_type": "execute_result"
    }
   ],
   "source": [
    "# DataFrame 객체에서 특정 조건을 만족하는 데이터만 쉽게 cnrcnf\n",
    "# tail 메서드를 이용해 new_sm 라는 DataFrame 객체의 값을 확인\n",
    "new_sm = sm[sm['Volume'] !=0]\n",
    "new_sm.tail(5)"
   ]
  },
  {
   "cell_type": "code",
   "execution_count": 101,
   "id": "5bcb26ff",
   "metadata": {},
   "outputs": [
    {
     "data": {
      "text/plain": [
       "Date\n",
       "2022-08-19    60800.0\n",
       "2022-08-22    60760.0\n",
       "2022-08-23    60380.0\n",
       "2022-08-24    60100.0\n",
       "2022-08-25    59740.0\n",
       "2022-08-26    59560.0\n",
       "2022-08-29    59280.0\n",
       "2022-08-30    59220.0\n",
       "2022-08-31    59360.0\n",
       "2022-09-01    59100.0\n",
       "Name: Adj Close, dtype: float64"
      ]
     },
     "execution_count": 101,
     "metadata": {},
     "output_type": "execute_result"
    }
   ],
   "source": [
    "# 공휴일 데이터가 제거된 DataFrame 객체가 준비됐으니 다시 5일 이동평균 값을 계산 \n",
    "# 계산 후에 tail 메서드를 사용해 끝에 위치한 10개의 데이터만 화면에 출력\n",
    "MA5 = new_sm['Adj Close'].rolling(window=5).mean()\n",
    "MA5.tail(10)"
   ]
  },
  {
   "cell_type": "code",
   "execution_count": null,
   "id": "d1fa4126",
   "metadata": {},
   "outputs": [],
   "source": []
  },
  {
   "cell_type": "code",
   "execution_count": null,
   "id": "d62cc552",
   "metadata": {},
   "outputs": [],
   "source": []
  },
  {
   "cell_type": "code",
   "execution_count": 102,
   "id": "6dfce1b0",
   "metadata": {},
   "outputs": [
    {
     "data": {
      "text/plain": [
       "Date\n",
       "2022-08-19    60800.0\n",
       "2022-08-22    60760.0\n",
       "2022-08-23    60380.0\n",
       "2022-08-24    60100.0\n",
       "2022-08-25    59740.0\n",
       "2022-08-26    59560.0\n",
       "2022-08-29    59280.0\n",
       "2022-08-30    59220.0\n",
       "2022-08-31    59360.0\n",
       "2022-09-01    59100.0\n",
       "Name: Adj Close, dtype: float64"
      ]
     },
     "execution_count": 102,
     "metadata": {},
     "output_type": "execute_result"
    }
   ],
   "source": [
    "#계산된 5일 주가이동평균 값을 좀 더 쉽게 관리하기 위해 DataFrame 객체의 새로운 칼럼으로 추가\n",
    "#DataFrame에 칼럼을 추가하려면 insert 메서드를 사용\n",
    "#insert 메서드의 첫 번째 인자로는 칼럼이 추가될 위치, 두 번째 인자로는 칼럼의 이름을, 세 번째 인자로는 DataFrame 객체에 추가할 데이터를 전달\n",
    "\n",
    "MA5 = new_sm['Adj Close'].rolling(window=5).mean()\n",
    "MA5.tail(10)\n",
    "\n"
   ]
  },
  {
   "cell_type": "code",
   "execution_count": 103,
   "id": "19949d3c",
   "metadata": {},
   "outputs": [
    {
     "data": {
      "text/html": [
       "<div>\n",
       "<style scoped>\n",
       "    .dataframe tbody tr th:only-of-type {\n",
       "        vertical-align: middle;\n",
       "    }\n",
       "\n",
       "    .dataframe tbody tr th {\n",
       "        vertical-align: top;\n",
       "    }\n",
       "\n",
       "    .dataframe thead th {\n",
       "        text-align: right;\n",
       "    }\n",
       "</style>\n",
       "<table border=\"1\" class=\"dataframe\">\n",
       "  <thead>\n",
       "    <tr style=\"text-align: right;\">\n",
       "      <th></th>\n",
       "      <th>High</th>\n",
       "      <th>Low</th>\n",
       "      <th>Open</th>\n",
       "      <th>Close</th>\n",
       "      <th>Volume</th>\n",
       "      <th>Adj Close</th>\n",
       "      <th>MA5</th>\n",
       "    </tr>\n",
       "    <tr>\n",
       "      <th>Date</th>\n",
       "      <th></th>\n",
       "      <th></th>\n",
       "      <th></th>\n",
       "      <th></th>\n",
       "      <th></th>\n",
       "      <th></th>\n",
       "      <th></th>\n",
       "    </tr>\n",
       "  </thead>\n",
       "  <tbody>\n",
       "    <tr>\n",
       "      <th>2022-08-26</th>\n",
       "      <td>60900.0</td>\n",
       "      <td>59900.0</td>\n",
       "      <td>60300.0</td>\n",
       "      <td>60000.0</td>\n",
       "      <td>9499995.0</td>\n",
       "      <td>60000.0</td>\n",
       "      <td>59560.0</td>\n",
       "    </tr>\n",
       "    <tr>\n",
       "      <th>2022-08-29</th>\n",
       "      <td>58900.0</td>\n",
       "      <td>58600.0</td>\n",
       "      <td>58700.0</td>\n",
       "      <td>58600.0</td>\n",
       "      <td>9841329.0</td>\n",
       "      <td>58600.0</td>\n",
       "      <td>59280.0</td>\n",
       "    </tr>\n",
       "    <tr>\n",
       "      <th>2022-08-30</th>\n",
       "      <td>59000.0</td>\n",
       "      <td>58300.0</td>\n",
       "      <td>58700.0</td>\n",
       "      <td>58800.0</td>\n",
       "      <td>9690044.0</td>\n",
       "      <td>58800.0</td>\n",
       "      <td>59220.0</td>\n",
       "    </tr>\n",
       "    <tr>\n",
       "      <th>2022-08-31</th>\n",
       "      <td>59900.0</td>\n",
       "      <td>58200.0</td>\n",
       "      <td>58200.0</td>\n",
       "      <td>59700.0</td>\n",
       "      <td>14203512.0</td>\n",
       "      <td>59700.0</td>\n",
       "      <td>59360.0</td>\n",
       "    </tr>\n",
       "    <tr>\n",
       "      <th>2022-09-01</th>\n",
       "      <td>58900.0</td>\n",
       "      <td>58300.0</td>\n",
       "      <td>58700.0</td>\n",
       "      <td>58400.0</td>\n",
       "      <td>14905777.0</td>\n",
       "      <td>58400.0</td>\n",
       "      <td>59100.0</td>\n",
       "    </tr>\n",
       "  </tbody>\n",
       "</table>\n",
       "</div>"
      ],
      "text/plain": [
       "               High      Low     Open    Close      Volume  Adj Close      MA5\n",
       "Date                                                                          \n",
       "2022-08-26  60900.0  59900.0  60300.0  60000.0   9499995.0    60000.0  59560.0\n",
       "2022-08-29  58900.0  58600.0  58700.0  58600.0   9841329.0    58600.0  59280.0\n",
       "2022-08-30  59000.0  58300.0  58700.0  58800.0   9690044.0    58800.0  59220.0\n",
       "2022-08-31  59900.0  58200.0  58200.0  59700.0  14203512.0    59700.0  59360.0\n",
       "2022-09-01  58900.0  58300.0  58700.0  58400.0  14905777.0    58400.0  59100.0"
      ]
     },
     "execution_count": 103,
     "metadata": {},
     "output_type": "execute_result"
    }
   ],
   "source": [
    "MA5 =  new_sm['Adj Close'].rolling(window=5).mean()\n",
    "new_sm.insert(len(new_sm.columns), \"MA5\", ma5)\n",
    "new_sm.tail(5)"
   ]
  },
  {
   "cell_type": "code",
   "execution_count": null,
   "id": "2eff4eba",
   "metadata": {},
   "outputs": [],
   "source": []
  },
  {
   "cell_type": "code",
   "execution_count": 104,
   "id": "bdd50fb4",
   "metadata": {},
   "outputs": [],
   "source": [
    "# rolling_mean 함수의 두 번째 인자로 20, 60, 120의 값을 전달하면 20, 60, 120일 이동평균 값 역시 쉽게 계산\n",
    "# 20, 60, 120일 이동평균 값 역시 DataFrame 객체의 칼럼으로 추가\n",
    "\n",
    "ma20 = new_sm['Adj Close'].rolling(window=20).mean()\n",
    "ma60 = new_sm['Adj Close'].rolling(window=60).mean()\n",
    "ma120 = new_sm['Adj Close'].rolling(window=120).mean()\n",
    "new_sm.insert(len(new_sm.columns), \"MA20\", ma20)\n",
    "new_sm.insert(len(new_sm.columns), \"MA60\", ma60)\n",
    "new_sm.insert(len(new_sm.columns), \"MA120\", ma120)"
   ]
  },
  {
   "cell_type": "code",
   "execution_count": 105,
   "id": "6381a6e0",
   "metadata": {},
   "outputs": [
    {
     "data": {
      "text/plain": [
       "Date\n",
       "2020-01-02        NaN\n",
       "2020-01-03        NaN\n",
       "2020-01-06        NaN\n",
       "2020-01-07        NaN\n",
       "2020-01-08        NaN\n",
       "               ...   \n",
       "2022-08-26    60515.0\n",
       "2022-08-29    60375.0\n",
       "2022-08-30    60250.0\n",
       "2022-08-31    60150.0\n",
       "2022-09-01    60005.0\n",
       "Name: Adj Close, Length: 646, dtype: float64"
      ]
     },
     "execution_count": 105,
     "metadata": {},
     "output_type": "execute_result"
    }
   ],
   "source": [
    "ma20"
   ]
  },
  {
   "cell_type": "code",
   "execution_count": null,
   "id": "bab02824",
   "metadata": {},
   "outputs": [],
   "source": []
  },
  {
   "cell_type": "markdown",
   "id": "e041692f",
   "metadata": {},
   "source": [
    "### 그래프 종류\n",
    "#### https://en.wikipedia.org/wiki/Plot_(graphics)#Types%20of%20plots"
   ]
  },
  {
   "cell_type": "code",
   "execution_count": null,
   "id": "e6fdcfa2",
   "metadata": {},
   "outputs": [],
   "source": [
    "# 대표적 그래프 소개\n",
    "# Line chart : 수치형 관찰값들을 서로 선으로 연결한 그림\n",
    "# Histogram : 수치형 자료의 확률분포를 나타냄\n",
    "    \n",
    "# Bar chart (Bar plot) : 막대그래프-->  각 범주(그룹)에 해당하는 수치형 값을 사각형의 높이로 표시 함.\n",
    "# Pie chart \n",
    "# Scatter plot : 두 관측치(컬럼값)을 2차원 평면에 점으로 대응시킨 그림\n",
    "# Box plot (Box-Whisker plot상자그림): 수치형 자료의 확률분포를 대표값들을 이용하여 간단히 나타냄\n",
    "# Violin plot : boxplot과 비슷하게 데이터의 확률밀도를 시각화\n",
    "# Heat map: 수치형 행렬에서 각 셀의 값을 색깔로 변환하여 나타낸 그림(보통 값이 커지면 빨간색, 작으면 파란색으로 표현)    \n",
    "    "
   ]
  },
  {
   "cell_type": "code",
   "execution_count": null,
   "id": "92e065f5",
   "metadata": {},
   "outputs": [],
   "source": []
  },
  {
   "cell_type": "code",
   "execution_count": null,
   "id": "ac77803b",
   "metadata": {},
   "outputs": [],
   "source": [
    "# 주가이동평균선 그리기"
   ]
  },
  {
   "cell_type": "code",
   "execution_count": 106,
   "id": "90733666",
   "metadata": {},
   "outputs": [],
   "source": [
    "# matplotlib 패키지의 pyplot 모듈 임포트\n",
    "import matplotlib.pyplot as plt"
   ]
  },
  {
   "cell_type": "code",
   "execution_count": 107,
   "id": "ef029489",
   "metadata": {},
   "outputs": [],
   "source": [
    "# plot 함수를 사용해 그래프를 그리기\n",
    "# 각 그래프가 서로 구분될 수 있도록 범례 추가 \n",
    "# 범례 만들기 : 그래프에 label 인자 사용"
   ]
  },
  {
   "cell_type": "code",
   "execution_count": 108,
   "id": "00e6f5a5",
   "metadata": {},
   "outputs": [],
   "source": [
    "# 수정 종가 그래프를 그리기 위해 label 인자에 'Adj Close'를 전달"
   ]
  },
  {
   "cell_type": "code",
   "execution_count": 112,
   "id": "37bd83aa",
   "metadata": {},
   "outputs": [
    {
     "data": {
      "text/plain": [
       "[<matplotlib.lines.Line2D at 0x23319d286d0>]"
      ]
     },
     "execution_count": 112,
     "metadata": {},
     "output_type": "execute_result"
    },
    {
     "data": {
      "image/png": "[encoded data removed]",
      "text/plain": [
       "<Figure size 432x288 with 1 Axes>"
      ]
     },
     "metadata": {
      "needs_background": "light"
     },
     "output_type": "display_data"
    }
   ],
   "source": [
    "plt.plot(new_sm.index, new_sm['Adj Close'], label=\"Adj Close\")"
   ]
  },
  {
   "cell_type": "code",
   "execution_count": 113,
   "id": "5eb36381",
   "metadata": {},
   "outputs": [
    {
     "data": {
      "text/plain": [
       "[<matplotlib.lines.Line2D at 0x23319dc9cd0>]"
      ]
     },
     "execution_count": 113,
     "metadata": {},
     "output_type": "execute_result"
    },
    {
     "data": {
      "image/png": "[encoded data removed]",
      "text/plain": [
       "<Figure size 432x288 with 1 Axes>"
      ]
     },
     "metadata": {
      "needs_background": "light"
     },
     "output_type": "display_data"
    }
   ],
   "source": [
    "plt.plot(new_sm.index, new_sm['MA20'], label=\"MA20\")"
   ]
  },
  {
   "cell_type": "code",
   "execution_count": null,
   "id": "f2c8d77b",
   "metadata": {},
   "outputs": [],
   "source": []
  },
  {
   "cell_type": "code",
   "execution_count": 119,
   "id": "593b5369",
   "metadata": {},
   "outputs": [
    {
     "data": {
      "image/png": "[encoded data removed]",
      "text/plain": [
       "<Figure size 432x288 with 1 Axes>"
      ]
     },
     "metadata": {
      "needs_background": "light"
     },
     "output_type": "display_data"
    }
   ],
   "source": [
    "plt.plot(new_sm.index, new_sm['MA5'], label=\"MA5\")\n",
    "plt.plot(new_sm.index, new_sm['MA20'], label=\"MA20\")\n",
    "plt.plot(new_sm.index, new_sm['MA60'], label=\"MA60\")\n",
    "plt.plot(new_sm.index, new_sm['MA120'], label=\"MA120\")\n",
    "\n",
    "#범례를 표시하기 위해 legend 함수를 호출\n",
    "# loc 인자를 통해 범례 표시 위치를 지정 가능\n",
    "# label 을 입력해주고, plt.legend() 를 실행해서 자동으로 범례를 만드는 방법\n",
    "# 범례가 적절한 위치에 자동으로 출력되게 하려면 loc='best' 옵션 사용 : 기본설정값은 loc='best' 로서 컴퓨터가 장 적절한 여백을 가지는\n",
    "# 그래프의 값을 좀 더 편리하게 확인하기 위한 격자(grid)를 표시하려면 grid 함수를 호출\n",
    "\n",
    "plt.legend(loc='best')\n",
    "plt.grid()\n",
    "plt.show()\n",
    "\n",
    "# 범례의 폰트 크기(fontsize), \n",
    "# 범례의 배경 색깔(facecolor, 기본설정값은 'white'), \n",
    "# 범례의 테두리선 색깔(edgecolor), \n",
    "# 범례 상자의 그림자 여부(shadow, 기본설정값은 'False') 등도 사용"
   ]
  },
  {
   "cell_type": "code",
   "execution_count": null,
   "id": "fc8fe2e4",
   "metadata": {},
   "outputs": [],
   "source": []
  },
  {
   "cell_type": "code",
   "execution_count": null,
   "id": "7b7ad762",
   "metadata": {},
   "outputs": [],
   "source": [
    "# Python matplotlib 모듈을 사용해서 그래프를 그렸을 때 범례를 추가 4가지 방법\n",
    "# (1) 범례 추가하기 \n",
    "#   : legend(), legend(handles, labels), legend(handles=handles), legend(labels)\n",
    "# (2) 범례 스타일 설정하기   : location, fontsize, facecolor, edgecolor, shadow\n"
   ]
  },
  {
   "cell_type": "code",
   "execution_count": 121,
   "id": "af61eadb",
   "metadata": {},
   "outputs": [
    {
     "data": {
      "image/png": "[encoded data removed]",
      "text/plain": [
       "<Figure size 864x576 with 1 Axes>"
      ]
     },
     "metadata": {
      "needs_background": "light"
     },
     "output_type": "display_data"
    }
   ],
   "source": [
    "import numpy as np\n",
    "import matplotlib.pyplot as plt\n",
    "\n",
    "np.random.seed(1)\n",
    "x = np.arange(100)\n",
    "y1 = np.random.normal(0, 1, 100)\n",
    "y2 = np.random.normal(0, 1, 100).cumsum()\n",
    "\n",
    "## 1. Automatic detection of elements to be shown in the legend\n",
    "## 1-1. label\n",
    "fig = plt.figure(figsize=(12, 8))\n",
    "ax = fig.add_subplot(1, 1, 1)\n",
    "\n",
    "## labels: A list of labels to show next to the artists. \n",
    "ax.plot(x, y1, 'b-', label='Com 1')\n",
    "ax.plot(x, y2, 'r--', label='Com 2')\n",
    "ax.legend()\n",
    "plt.show()\n"
   ]
  },
  {
   "cell_type": "code",
   "execution_count": null,
   "id": "b24d5c1b",
   "metadata": {},
   "outputs": [],
   "source": []
  },
  {
   "cell_type": "code",
   "execution_count": 57,
   "id": "cec89720",
   "metadata": {},
   "outputs": [],
   "source": [
    " # 종합 : 삼성전자 이동평균선 그리기"
   ]
  },
  {
   "cell_type": "code",
   "execution_count": 66,
   "id": "69ad10e9",
   "metadata": {},
   "outputs": [
    {
     "data": {
      "image/png": "[encoded data removed]",
      "text/plain": [
       "<Figure size 432x288 with 1 Axes>"
      ]
     },
     "metadata": {
      "needs_background": "light"
     },
     "output_type": "display_data"
    }
   ],
   "source": [
    "import pandas as pd\n",
    "import pandas_datareader.data as web\n",
    "import matplotlib.pyplot as plt\n",
    "\n",
    "# Yahoo에서 삼성전자 가져오기\n",
    "sm = web.DataReader(\"005930.KS\", \"yahoo\", \"2020-01-01\", \"2022-09-01\")\n",
    "new_sm = sm[sm['Volume']!=0]\n",
    "\n",
    "# Moving average\n",
    "ma5 = new_sm['Adj Close'].rolling(window=5).mean()\n",
    "ma20 = new_sm['Adj Close'].rolling(window=20).mean()\n",
    "ma60 = new_sm['Adj Close'].rolling(window=60).mean()\n",
    "ma120 = new_sm['Adj Close'].rolling(window=120).mean()\n",
    "\n",
    "# Insert columns\n",
    "new_sm.insert(len(new_sm.columns), \"MA5\", ma5)\n",
    "new_sm.insert(len(new_sm.columns), \"MA20\", ma20)\n",
    "new_sm.insert(len(new_sm.columns), \"MA60\", ma60)\n",
    "new_sm.insert(len(new_sm.columns), \"MA120\", ma120)\n",
    "\n",
    "# Plot\n",
    "plt.plot(new_sm.index, new_sm['Adj Close'], label='Adj Close')\n",
    "plt.plot(new_sm.index, new_sm['MA5'], label='MA5')\n",
    "plt.plot(new_sm.index, new_sm['MA20'], label='MA20')\n",
    "plt.plot(new_sm.index, new_sm['MA60'], label='MA60')\n",
    "plt.plot(new_sm.index, new_sm['MA120'], label='MA120')\n",
    "\n",
    "plt.legend(loc=\"best\")\n",
    "plt.grid()\n",
    "plt.show()"
   ]
  },
  {
   "cell_type": "code",
   "execution_count": null,
   "id": "92df83cd",
   "metadata": {},
   "outputs": [],
   "source": []
  },
  {
   "cell_type": "markdown",
   "id": "181ca0c7",
   "metadata": {},
   "source": [
    "# PyKrx\n",
    "## https://github.com/sharebook-kr/pykrx"
   ]
  },
  {
   "cell_type": "code",
   "execution_count": 2,
   "id": "1824c2ea",
   "metadata": {},
   "outputs": [],
   "source": [
    "# 다양한 웹 싸이트 (Naver / KRX)에서 주가 정보를 스크래핑(scraping) "
   ]
  },
  {
   "cell_type": "code",
   "execution_count": null,
   "id": "86b8c374",
   "metadata": {},
   "outputs": [],
   "source": []
  },
  {
   "cell_type": "code",
   "execution_count": null,
   "id": "f7faf676",
   "metadata": {},
   "outputs": [],
   "source": []
  },
  {
   "cell_type": "markdown",
   "id": "de18c0e9",
   "metadata": {},
   "source": [
    "# 백테스팅 (별도자료 참고)"
   ]
  },
  {
   "cell_type": "code",
   "execution_count": null,
   "id": "4369fa7e",
   "metadata": {},
   "outputs": [],
   "source": [
    "# Zipline은 알고리즘 트레이딩 라이브러리로서 백테스팅 기능을 제공\n",
    "# Zipline은 Quantopian사에 의해 깃허브(https://github.com/quantopian/zipline)를 통해 오픈소스 개발"
   ]
  },
  {
   "cell_type": "code",
   "execution_count": null,
   "id": "3963f585",
   "metadata": {},
   "outputs": [],
   "source": []
  },
  {
   "cell_type": "markdown",
   "id": "3905dc9b",
   "metadata": {},
   "source": [
    "#### Pandas 모듈을 이용한 그래프 그리기"
   ]
  },
  {
   "cell_type": "code",
   "execution_count": null,
   "id": "d7b63a84",
   "metadata": {},
   "outputs": [],
   "source": [
    "# Python 그래픽 라이브러리\n",
    "# Pandas 그래픽 모듈\n",
    "# matplotlib: 저수준의 그래프\n",
    "# Seaborn 패키지 : matplotlib기반으로 만들어진 고수준의 그래프를 그려주는 라이브러리\n"
   ]
  },
  {
   "cell_type": "code",
   "execution_count": null,
   "id": "c6ba4b8b",
   "metadata": {},
   "outputs": [],
   "source": [
    "# methods\t그래픽 종류\n",
    "# line\tline graph\n",
    "# pie\tpie chart\n",
    "# scatter\tscatter plot\n",
    "# bar, barh\tvertical, horizontal bar charts\n",
    "# area\tarea plots\n",
    "# box\tbox plot\n",
    "# hexbin\thexbin plot\n",
    "# hist\thistogram\n",
    "# kde, density\tkernel density charts"
   ]
  },
  {
   "cell_type": "code",
   "execution_count": null,
   "id": "5184cb71",
   "metadata": {},
   "outputs": [],
   "source": []
  },
  {
   "cell_type": "markdown",
   "id": "61024a27",
   "metadata": {},
   "source": [
    "## FRED  "
   ]
  },
  {
   "cell_type": "code",
   "execution_count": null,
   "id": "d6d9a0e5",
   "metadata": {},
   "outputs": [],
   "source": [
    "import datetime\n",
    "dt_start = datetime.datetime(2020, 1, 1)\n",
    "dt_end = \"2022, 6, 30\""
   ]
  },
  {
   "cell_type": "code",
   "execution_count": 45,
   "id": "403265d3",
   "metadata": {},
   "outputs": [
    {
     "data": {
      "text/html": [
       "<div>\n",
       "<style scoped>\n",
       "    .dataframe tbody tr th:only-of-type {\n",
       "        vertical-align: middle;\n",
       "    }\n",
       "\n",
       "    .dataframe tbody tr th {\n",
       "        vertical-align: top;\n",
       "    }\n",
       "\n",
       "    .dataframe thead th {\n",
       "        text-align: right;\n",
       "    }\n",
       "</style>\n",
       "<table border=\"1\" class=\"dataframe\">\n",
       "  <thead>\n",
       "    <tr style=\"text-align: right;\">\n",
       "      <th></th>\n",
       "      <th>GDP</th>\n",
       "    </tr>\n",
       "    <tr>\n",
       "      <th>DATE</th>\n",
       "      <th></th>\n",
       "    </tr>\n",
       "  </thead>\n",
       "  <tbody>\n",
       "    <tr>\n",
       "      <th>2020-01-01</th>\n",
       "      <td>21538.032</td>\n",
       "    </tr>\n",
       "    <tr>\n",
       "      <th>2020-04-01</th>\n",
       "      <td>19636.731</td>\n",
       "    </tr>\n",
       "    <tr>\n",
       "      <th>2020-07-01</th>\n",
       "      <td>21362.428</td>\n",
       "    </tr>\n",
       "    <tr>\n",
       "      <th>2020-10-01</th>\n",
       "      <td>21704.706</td>\n",
       "    </tr>\n",
       "    <tr>\n",
       "      <th>2021-01-01</th>\n",
       "      <td>22313.850</td>\n",
       "    </tr>\n",
       "    <tr>\n",
       "      <th>2021-04-01</th>\n",
       "      <td>23046.934</td>\n",
       "    </tr>\n",
       "    <tr>\n",
       "      <th>2021-07-01</th>\n",
       "      <td>23550.420</td>\n",
       "    </tr>\n",
       "    <tr>\n",
       "      <th>2021-10-01</th>\n",
       "      <td>24349.121</td>\n",
       "    </tr>\n",
       "    <tr>\n",
       "      <th>2022-01-01</th>\n",
       "      <td>24740.480</td>\n",
       "    </tr>\n",
       "    <tr>\n",
       "      <th>2022-04-01</th>\n",
       "      <td>25248.476</td>\n",
       "    </tr>\n",
       "  </tbody>\n",
       "</table>\n",
       "</div>"
      ],
      "text/plain": [
       "                  GDP\n",
       "DATE                 \n",
       "2020-01-01  21538.032\n",
       "2020-04-01  19636.731\n",
       "2020-07-01  21362.428\n",
       "2020-10-01  21704.706\n",
       "2021-01-01  22313.850\n",
       "2021-04-01  23046.934\n",
       "2021-07-01  23550.420\n",
       "2021-10-01  24349.121\n",
       "2022-01-01  24740.480\n",
       "2022-04-01  25248.476"
      ]
     },
     "execution_count": 45,
     "metadata": {},
     "output_type": "execute_result"
    }
   ],
   "source": [
    "# 미국 GDP(국가총생산)\n",
    "\n",
    "import pandas_datareader as pdr\n",
    "gdp = pdr.get_data_fred('GDP', dt_start, dt_end)\n",
    "gdp"
   ]
  },
  {
   "cell_type": "code",
   "execution_count": 46,
   "id": "15abe876",
   "metadata": {},
   "outputs": [
    {
     "data": {
      "text/html": [
       "<div>\n",
       "<style scoped>\n",
       "    .dataframe tbody tr th:only-of-type {\n",
       "        vertical-align: middle;\n",
       "    }\n",
       "\n",
       "    .dataframe tbody tr th {\n",
       "        vertical-align: top;\n",
       "    }\n",
       "\n",
       "    .dataframe thead th {\n",
       "        text-align: right;\n",
       "    }\n",
       "</style>\n",
       "<table border=\"1\" class=\"dataframe\">\n",
       "  <thead>\n",
       "    <tr style=\"text-align: right;\">\n",
       "      <th></th>\n",
       "      <th>CPIAUCSL</th>\n",
       "      <th>CPILFESL</th>\n",
       "    </tr>\n",
       "    <tr>\n",
       "      <th>DATE</th>\n",
       "      <th></th>\n",
       "      <th></th>\n",
       "    </tr>\n",
       "  </thead>\n",
       "  <tbody>\n",
       "    <tr>\n",
       "      <th>2020-01-01</th>\n",
       "      <td>258.682</td>\n",
       "      <td>266.418</td>\n",
       "    </tr>\n",
       "    <tr>\n",
       "      <th>2020-02-01</th>\n",
       "      <td>259.007</td>\n",
       "      <td>267.083</td>\n",
       "    </tr>\n",
       "    <tr>\n",
       "      <th>2020-03-01</th>\n",
       "      <td>258.165</td>\n",
       "      <td>266.916</td>\n",
       "    </tr>\n",
       "    <tr>\n",
       "      <th>2020-04-01</th>\n",
       "      <td>256.094</td>\n",
       "      <td>265.771</td>\n",
       "    </tr>\n",
       "    <tr>\n",
       "      <th>2020-05-01</th>\n",
       "      <td>255.944</td>\n",
       "      <td>265.606</td>\n",
       "    </tr>\n",
       "    <tr>\n",
       "      <th>2020-06-01</th>\n",
       "      <td>257.217</td>\n",
       "      <td>266.088</td>\n",
       "    </tr>\n",
       "    <tr>\n",
       "      <th>2020-07-01</th>\n",
       "      <td>258.543</td>\n",
       "      <td>267.552</td>\n",
       "    </tr>\n",
       "    <tr>\n",
       "      <th>2020-08-01</th>\n",
       "      <td>259.580</td>\n",
       "      <td>268.662</td>\n",
       "    </tr>\n",
       "    <tr>\n",
       "      <th>2020-09-01</th>\n",
       "      <td>260.190</td>\n",
       "      <td>269.152</td>\n",
       "    </tr>\n",
       "    <tr>\n",
       "      <th>2020-10-01</th>\n",
       "      <td>260.352</td>\n",
       "      <td>269.332</td>\n",
       "    </tr>\n",
       "    <tr>\n",
       "      <th>2020-11-01</th>\n",
       "      <td>260.721</td>\n",
       "      <td>269.816</td>\n",
       "    </tr>\n",
       "    <tr>\n",
       "      <th>2020-12-01</th>\n",
       "      <td>261.564</td>\n",
       "      <td>269.984</td>\n",
       "    </tr>\n",
       "    <tr>\n",
       "      <th>2021-01-01</th>\n",
       "      <td>262.200</td>\n",
       "      <td>270.114</td>\n",
       "    </tr>\n",
       "    <tr>\n",
       "      <th>2021-02-01</th>\n",
       "      <td>263.346</td>\n",
       "      <td>270.522</td>\n",
       "    </tr>\n",
       "    <tr>\n",
       "      <th>2021-03-01</th>\n",
       "      <td>265.028</td>\n",
       "      <td>271.347</td>\n",
       "    </tr>\n",
       "    <tr>\n",
       "      <th>2021-04-01</th>\n",
       "      <td>266.727</td>\n",
       "      <td>273.669</td>\n",
       "    </tr>\n",
       "    <tr>\n",
       "      <th>2021-05-01</th>\n",
       "      <td>268.599</td>\n",
       "      <td>275.715</td>\n",
       "    </tr>\n",
       "    <tr>\n",
       "      <th>2021-06-01</th>\n",
       "      <td>270.955</td>\n",
       "      <td>277.922</td>\n",
       "    </tr>\n",
       "    <tr>\n",
       "      <th>2021-07-01</th>\n",
       "      <td>272.184</td>\n",
       "      <td>278.794</td>\n",
       "    </tr>\n",
       "    <tr>\n",
       "      <th>2021-08-01</th>\n",
       "      <td>273.092</td>\n",
       "      <td>279.306</td>\n",
       "    </tr>\n",
       "    <tr>\n",
       "      <th>2021-09-01</th>\n",
       "      <td>274.214</td>\n",
       "      <td>280.017</td>\n",
       "    </tr>\n",
       "    <tr>\n",
       "      <th>2021-10-01</th>\n",
       "      <td>276.590</td>\n",
       "      <td>281.705</td>\n",
       "    </tr>\n",
       "    <tr>\n",
       "      <th>2021-11-01</th>\n",
       "      <td>278.524</td>\n",
       "      <td>283.179</td>\n",
       "    </tr>\n",
       "    <tr>\n",
       "      <th>2021-12-01</th>\n",
       "      <td>280.126</td>\n",
       "      <td>284.770</td>\n",
       "    </tr>\n",
       "    <tr>\n",
       "      <th>2022-01-01</th>\n",
       "      <td>281.933</td>\n",
       "      <td>286.431</td>\n",
       "    </tr>\n",
       "    <tr>\n",
       "      <th>2022-02-01</th>\n",
       "      <td>284.182</td>\n",
       "      <td>287.878</td>\n",
       "    </tr>\n",
       "    <tr>\n",
       "      <th>2022-03-01</th>\n",
       "      <td>287.708</td>\n",
       "      <td>288.811</td>\n",
       "    </tr>\n",
       "    <tr>\n",
       "      <th>2022-04-01</th>\n",
       "      <td>288.663</td>\n",
       "      <td>290.455</td>\n",
       "    </tr>\n",
       "    <tr>\n",
       "      <th>2022-05-01</th>\n",
       "      <td>291.474</td>\n",
       "      <td>292.289</td>\n",
       "    </tr>\n",
       "    <tr>\n",
       "      <th>2022-06-01</th>\n",
       "      <td>295.328</td>\n",
       "      <td>294.354</td>\n",
       "    </tr>\n",
       "  </tbody>\n",
       "</table>\n",
       "</div>"
      ],
      "text/plain": [
       "            CPIAUCSL  CPILFESL\n",
       "DATE                          \n",
       "2020-01-01   258.682   266.418\n",
       "2020-02-01   259.007   267.083\n",
       "2020-03-01   258.165   266.916\n",
       "2020-04-01   256.094   265.771\n",
       "2020-05-01   255.944   265.606\n",
       "2020-06-01   257.217   266.088\n",
       "2020-07-01   258.543   267.552\n",
       "2020-08-01   259.580   268.662\n",
       "2020-09-01   260.190   269.152\n",
       "2020-10-01   260.352   269.332\n",
       "2020-11-01   260.721   269.816\n",
       "2020-12-01   261.564   269.984\n",
       "2021-01-01   262.200   270.114\n",
       "2021-02-01   263.346   270.522\n",
       "2021-03-01   265.028   271.347\n",
       "2021-04-01   266.727   273.669\n",
       "2021-05-01   268.599   275.715\n",
       "2021-06-01   270.955   277.922\n",
       "2021-07-01   272.184   278.794\n",
       "2021-08-01   273.092   279.306\n",
       "2021-09-01   274.214   280.017\n",
       "2021-10-01   276.590   281.705\n",
       "2021-11-01   278.524   283.179\n",
       "2021-12-01   280.126   284.770\n",
       "2022-01-01   281.933   286.431\n",
       "2022-02-01   284.182   287.878\n",
       "2022-03-01   287.708   288.811\n",
       "2022-04-01   288.663   290.455\n",
       "2022-05-01   291.474   292.289\n",
       "2022-06-01   295.328   294.354"
      ]
     },
     "execution_count": 46,
     "metadata": {},
     "output_type": "execute_result"
    }
   ],
   "source": [
    "# CPIAUCSL: 모든 항목을 포함한 소비자 가격 지수\n",
    "# CPILFESL: 식료품 및 연로를 제외한 소비자 가격 지수\n",
    "inflation = pdr.get_data_fred([\"CPIAUCSL\", \"CPILFESL\"], dt_start, dt_end)\n",
    "inflation"
   ]
  },
  {
   "cell_type": "code",
   "execution_count": null,
   "id": "5ce98ee5",
   "metadata": {},
   "outputs": [],
   "source": []
  }
 ],
 "metadata": {
  "kernelspec": {
   "display_name": "Python 3 (ipykernel)",
   "language": "python",
   "name": "python3"
  },
  "language_info": {
   "codemirror_mode": {
    "name": "ipython",
    "version": 3
   },
   "file_extension": ".py",
   "mimetype": "text/x-python",
   "name": "python",
   "nbconvert_exporter": "python",
   "pygments_lexer": "ipython3",
   "version": "3.9.6"
  },
  "toc": {
   "base_numbering": 1,
   "nav_menu": {},
   "number_sections": true,
   "sideBar": true,
   "skip_h1_title": false,
   "title_cell": "Table of Contents",
   "title_sidebar": "Contents",
   "toc_cell": false,
   "toc_position": {},
   "toc_section_display": true,
   "toc_window_display": false
  }
 },
 "nbformat": 4,
 "nbformat_minor": 5
}
